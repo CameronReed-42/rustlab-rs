{
 "cells": [
  {
   "cell_type": "markdown",
   "metadata": {},
   "source": [
    "# Numerical Integration Techniques\n",
    "\n",
    "This notebook demonstrates various numerical integration methods in rustlab-numerical, including quadrature rules and adaptive algorithms."
   ]
  },
  {
   "cell_type": "markdown",
   "metadata": {},
   "source": [
    "## Setup and Dependencies"
   ]
  },
  {
   "cell_type": "code",
   "execution_count": 2,
   "metadata": {},
   "outputs": [],
   "source": [
    ":dep rustlab-math = { path = \"../../rustlab-math\" }\n",
    ":dep rustlab-numerical = { path = \"..\" }\n",
    ":dep rustlab-plotting = { path = \"../../rustlab-plotting\" }\n",
    "\n",
    "use rustlab_math::{VectorF64, vec64, range, FunctionalMap};\n",
    "use rustlab_numerical::integration::*;\n",
    "use rustlab_plotting::*;\n",
    "use std::f64::consts::PI;"
   ]
  },
  {
   "cell_type": "markdown",
   "metadata": {},
   "source": [
    "## 1. Trapezoidal Rule\n",
    "\n",
    "The trapezoidal rule is the simplest integration method with O(h²) error."
   ]
  },
  {
   "cell_type": "code",
   "execution_count": 3,
   "metadata": {},
   "outputs": [
    {
     "name": "stdout",
     "output_type": "stream",
     "text": [
      "Trapezoidal Rule: ∫₀^π sin(x) dx (exact = 2.0)\n",
      "Intervals  Result          Error           Error Ratio    \n",
      "10         1.98352354      1.65e-2         0.00           \n",
      "50         1.99934198      6.58e-4         25.04          \n",
      "100        1.99983550      1.64e-4         4.00           \n",
      "500        1.99999342      6.58e-6         25.00          \n",
      "1000       1.99999836      1.64e-6         4.00           \n"
     ]
    },
    {
     "data": {
      "text/plain": [
       "()"
      ]
     },
     "execution_count": 3,
     "metadata": {},
     "output_type": "execute_result"
    }
   ],
   "source": [
    "{\n",
    "    // Integrate sin(x) from 0 to π (exact answer = 2)\n",
    "    let f = |x: f64| x.sin();\n",
    "    let intervals = vec![10, 50, 100, 500, 1000];\n",
    "    \n",
    "    println!(\"Trapezoidal Rule: ∫₀^π sin(x) dx (exact = 2.0)\");\n",
    "    println!(\"{:<10} {:<15} {:<15} {:<15}\", \"Intervals\", \"Result\", \"Error\", \"Error Ratio\");\n",
    "    \n",
    "    let mut prev_error = 0.0;\n",
    "    for n in intervals {\n",
    "        let result = trapz(f, 0.0, PI, n)?;\n",
    "        let error = (result - 2.0).abs();\n",
    "        let ratio = if prev_error > 0.0 { prev_error / error } else { 0.0 };\n",
    "        \n",
    "        println!(\"{:<10} {:<15.8} {:<15.2e} {:<15.2}\", n, result, error, ratio);\n",
    "        prev_error = error;\n",
    "    }\n",
    "}"
   ]
  },
  {
   "cell_type": "markdown",
   "metadata": {},
   "source": [
    "## 2. Simpson's Rule\n",
    "\n",
    "Simpson's rule provides O(h⁴) accuracy using parabolic approximation."
   ]
  },
  {
   "cell_type": "code",
   "execution_count": 4,
   "metadata": {},
   "outputs": [
    {
     "name": "stdout",
     "output_type": "stream",
     "text": [
      "Simpson's Rule: ∫₀^π sin(x) dx (exact = 2.0)\n",
      "Intervals  Result          Error           Error Ratio    \n",
      "10         2.00010952      1.10e-4         0.00           \n",
      "50         2.00000017      1.73e-7         632.12         \n",
      "100        2.00000001      1.08e-8         16.01          \n",
      "500        2.00000000      1.73e-11        625.10         \n",
      "1000       2.00000000      1.08e-12        16.05          \n"
     ]
    },
    {
     "data": {
      "text/plain": [
       "()"
      ]
     },
     "execution_count": 4,
     "metadata": {},
     "output_type": "execute_result"
    }
   ],
   "source": [
    "{\n",
    "    // Compare Simpson's rule with trapezoidal\n",
    "    let f = |x: f64| x.sin();\n",
    "    let intervals = vec![10, 50, 100, 500, 1000];\n",
    "    \n",
    "    println!(\"Simpson's Rule: ∫₀^π sin(x) dx (exact = 2.0)\");\n",
    "    println!(\"{:<10} {:<15} {:<15} {:<15}\", \"Intervals\", \"Result\", \"Error\", \"Error Ratio\");\n",
    "    \n",
    "    let mut prev_error = 0.0;\n",
    "    for n in intervals {\n",
    "        let result = simpson(f, 0.0, PI, n)?;\n",
    "        let error = (result - 2.0).abs();\n",
    "        let ratio = if prev_error > 0.0 { prev_error / error } else { 0.0 };\n",
    "        \n",
    "        println!(\"{:<10} {:<15.8} {:<15.2e} {:<15.2}\", n, result, error, ratio);\n",
    "        prev_error = error;\n",
    "    }\n",
    "}"
   ]
  },
  {
   "cell_type": "markdown",
   "metadata": {},
   "source": [
    "## 3. Romberg Integration\n",
    "\n",
    "Romberg integration uses Richardson extrapolation for adaptive high-precision integration."
   ]
  },
  {
   "cell_type": "code",
   "execution_count": 5,
   "metadata": {},
   "outputs": [
    {
     "name": "stdout",
     "output_type": "stream",
     "text": [
      "Romberg Integration: ∫₀^π sin(x) dx (exact = 2.0)\n",
      "Tolerance    Result          Error          \n",
      "1e-4         1.999999994587  5.41e-9        \n",
      "1e-6         2.000000000001  1.32e-12       \n",
      "1e-8         2.000000000001  1.32e-12       \n",
      "1e-10        2.000000000000  4.44e-16       \n",
      "1e-12        2.000000000000  4.44e-16       \n"
     ]
    },
    {
     "data": {
      "text/plain": [
       "()"
      ]
     },
     "execution_count": 5,
     "metadata": {},
     "output_type": "execute_result"
    }
   ],
   "source": [
    "{\n",
    "    // Test Romberg integration with different tolerances\n",
    "    let f = |x: f64| x.sin();\n",
    "    let tolerances = vec![1e-4, 1e-6, 1e-8, 1e-10, 1e-12];\n",
    "    \n",
    "    println!(\"Romberg Integration: ∫₀^π sin(x) dx (exact = 2.0)\");\n",
    "    println!(\"{:<12} {:<15} {:<15}\", \"Tolerance\", \"Result\", \"Error\");\n",
    "    \n",
    "    for tol in tolerances {\n",
    "        let result = romberg(f, 0.0, PI, tol, 20)?; // Add max_iterations parameter\n",
    "        let error = (result - 2.0).abs();\n",
    "        \n",
    "        println!(\"{:<12.0e} {:<15.12} {:<15.2e}\", tol, result, error);\n",
    "    }\n",
    "}"
   ]
  },
  {
   "cell_type": "markdown",
   "metadata": {},
   "source": [
    "## 4. Integration of Different Function Types\n",
    "\n",
    "Test various functions with known analytical solutions."
   ]
  },
  {
   "cell_type": "code",
   "execution_count": 6,
   "metadata": {},
   "outputs": [
    {
     "name": "stdout",
     "output_type": "stream",
     "text": [
      "Integration of Various Functions:\n",
      "∫₀² x³ dx = 4.00000000 (exact = 4.0, error = 8.88e-16)\n",
      "∫₀¹ eˣ dx = 1.71828183 (exact = 1.71828183, error = 9.55e-11)\n",
      "∫₁ᵉ ln(x) dx = 1.00000000 (exact = 1.0, error = 9.20e-10)\n"
     ]
    },
    {
     "data": {
      "text/plain": [
       "()"
      ]
     },
     "execution_count": 6,
     "metadata": {},
     "output_type": "execute_result"
    }
   ],
   "source": [
    "{\n",
    "    // Test polynomial integration: x³ from 0 to 2 (exact = 4)\n",
    "    let poly = |x: f64| x.powi(3);\n",
    "    let poly_result = simpson(poly, 0.0, 2.0, 100)?;\n",
    "    let poly_error = (poly_result - 4.0).abs();\n",
    "    \n",
    "    // Test exponential: e^x from 0 to 1 (exact = e - 1)\n",
    "    let exp_func = |x: f64| x.exp();\n",
    "    let exp_result = simpson(exp_func, 0.0, 1.0, 100)?;\n",
    "    let exp_exact = 1.0_f64.exp() - 1.0;\n",
    "    let exp_error = (exp_result - exp_exact).abs();\n",
    "    \n",
    "    // Test logarithm: ln(x) from 1 to e (exact = 1)\n",
    "    let log_func = |x: f64| x.ln();\n",
    "    let log_result = simpson(log_func, 1.0, 1.0_f64.exp(), 100)?;\n",
    "    let log_error = (log_result - 1.0).abs();\n",
    "    \n",
    "    println!(\"Integration of Various Functions:\");\n",
    "    println!(\"∫₀² x³ dx = {:.8} (exact = 4.0, error = {:.2e})\", poly_result, poly_error);\n",
    "    println!(\"∫₀¹ eˣ dx = {:.8} (exact = {:.8}, error = {:.2e})\", exp_result, exp_exact, exp_error);\n",
    "    println!(\"∫₁ᵉ ln(x) dx = {:.8} (exact = 1.0, error = {:.2e})\", log_result, log_error);\n",
    "}"
   ]
  },
  {
   "cell_type": "markdown",
   "metadata": {},
   "source": [
    "## 5. Oscillatory Functions\n",
    "\n",
    "Integration of rapidly oscillating functions poses special challenges."
   ]
  },
  {
   "cell_type": "code",
   "execution_count": 7,
   "metadata": {},
   "outputs": [
    {
     "name": "stdout",
     "output_type": "stream",
     "text": [
      "Oscillatory Function: ∫₀^π sin(20x) dx (exact ≈ 0.0)\n",
      "Method     Intervals       Result          Error          \n",
      "Trapz      100             -0.00000000     1.16e-15       \n",
      "Simpson    100             -0.00000000     1.05e-15       \n",
      "Trapz      500             0.00000000      1.48e-16       \n",
      "Simpson    500             0.00000000      2.02e-16       \n",
      "Trapz      1000            0.00000000      1.88e-16       \n",
      "Simpson    1000            0.00000000      6.42e-17       \n",
      "Trapz      2000            0.00000000      1.30e-16       \n",
      "Simpson    2000            0.00000000      2.55e-17       \n",
      "Trapz      5000            0.00000000      2.95e-17       \n",
      "Simpson    5000            -0.00000000     2.86e-16       \n"
     ]
    },
    {
     "data": {
      "text/plain": [
       "()"
      ]
     },
     "execution_count": 7,
     "metadata": {},
     "output_type": "execute_result"
    }
   ],
   "source": [
    "{\n",
    "    // High frequency sine function: sin(20x) from 0 to π\n",
    "    let high_freq = |x: f64| (20.0 * x).sin();\n",
    "    let exact = 0.0; // sin(20x) integrates to 0 over full period\n",
    "    \n",
    "    let intervals = vec![100, 500, 1000, 2000, 5000];\n",
    "    \n",
    "    println!(\"Oscillatory Function: ∫₀^π sin(20x) dx (exact ≈ 0.0)\");\n",
    "    println!(\"{:<10} {:<15} {:<15} {:<15}\", \"Method\", \"Intervals\", \"Result\", \"Error\");\n",
    "    \n",
    "    for n in intervals {\n",
    "        let trap_result = trapz(high_freq, 0.0, PI, n)?;\n",
    "        let simp_result = simpson(high_freq, 0.0, PI, n)?;\n",
    "        \n",
    "        let trap_error = (trap_result - exact).abs();\n",
    "        let simp_error = (simp_result - exact).abs();\n",
    "        \n",
    "        println!(\"{:<10} {:<15} {:<15.8} {:<15.2e}\", \"Trapz\", n, trap_result, trap_error);\n",
    "        println!(\"{:<10} {:<15} {:<15.8} {:<15.2e}\", \"Simpson\", n, simp_result, simp_error);\n",
    "    }\n",
    "}"
   ]
  },
  {
   "cell_type": "markdown",
   "metadata": {},
   "source": [
    "## 6. Convergence Visualization\n",
    "\n",
    "Plot convergence behavior of different integration methods."
   ]
  },
  {
   "cell_type": "code",
   "execution_count": 8,
   "metadata": {},
   "outputs": [
    {
     "name": "stdout",
     "output_type": "stream",
     "text": [
      "Final errors at 1000 intervals:\n",
      "Trapezoidal: 1.43e-7\n",
      "Simpson: 7.55e-15\n"
     ]
    },
    {
     "data": {
      "text/html": [
       "<div style=\"text-align: center; margin: 10px;\">\n",
       "<svg width=\"800\" height=\"600\" viewBox=\"0 0 800 600\" xmlns=\"http://www.w3.org/2000/svg\">\n",
       "<rect x=\"0\" y=\"0\" width=\"800\" height=\"600\" opacity=\"1\" fill=\"#FFFFFF\" stroke=\"none\"/>\n",
       "<text x=\"400\" y=\"15\" dy=\"0.76em\" text-anchor=\"middle\" font-family=\"sans-serif\" font-size=\"32.25806451612903\" opacity=\"1\" fill=\"#000000\">\n",
       "Integration Error Convergence\n",
       "</text>\n",
       "<line opacity=\"0.1\" stroke=\"#000000\" stroke-width=\"1\" x1=\"66\" y1=\"549\" x2=\"66\" y2=\"52\"/>\n",
       "<line opacity=\"0.1\" stroke=\"#000000\" stroke-width=\"1\" x1=\"72\" y1=\"549\" x2=\"72\" y2=\"52\"/>\n",
       "<line opacity=\"0.1\" stroke=\"#000000\" stroke-width=\"1\" x1=\"79\" y1=\"549\" x2=\"79\" y2=\"52\"/>\n",
       "<line opacity=\"0.1\" stroke=\"#000000\" stroke-width=\"1\" x1=\"86\" y1=\"549\" x2=\"86\" y2=\"52\"/>\n",
       "<line opacity=\"0.1\" stroke=\"#000000\" stroke-width=\"1\" x1=\"93\" y1=\"549\" x2=\"93\" y2=\"52\"/>\n",
       "<line opacity=\"0.1\" stroke=\"#000000\" stroke-width=\"1\" x1=\"99\" y1=\"549\" x2=\"99\" y2=\"52\"/>\n",
       "<line opacity=\"0.1\" stroke=\"#000000\" stroke-width=\"1\" x1=\"106\" y1=\"549\" x2=\"106\" y2=\"52\"/>\n",
       "<line opacity=\"0.1\" stroke=\"#000000\" stroke-width=\"1\" x1=\"113\" y1=\"549\" x2=\"113\" y2=\"52\"/>\n",
       "<line opacity=\"0.1\" stroke=\"#000000\" stroke-width=\"1\" x1=\"120\" y1=\"549\" x2=\"120\" y2=\"52\"/>\n",
       "<line opacity=\"0.1\" stroke=\"#000000\" stroke-width=\"1\" x1=\"126\" y1=\"549\" x2=\"126\" y2=\"52\"/>\n",
       "<line opacity=\"0.1\" stroke=\"#000000\" stroke-width=\"1\" x1=\"133\" y1=\"549\" x2=\"133\" y2=\"52\"/>\n",
       "<line opacity=\"0.1\" stroke=\"#000000\" stroke-width=\"1\" x1=\"140\" y1=\"549\" x2=\"140\" y2=\"52\"/>\n",
       "<line opacity=\"0.1\" stroke=\"#000000\" stroke-width=\"1\" x1=\"147\" y1=\"549\" x2=\"147\" y2=\"52\"/>\n",
       "<line opacity=\"0.1\" stroke=\"#000000\" stroke-width=\"1\" x1=\"154\" y1=\"549\" x2=\"154\" y2=\"52\"/>\n",
       "<line opacity=\"0.1\" stroke=\"#000000\" stroke-width=\"1\" x1=\"160\" y1=\"549\" x2=\"160\" y2=\"52\"/>\n",
       "<line opacity=\"0.1\" stroke=\"#000000\" stroke-width=\"1\" x1=\"167\" y1=\"549\" x2=\"167\" y2=\"52\"/>\n",
       "<line opacity=\"0.1\" stroke=\"#000000\" stroke-width=\"1\" x1=\"174\" y1=\"549\" x2=\"174\" y2=\"52\"/>\n",
       "<line opacity=\"0.1\" stroke=\"#000000\" stroke-width=\"1\" x1=\"181\" y1=\"549\" x2=\"181\" y2=\"52\"/>\n",
       "<line opacity=\"0.1\" stroke=\"#000000\" stroke-width=\"1\" x1=\"187\" y1=\"549\" x2=\"187\" y2=\"52\"/>\n",
       "<line opacity=\"0.1\" stroke=\"#000000\" stroke-width=\"1\" x1=\"194\" y1=\"549\" x2=\"194\" y2=\"52\"/>\n",
       "<line opacity=\"0.1\" stroke=\"#000000\" stroke-width=\"1\" x1=\"201\" y1=\"549\" x2=\"201\" y2=\"52\"/>\n",
       "<line opacity=\"0.1\" stroke=\"#000000\" stroke-width=\"1\" x1=\"208\" y1=\"549\" x2=\"208\" y2=\"52\"/>\n",
       "<line opacity=\"0.1\" stroke=\"#000000\" stroke-width=\"1\" x1=\"214\" y1=\"549\" x2=\"214\" y2=\"52\"/>\n",
       "<line opacity=\"0.1\" stroke=\"#000000\" stroke-width=\"1\" x1=\"221\" y1=\"549\" x2=\"221\" y2=\"52\"/>\n",
       "<line opacity=\"0.1\" stroke=\"#000000\" stroke-width=\"1\" x1=\"228\" y1=\"549\" x2=\"228\" y2=\"52\"/>\n",
       "<line opacity=\"0.1\" stroke=\"#000000\" stroke-width=\"1\" x1=\"235\" y1=\"549\" x2=\"235\" y2=\"52\"/>\n",
       "<line opacity=\"0.1\" stroke=\"#000000\" stroke-width=\"1\" x1=\"241\" y1=\"549\" x2=\"241\" y2=\"52\"/>\n",
       "<line opacity=\"0.1\" stroke=\"#000000\" stroke-width=\"1\" x1=\"248\" y1=\"549\" x2=\"248\" y2=\"52\"/>\n",
       "<line opacity=\"0.1\" stroke=\"#000000\" stroke-width=\"1\" x1=\"255\" y1=\"549\" x2=\"255\" y2=\"52\"/>\n",
       "<line opacity=\"0.1\" stroke=\"#000000\" stroke-width=\"1\" x1=\"262\" y1=\"549\" x2=\"262\" y2=\"52\"/>\n",
       "<line opacity=\"0.1\" stroke=\"#000000\" stroke-width=\"1\" x1=\"268\" y1=\"549\" x2=\"268\" y2=\"52\"/>\n",
       "<line opacity=\"0.1\" stroke=\"#000000\" stroke-width=\"1\" x1=\"275\" y1=\"549\" x2=\"275\" y2=\"52\"/>\n",
       "<line opacity=\"0.1\" stroke=\"#000000\" stroke-width=\"1\" x1=\"282\" y1=\"549\" x2=\"282\" y2=\"52\"/>\n",
       "<line opacity=\"0.1\" stroke=\"#000000\" stroke-width=\"1\" x1=\"289\" y1=\"549\" x2=\"289\" y2=\"52\"/>\n",
       "<line opacity=\"0.1\" stroke=\"#000000\" stroke-width=\"1\" x1=\"296\" y1=\"549\" x2=\"296\" y2=\"52\"/>\n",
       "<line opacity=\"0.1\" stroke=\"#000000\" stroke-width=\"1\" x1=\"302\" y1=\"549\" x2=\"302\" y2=\"52\"/>\n",
       "<line opacity=\"0.1\" stroke=\"#000000\" stroke-width=\"1\" x1=\"309\" y1=\"549\" x2=\"309\" y2=\"52\"/>\n",
       "<line opacity=\"0.1\" stroke=\"#000000\" stroke-width=\"1\" x1=\"316\" y1=\"549\" x2=\"316\" y2=\"52\"/>\n",
       "<line opacity=\"0.1\" stroke=\"#000000\" stroke-width=\"1\" x1=\"323\" y1=\"549\" x2=\"323\" y2=\"52\"/>\n",
       "<line opacity=\"0.1\" stroke=\"#000000\" stroke-width=\"1\" x1=\"329\" y1=\"549\" x2=\"329\" y2=\"52\"/>\n",
       "<line opacity=\"0.1\" stroke=\"#000000\" stroke-width=\"1\" x1=\"336\" y1=\"549\" x2=\"336\" y2=\"52\"/>\n",
       "<line opacity=\"0.1\" stroke=\"#000000\" stroke-width=\"1\" x1=\"343\" y1=\"549\" x2=\"343\" y2=\"52\"/>\n",
       "<line opacity=\"0.1\" stroke=\"#000000\" stroke-width=\"1\" x1=\"350\" y1=\"549\" x2=\"350\" y2=\"52\"/>\n",
       "<line opacity=\"0.1\" stroke=\"#000000\" stroke-width=\"1\" x1=\"356\" y1=\"549\" x2=\"356\" y2=\"52\"/>\n",
       "<line opacity=\"0.1\" stroke=\"#000000\" stroke-width=\"1\" x1=\"363\" y1=\"549\" x2=\"363\" y2=\"52\"/>\n",
       "<line opacity=\"0.1\" stroke=\"#000000\" stroke-width=\"1\" x1=\"370\" y1=\"549\" x2=\"370\" y2=\"52\"/>\n",
       "<line opacity=\"0.1\" stroke=\"#000000\" stroke-width=\"1\" x1=\"377\" y1=\"549\" x2=\"377\" y2=\"52\"/>\n",
       "<line opacity=\"0.1\" stroke=\"#000000\" stroke-width=\"1\" x1=\"383\" y1=\"549\" x2=\"383\" y2=\"52\"/>\n",
       "<line opacity=\"0.1\" stroke=\"#000000\" stroke-width=\"1\" x1=\"390\" y1=\"549\" x2=\"390\" y2=\"52\"/>\n",
       "<line opacity=\"0.1\" stroke=\"#000000\" stroke-width=\"1\" x1=\"397\" y1=\"549\" x2=\"397\" y2=\"52\"/>\n",
       "<line opacity=\"0.1\" stroke=\"#000000\" stroke-width=\"1\" x1=\"404\" y1=\"549\" x2=\"404\" y2=\"52\"/>\n",
       "<line opacity=\"0.1\" stroke=\"#000000\" stroke-width=\"1\" x1=\"410\" y1=\"549\" x2=\"410\" y2=\"52\"/>\n",
       "<line opacity=\"0.1\" stroke=\"#000000\" stroke-width=\"1\" x1=\"417\" y1=\"549\" x2=\"417\" y2=\"52\"/>\n",
       "<line opacity=\"0.1\" stroke=\"#000000\" stroke-width=\"1\" x1=\"424\" y1=\"549\" x2=\"424\" y2=\"52\"/>\n",
       "<line opacity=\"0.1\" stroke=\"#000000\" stroke-width=\"1\" x1=\"431\" y1=\"549\" x2=\"431\" y2=\"52\"/>\n",
       "<line opacity=\"0.1\" stroke=\"#000000\" stroke-width=\"1\" x1=\"438\" y1=\"549\" x2=\"438\" y2=\"52\"/>\n",
       "<line opacity=\"0.1\" stroke=\"#000000\" stroke-width=\"1\" x1=\"444\" y1=\"549\" x2=\"444\" y2=\"52\"/>\n",
       "<line opacity=\"0.1\" stroke=\"#000000\" stroke-width=\"1\" x1=\"451\" y1=\"549\" x2=\"451\" y2=\"52\"/>\n",
       "<line opacity=\"0.1\" stroke=\"#000000\" stroke-width=\"1\" x1=\"458\" y1=\"549\" x2=\"458\" y2=\"52\"/>\n",
       "<line opacity=\"0.1\" stroke=\"#000000\" stroke-width=\"1\" x1=\"465\" y1=\"549\" x2=\"465\" y2=\"52\"/>\n",
       "<line opacity=\"0.1\" stroke=\"#000000\" stroke-width=\"1\" x1=\"471\" y1=\"549\" x2=\"471\" y2=\"52\"/>\n",
       "<line opacity=\"0.1\" stroke=\"#000000\" stroke-width=\"1\" x1=\"478\" y1=\"549\" x2=\"478\" y2=\"52\"/>\n",
       "<line opacity=\"0.1\" stroke=\"#000000\" stroke-width=\"1\" x1=\"485\" y1=\"549\" x2=\"485\" y2=\"52\"/>\n",
       "<line opacity=\"0.1\" stroke=\"#000000\" stroke-width=\"1\" x1=\"492\" y1=\"549\" x2=\"492\" y2=\"52\"/>\n",
       "<line opacity=\"0.1\" stroke=\"#000000\" stroke-width=\"1\" x1=\"498\" y1=\"549\" x2=\"498\" y2=\"52\"/>\n",
       "<line opacity=\"0.1\" stroke=\"#000000\" stroke-width=\"1\" x1=\"505\" y1=\"549\" x2=\"505\" y2=\"52\"/>\n",
       "<line opacity=\"0.1\" stroke=\"#000000\" stroke-width=\"1\" x1=\"512\" y1=\"549\" x2=\"512\" y2=\"52\"/>\n",
       "<line opacity=\"0.1\" stroke=\"#000000\" stroke-width=\"1\" x1=\"519\" y1=\"549\" x2=\"519\" y2=\"52\"/>\n",
       "<line opacity=\"0.1\" stroke=\"#000000\" stroke-width=\"1\" x1=\"525\" y1=\"549\" x2=\"525\" y2=\"52\"/>\n",
       "<line opacity=\"0.1\" stroke=\"#000000\" stroke-width=\"1\" x1=\"532\" y1=\"549\" x2=\"532\" y2=\"52\"/>\n",
       "<line opacity=\"0.1\" stroke=\"#000000\" stroke-width=\"1\" x1=\"539\" y1=\"549\" x2=\"539\" y2=\"52\"/>\n",
       "<line opacity=\"0.1\" stroke=\"#000000\" stroke-width=\"1\" x1=\"546\" y1=\"549\" x2=\"546\" y2=\"52\"/>\n",
       "<line opacity=\"0.1\" stroke=\"#000000\" stroke-width=\"1\" x1=\"552\" y1=\"549\" x2=\"552\" y2=\"52\"/>\n",
       "<line opacity=\"0.1\" stroke=\"#000000\" stroke-width=\"1\" x1=\"559\" y1=\"549\" x2=\"559\" y2=\"52\"/>\n",
       "<line opacity=\"0.1\" stroke=\"#000000\" stroke-width=\"1\" x1=\"566\" y1=\"549\" x2=\"566\" y2=\"52\"/>\n",
       "<line opacity=\"0.1\" stroke=\"#000000\" stroke-width=\"1\" x1=\"573\" y1=\"549\" x2=\"573\" y2=\"52\"/>\n",
       "<line opacity=\"0.1\" stroke=\"#000000\" stroke-width=\"1\" x1=\"580\" y1=\"549\" x2=\"580\" y2=\"52\"/>\n",
       "<line opacity=\"0.1\" stroke=\"#000000\" stroke-width=\"1\" x1=\"586\" y1=\"549\" x2=\"586\" y2=\"52\"/>\n",
       "<line opacity=\"0.1\" stroke=\"#000000\" stroke-width=\"1\" x1=\"593\" y1=\"549\" x2=\"593\" y2=\"52\"/>\n",
       "<line opacity=\"0.1\" stroke=\"#000000\" stroke-width=\"1\" x1=\"600\" y1=\"549\" x2=\"600\" y2=\"52\"/>\n",
       "<line opacity=\"0.1\" stroke=\"#000000\" stroke-width=\"1\" x1=\"607\" y1=\"549\" x2=\"607\" y2=\"52\"/>\n",
       "<line opacity=\"0.1\" stroke=\"#000000\" stroke-width=\"1\" x1=\"613\" y1=\"549\" x2=\"613\" y2=\"52\"/>\n",
       "<line opacity=\"0.1\" stroke=\"#000000\" stroke-width=\"1\" x1=\"620\" y1=\"549\" x2=\"620\" y2=\"52\"/>\n",
       "<line opacity=\"0.1\" stroke=\"#000000\" stroke-width=\"1\" x1=\"627\" y1=\"549\" x2=\"627\" y2=\"52\"/>\n",
       "<line opacity=\"0.1\" stroke=\"#000000\" stroke-width=\"1\" x1=\"634\" y1=\"549\" x2=\"634\" y2=\"52\"/>\n",
       "<line opacity=\"0.1\" stroke=\"#000000\" stroke-width=\"1\" x1=\"640\" y1=\"549\" x2=\"640\" y2=\"52\"/>\n",
       "<line opacity=\"0.1\" stroke=\"#000000\" stroke-width=\"1\" x1=\"647\" y1=\"549\" x2=\"647\" y2=\"52\"/>\n",
       "<line opacity=\"0.1\" stroke=\"#000000\" stroke-width=\"1\" x1=\"654\" y1=\"549\" x2=\"654\" y2=\"52\"/>\n",
       "<line opacity=\"0.1\" stroke=\"#000000\" stroke-width=\"1\" x1=\"661\" y1=\"549\" x2=\"661\" y2=\"52\"/>\n",
       "<line opacity=\"0.1\" stroke=\"#000000\" stroke-width=\"1\" x1=\"667\" y1=\"549\" x2=\"667\" y2=\"52\"/>\n",
       "<line opacity=\"0.1\" stroke=\"#000000\" stroke-width=\"1\" x1=\"674\" y1=\"549\" x2=\"674\" y2=\"52\"/>\n",
       "<line opacity=\"0.1\" stroke=\"#000000\" stroke-width=\"1\" x1=\"681\" y1=\"549\" x2=\"681\" y2=\"52\"/>\n",
       "<line opacity=\"0.1\" stroke=\"#000000\" stroke-width=\"1\" x1=\"688\" y1=\"549\" x2=\"688\" y2=\"52\"/>\n",
       "<line opacity=\"0.1\" stroke=\"#000000\" stroke-width=\"1\" x1=\"695\" y1=\"549\" x2=\"695\" y2=\"52\"/>\n",
       "<line opacity=\"0.1\" stroke=\"#000000\" stroke-width=\"1\" x1=\"701\" y1=\"549\" x2=\"701\" y2=\"52\"/>\n",
       "<line opacity=\"0.1\" stroke=\"#000000\" stroke-width=\"1\" x1=\"708\" y1=\"549\" x2=\"708\" y2=\"52\"/>\n",
       "<line opacity=\"0.1\" stroke=\"#000000\" stroke-width=\"1\" x1=\"715\" y1=\"549\" x2=\"715\" y2=\"52\"/>\n",
       "<line opacity=\"0.1\" stroke=\"#000000\" stroke-width=\"1\" x1=\"722\" y1=\"549\" x2=\"722\" y2=\"52\"/>\n",
       "<line opacity=\"0.1\" stroke=\"#000000\" stroke-width=\"1\" x1=\"728\" y1=\"549\" x2=\"728\" y2=\"52\"/>\n",
       "<line opacity=\"0.1\" stroke=\"#000000\" stroke-width=\"1\" x1=\"735\" y1=\"549\" x2=\"735\" y2=\"52\"/>\n",
       "<line opacity=\"0.1\" stroke=\"#000000\" stroke-width=\"1\" x1=\"742\" y1=\"549\" x2=\"742\" y2=\"52\"/>\n",
       "<line opacity=\"0.1\" stroke=\"#000000\" stroke-width=\"1\" x1=\"749\" y1=\"549\" x2=\"749\" y2=\"52\"/>\n",
       "<line opacity=\"0.1\" stroke=\"#000000\" stroke-width=\"1\" x1=\"755\" y1=\"549\" x2=\"755\" y2=\"52\"/>\n",
       "<line opacity=\"0.1\" stroke=\"#000000\" stroke-width=\"1\" x1=\"762\" y1=\"549\" x2=\"762\" y2=\"52\"/>\n",
       "<line opacity=\"0.1\" stroke=\"#000000\" stroke-width=\"1\" x1=\"769\" y1=\"549\" x2=\"769\" y2=\"52\"/>\n",
       "<line opacity=\"0.1\" stroke=\"#000000\" stroke-width=\"1\" x1=\"776\" y1=\"549\" x2=\"776\" y2=\"52\"/>\n",
       "<line opacity=\"0.1\" stroke=\"#000000\" stroke-width=\"1\" x1=\"782\" y1=\"549\" x2=\"782\" y2=\"52\"/>\n",
       "<line opacity=\"0.1\" stroke=\"#000000\" stroke-width=\"1\" x1=\"60\" y1=\"549\" x2=\"789\" y2=\"549\"/>\n",
       "<line opacity=\"0.1\" stroke=\"#000000\" stroke-width=\"1\" x1=\"60\" y1=\"527\" x2=\"789\" y2=\"527\"/>\n",
       "<line opacity=\"0.1\" stroke=\"#000000\" stroke-width=\"1\" x1=\"60\" y1=\"513\" x2=\"789\" y2=\"513\"/>\n",
       "<line opacity=\"0.1\" stroke=\"#000000\" stroke-width=\"1\" x1=\"60\" y1=\"504\" x2=\"789\" y2=\"504\"/>\n",
       "<line opacity=\"0.1\" stroke=\"#000000\" stroke-width=\"1\" x1=\"60\" y1=\"497\" x2=\"789\" y2=\"497\"/>\n",
       "<line opacity=\"0.1\" stroke=\"#000000\" stroke-width=\"1\" x1=\"60\" y1=\"491\" x2=\"789\" y2=\"491\"/>\n",
       "<line opacity=\"0.1\" stroke=\"#000000\" stroke-width=\"1\" x1=\"60\" y1=\"486\" x2=\"789\" y2=\"486\"/>\n",
       "<line opacity=\"0.1\" stroke=\"#000000\" stroke-width=\"1\" x1=\"60\" y1=\"481\" x2=\"789\" y2=\"481\"/>\n",
       "<line opacity=\"0.1\" stroke=\"#000000\" stroke-width=\"1\" x1=\"60\" y1=\"477\" x2=\"789\" y2=\"477\"/>\n",
       "<line opacity=\"0.1\" stroke=\"#000000\" stroke-width=\"1\" x1=\"60\" y1=\"474\" x2=\"789\" y2=\"474\"/>\n",
       "<line opacity=\"0.1\" stroke=\"#000000\" stroke-width=\"1\" x1=\"60\" y1=\"474\" x2=\"789\" y2=\"474\"/>\n",
       "<line opacity=\"0.1\" stroke=\"#000000\" stroke-width=\"1\" x1=\"60\" y1=\"451\" x2=\"789\" y2=\"451\"/>\n",
       "<line opacity=\"0.1\" stroke=\"#000000\" stroke-width=\"1\" x1=\"60\" y1=\"438\" x2=\"789\" y2=\"438\"/>\n",
       "<line opacity=\"0.1\" stroke=\"#000000\" stroke-width=\"1\" x1=\"60\" y1=\"428\" x2=\"789\" y2=\"428\"/>\n",
       "<line opacity=\"0.1\" stroke=\"#000000\" stroke-width=\"1\" x1=\"60\" y1=\"421\" x2=\"789\" y2=\"421\"/>\n",
       "<line opacity=\"0.1\" stroke=\"#000000\" stroke-width=\"1\" x1=\"60\" y1=\"415\" x2=\"789\" y2=\"415\"/>\n",
       "<line opacity=\"0.1\" stroke=\"#000000\" stroke-width=\"1\" x1=\"60\" y1=\"410\" x2=\"789\" y2=\"410\"/>\n",
       "<line opacity=\"0.1\" stroke=\"#000000\" stroke-width=\"1\" x1=\"60\" y1=\"406\" x2=\"789\" y2=\"406\"/>\n",
       "<line opacity=\"0.1\" stroke=\"#000000\" stroke-width=\"1\" x1=\"60\" y1=\"402\" x2=\"789\" y2=\"402\"/>\n",
       "<line opacity=\"0.1\" stroke=\"#000000\" stroke-width=\"1\" x1=\"60\" y1=\"398\" x2=\"789\" y2=\"398\"/>\n",
       "<line opacity=\"0.1\" stroke=\"#000000\" stroke-width=\"1\" x1=\"60\" y1=\"398\" x2=\"789\" y2=\"398\"/>\n",
       "<line opacity=\"0.1\" stroke=\"#000000\" stroke-width=\"1\" x1=\"60\" y1=\"376\" x2=\"789\" y2=\"376\"/>\n",
       "<line opacity=\"0.1\" stroke=\"#000000\" stroke-width=\"1\" x1=\"60\" y1=\"362\" x2=\"789\" y2=\"362\"/>\n",
       "<line opacity=\"0.1\" stroke=\"#000000\" stroke-width=\"1\" x1=\"60\" y1=\"353\" x2=\"789\" y2=\"353\"/>\n",
       "<line opacity=\"0.1\" stroke=\"#000000\" stroke-width=\"1\" x1=\"60\" y1=\"345\" x2=\"789\" y2=\"345\"/>\n",
       "<line opacity=\"0.1\" stroke=\"#000000\" stroke-width=\"1\" x1=\"60\" y1=\"340\" x2=\"789\" y2=\"340\"/>\n",
       "<line opacity=\"0.1\" stroke=\"#000000\" stroke-width=\"1\" x1=\"60\" y1=\"334\" x2=\"789\" y2=\"334\"/>\n",
       "<line opacity=\"0.1\" stroke=\"#000000\" stroke-width=\"1\" x1=\"60\" y1=\"330\" x2=\"789\" y2=\"330\"/>\n",
       "<line opacity=\"0.1\" stroke=\"#000000\" stroke-width=\"1\" x1=\"60\" y1=\"326\" x2=\"789\" y2=\"326\"/>\n",
       "<line opacity=\"0.1\" stroke=\"#000000\" stroke-width=\"1\" x1=\"60\" y1=\"323\" x2=\"789\" y2=\"323\"/>\n",
       "<line opacity=\"0.1\" stroke=\"#000000\" stroke-width=\"1\" x1=\"60\" y1=\"323\" x2=\"789\" y2=\"323\"/>\n",
       "<line opacity=\"0.1\" stroke=\"#000000\" stroke-width=\"1\" x1=\"60\" y1=\"300\" x2=\"789\" y2=\"300\"/>\n",
       "<line opacity=\"0.1\" stroke=\"#000000\" stroke-width=\"1\" x1=\"60\" y1=\"287\" x2=\"789\" y2=\"287\"/>\n",
       "<line opacity=\"0.1\" stroke=\"#000000\" stroke-width=\"1\" x1=\"60\" y1=\"277\" x2=\"789\" y2=\"277\"/>\n",
       "<line opacity=\"0.1\" stroke=\"#000000\" stroke-width=\"1\" x1=\"60\" y1=\"270\" x2=\"789\" y2=\"270\"/>\n",
       "<line opacity=\"0.1\" stroke=\"#000000\" stroke-width=\"1\" x1=\"60\" y1=\"264\" x2=\"789\" y2=\"264\"/>\n",
       "<line opacity=\"0.1\" stroke=\"#000000\" stroke-width=\"1\" x1=\"60\" y1=\"259\" x2=\"789\" y2=\"259\"/>\n",
       "<line opacity=\"0.1\" stroke=\"#000000\" stroke-width=\"1\" x1=\"60\" y1=\"254\" x2=\"789\" y2=\"254\"/>\n",
       "<line opacity=\"0.1\" stroke=\"#000000\" stroke-width=\"1\" x1=\"60\" y1=\"251\" x2=\"789\" y2=\"251\"/>\n",
       "<line opacity=\"0.1\" stroke=\"#000000\" stroke-width=\"1\" x1=\"60\" y1=\"247\" x2=\"789\" y2=\"247\"/>\n",
       "<line opacity=\"0.1\" stroke=\"#000000\" stroke-width=\"1\" x1=\"60\" y1=\"247\" x2=\"789\" y2=\"247\"/>\n",
       "<line opacity=\"0.1\" stroke=\"#000000\" stroke-width=\"1\" x1=\"60\" y1=\"224\" x2=\"789\" y2=\"224\"/>\n",
       "<line opacity=\"0.1\" stroke=\"#000000\" stroke-width=\"1\" x1=\"60\" y1=\"211\" x2=\"789\" y2=\"211\"/>\n",
       "<line opacity=\"0.1\" stroke=\"#000000\" stroke-width=\"1\" x1=\"60\" y1=\"202\" x2=\"789\" y2=\"202\"/>\n",
       "<line opacity=\"0.1\" stroke=\"#000000\" stroke-width=\"1\" x1=\"60\" y1=\"194\" x2=\"789\" y2=\"194\"/>\n",
       "<line opacity=\"0.1\" stroke=\"#000000\" stroke-width=\"1\" x1=\"60\" y1=\"188\" x2=\"789\" y2=\"188\"/>\n",
       "<line opacity=\"0.1\" stroke=\"#000000\" stroke-width=\"1\" x1=\"60\" y1=\"183\" x2=\"789\" y2=\"183\"/>\n",
       "<line opacity=\"0.1\" stroke=\"#000000\" stroke-width=\"1\" x1=\"60\" y1=\"179\" x2=\"789\" y2=\"179\"/>\n",
       "<line opacity=\"0.1\" stroke=\"#000000\" stroke-width=\"1\" x1=\"60\" y1=\"175\" x2=\"789\" y2=\"175\"/>\n",
       "<line opacity=\"0.1\" stroke=\"#000000\" stroke-width=\"1\" x1=\"60\" y1=\"172\" x2=\"789\" y2=\"172\"/>\n",
       "<line opacity=\"0.1\" stroke=\"#000000\" stroke-width=\"1\" x1=\"60\" y1=\"172\" x2=\"789\" y2=\"172\"/>\n",
       "<line opacity=\"0.1\" stroke=\"#000000\" stroke-width=\"1\" x1=\"60\" y1=\"149\" x2=\"789\" y2=\"149\"/>\n",
       "<line opacity=\"0.1\" stroke=\"#000000\" stroke-width=\"1\" x1=\"60\" y1=\"135\" x2=\"789\" y2=\"135\"/>\n",
       "<line opacity=\"0.1\" stroke=\"#000000\" stroke-width=\"1\" x1=\"60\" y1=\"126\" x2=\"789\" y2=\"126\"/>\n",
       "<line opacity=\"0.1\" stroke=\"#000000\" stroke-width=\"1\" x1=\"60\" y1=\"119\" x2=\"789\" y2=\"119\"/>\n",
       "<line opacity=\"0.1\" stroke=\"#000000\" stroke-width=\"1\" x1=\"60\" y1=\"113\" x2=\"789\" y2=\"113\"/>\n",
       "<line opacity=\"0.1\" stroke=\"#000000\" stroke-width=\"1\" x1=\"60\" y1=\"108\" x2=\"789\" y2=\"108\"/>\n",
       "<line opacity=\"0.1\" stroke=\"#000000\" stroke-width=\"1\" x1=\"60\" y1=\"103\" x2=\"789\" y2=\"103\"/>\n",
       "<line opacity=\"0.1\" stroke=\"#000000\" stroke-width=\"1\" x1=\"60\" y1=\"99\" x2=\"789\" y2=\"99\"/>\n",
       "<line opacity=\"0.1\" stroke=\"#000000\" stroke-width=\"1\" x1=\"60\" y1=\"96\" x2=\"789\" y2=\"96\"/>\n",
       "<line opacity=\"0.1\" stroke=\"#000000\" stroke-width=\"1\" x1=\"60\" y1=\"96\" x2=\"789\" y2=\"96\"/>\n",
       "<line opacity=\"0.1\" stroke=\"#000000\" stroke-width=\"1\" x1=\"60\" y1=\"73\" x2=\"789\" y2=\"73\"/>\n",
       "<line opacity=\"0.1\" stroke=\"#000000\" stroke-width=\"1\" x1=\"60\" y1=\"60\" x2=\"789\" y2=\"60\"/>\n",
       "<text x=\"10\" y=\"301\" dy=\"0.76em\" text-anchor=\"middle\" font-family=\"sans-serif\" font-size=\"9.67741935483871\" opacity=\"1\" fill=\"#000000\" transform=\"rotate(270, 10, 301)\">\n",
       "Absolute Error\n",
       "</text>\n",
       "<text x=\"425\" y=\"590\" dy=\"-0.5ex\" text-anchor=\"middle\" font-family=\"sans-serif\" font-size=\"9.67741935483871\" opacity=\"1\" fill=\"#000000\">\n",
       "Number of Intervals\n",
       "</text>\n",
       "<line opacity=\"0.2\" stroke=\"#000000\" stroke-width=\"1\" x1=\"79\" y1=\"549\" x2=\"79\" y2=\"52\"/>\n",
       "<line opacity=\"0.2\" stroke=\"#000000\" stroke-width=\"1\" x1=\"147\" y1=\"549\" x2=\"147\" y2=\"52\"/>\n",
       "<line opacity=\"0.2\" stroke=\"#000000\" stroke-width=\"1\" x1=\"214\" y1=\"549\" x2=\"214\" y2=\"52\"/>\n",
       "<line opacity=\"0.2\" stroke=\"#000000\" stroke-width=\"1\" x1=\"282\" y1=\"549\" x2=\"282\" y2=\"52\"/>\n",
       "<line opacity=\"0.2\" stroke=\"#000000\" stroke-width=\"1\" x1=\"350\" y1=\"549\" x2=\"350\" y2=\"52\"/>\n",
       "<line opacity=\"0.2\" stroke=\"#000000\" stroke-width=\"1\" x1=\"417\" y1=\"549\" x2=\"417\" y2=\"52\"/>\n",
       "<line opacity=\"0.2\" stroke=\"#000000\" stroke-width=\"1\" x1=\"485\" y1=\"549\" x2=\"485\" y2=\"52\"/>\n",
       "<line opacity=\"0.2\" stroke=\"#000000\" stroke-width=\"1\" x1=\"552\" y1=\"549\" x2=\"552\" y2=\"52\"/>\n",
       "<line opacity=\"0.2\" stroke=\"#000000\" stroke-width=\"1\" x1=\"620\" y1=\"549\" x2=\"620\" y2=\"52\"/>\n",
       "<line opacity=\"0.2\" stroke=\"#000000\" stroke-width=\"1\" x1=\"688\" y1=\"549\" x2=\"688\" y2=\"52\"/>\n",
       "<line opacity=\"0.2\" stroke=\"#000000\" stroke-width=\"1\" x1=\"755\" y1=\"549\" x2=\"755\" y2=\"52\"/>\n",
       "<line opacity=\"0.2\" stroke=\"#000000\" stroke-width=\"1\" x1=\"60\" y1=\"549\" x2=\"789\" y2=\"549\"/>\n",
       "<line opacity=\"0.2\" stroke=\"#000000\" stroke-width=\"1\" x1=\"60\" y1=\"474\" x2=\"789\" y2=\"474\"/>\n",
       "<line opacity=\"0.2\" stroke=\"#000000\" stroke-width=\"1\" x1=\"60\" y1=\"398\" x2=\"789\" y2=\"398\"/>\n",
       "<line opacity=\"0.2\" stroke=\"#000000\" stroke-width=\"1\" x1=\"60\" y1=\"323\" x2=\"789\" y2=\"323\"/>\n",
       "<line opacity=\"0.2\" stroke=\"#000000\" stroke-width=\"1\" x1=\"60\" y1=\"247\" x2=\"789\" y2=\"247\"/>\n",
       "<line opacity=\"0.2\" stroke=\"#000000\" stroke-width=\"1\" x1=\"60\" y1=\"172\" x2=\"789\" y2=\"172\"/>\n",
       "<line opacity=\"0.2\" stroke=\"#000000\" stroke-width=\"1\" x1=\"60\" y1=\"96\" x2=\"789\" y2=\"96\"/>\n",
       "<polyline fill=\"none\" opacity=\"1\" stroke=\"#000000\" stroke-width=\"1\" points=\"59,52 59,549 \"/>\n",
       "<text x=\"50\" y=\"549\" dy=\"0.5ex\" text-anchor=\"end\" font-family=\"sans-serif\" font-size=\"9.67741935483871\" opacity=\"1\" fill=\"#000000\">\n",
       "1e-10\n",
       "</text>\n",
       "<polyline fill=\"none\" opacity=\"1\" stroke=\"#000000\" stroke-width=\"1\" points=\"54,549 59,549 \"/>\n",
       "<text x=\"50\" y=\"474\" dy=\"0.5ex\" text-anchor=\"end\" font-family=\"sans-serif\" font-size=\"9.67741935483871\" opacity=\"1\" fill=\"#000000\">\n",
       "1e-9\n",
       "</text>\n",
       "<polyline fill=\"none\" opacity=\"1\" stroke=\"#000000\" stroke-width=\"1\" points=\"54,474 59,474 \"/>\n",
       "<text x=\"50\" y=\"398\" dy=\"0.5ex\" text-anchor=\"end\" font-family=\"sans-serif\" font-size=\"9.67741935483871\" opacity=\"1\" fill=\"#000000\">\n",
       "1e-8\n",
       "</text>\n",
       "<polyline fill=\"none\" opacity=\"1\" stroke=\"#000000\" stroke-width=\"1\" points=\"54,398 59,398 \"/>\n",
       "<text x=\"50\" y=\"323\" dy=\"0.5ex\" text-anchor=\"end\" font-family=\"sans-serif\" font-size=\"9.67741935483871\" opacity=\"1\" fill=\"#000000\">\n",
       "1e-7\n",
       "</text>\n",
       "<polyline fill=\"none\" opacity=\"1\" stroke=\"#000000\" stroke-width=\"1\" points=\"54,323 59,323 \"/>\n",
       "<text x=\"50\" y=\"247\" dy=\"0.5ex\" text-anchor=\"end\" font-family=\"sans-serif\" font-size=\"9.67741935483871\" opacity=\"1\" fill=\"#000000\">\n",
       "1e-6\n",
       "</text>\n",
       "<polyline fill=\"none\" opacity=\"1\" stroke=\"#000000\" stroke-width=\"1\" points=\"54,247 59,247 \"/>\n",
       "<text x=\"50\" y=\"172\" dy=\"0.5ex\" text-anchor=\"end\" font-family=\"sans-serif\" font-size=\"9.67741935483871\" opacity=\"1\" fill=\"#000000\">\n",
       "9.999999999999999e-6\n",
       "</text>\n",
       "<polyline fill=\"none\" opacity=\"1\" stroke=\"#000000\" stroke-width=\"1\" points=\"54,172 59,172 \"/>\n",
       "<text x=\"50\" y=\"96\" dy=\"0.5ex\" text-anchor=\"end\" font-family=\"sans-serif\" font-size=\"9.67741935483871\" opacity=\"1\" fill=\"#000000\">\n",
       "9.999999999999999e-5\n",
       "</text>\n",
       "<polyline fill=\"none\" opacity=\"1\" stroke=\"#000000\" stroke-width=\"1\" points=\"54,96 59,96 \"/>\n",
       "<polyline fill=\"none\" opacity=\"1\" stroke=\"#000000\" stroke-width=\"1\" points=\"60,550 789,550 \"/>\n",
       "<text x=\"79\" y=\"560\" dy=\"0.76em\" text-anchor=\"middle\" font-family=\"sans-serif\" font-size=\"9.67741935483871\" opacity=\"1\" fill=\"#000000\">\n",
       "0.0\n",
       "</text>\n",
       "<polyline fill=\"none\" opacity=\"1\" stroke=\"#000000\" stroke-width=\"1\" points=\"79,550 79,555 \"/>\n",
       "<text x=\"147\" y=\"560\" dy=\"0.76em\" text-anchor=\"middle\" font-family=\"sans-serif\" font-size=\"9.67741935483871\" opacity=\"1\" fill=\"#000000\">\n",
       "100.0\n",
       "</text>\n",
       "<polyline fill=\"none\" opacity=\"1\" stroke=\"#000000\" stroke-width=\"1\" points=\"147,550 147,555 \"/>\n",
       "<text x=\"214\" y=\"560\" dy=\"0.76em\" text-anchor=\"middle\" font-family=\"sans-serif\" font-size=\"9.67741935483871\" opacity=\"1\" fill=\"#000000\">\n",
       "200.0\n",
       "</text>\n",
       "<polyline fill=\"none\" opacity=\"1\" stroke=\"#000000\" stroke-width=\"1\" points=\"214,550 214,555 \"/>\n",
       "<text x=\"282\" y=\"560\" dy=\"0.76em\" text-anchor=\"middle\" font-family=\"sans-serif\" font-size=\"9.67741935483871\" opacity=\"1\" fill=\"#000000\">\n",
       "300.0\n",
       "</text>\n",
       "<polyline fill=\"none\" opacity=\"1\" stroke=\"#000000\" stroke-width=\"1\" points=\"282,550 282,555 \"/>\n",
       "<text x=\"350\" y=\"560\" dy=\"0.76em\" text-anchor=\"middle\" font-family=\"sans-serif\" font-size=\"9.67741935483871\" opacity=\"1\" fill=\"#000000\">\n",
       "400.0\n",
       "</text>\n",
       "<polyline fill=\"none\" opacity=\"1\" stroke=\"#000000\" stroke-width=\"1\" points=\"350,550 350,555 \"/>\n",
       "<text x=\"417\" y=\"560\" dy=\"0.76em\" text-anchor=\"middle\" font-family=\"sans-serif\" font-size=\"9.67741935483871\" opacity=\"1\" fill=\"#000000\">\n",
       "500.0\n",
       "</text>\n",
       "<polyline fill=\"none\" opacity=\"1\" stroke=\"#000000\" stroke-width=\"1\" points=\"417,550 417,555 \"/>\n",
       "<text x=\"485\" y=\"560\" dy=\"0.76em\" text-anchor=\"middle\" font-family=\"sans-serif\" font-size=\"9.67741935483871\" opacity=\"1\" fill=\"#000000\">\n",
       "600.0\n",
       "</text>\n",
       "<polyline fill=\"none\" opacity=\"1\" stroke=\"#000000\" stroke-width=\"1\" points=\"485,550 485,555 \"/>\n",
       "<text x=\"552\" y=\"560\" dy=\"0.76em\" text-anchor=\"middle\" font-family=\"sans-serif\" font-size=\"9.67741935483871\" opacity=\"1\" fill=\"#000000\">\n",
       "700.0\n",
       "</text>\n",
       "<polyline fill=\"none\" opacity=\"1\" stroke=\"#000000\" stroke-width=\"1\" points=\"552,550 552,555 \"/>\n",
       "<text x=\"620\" y=\"560\" dy=\"0.76em\" text-anchor=\"middle\" font-family=\"sans-serif\" font-size=\"9.67741935483871\" opacity=\"1\" fill=\"#000000\">\n",
       "800.0\n",
       "</text>\n",
       "<polyline fill=\"none\" opacity=\"1\" stroke=\"#000000\" stroke-width=\"1\" points=\"620,550 620,555 \"/>\n",
       "<text x=\"688\" y=\"560\" dy=\"0.76em\" text-anchor=\"middle\" font-family=\"sans-serif\" font-size=\"9.67741935483871\" opacity=\"1\" fill=\"#000000\">\n",
       "900.0\n",
       "</text>\n",
       "<polyline fill=\"none\" opacity=\"1\" stroke=\"#000000\" stroke-width=\"1\" points=\"688,550 688,555 \"/>\n",
       "<text x=\"755\" y=\"560\" dy=\"0.76em\" text-anchor=\"middle\" font-family=\"sans-serif\" font-size=\"9.67741935483871\" opacity=\"1\" fill=\"#000000\">\n",
       "1000.0\n",
       "</text>\n",
       "<polyline fill=\"none\" opacity=\"1\" stroke=\"#000000\" stroke-width=\"1\" points=\"755,550 755,555 \"/>\n",
       "<polyline fill=\"none\" opacity=\"1\" stroke=\"#0000FF\" stroke-width=\"2\" points=\"93,54 106,100 120,126 133,145 147,160 160,172 174,182 187,191 201,198 214,205 228,212 241,217 255,223 268,227 282,232 296,236 309,240 323,244 336,247 350,251 363,254 377,257 390,260 404,263 417,265 431,268 444,270 458,273 471,275 485,277 498,280 512,282 525,284 539,286 552,288 566,289 580,291 593,293 607,295 620,296 634,298 647,299 661,301 674,303 688,304 701,305 715,307 728,308 742,310 755,311 \"/>\n",
       "<polyline fill=\"none\" opacity=\"1\" stroke=\"#FF0000\" stroke-width=\"2\" points=\"93,340 106,431 120,484 133,522 147,550 160,550 174,550 187,550 201,550 214,550 228,550 241,550 255,550 268,550 282,550 296,550 309,550 323,550 336,550 350,550 363,550 377,550 390,550 404,550 417,550 431,550 444,550 458,550 471,550 485,550 498,550 512,550 525,550 539,550 552,550 566,550 580,550 593,550 607,550 620,550 634,550 647,550 661,550 674,550 688,550 701,550 715,550 728,550 742,550 755,550 \"/>\n",
       "<rect x=\"656\" y=\"279\" width=\"129\" height=\"44\" opacity=\"0.8\" fill=\"#FFFFFF\" stroke=\"none\"/>\n",
       "<rect x=\"656\" y=\"279\" width=\"129\" height=\"44\" opacity=\"1\" fill=\"none\" stroke=\"#000000\"/>\n",
       "<text x=\"696\" y=\"289\" dy=\"0.76em\" text-anchor=\"start\" font-family=\"sans-serif\" font-size=\"9.67741935483871\" opacity=\"1\" fill=\"#000000\">\n",
       "Trapezoidal Rule\n",
       "</text>\n",
       "<text x=\"696\" y=\"304\" dy=\"0.76em\" text-anchor=\"start\" font-family=\"sans-serif\" font-size=\"9.67741935483871\" opacity=\"1\" fill=\"#000000\">\n",
       "Simpson&apos;s Rule\n",
       "</text>\n",
       "<rect x=\"666\" y=\"293\" width=\"10\" height=\"0\" opacity=\"1\" fill=\"#0000FF\" stroke=\"none\"/>\n",
       "<rect x=\"666\" y=\"308\" width=\"10\" height=\"0\" opacity=\"1\" fill=\"#FF0000\" stroke=\"none\"/>\n",
       "</svg>\n",
       "\n",
       "</div>"
      ],
      "text/plain": [
       "()"
      ]
     },
     "execution_count": 8,
     "metadata": {},
     "output_type": "execute_result"
    }
   ],
   "source": [
    "{\n",
    "    // Generate convergence data using ergonomic operations\n",
    "    let f = |x: f64| x.exp(); // e^x from 0 to 1\n",
    "    let exact = 1.0_f64.exp() - 1.0;\n",
    "    \n",
    "    // Create intervals using ergonomic range\n",
    "    let intervals_raw: Vec<usize> = (1..=50).map(|i| i * 20).collect();\n",
    "    let intervals_vec = vec64![]; // Empty vector to collect errors\n",
    "    \n",
    "    let mut trap_errors_vec = Vec::new();\n",
    "    let mut simp_errors_vec = Vec::new();\n",
    "    let mut intervals_f64_vec = Vec::new();\n",
    "    \n",
    "    for &n in &intervals_raw {\n",
    "        let trap_result = trapz(f, 0.0, 1.0, n)?;\n",
    "        let simp_result = simpson(f, 0.0, 1.0, n)?;\n",
    "        \n",
    "        trap_errors_vec.push((trap_result - exact).abs());\n",
    "        simp_errors_vec.push((simp_result - exact).abs());\n",
    "        intervals_f64_vec.push(n as f64);\n",
    "    }\n",
    "    \n",
    "    let intervals_f64 = VectorF64::from_slice(&intervals_f64_vec);\n",
    "    let trap_errors = VectorF64::from_slice(&trap_errors_vec);\n",
    "    let simp_errors = VectorF64::from_slice(&simp_errors_vec);\n",
    "    \n",
    "    // Plot convergence using correct plotting API\n",
    "    Plot::new()\n",
    "        .line_with(&intervals_f64, &trap_errors, \"Trapezoidal Rule\")\n",
    "        .line_with(&intervals_f64, &simp_errors, \"Simpson's Rule\")\n",
    "        .title(\"Integration Error Convergence\")\n",
    "        .xlabel(\"Number of Intervals\")\n",
    "        .ylabel(\"Absolute Error\")\n",
    "        .yscale(Scale::Log10)\n",
    "        .legend(true)\n",
    "        .grid(true)\n",
    "        .show()?;\n",
    "    \n",
    "    println!(\"Final errors at 1000 intervals:\");\n",
    "    println!(\"Trapezoidal: {:.2e}\", trap_errors.get(trap_errors.len()-1).unwrap());\n",
    "    println!(\"Simpson: {:.2e}\", simp_errors.get(simp_errors.len()-1).unwrap());\n",
    "}"
   ]
  },
  {
   "cell_type": "markdown",
   "metadata": {},
   "source": [
    "## 7. Performance Benchmarking\n",
    "\n",
    "Compare computational efficiency of different methods."
   ]
  },
  {
   "cell_type": "code",
   "execution_count": 9,
   "metadata": {},
   "outputs": [
    {
     "name": "stdout",
     "output_type": "stream",
     "text": [
      "Performance benchmark (1000 runs, 10000 intervals):\n",
      "Trapezoidal: 18.25ms (18.2 μs/call)\n",
      "Simpson: 18.89ms (18.9 μs/call)\n",
      "Romberg: 108.00µs (1.1 μs/call)\n"
     ]
    },
    {
     "data": {
      "text/plain": [
       "()"
      ]
     },
     "execution_count": 9,
     "metadata": {},
     "output_type": "execute_result"
    }
   ],
   "source": [
    "{\n",
    "    use std::time::Instant;\n",
    "    \n",
    "    let f = |x: f64| (x * x + 1.0).sqrt(); // Moderately complex function\n",
    "    let n_intervals = 10000;\n",
    "    let n_runs = 1000;\n",
    "    \n",
    "    println!(\"Performance benchmark ({} runs, {} intervals):\", n_runs, n_intervals);\n",
    "    \n",
    "    // Trapezoidal rule benchmark\n",
    "    let start = Instant::now();\n",
    "    for _ in 0..n_runs {\n",
    "        let _ = trapz(f, 0.0, 1.0, n_intervals);\n",
    "    }\n",
    "    let trap_time = start.elapsed();\n",
    "    \n",
    "    // Simpson's rule benchmark\n",
    "    let start = Instant::now();\n",
    "    for _ in 0..n_runs {\n",
    "        let _ = simpson(f, 0.0, 1.0, n_intervals);\n",
    "    }\n",
    "    let simp_time = start.elapsed();\n",
    "    \n",
    "    // Romberg integration benchmark (fewer runs due to complexity)\n",
    "    let romberg_runs = 100;\n",
    "    let start = Instant::now();\n",
    "    for _ in 0..romberg_runs {\n",
    "        let _ = romberg(f, 0.0, 1.0, 1e-8, 20); // Add max_iterations parameter\n",
    "    }\n",
    "    let romberg_time = start.elapsed();\n",
    "    \n",
    "    println!(\"Trapezoidal: {:.2?} ({:.1} μs/call)\", \n",
    "             trap_time, trap_time.as_micros() as f64 / n_runs as f64);\n",
    "    println!(\"Simpson: {:.2?} ({:.1} μs/call)\", \n",
    "             simp_time, simp_time.as_micros() as f64 / n_runs as f64);\n",
    "    println!(\"Romberg: {:.2?} ({:.1} μs/call)\", \n",
    "             romberg_time, romberg_time.as_micros() as f64 / romberg_runs as f64);\n",
    "}"
   ]
  },
  {
   "cell_type": "markdown",
   "metadata": {},
   "source": [
    "## 8. Advanced Application: Area Under Curve\n",
    "\n",
    "Practical example computing areas and comparing different approximation methods."
   ]
  },
  {
   "cell_type": "code",
   "execution_count": 10,
   "metadata": {},
   "outputs": [
    {
     "name": "stdout",
     "output_type": "stream",
     "text": [
      "Gaussian Distribution Area Calculation:\n",
      "Range           Trapz           Simpson         Romberg        \n",
      "[-1.0, 1.0]     0.682689        0.682689        0.682689       \n",
      "[-2.0, 2.0]     0.954499        0.954500        0.954500       \n",
      "[-3.0, 3.0]     0.997300        0.997300        0.997300       \n",
      "[-4.0, 4.0]     0.999937        0.999937        0.999937       \n"
     ]
    },
    {
     "data": {
      "text/plain": [
       "()"
      ]
     },
     "execution_count": 10,
     "metadata": {},
     "output_type": "execute_result"
    }
   ],
   "source": [
    "{\n",
    "    // Define a complex curve: Gaussian bell curve\n",
    "    let gaussian = |x: f64| (-0.5 * x * x).exp() / (2.0 * PI).sqrt();\n",
    "    \n",
    "    // Compute areas for different ranges (should approach 1.0 for full range)\n",
    "    let ranges = vec![\n",
    "        (-1.0, 1.0),   // ±1σ ≈ 68%\n",
    "        (-2.0, 2.0),   // ±2σ ≈ 95%\n",
    "        (-3.0, 3.0),   // ±3σ ≈ 99.7%\n",
    "        (-4.0, 4.0),   // ±4σ ≈ 99.99%\n",
    "    ];\n",
    "    \n",
    "    println!(\"Gaussian Distribution Area Calculation:\");\n",
    "    println!(\"{:<15} {:<15} {:<15} {:<15}\", \"Range\", \"Trapz\", \"Simpson\", \"Romberg\");\n",
    "    \n",
    "    for (a, b) in ranges {\n",
    "        let trap_area = trapz(gaussian, a, b, 1000)?;\n",
    "        let simp_area = simpson(gaussian, a, b, 1000)?;\n",
    "        let romberg_area = romberg(gaussian, a, b, 1e-8, 20)?; // Add max_iterations parameter\n",
    "        \n",
    "        let range_str = format!(\"[{:.1}, {:.1}]\", a, b);\n",
    "        println!(\"{:<15} {:<15.6} {:<15.6} {:<15.6}\", \n",
    "                 range_str, trap_area, simp_area, romberg_area);\n",
    "    }\n",
    "}"
   ]
  },
  {
   "cell_type": "code",
   "execution_count": 11,
   "metadata": {},
   "outputs": [
    {
     "ename": "Error",
     "evalue": "type `f64` cannot be dereferenced",
     "output_type": "error",
     "traceback": [
      "\u001b[31m[E0614] Error:\u001b[0m type `f64` cannot be dereferenced",
      "   \u001b[38;5;246m╭\u001b[0m\u001b[38;5;246m─\u001b[0m\u001b[38;5;246m[\u001b[0mcommand_11:1:1\u001b[38;5;246m]\u001b[0m",
      "   \u001b[38;5;246m│\u001b[0m",
      " \u001b[38;5;246m6 │\u001b[0m \u001b[38;5;249m \u001b[0m\u001b[38;5;249m \u001b[0m\u001b[38;5;249m \u001b[0m\u001b[38;5;249m \u001b[0m\u001b[38;5;249ml\u001b[0m\u001b[38;5;249me\u001b[0m\u001b[38;5;249mt\u001b[0m\u001b[38;5;249m \u001b[0m\u001b[38;5;249my\u001b[0m\u001b[38;5;249m \u001b[0m\u001b[38;5;249m=\u001b[0m\u001b[38;5;249m \u001b[0m\u001b[38;5;249m(\u001b[0m\u001b[38;5;249m&\u001b[0m\u001b[38;5;249mx\u001b[0m\u001b[38;5;249m)\u001b[0m\u001b[38;5;249m.\u001b[0m\u001b[38;5;249mm\u001b[0m\u001b[38;5;249ma\u001b[0m\u001b[38;5;249mp\u001b[0m\u001b[38;5;249m(\u001b[0m\u001b[38;5;249m|\u001b[0m\u001b[38;5;249mx\u001b[0m\u001b[38;5;249mi\u001b[0m\u001b[38;5;249m|\u001b[0m\u001b[38;5;249m \u001b[0m\u001b[38;5;249mg\u001b[0m\u001b[38;5;249ma\u001b[0m\u001b[38;5;249mu\u001b[0m\u001b[38;5;249ms\u001b[0m\u001b[38;5;249ms\u001b[0m\u001b[38;5;249mi\u001b[0m\u001b[38;5;249ma\u001b[0m\u001b[38;5;249mn\u001b[0m\u001b[38;5;249m(\u001b[0m\u001b[38;5;54m*\u001b[0m\u001b[38;5;54mx\u001b[0m\u001b[38;5;54mi\u001b[0m\u001b[38;5;249m)\u001b[0m\u001b[38;5;249m)\u001b[0m\u001b[38;5;249m;\u001b[0m",
      " \u001b[38;5;240m  │\u001b[0m                                    \u001b[38;5;54m─\u001b[0m\u001b[38;5;54m┬\u001b[0m\u001b[38;5;54m─\u001b[0m  ",
      " \u001b[38;5;240m  │\u001b[0m                                     \u001b[38;5;54m╰\u001b[0m\u001b[38;5;54m─\u001b[0m\u001b[38;5;54m─\u001b[0m\u001b[38;5;54m─\u001b[0m can't be dereferenced",
      "\u001b[38;5;246m───╯\u001b[0m"
     ]
    },
    {
     "ename": "Error",
     "evalue": "type `f64` cannot be dereferenced",
     "output_type": "error",
     "traceback": [
      "\u001b[31m[E0614] Error:\u001b[0m type `f64` cannot be dereferenced",
      "    \u001b[38;5;246m╭\u001b[0m\u001b[38;5;246m─\u001b[0m\u001b[38;5;246m[\u001b[0mcommand_11:1:1\u001b[38;5;246m]\u001b[0m",
      "    \u001b[38;5;246m│\u001b[0m",
      " \u001b[38;5;246m10 │\u001b[0m \u001b[38;5;249m \u001b[0m\u001b[38;5;249m \u001b[0m\u001b[38;5;249m \u001b[0m\u001b[38;5;249m \u001b[0m\u001b[38;5;249ml\u001b[0m\u001b[38;5;249me\u001b[0m\u001b[38;5;249mt\u001b[0m\u001b[38;5;249m \u001b[0m\u001b[38;5;249my\u001b[0m\u001b[38;5;249m_\u001b[0m\u001b[38;5;249mc\u001b[0m\u001b[38;5;249mo\u001b[0m\u001b[38;5;249ma\u001b[0m\u001b[38;5;249mr\u001b[0m\u001b[38;5;249ms\u001b[0m\u001b[38;5;249me\u001b[0m\u001b[38;5;249m \u001b[0m\u001b[38;5;249m=\u001b[0m\u001b[38;5;249m \u001b[0m\u001b[38;5;249m(\u001b[0m\u001b[38;5;249m&\u001b[0m\u001b[38;5;249mx\u001b[0m\u001b[38;5;249m_\u001b[0m\u001b[38;5;249mc\u001b[0m\u001b[38;5;249mo\u001b[0m\u001b[38;5;249ma\u001b[0m\u001b[38;5;249mr\u001b[0m\u001b[38;5;249ms\u001b[0m\u001b[38;5;249me\u001b[0m\u001b[38;5;249m)\u001b[0m\u001b[38;5;249m.\u001b[0m\u001b[38;5;249mm\u001b[0m\u001b[38;5;249ma\u001b[0m\u001b[38;5;249mp\u001b[0m\u001b[38;5;249m(\u001b[0m\u001b[38;5;249m|\u001b[0m\u001b[38;5;249mx\u001b[0m\u001b[38;5;249mi\u001b[0m\u001b[38;5;249m|\u001b[0m\u001b[38;5;249m \u001b[0m\u001b[38;5;249mg\u001b[0m\u001b[38;5;249ma\u001b[0m\u001b[38;5;249mu\u001b[0m\u001b[38;5;249ms\u001b[0m\u001b[38;5;249ms\u001b[0m\u001b[38;5;249mi\u001b[0m\u001b[38;5;249ma\u001b[0m\u001b[38;5;249mn\u001b[0m\u001b[38;5;249m(\u001b[0m\u001b[38;5;54m*\u001b[0m\u001b[38;5;54mx\u001b[0m\u001b[38;5;54mi\u001b[0m\u001b[38;5;249m)\u001b[0m\u001b[38;5;249m)\u001b[0m\u001b[38;5;249m;\u001b[0m",
      " \u001b[38;5;240m   │\u001b[0m                                                  \u001b[38;5;54m─\u001b[0m\u001b[38;5;54m┬\u001b[0m\u001b[38;5;54m─\u001b[0m  ",
      " \u001b[38;5;240m   │\u001b[0m                                                   \u001b[38;5;54m╰\u001b[0m\u001b[38;5;54m─\u001b[0m\u001b[38;5;54m─\u001b[0m\u001b[38;5;54m─\u001b[0m can't be dereferenced",
      "\u001b[38;5;246m────╯\u001b[0m"
     ]
    }
   ],
   "source": [
    "{\n",
    "    // Visualize the Gaussian and integration approximations using range macro\n",
    "    let gaussian = |x: f64| (-0.5 * x * x).exp() / (2.0 * PI).sqrt();\n",
    "    \n",
    "    let x = range!(-4.0 => 4.0, 200);\n",
    "    let y = (&x).map(|xi| gaussian(*xi));\n",
    "    \n",
    "    // Create trapezoidal approximation with coarse intervals\n",
    "    let x_coarse = range!(-3.0 => 3.0, 13);\n",
    "    let y_coarse = (&x_coarse).map(|xi| gaussian(*xi));\n",
    "    \n",
    "    Plot::new()\n",
    "        .line_with(&x, &y, \"Gaussian PDF\")\n",
    "        .line_with(&x_coarse, &y_coarse, \"Trapezoidal Approx\")\n",
    "        .scatter_with(&x_coarse, &y_coarse, \"Sample Points\")\n",
    "        .title(\"Gaussian Distribution and Trapezoidal Approximation\")\n",
    "        .xlabel(\"x\")\n",
    "        .ylabel(\"Probability Density\")\n",
    "        .legend(true)\n",
    "        .grid(true)\n",
    "        .show()?;\n",
    "    \n",
    "    // Calculate the approximation error\n",
    "    let exact_area = romberg(gaussian, -3.0, 3.0, 1e-10, 20)?; // Add max_iterations parameter\n",
    "    let approx_area = trapz(gaussian, -3.0, 3.0, 12)?;\n",
    "    let error = (exact_area - approx_area).abs();\n",
    "    \n",
    "    println!(\"Area [-3,3]: exact = {:.8}, approx = {:.8}, error = {:.2e}\", \n",
    "             exact_area, approx_area, error);\n",
    "}"
   ]
  },
  {
   "cell_type": "markdown",
   "metadata": {},
   "source": [
    "## 9. Error Analysis and Adaptive Strategies\n",
    "\n",
    "Understanding when to use different methods based on function characteristics."
   ]
  },
  {
   "cell_type": "code",
   "execution_count": 12,
   "metadata": {},
   "outputs": [
    {
     "name": "stdout",
     "output_type": "stream",
     "text": [
      "Method Comparison for Different Function Types:\n",
      "Function             Trapz Error  Simp Error   Efficiency  \n",
      "Smooth: sin(x)       1.64e-4      1.08e-8      15196.6     \n",
      "Polynomial: x⁴       3.33e-5      1.33e-9      24999.8     \n",
      "Exponential: e^x     1.43e-5      9.55e-11     150001.2    \n",
      "Sharp peak: e^(-x²)  8.31e-3      8.29e-3      1.0         \n",
      "\n",
      "Efficiency > 1 means Simpson's rule is better\n"
     ]
    },
    {
     "data": {
      "text/plain": [
       "()"
      ]
     },
     "execution_count": 12,
     "metadata": {},
     "output_type": "execute_result"
    }
   ],
   "source": [
    "{\n",
    "    // Test functions with different smoothness properties\n",
    "    println!(\"Method Comparison for Different Function Types:\");\n",
    "    println!(\"{:<20} {:<12} {:<12} {:<12}\", \"Function\", \"Trapz Error\", \"Simp Error\", \"Efficiency\");\n",
    "    \n",
    "    // Test each function separately to avoid closure type issues\n",
    "    let n = 100;\n",
    "    \n",
    "    // Smooth function: sin(x)\n",
    "    let f1 = |x: f64| x.sin();\n",
    "    let exact1 = 2.0;\n",
    "    let trap1 = trapz(f1, 0.0, PI, n)?;\n",
    "    let simp1 = simpson(f1, 0.0, PI, n)?;\n",
    "    let trap_err1 = (trap1 - exact1).abs();\n",
    "    let simp_err1 = (simp1 - exact1).abs();\n",
    "    let eff1 = trap_err1 / simp_err1;\n",
    "    println!(\"{:<20} {:<12.2e} {:<12.2e} {:<12.1}\", \"Smooth: sin(x)\", trap_err1, simp_err1, eff1);\n",
    "    \n",
    "    // Polynomial: x⁴\n",
    "    let f2 = |x: f64| x.powi(4);\n",
    "    let exact2 = 0.2;\n",
    "    let trap2 = trapz(f2, 0.0, 1.0, n)?;\n",
    "    let simp2 = simpson(f2, 0.0, 1.0, n)?;\n",
    "    let trap_err2 = (trap2 - exact2).abs();\n",
    "    let simp_err2 = (simp2 - exact2).abs();\n",
    "    let eff2 = trap_err2 / simp_err2;\n",
    "    println!(\"{:<20} {:<12.2e} {:<12.2e} {:<12.1}\", \"Polynomial: x⁴\", trap_err2, simp_err2, eff2);\n",
    "    \n",
    "    // Exponential: e^x\n",
    "    let f3 = |x: f64| x.exp();\n",
    "    let exact3 = 1.0_f64.exp() - 1.0;\n",
    "    let trap3 = trapz(f3, 0.0, 1.0, n)?;\n",
    "    let simp3 = simpson(f3, 0.0, 1.0, n)?;\n",
    "    let trap_err3 = (trap3 - exact3).abs();\n",
    "    let simp_err3 = (simp3 - exact3).abs();\n",
    "    let eff3 = trap_err3 / simp_err3;\n",
    "    println!(\"{:<20} {:<12.2e} {:<12.2e} {:<12.1}\", \"Exponential: e^x\", trap_err3, simp_err3, eff3);\n",
    "    \n",
    "    // Sharp peak: e^(-x²)\n",
    "    let f4 = |x: f64| (-x*x).exp();\n",
    "    let exact4 = PI.sqrt();\n",
    "    let trap4 = trapz(f4, -2.0, 2.0, n)?;\n",
    "    let simp4 = simpson(f4, -2.0, 2.0, n)?;\n",
    "    let trap_err4 = (trap4 - exact4).abs();\n",
    "    let simp_err4 = (simp4 - exact4).abs();\n",
    "    let eff4 = trap_err4 / simp_err4;\n",
    "    println!(\"{:<20} {:<12.2e} {:<12.2e} {:<12.1}\", \"Sharp peak: e^(-x²)\", trap_err4, simp_err4, eff4);\n",
    "    \n",
    "    println!(\"\\nEfficiency > 1 means Simpson's rule is better\");\n",
    "}"
   ]
  },
  {
   "cell_type": "markdown",
   "metadata": {},
   "source": [
    "## 10. Practical Integration Tips\n",
    "\n",
    "Guidelines for choosing the right integration method."
   ]
  },
  {
   "cell_type": "code",
   "execution_count": 13,
   "metadata": {},
   "outputs": [
    {
     "name": "stdout",
     "output_type": "stream",
     "text": [
      "Integration Method Selection Guide:\n",
      "\n",
      "Method               Result          Error           Relative Error \n",
      "Trapezoidal (100)    1.14779947      5.89e-6         5.13e-6        \n",
      "Trapezoidal (1000)   1.14779363      5.89e-8         5.13e-8        \n",
      "Simpson (100)        1.14779357      2.95e-11        2.57e-11       \n",
      "Simpson (1000)       1.14779357      1.11e-15        9.67e-16       \n",
      "Romberg (1e-6)       1.14779357      3.32e-10        2.90e-10       \n",
      "Romberg (1e-10)      1.14779357      4.44e-16        3.87e-16       \n",
      "\n",
      "Recommendations:\n",
      "• Use Trapezoidal for quick approximations and smooth functions\n",
      "• Use Simpson for better accuracy with moderate computational cost\n",
      "• Use Romberg for high precision requirements\n",
      "• Consider function smoothness when choosing intervals\n"
     ]
    },
    {
     "data": {
      "text/plain": [
       "()"
      ]
     },
     "execution_count": 13,
     "metadata": {},
     "output_type": "execute_result"
    }
   ],
   "source": [
    "{\n",
    "    println!(\"Integration Method Selection Guide:\");\n",
    "    println!();\n",
    "    \n",
    "    // Demonstrate computational cost vs accuracy trade-off\n",
    "    let f = |x: f64| (x * x + 1.0).sqrt();\n",
    "    let exact = 0.5 * (2.0_f64.sqrt() + (1.0 + 2.0_f64.sqrt()).ln()); // Analytical result\n",
    "    \n",
    "    println!(\"{:<20} {:<15} {:<15} {:<15}\", \"Method\", \"Result\", \"Error\", \"Relative Error\");\n",
    "    \n",
    "    // Test each method separately to avoid closure type issues\n",
    "    let trap_100 = trapz(f, 0.0, 1.0, 100)?;\n",
    "    let trap_err_100 = (trap_100 - exact).abs();\n",
    "    let trap_rel_100 = trap_err_100 / exact.abs();\n",
    "    println!(\"{:<20} {:<15.8} {:<15.2e} {:<15.2e}\", \"Trapezoidal (100)\", trap_100, trap_err_100, trap_rel_100);\n",
    "    \n",
    "    let trap_1000 = trapz(f, 0.0, 1.0, 1000)?;\n",
    "    let trap_err_1000 = (trap_1000 - exact).abs();\n",
    "    let trap_rel_1000 = trap_err_1000 / exact.abs();\n",
    "    println!(\"{:<20} {:<15.8} {:<15.2e} {:<15.2e}\", \"Trapezoidal (1000)\", trap_1000, trap_err_1000, trap_rel_1000);\n",
    "    \n",
    "    let simp_100 = simpson(f, 0.0, 1.0, 100)?;\n",
    "    let simp_err_100 = (simp_100 - exact).abs();\n",
    "    let simp_rel_100 = simp_err_100 / exact.abs();\n",
    "    println!(\"{:<20} {:<15.8} {:<15.2e} {:<15.2e}\", \"Simpson (100)\", simp_100, simp_err_100, simp_rel_100);\n",
    "    \n",
    "    let simp_1000 = simpson(f, 0.0, 1.0, 1000)?;\n",
    "    let simp_err_1000 = (simp_1000 - exact).abs();\n",
    "    let simp_rel_1000 = simp_err_1000 / exact.abs();\n",
    "    println!(\"{:<20} {:<15.8} {:<15.2e} {:<15.2e}\", \"Simpson (1000)\", simp_1000, simp_err_1000, simp_rel_1000);\n",
    "    \n",
    "    let romberg_6 = romberg(f, 0.0, 1.0, 1e-6, 20)?; // Add max_iterations parameter\n",
    "    let romberg_err_6 = (romberg_6 - exact).abs();\n",
    "    let romberg_rel_6 = romberg_err_6 / exact.abs();\n",
    "    println!(\"{:<20} {:<15.8} {:<15.2e} {:<15.2e}\", \"Romberg (1e-6)\", romberg_6, romberg_err_6, romberg_rel_6);\n",
    "    \n",
    "    let romberg_10 = romberg(f, 0.0, 1.0, 1e-10, 20)?; // Add max_iterations parameter\n",
    "    let romberg_err_10 = (romberg_10 - exact).abs();\n",
    "    let romberg_rel_10 = romberg_err_10 / exact.abs();\n",
    "    println!(\"{:<20} {:<15.8} {:<15.2e} {:<15.2e}\", \"Romberg (1e-10)\", romberg_10, romberg_err_10, romberg_rel_10);\n",
    "    \n",
    "    println!();\n",
    "    println!(\"Recommendations:\");\n",
    "    println!(\"• Use Trapezoidal for quick approximations and smooth functions\");\n",
    "    println!(\"• Use Simpson for better accuracy with moderate computational cost\");\n",
    "    println!(\"• Use Romberg for high precision requirements\");\n",
    "    println!(\"• Consider function smoothness when choosing intervals\");\n",
    "}"
   ]
  },
  {
   "cell_type": "markdown",
   "metadata": {},
   "source": [
    "## Summary\n",
    "\n",
    "This notebook demonstrated:\n",
    "\n",
    "1. **Trapezoidal Rule**: Simple, O(h²) accuracy, good for quick estimates\n",
    "2. **Simpson's Rule**: Higher O(h⁴) accuracy with parabolic approximation\n",
    "3. **Romberg Integration**: Adaptive method with Richardson extrapolation\n",
    "4. **Convergence Analysis**: Understanding error behavior and method selection\n",
    "5. **Performance Trade-offs**: Balancing accuracy and computational cost\n",
    "6. **Practical Applications**: Real-world integration problems\n",
    "\n",
    "### Key Takeaways:\n",
    "\n",
    "- **Method Selection**: Choose based on required accuracy and computational budget\n",
    "- **Function Properties**: Smooth functions converge faster with fewer intervals\n",
    "- **Error Scaling**: Simpson's rule has O(h⁴) vs trapezoidal's O(h²) convergence\n",
    "- **Adaptive Methods**: Romberg integration automatically refines for target accuracy\n",
    "- **Oscillatory Functions**: Require sufficient sampling to capture behavior\n",
    "\n",
    "### Ergonomic Macros Used:\n",
    "\n",
    "- `vec64![...]` for creating vectors with natural syntax\n",
    "- `range!(start => end, n)` for generating linearly spaced data\n",
    "- Proper plotting API with `.line_with()`, `.scatter_with()`, and `.legend(true)`\n",
    "\n",
    "### Best Practices:\n",
    "\n",
    "1. Start with Simpson's rule for general-purpose integration\n",
    "2. Use Romberg for high-precision requirements\n",
    "3. Increase intervals for oscillatory or discontinuous functions\n",
    "4. Monitor convergence to validate results\n",
    "5. Consider analytical solutions when available for verification\n",
    "\n",
    "### Next Steps:\n",
    "\n",
    "- Explore multi-dimensional integration techniques\n",
    "- Study Monte Carlo integration methods\n",
    "- Learn about specialized quadrature rules (Gaussian, Chebyshev)\n",
    "- Investigate adaptive mesh refinement strategies"
   ]
  }
 ],
 "metadata": {
  "kernelspec": {
   "display_name": "Rust",
   "language": "rust",
   "name": "rust"
  },
  "language_info": {
   "codemirror_mode": "rust",
   "file_extension": ".rs",
   "mimetype": "text/rust",
   "name": "Rust",
   "pygment_lexer": "rust",
   "version": ""
  }
 },
 "nbformat": 4,
 "nbformat_minor": 4
}
