{
 "cells": [
  {
   "cell_type": "markdown",
   "metadata": {},
   "source": [
    "# Parameter Constraints and Bounds in Optimization\n",
    "\n",
    "Real-world optimization problems often require **constraints** on parameters:\n",
    "- **Physical limits**: Concentrations must be positive\n",
    "- **Engineering constraints**: Dimensions within manufacturing tolerances\n",
    "- **Mathematical requirements**: Probabilities sum to 1\n",
    "- **Domain knowledge**: Reaction rates within known ranges\n",
    "\n",
    "This notebook explores RustLab-Optimize's powerful constraint handling:\n",
    "1. **Box bounds** - Simple upper/lower limits\n",
    "2. **Parameter fixing** - Holding values constant\n",
    "3. **Transformation techniques** - Log-space optimization\n",
    "4. **Complex constraints** - Combining multiple requirements\n",
    "5. **Algorithm behavior** - How solvers handle constraints\n",
    "\n",
    "**Note**: This notebook uses a simplified approach to avoid rust-analyzer warnings."
   ]
  },
  {
   "cell_type": "markdown",
   "metadata": {},
   "source": [
    "## Setup"
   ]
  },
  {
   "cell_type": "code",
   "execution_count": 14,
   "metadata": {},
   "outputs": [
    {
     "name": "stdout",
     "output_type": "stream",
     "text": [
      "Setup complete! Ready to explore constraints.\n"
     ]
    }
   ],
   "source": [
    "// Load required crates\n",
    ":dep rustlab-math = { path = \"../../rustlab-math\" }\n",
    ":dep rustlab-optimize = { path = \"..\" }\n",
    "\n",
    "use rustlab_optimize::prelude::*;\n",
    "use rustlab_math::linspace;\n",
    "\n",
    "let msg = \"Setup complete! Ready to explore constraints.\";\n",
    "println!(\"{}\", msg);"
   ]
  },
  {
   "cell_type": "markdown",
   "metadata": {},
   "source": [
    "## 1. Box Bounds - Keeping Parameters in Valid Ranges\n",
    "\n",
    "**Box bounds** are the simplest constraints: each parameter has a lower and upper limit.\n",
    "\n",
    "$$\\text{minimize } f(x) \\text{ subject to } l_i \\leq x_i \\leq u_i$$\n",
    "\n",
    "### Example: Chemical Reaction Rate\n",
    "\n",
    "Fitting the power law: $\\text{rate} = k \\cdot [A]^n$\n",
    "- Physical constraint: $k > 0$ (rate constant must be positive)\n",
    "- Chemical constraint: $0 < n < 3$ (reaction order typically between 0 and 3)"
   ]
  },
  {
   "cell_type": "code",
   "execution_count": 15,
   "metadata": {},
   "outputs": [
    {
     "name": "stdout",
     "output_type": "stream",
     "text": [
      "Reaction Rate Data:\n",
      "[A] (M)\tRate (M/s)\n",
      "0.1\t0.05\n",
      "0.5\t0.22\n",
      "1.0\t0.40\n",
      "2.0\t0.71\n",
      "5.0\t1.41\n",
      "\n",
      "Model: rate = k * [A]^n\n",
      "Rate model defined successfully!\n"
     ]
    },
    {
     "data": {
      "text/plain": [
       "()"
      ]
     },
     "execution_count": 15,
     "metadata": {},
     "output_type": "execute_result"
    }
   ],
   "source": [
    "// Experimental data: concentration vs reaction rate\n",
    "{\n",
    "    fn create_reaction_data() -> (Vec<f64>, Vec<f64>) {\n",
    "        let concentrations = vec![0.1, 0.5, 1.0, 2.0, 5.0];\n",
    "        let rates = vec![0.05, 0.22, 0.40, 0.71, 1.41];\n",
    "        (concentrations, rates)\n",
    "    }\n",
    "\n",
    "    fn create_rate_model(concentrations: Vec<f64>, rates: Vec<f64>) -> impl Fn(&[f64]) -> f64 {\n",
    "        move |params: &[f64]| {\n",
    "            let k_val = params[0];\n",
    "            let n_val = params[1];\n",
    "            concentrations.iter().zip(rates.iter())\n",
    "                .map(|(&conc, &rate)| {\n",
    "                    let predicted = k_val * (conc as f64).powf(n_val);\n",
    "                    (rate - predicted).powi(2)\n",
    "                })\n",
    "                .sum::<f64>()\n",
    "        }\n",
    "    }\n",
    "\n",
    "    let (concentrations, rates) = create_reaction_data();\n",
    "    let rate_model = create_rate_model(concentrations.clone(), rates.clone());\n",
    "\n",
    "    let header = \"Reaction Rate Data:\";\n",
    "    let subheader = \"[A] (M)\\tRate (M/s)\";\n",
    "    println!(\"{}\", header);\n",
    "    println!(\"{}\", subheader);\n",
    "\n",
    "    for (conc, rate) in concentrations.iter().zip(rates.iter()) {\n",
    "        let line = format!(\"{:.1}\\t{:.2}\", conc, rate);\n",
    "        println!(\"{}\", line);\n",
    "    }\n",
    "\n",
    "    let model_info = \"\\nModel: rate = k * [A]^n\";\n",
    "    println!(\"{}\", model_info);\n",
    "    let success_msg = \"Rate model defined successfully!\";\n",
    "    println!(\"{}\", success_msg);\n",
    "}"
   ]
  },
  {
   "cell_type": "code",
   "execution_count": 16,
   "metadata": {},
   "outputs": [
    {
     "name": "stdout",
     "output_type": "stream",
     "text": [
      "Unbounded: k = 0.014, n = -1.064\n",
      "Bounded:   k = 0.010, n = 0.100\n",
      "Bounds ensure physically meaningful parameters\n"
     ]
    },
    {
     "data": {
      "text/plain": [
       "()"
      ]
     },
     "execution_count": 16,
     "metadata": {},
     "output_type": "execute_result"
    }
   ],
   "source": [
    "{\n",
    "    // Re-define helper functions for this cell\n",
    "    fn create_reaction_data() -> (Vec<f64>, Vec<f64>) {\n",
    "        let concentrations = vec![0.1, 0.5, 1.0, 2.0, 5.0];\n",
    "        let rates = vec![0.05, 0.22, 0.40, 0.71, 1.41];\n",
    "        (concentrations, rates)\n",
    "    }\n",
    "\n",
    "    fn create_rate_model(concentrations: Vec<f64>, rates: Vec<f64>) -> impl Fn(&[f64]) -> f64 {\n",
    "        move |params: &[f64]| {\n",
    "            let k_val = params[0];\n",
    "            let n_val = params[1];\n",
    "            concentrations.iter().zip(rates.iter())\n",
    "                .map(|(&conc, &rate)| {\n",
    "                    let predicted = k_val * (conc as f64).powf(n_val);\n",
    "                    (rate - predicted).powi(2)\n",
    "                })\n",
    "                .sum::<f64>()\n",
    "        }\n",
    "    }\n",
    "\n",
    "    // Compare unbounded vs bounded optimization\n",
    "    let (concentrations, rates) = create_reaction_data();\n",
    "\n",
    "    // Unbounded optimization\n",
    "    let unbounded_model = create_rate_model(concentrations.clone(), rates.clone());\n",
    "    let unbounded_result = minimize(unbounded_model)\n",
    "        .from(&[1.0, 1.0])\n",
    "        .solve()?;\n",
    "\n",
    "    // Bounded optimization  \n",
    "    let bounded_model = create_rate_model(concentrations, rates);\n",
    "    let bounded_result = minimize(bounded_model)\n",
    "        .from(&[1.0, 1.0])\n",
    "        .bounds(&[0.01, 0.1], &[10.0, 3.0])  // k ∈ [0.01, 10], n ∈ [0.1, 3]\n",
    "        .solve()?;\n",
    "\n",
    "    let unbounded_k = unbounded_result.solution[0];\n",
    "    let unbounded_n = unbounded_result.solution[1];\n",
    "    let bounded_k = bounded_result.solution[0];\n",
    "    let bounded_n = bounded_result.solution[1];\n",
    "\n",
    "    println!(\"Unbounded: k = {:.3}, n = {:.3}\", unbounded_k, unbounded_n);\n",
    "    println!(\"Bounded:   k = {:.3}, n = {:.3}\", bounded_k, bounded_n);\n",
    "\n",
    "    if unbounded_k < 0.0 {\n",
    "        println!(\"Warning: Unbounded optimization gave negative rate constant\");\n",
    "    }\n",
    "\n",
    "    println!(\"Bounds ensure physically meaningful parameters\");\n",
    "}"
   ]
  },
  {
   "cell_type": "markdown",
   "metadata": {},
   "source": [
    "## 2. Parameter Fixing - Reducing Problem Dimensionality\n",
    "\n",
    "Sometimes we know certain parameter values from:\n",
    "- **Prior experiments**\n",
    "- **Physical measurements** \n",
    "- **Calibration standards**\n",
    "\n",
    "Fixing these parameters:\n",
    "- ✅ Reduces optimization complexity\n",
    "- ✅ Improves convergence speed\n",
    "- ✅ Prevents overfitting\n",
    "\n",
    "### Example: Calibration Curve with Known Offset"
   ]
  },
  {
   "cell_type": "code",
   "execution_count": 17,
   "metadata": {},
   "outputs": [
    {
     "name": "stdout",
     "output_type": "stream",
     "text": [
      "Fixed c=10.0: y = 2.471x² + 0.900x + 10.0\n",
      "Free c:       y = 2.571x² + 0.900x + 9.657\n",
      "Fixed optimization used 6 iterations\n",
      "Full optimization used 9 iterations\n",
      "Optimizer found c = 9.657, different from known value\n"
     ]
    },
    {
     "data": {
      "text/plain": [
       "()"
      ]
     },
     "execution_count": 17,
     "metadata": {},
     "output_type": "execute_result"
    }
   ],
   "source": [
    "{\n",
    "    // Re-define helper functions for this cell\n",
    "    fn create_calibration_data() -> (Vec<f64>, Vec<f64>) {\n",
    "        let x_calib = vec![-2.0, -1.0, 0.0, 1.0, 2.0];\n",
    "        let y_calib = vec![18.0, 11.5, 10.0, 12.5, 22.0];\n",
    "        (x_calib, y_calib)\n",
    "    }\n",
    "\n",
    "    fn create_quadratic_fixed(x_data: Vec<f64>, y_data: Vec<f64>) -> impl Fn(&[f64]) -> f64 {\n",
    "        move |params: &[f64]| {\n",
    "            let a_val = params[0];\n",
    "            let b_val = params[1];\n",
    "            let c_val = 10.0;  // FIXED parameter\n",
    "            \n",
    "            x_data.iter().zip(y_data.iter())\n",
    "                .map(|(&x, &y)| {\n",
    "                    let predicted = a_val * x * x + b_val * x + c_val;\n",
    "                    (y - predicted).powi(2)\n",
    "                })\n",
    "                .sum::<f64>()\n",
    "        }\n",
    "    }\n",
    "\n",
    "    fn create_quadratic_full(x_data: Vec<f64>, y_data: Vec<f64>) -> impl Fn(&[f64]) -> f64 {\n",
    "        move |params: &[f64]| {\n",
    "            let a_val = params[0];\n",
    "            let b_val = params[1];\n",
    "            let c_val = params[2];  // FREE parameter\n",
    "            \n",
    "            x_data.iter().zip(y_data.iter())\n",
    "                .map(|(&x, &y)| {\n",
    "                    let predicted = a_val * x * x + b_val * x + c_val;\n",
    "                    (y - predicted).powi(2)\n",
    "                })\n",
    "                .sum::<f64>()\n",
    "        }\n",
    "    }\n",
    "\n",
    "    let (x_calib, y_calib) = create_calibration_data();\n",
    "\n",
    "    // Fixed parameter optimization (2 variables)\n",
    "    let fixed_model = create_quadratic_fixed(x_calib.clone(), y_calib.clone());\n",
    "    let fixed_result = minimize(fixed_model)\n",
    "        .from(&[1.0, 0.0])\n",
    "        .solve()?;\n",
    "\n",
    "    // Full optimization (3 variables)  \n",
    "    let full_model = create_quadratic_full(x_calib, y_calib);\n",
    "    let full_result = minimize(full_model)\n",
    "        .from(&[1.0, 0.0, 10.0])\n",
    "        .solve()?;\n",
    "\n",
    "    let fixed_a = fixed_result.solution[0];\n",
    "    let fixed_b = fixed_result.solution[1];\n",
    "    let full_a = full_result.solution[0];\n",
    "    let full_b = full_result.solution[1];\n",
    "    let full_c = full_result.solution[2];\n",
    "\n",
    "    println!(\"Fixed c=10.0: y = {:.3}x² + {:.3}x + 10.0\", fixed_a, fixed_b);\n",
    "    println!(\"Free c:       y = {:.3}x² + {:.3}x + {:.3}\", full_a, full_b, full_c);\n",
    "    println!(\"Fixed optimization used {} iterations\", fixed_result.iterations);\n",
    "    println!(\"Full optimization used {} iterations\", full_result.iterations);\n",
    "\n",
    "    let c_error = (full_c - 10.0).abs();\n",
    "    if c_error < 0.01 {\n",
    "        println!(\"Optimizer correctly found c ≈ 10.0\");\n",
    "    } else {\n",
    "        println!(\"Optimizer found c = {:.3}, different from known value\", full_c);\n",
    "    }\n",
    "}"
   ]
  },
  {
   "cell_type": "markdown",
   "metadata": {},
   "source": [
    "## 3. Wide Parameter Ranges and Transformations\n",
    "\n",
    "When parameters span **multiple orders of magnitude** (e.g., $10^{-6}$ to $10^{3}$), standard optimization can struggle.\n",
    "\n",
    "**Solution**: RustLab-Optimize uses **logarithmic transformations** internally:\n",
    "\n",
    "$$x_{\\text{unbounded}} = \\log\\left(\\frac{x - l}{u - x}\\right)$$\n",
    "\n",
    "This transformation:\n",
    "- Maps bounded domain $[l, u]$ to unbounded $(-\\infty, +\\infty)$\n",
    "- Improves numerical stability\n",
    "- Handles wide parameter ranges effectively"
   ]
  },
  {
   "cell_type": "code",
   "execution_count": 18,
   "metadata": {},
   "outputs": [
    {
     "name": "stdout",
     "output_type": "stream",
     "text": [
      "Wide Range Optimization:\n",
      "True:   A = 50.0, k = 1.0\n",
      "Fitted: A = 44.58, k = 0.925\n",
      "Converged in 1000 iterations\n",
      "Successfully handled 6 orders of magnitude range!\n"
     ]
    },
    {
     "data": {
      "text/plain": [
       "()"
      ]
     },
     "execution_count": 18,
     "metadata": {},
     "output_type": "execute_result"
    }
   ],
   "source": [
    "{\n",
    "    // Re-define helper functions for this cell\n",
    "    fn create_exponential_data() -> (Vec<f64>, Vec<f64>) {\n",
    "        let t_decay = linspace(0.0, 5.0, 10);\n",
    "        let true_a = 50.0;\n",
    "        let true_k = 1.0;\n",
    "        \n",
    "        let y_decay: Vec<f64> = t_decay.to_vec().iter()\n",
    "            .map(|&t| true_a * (-true_k * t).exp() + 0.5 * (t * 2.0).sin())\n",
    "            .collect();\n",
    "        \n",
    "        (t_decay.to_vec(), y_decay)\n",
    "    }\n",
    "\n",
    "    fn create_decay_model(t_data: Vec<f64>, y_data: Vec<f64>) -> impl Fn(&[f64]) -> f64 {\n",
    "        move |params: &[f64]| {\n",
    "            let amp = params[0];\n",
    "            let decay_rate = params[1];\n",
    "            \n",
    "            t_data.iter().zip(y_data.iter())\n",
    "                .map(|(&t, &y)| {\n",
    "                    let predicted = amp * (-decay_rate * t).exp();\n",
    "                    (y - predicted).powi(2)\n",
    "                })\n",
    "                .sum::<f64>()\n",
    "        }\n",
    "    }\n",
    "\n",
    "    let (t_decay, y_decay) = create_exponential_data();\n",
    "    let decay_model = create_decay_model(t_decay, y_decay);\n",
    "\n",
    "    // Optimize with wide bounds (6 orders of magnitude)\n",
    "    let result = minimize(decay_model)\n",
    "        .from(&[10.0, 0.5])\n",
    "        .bounds(&[0.001, 0.01], &[1000.0, 10.0])  // A ∈ [0.001, 1000], k ∈ [0.01, 10]\n",
    "        .tolerance(1e-10)\n",
    "        .solve()?;\n",
    "\n",
    "    let fitted_a = result.solution[0];\n",
    "    let fitted_k = result.solution[1];\n",
    "\n",
    "    println!(\"Wide Range Optimization:\");\n",
    "    println!(\"True:   A = 50.0, k = 1.0\");\n",
    "    println!(\"Fitted: A = {:.2}, k = {:.3}\", fitted_a, fitted_k);\n",
    "    println!(\"Converged in {} iterations\", result.iterations);\n",
    "    println!(\"Successfully handled 6 orders of magnitude range!\");\n",
    "}"
   ]
  },
  {
   "cell_type": "markdown",
   "metadata": {},
   "source": [
    "## Summary and Best Practices\n",
    "\n",
    "### Key Takeaways\n",
    "\n",
    "1. **Box bounds** keep parameters physically meaningful\n",
    "2. **Parameter fixing** reduces complexity and improves convergence  \n",
    "3. **Transformations** handle wide parameter ranges automatically\n",
    "4. **Complex constraints** can be implemented via penalties or reparameterization\n",
    "5. **Algorithm choice** affects constraint handling behavior\n",
    "\n",
    "### Best Practices\n",
    "\n",
    "1. **Always use physical bounds** when parameters have natural limits\n",
    "2. **Fix known parameters** to reduce search space\n",
    "3. **Use penalties** for complex constraints like ordering\n",
    "4. **Start with reasonable initial guesses** within constraint bounds\n",
    "5. **Check constraint satisfaction** in final results\n",
    "\n",
    "### Next Steps\n",
    "\n",
    "- **[04_algorithm_selection.ipynb](04_algorithm_selection.ipynb)** - Deep dive into optimization algorithms\n",
    "- **[05_scientific_applications.ipynb](05_scientific_applications.ipynb)** - Real-world scientific problems\n",
    "\n",
    "**Try it yourself**: Apply these constraint techniques to your own optimization problems!\n",
    "\n",
    "```rust\n",
    "// Template for constrained optimization\n",
    "let result = minimize(your_model)\n",
    "    .from(&initial_guess)\n",
    "    .bounds(&lower_bounds, &upper_bounds)\n",
    "    .solve()?;\n",
    "```"
   ]
  }
 ],
 "metadata": {
  "kernelspec": {
   "display_name": "Rust",
   "language": "rust",
   "name": "rust"
  },
  "language_info": {
   "file_extension": ".rs",
   "mimetype": "text/rust",
   "name": "rust"
  }
 },
 "nbformat": 4,
 "nbformat_minor": 4
}
