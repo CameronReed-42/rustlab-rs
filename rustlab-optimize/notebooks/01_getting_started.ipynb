{
 "cells": [
  {
   "cell_type": "markdown",
   "metadata": {},
   "source": [
    "# Getting Started with RustLab-Optimize\n",
    "\n",
    "Welcome to RustLab-Optimize! This notebook introduces you to the fundamentals of optimization using Rust's clean, math-first API. We'll cover:\n",
    "\n",
    "1. **Simple 1D Optimization** - Finding minima of single-variable functions\n",
    "2. **2D Optimization** - The classic Rosenbrock function\n",
    "3. **N-Dimensional Problems** - Scaling to multiple variables\n",
    "4. **Algorithm Selection** - Choosing the right optimization method\n",
    "5. **Understanding Convergence** - Tuning optimization parameters\n",
    "6. **Handling Failures** - What to do when optimization doesn't work\n",
    "\n",
    "## Prerequisites\n",
    "\n",
    "This notebook assumes you have:\n",
    "- Basic understanding of mathematical optimization\n",
    "- Familiarity with Rust syntax\n",
    "- The `rustlab-optimize` crate and its dependencies installed\n",
    "\n",
    "**Note**: This notebook uses best practices for rust-analyzer and evcxr compatibility."
   ]
  },
  {
   "cell_type": "markdown",
   "metadata": {},
   "source": [
    "## Setup and Imports\n",
    "\n",
    "First, let's import the necessary modules:"
   ]
  },
  {
   "cell_type": "code",
   "execution_count": 2,
   "metadata": {
    "vscode": {
     "languageId": "rust"
    }
   },
   "outputs": [
    {
     "name": "stdout",
     "output_type": "stream",
     "text": [
      "Setup complete! Ready to explore optimization.\n"
     ]
    }
   ],
   "source": [
    "// Load the required crates\n",
    ":dep rustlab-math = { path = \"../../rustlab-math\" }\n",
    ":dep rustlab-optimize = { path = \"..\" }\n",
    "\n",
    "use rustlab_optimize::prelude::*;\n",
    "use rustlab_math::linspace;\n",
    "use std::f64::consts::PI;\n",
    "\n",
    "let setup_msg = \"Setup complete! Ready to explore optimization.\";\n",
    "println!(\"{}\", setup_msg);"
   ]
  },
  {
   "cell_type": "markdown",
   "metadata": {},
   "source": [
    "## 1. Simple 1D Optimization\n",
    "\n",
    "Let's start with the simplest case: finding the minimum of a single-variable function.\n",
    "\n",
    "We'll optimize the function $f(x) = (x - 3)^2 + 1$, which has its minimum at $x = 3$ with value $f(3) = 1$."
   ]
  },
  {
   "cell_type": "code",
   "execution_count": 3,
   "metadata": {
    "vscode": {
     "languageId": "rust"
    }
   },
   "outputs": [
    {
     "name": "stdout",
     "output_type": "stream",
     "text": [
      "=== 1D Optimization Example ===\n",
      "\n",
      "Function: f(x) = (x - 3)² + 1\n",
      "Minimum found at x = 3.000000\n",
      "Minimum value: f(3.000000) = 1.000000\n",
      "Expected minimum at x = 3.0\n",
      "✓ Test passed: Found minimum within tolerance\n"
     ]
    },
    {
     "data": {
      "text/plain": [
       "()"
      ]
     },
     "execution_count": 3,
     "metadata": {},
     "output_type": "execute_result"
    }
   ],
   "source": [
    "{\n",
    "    // Define a simple quadratic function\n",
    "    let f = |x: f64| (x - 3.0).powi(2) + 1.0;\n",
    "\n",
    "    let header = \"=== 1D Optimization Example ===\";\n",
    "    println!(\"{}\", header);\n",
    "    println!();\n",
    "    \n",
    "    let function_desc = \"Function: f(x) = (x - 3)² + 1\";\n",
    "    println!(\"{}\", function_desc);\n",
    "\n",
    "    // Find the minimum using rustlab-optimize's clean API\n",
    "    let x_min = minimize_1d(f).solve()?;\n",
    "\n",
    "    let result_msg = format!(\"Minimum found at x = {:.6}\", x_min);\n",
    "    println!(\"{}\", result_msg);\n",
    "    \n",
    "    let value_msg = format!(\"Minimum value: f({:.6}) = {:.6}\", x_min, f(x_min));\n",
    "    println!(\"{}\", value_msg);\n",
    "    \n",
    "    let expected_msg = \"Expected minimum at x = 3.0\";\n",
    "    println!(\"{}\", expected_msg);\n",
    "\n",
    "    // Verify our result\n",
    "    assert!((x_min - 3.0).abs() < 1e-6, \"Optimization should find x ≈ 3.0\");\n",
    "    let success_msg = \"✓ Test passed: Found minimum within tolerance\";\n",
    "    println!(\"{}\", success_msg);\n",
    "}"
   ]
  },
  {
   "cell_type": "markdown",
   "metadata": {},
   "source": [
    "### Adding Bounds\n",
    "\n",
    "What happens when we constrain the search space? Let's restrict our search to the interval $[0, 2]$:"
   ]
  },
  {
   "cell_type": "code",
   "execution_count": 4,
   "metadata": {
    "vscode": {
     "languageId": "rust"
    }
   },
   "outputs": [
    {
     "name": "stdout",
     "output_type": "stream",
     "text": [
      "\n",
      "=== With Bounds [0, 2] ===\n",
      "Minimum found at x = 1.999299\n",
      "Function value: f(1.999299) = 2.001402\n",
      "Note: True minimum is outside bounds, so we get boundary value\n"
     ]
    },
    {
     "name": "stderr",
     "output_type": "stream",
     "text": [
      "\n",
      "thread '<unnamed>' panicked at src/lib.rs:150:5:\n",
      "Should find minimum at boundary\n",
      "stack backtrace:\n",
      "   0: __rustc::rust_begin_unwind\n",
      "             at /rustc/9982d6462bedf1e793f7b2dbd655a4e57cdf67d4/library/std/src/panicking.rs:697:5\n",
      "   1: core::panicking::panic_fmt\n",
      "             at /rustc/9982d6462bedf1e793f7b2dbd655a4e57cdf67d4/library/core/src/panicking.rs:75:14\n",
      "   2: std::panic::catch_unwind\n",
      "   3: run_user_code_3\n",
      "   4: evcxr::runtime::Runtime::run_loop\n",
      "   5: evcxr::runtime::runtime_hook\n",
      "   6: evcxr_jupyter::main\n",
      "note: Some details are omitted, run with `RUST_BACKTRACE=full` for a verbose backtrace.\n"
     ]
    }
   ],
   "source": [
    "{\n",
    "    // Re-define function for this cell\n",
    "    let f = |x: f64| (x - 3.0).powi(2) + 1.0;\n",
    "    \n",
    "    // Optimize with bounds that exclude the true minimum\n",
    "    let x_min_bounded = minimize_1d(f)\n",
    "        .bounds(0.0, 2.0)  // Restrict search to [0, 2]\n",
    "        .solve()?;\n",
    "\n",
    "    println!();\n",
    "    let header = \"=== With Bounds [0, 2] ===\";\n",
    "    println!(\"{}\", header);\n",
    "    \n",
    "    let result_msg = format!(\"Minimum found at x = {:.6}\", x_min_bounded);\n",
    "    println!(\"{}\", result_msg);\n",
    "    \n",
    "    let value_msg = format!(\"Function value: f({:.6}) = {:.6}\", x_min_bounded, f(x_min_bounded));\n",
    "    println!(\"{}\", value_msg);\n",
    "    \n",
    "    let note_msg = \"Note: True minimum is outside bounds, so we get boundary value\";\n",
    "    println!(\"{}\", note_msg);\n",
    "\n",
    "    // The result should be at the right boundary since the function is decreasing towards x=3\n",
    "    assert!((x_min_bounded - 2.0).abs() < 1e-6, \"Should find minimum at boundary\");\n",
    "    let success_msg = \"✓ Test passed: Found boundary minimum\";\n",
    "    println!(\"{}\", success_msg);\n",
    "}"
   ]
  },
  {
   "cell_type": "markdown",
   "metadata": {},
   "source": [
    "## 2. Two-Dimensional Optimization\n",
    "\n",
    "Now let's tackle a more challenging problem: the **Rosenbrock function**. This is a classic test problem in optimization, known for its challenging \"banana-shaped\" valley.\n",
    "\n",
    "The Rosenbrock function is defined as:\n",
    "$$f(x, y) = (a - x)^2 + b(y - x^2)^2$$\n",
    "\n",
    "With $a = 1$ and $b = 100$, the global minimum is at $(x, y) = (1, 1)$ with value $f(1, 1) = 0$."
   ]
  },
  {
   "cell_type": "code",
   "execution_count": 5,
   "metadata": {
    "vscode": {
     "languageId": "rust"
    }
   },
   "outputs": [
    {
     "name": "stdout",
     "output_type": "stream",
     "text": [
      "\n",
      "=== 2D Optimization: Rosenbrock Function ===\n",
      "\n",
      "Starting from (-1.2, 1.0):\n",
      "  Found minimum at (1.000000, 1.000000)\n",
      "  Function value: 1.08e-17\n",
      "  Distance from true minimum (1, 1): 3.67e-9\n",
      "\n",
      "Starting from (0.0, 0.0):\n",
      "  Found minimum at (1.000000, 1.000000)\n",
      "  Function value: 4.57e-19\n",
      "  Distance from true minimum (1, 1): 1.39e-9\n",
      "\n",
      "Starting from (2.0, 2.0):\n",
      "  Found minimum at (1.000000, 1.000000)\n",
      "  Function value: 1.38e-15\n",
      "  Distance from true minimum (1, 1): 7.76e-8\n",
      "\n",
      "✓ All Rosenbrock tests passed!\n"
     ]
    },
    {
     "data": {
      "text/plain": [
       "()"
      ]
     },
     "execution_count": 5,
     "metadata": {},
     "output_type": "execute_result"
    }
   ],
   "source": [
    "{\n",
    "    // The famous Rosenbrock function - a challenging optimization problem\n",
    "    let rosenbrock = |x: f64, y: f64| {\n",
    "        let a = 1.0;\n",
    "        let b = 100.0;\n",
    "        (a - x).powi(2) + b * (y - x.powi(2)).powi(2)\n",
    "    };\n",
    "\n",
    "    println!();\n",
    "    let header = \"=== 2D Optimization: Rosenbrock Function ===\";\n",
    "    println!(\"{}\", header);\n",
    "    println!();\n",
    "\n",
    "    // Test different starting points to see convergence behavior\n",
    "    let starting_points = vec![\n",
    "        (-1.2, 1.0),   // Classic difficult starting point\n",
    "        (0.0, 0.0),     // Origin\n",
    "        (2.0, 2.0),     // Near the optimum\n",
    "    ];\n",
    "\n",
    "    for (x0, y0) in starting_points {\n",
    "        let (x, y) = minimize_2d(rosenbrock)\n",
    "            .from(x0, y0)\n",
    "            .tolerance(1e-8)\n",
    "            .solve()?;\n",
    "        \n",
    "        let start_msg = format!(\"Starting from ({:.1}, {:.1}):\", x0, y0);\n",
    "        println!(\"{}\", start_msg);\n",
    "        \n",
    "        let result_msg = format!(\"  Found minimum at ({:.6}, {:.6})\", x, y);\n",
    "        println!(\"{}\", result_msg);\n",
    "        \n",
    "        let value_msg = format!(\"  Function value: {:.2e}\", rosenbrock(x, y));\n",
    "        println!(\"{}\", value_msg);\n",
    "        \n",
    "        let distance_from_optimum = ((x - 1.0).powi(2) + (y - 1.0).powi(2)).sqrt();\n",
    "        let distance_msg = format!(\"  Distance from true minimum (1, 1): {:.2e}\", distance_from_optimum);\n",
    "        println!(\"{}\", distance_msg);\n",
    "        println!();\n",
    "        \n",
    "        // Verify convergence\n",
    "        assert!(distance_from_optimum < 1e-3, \"Should converge close to (1, 1)\");\n",
    "    }\n",
    "\n",
    "    let success_msg = \"✓ All Rosenbrock tests passed!\";\n",
    "    println!(\"{}\", success_msg);\n",
    "}"
   ]
  },
  {
   "cell_type": "markdown",
   "metadata": {},
   "source": [
    "## Summary and Next Steps\n",
    "\n",
    "🎉 **Congratulations!** You've learned the fundamentals of optimization with RustLab-Optimize:\n",
    "\n",
    "✅ **1D, 2D, and N-D optimization** with clean, mathematical syntax  \n",
    "✅ **Algorithm selection** - both automatic and manual  \n",
    "✅ **Convergence control** through tolerance and iteration limits  \n",
    "✅ **Bounds constraints** for restricted optimization  \n",
    "✅ **Error handling** for challenging problems  \n",
    "\n",
    "### 🔗 **What's Next?**\n",
    "\n",
    "Continue your optimization journey with these notebooks:\n",
    "\n",
    "- **[02_curve_fitting_fundamentals.ipynb](02_curve_fitting_fundamentals.ipynb)** - Fit exponential, polynomial, and sinusoidal models to data\n",
    "- **[03_parameter_constraints_clean.ipynb](03_parameter_constraints_clean.ipynb)** - Advanced bounds and parameter fixing\n",
    "- **[04_algorithm_selection.ipynb](04_algorithm_selection.ipynb)** - Deep dive into BFGS, Levenberg-Marquardt, and more\n",
    "- **[05_scientific_applications.ipynb](05_scientific_applications.ipynb)** - Real-world examples from pharmacokinetics, enzyme kinetics, and signal processing\n",
    "\n",
    "### 📚 **Additional Resources**\n",
    "\n",
    "- [RustLab-Optimize Documentation](../src/lib.rs)\n",
    "- [API Reference](https://docs.rs/rustlab-optimize)\n",
    "- [Example Gallery](../examples/)\n",
    "- [Rust Notebook Best Practices](./RUST_NOTEBOOK_BEST_PRACTICES.md)\n",
    "\n",
    "### 🚀 **Key API Patterns to Remember**\n",
    "\n",
    "```rust\n",
    "// 1D optimization\n",
    "let x = minimize_1d(|x| x.powi(2)).solve()?;\n",
    "\n",
    "// 2D optimization  \n",
    "let (x, y) = minimize_2d(|x, y| x*x + y*y).from(1.0, 1.0).solve()?;\n",
    "\n",
    "// N-D optimization with algorithm selection\n",
    "let result = minimize(objective)\n",
    "    .from(&initial)\n",
    "    .using_bfgs()\n",
    "    .bounds(&bounds)\n",
    "    .tolerance(1e-8)\n",
    "    .solve()?;\n",
    "```\n",
    "\n",
    "Happy optimizing! 🔍✨"
   ]
  }
 ],
 "metadata": {
  "kernelspec": {
   "display_name": "Rust",
   "language": "rust",
   "name": "rust"
  },
  "language_info": {
   "codemirror_mode": "rust",
   "file_extension": ".rs",
   "mimetype": "text/rust",
   "name": "Rust",
   "pygment_lexer": "rust",
   "version": ""
  }
 },
 "nbformat": 4,
 "nbformat_minor": 4
}
