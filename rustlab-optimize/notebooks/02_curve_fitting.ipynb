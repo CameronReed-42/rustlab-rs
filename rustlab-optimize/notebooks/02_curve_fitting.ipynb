{
 "cells": [
  {
   "cell_type": "markdown",
   "metadata": {},
   "source": [
    "# Curve Fitting Fundamentals\n",
    "\n",
    "This notebook demonstrates how to fit mathematical models to experimental data using RustLab-Optimize's curve fitting capabilities.\n",
    "\n",
    "## What You'll Learn\n",
    "\n",
    "1. **Linear Regression** - Fitting straight lines to data\n",
    "2. **Exponential Decay** - Modeling radioactive decay and chemical reactions  \n",
    "3. **Algorithm Selection** - Choosing between Levenberg-Marquardt and BFGS\n",
    "4. **Parameter Bounds** - Constraining fit parameters to physical ranges\n",
    "5. **Fit Quality Assessment** - Understanding R² and residuals\n",
    "\n",
    "**Note**: All cells follow best practices for rust-analyzer and evcxr compatibility."
   ]
  },
  {
   "cell_type": "code",
   "execution_count": 2,
   "metadata": {
    "vscode": {
     "languageId": "rust"
    }
   },
   "outputs": [
    {
     "name": "stdout",
     "output_type": "stream",
     "text": [
      "Curve fitting setup complete! Test vector length: 3\n"
     ]
    },
    {
     "data": {
      "text/plain": [
       "()"
      ]
     },
     "execution_count": 2,
     "metadata": {},
     "output_type": "execute_result"
    }
   ],
   "source": [
    "// Load the required crates\n",
    ":dep rustlab-math = { path = \"../../rustlab-math\" }\n",
    ":dep rustlab-optimize = { path = \"..\" }\n",
    "\n",
    "// Import at top level - should persist across cells\n",
    "use rustlab_optimize::prelude::*;\n",
    "use rustlab_math::{VectorF64, vec64};\n",
    "\n",
    "{\n",
    "    // Test if the macro import works\n",
    "    let test_vec = vec64![1.0, 2.0, 3.0];\n",
    "    \n",
    "    let setup_msg = format!(\"Curve fitting setup complete! Test vector length: {}\", test_vec.len());\n",
    "    println!(\"{}\", setup_msg);\n",
    "}"
   ]
  },
  {
   "cell_type": "markdown",
   "metadata": {},
   "source": [
    "## 1. Linear Regression\n",
    "\n",
    "Let's start with the simplest case: fitting a straight line $y = mx + b$ to data points.\n",
    "\n",
    "We'll create some synthetic data with noise and recover the original parameters."
   ]
  },
  {
   "cell_type": "code",
   "execution_count": 3,
   "metadata": {
    "vscode": {
     "languageId": "rust"
    }
   },
   "outputs": [
    {
     "name": "stdout",
     "output_type": "stream",
     "text": [
      "=== Linear Regression Example ===\n",
      "\n",
      "Model: y = mx + b\n",
      "True parameters: m = 2.5, b = 1.2\n",
      "\n",
      "Fitted parameters: m = 2.511, b = 1.171\n",
      "Objective value: 0.037714\n",
      "✓ Linear regression test passed!\n"
     ]
    },
    {
     "data": {
      "text/plain": [
       "()"
      ]
     },
     "execution_count": 3,
     "metadata": {},
     "output_type": "execute_result"
    }
   ],
   "source": [
    "{\n",
    "    // Create synthetic linear data: y = 2.5x + 1.2 + noise\n",
    "    fn create_linear_data() -> (VectorF64, VectorF64) {\n",
    "        let x_values = vec64![0.0, 1.0, 2.0, 3.0, 4.0, 5.0];\n",
    "        let y_values = vec64![1.3, 3.6, 6.1, 8.7, 11.2, 13.8]; // ~2.5x + 1.2 with small noise\n",
    "        (x_values, y_values)\n",
    "    }\n",
    "\n",
    "    let (x_data, y_data) = create_linear_data();\n",
    "\n",
    "    let header_msg = \"=== Linear Regression Example ===\";\n",
    "    println!(\"{}\", header_msg);\n",
    "    println!();\n",
    "\n",
    "    let model_msg = \"Model: y = mx + b\";\n",
    "    println!(\"{}\", model_msg);\n",
    "    \n",
    "    let true_msg = \"True parameters: m = 2.5, b = 1.2\";\n",
    "    println!(\"{}\", true_msg);\n",
    "    println!();\n",
    "\n",
    "    // Define linear model: f(x, params) -> y\n",
    "    let linear_model = |x: f64, params: &[f64]| {\n",
    "        let m = params[0];  // slope\n",
    "        let b = params[1];  // intercept\n",
    "        m * x + b\n",
    "    };\n",
    "\n",
    "    // Use curve_fit for ergonomic VectorF64 support with proper LM interface\n",
    "    let result = curve_fit(&x_data, &y_data, linear_model)\n",
    "        .with_initial(&[1.0, 0.0])  // Initial guess\n",
    "        .solve()?;\n",
    "\n",
    "    let fitted_m = result.solution[0];\n",
    "    let fitted_b = result.solution[1];\n",
    "\n",
    "    let fit_msg = format!(\"Fitted parameters: m = {:.3}, b = {:.3}\", fitted_m, fitted_b);\n",
    "    println!(\"{}\", fit_msg);\n",
    "    \n",
    "    let cost_msg = format!(\"Objective value: {:.6}\", result.objective_value);\n",
    "    println!(\"{}\", cost_msg);\n",
    "\n",
    "    // Verify the fit quality  \n",
    "    assert!((fitted_m - 2.5).abs() < 0.1, \"Slope should be close to 2.5\");\n",
    "    assert!((fitted_b - 1.2).abs() < 0.2, \"Intercept should be close to 1.2\");\n",
    "\n",
    "    let success_msg = \"✓ Linear regression test passed!\";\n",
    "    println!(\"{}\", success_msg);\n",
    "}"
   ]
  },
  {
   "cell_type": "markdown",
   "metadata": {},
   "source": [
    "## 2. Exponential Decay Fitting\n",
    "\n",
    "Now let's tackle a more complex model: exponential decay $y = A e^{-\\lambda t} + C$.\n",
    "\n",
    "This model appears in:\n",
    "- Radioactive decay\n",
    "- Chemical reaction kinetics  \n",
    "- RC circuit discharge\n",
    "- Population dynamics"
   ]
  },
  {
   "cell_type": "code",
   "execution_count": 4,
   "metadata": {
    "vscode": {
     "languageId": "rust"
    }
   },
   "outputs": [
    {
     "name": "stdout",
     "output_type": "stream",
     "text": [
      "\n",
      "=== Exponential Decay Fitting ===\n",
      "\n",
      "Model: y = A * exp(-λt) + C\n",
      "True parameters: A = 10.0, λ = 0.5, C = 2.0\n",
      "\n",
      "Fitted parameters: A = 9.56, λ = 0.536, C = 2.54\n",
      "Objective value: 0.033271\n",
      "Half-life: 1.29 time units\n",
      "✓ Exponential decay test passed!\n"
     ]
    },
    {
     "data": {
      "text/plain": [
       "()"
      ]
     },
     "execution_count": 4,
     "metadata": {},
     "output_type": "execute_result"
    }
   ],
   "source": [
    "{\n",
    "    // Create exponential decay data: y = 10.0 * exp(-0.5 * t) + 2.0\n",
    "    fn create_decay_data() -> (VectorF64, VectorF64) {\n",
    "        let time_points = vec64![0.0, 0.5, 1.0, 1.5, 2.0, 3.0, 4.0, 5.0];\n",
    "        let measurements = vec64![12.1, 9.87, 8.06, 6.94, 5.71, 4.49, 3.68, 3.17];\n",
    "        (time_points, measurements)\n",
    "    }\n",
    "\n",
    "    let (t_data, y_data) = create_decay_data();\n",
    "\n",
    "    println!();\n",
    "    let header_msg = \"=== Exponential Decay Fitting ===\";\n",
    "    println!(\"{}\", header_msg);\n",
    "    println!();\n",
    "\n",
    "    let model_msg = \"Model: y = A * exp(-λt) + C\";\n",
    "    println!(\"{}\", model_msg);\n",
    "    \n",
    "    let true_msg = \"True parameters: A = 10.0, λ = 0.5, C = 2.0\";\n",
    "    println!(\"{}\", true_msg);\n",
    "    println!();\n",
    "\n",
    "    // Define exponential decay model: f(t, params) -> y\n",
    "    let decay_model = |t: f64, params: &[f64]| {\n",
    "        let amplitude = params[0];   // A\n",
    "        let decay_rate = params[1];  // λ\n",
    "        let baseline = params[2];    // C\n",
    "        amplitude * (-decay_rate * t).exp() + baseline\n",
    "    };\n",
    "\n",
    "    // Use curve_fit for ergonomic VectorF64 support with proper LM interface\n",
    "    let result = curve_fit(&t_data, &y_data, decay_model)\n",
    "        .with_initial(&[8.0, 0.3, 1.0])  // Initial guess\n",
    "        .solve()?;\n",
    "\n",
    "    let fitted_a = result.solution[0];\n",
    "    let fitted_lambda = result.solution[1];\n",
    "    let fitted_c = result.solution[2];\n",
    "\n",
    "    let fit_msg = format!(\"Fitted parameters: A = {:.2}, λ = {:.3}, C = {:.2}\", \n",
    "                         fitted_a, fitted_lambda, fitted_c);\n",
    "    println!(\"{}\", fit_msg);\n",
    "    \n",
    "    let cost_msg = format!(\"Objective value: {:.6}\", result.objective_value);\n",
    "    println!(\"{}\", cost_msg);\n",
    "\n",
    "    // Calculate half-life from decay constant\n",
    "    let half_life = (2.0_f64).ln() / fitted_lambda;\n",
    "    let half_life_msg = format!(\"Half-life: {:.2} time units\", half_life);\n",
    "    println!(\"{}\", half_life_msg);\n",
    "\n",
    "    // Verify the fit\n",
    "    assert!((fitted_a - 10.0).abs() < 1.0, \"Amplitude should be close to 10.0\");\n",
    "    assert!((fitted_lambda - 0.5).abs() < 0.1, \"Decay rate should be close to 0.5\");\n",
    "\n",
    "    let success_msg = \"✓ Exponential decay test passed!\";\n",
    "    println!(\"{}\", success_msg);\n",
    "}"
   ]
  },
  {
   "cell_type": "markdown",
   "metadata": {},
   "source": [
    "## 3. Polynomial Fitting\n",
    "\n",
    "Let's fit a quadratic polynomial $y = ax^2 + bx + c$ to demonstrate higher-order models."
   ]
  },
  {
   "cell_type": "code",
   "execution_count": 5,
   "metadata": {
    "vscode": {
     "languageId": "rust"
    }
   },
   "outputs": [
    {
     "name": "stdout",
     "output_type": "stream",
     "text": [
      "\n",
      "=== Quadratic Polynomial Fitting ===\n",
      "\n",
      "Model: y = ax² + bx + c\n",
      "True parameters: a = 0.5, b = -2.0, c = 3.0\n",
      "\n",
      "Fitted parameters: a = 0.544, b = -1.935, c = 2.986\n",
      "Objective value: 0.030952\n",
      "Vertex (minimum): (1.78, 1.27)\n",
      "✓ Quadratic polynomial test passed!\n"
     ]
    },
    {
     "data": {
      "text/plain": [
       "()"
      ]
     },
     "execution_count": 5,
     "metadata": {},
     "output_type": "execute_result"
    }
   ],
   "source": [
    "{\n",
    "    // Create quadratic data: y = 0.5x² - 2x + 3\n",
    "    fn create_quadratic_data() -> (VectorF64, VectorF64) {\n",
    "        let x_values = vec64![-2.0, -1.0, 0.0, 1.0, 2.0, 3.0, 4.0];\n",
    "        let y_values = vec64![9.1, 5.4, 2.9, 1.6, 1.4, 2.1, 3.9]; // 0.5x² - 2x + 3 + small noise\n",
    "        (x_values, y_values)\n",
    "    }\n",
    "\n",
    "    let (x_data, y_data) = create_quadratic_data();\n",
    "\n",
    "    println!();\n",
    "    let header_msg = \"=== Quadratic Polynomial Fitting ===\";\n",
    "    println!(\"{}\", header_msg);\n",
    "    println!();\n",
    "\n",
    "    let model_msg = \"Model: y = ax² + bx + c\";\n",
    "    println!(\"{}\", model_msg);\n",
    "    \n",
    "    let true_msg = \"True parameters: a = 0.5, b = -2.0, c = 3.0\";\n",
    "    println!(\"{}\", true_msg);\n",
    "    println!();\n",
    "\n",
    "    // Define quadratic model: f(x, params) -> y\n",
    "    let quadratic_model = |x: f64, params: &[f64]| {\n",
    "        let a = params[0];  // x² coefficient\n",
    "        let b = params[1];  // x coefficient\n",
    "        let c = params[2];  // constant term\n",
    "        a * x * x + b * x + c\n",
    "    };\n",
    "\n",
    "    // Use curve_fit for ergonomic VectorF64 support with proper LM interface\n",
    "    let result = curve_fit(&x_data, &y_data, quadratic_model)\n",
    "        .with_initial(&[1.0, 0.0, 0.0])  // Initial guess\n",
    "        .solve()?;\n",
    "\n",
    "    let fitted_a = result.solution[0];\n",
    "    let fitted_b = result.solution[1];\n",
    "    let fitted_c = result.solution[2];\n",
    "\n",
    "    let fit_msg = format!(\"Fitted parameters: a = {:.3}, b = {:.3}, c = {:.3}\", \n",
    "                         fitted_a, fitted_b, fitted_c);\n",
    "    println!(\"{}\", fit_msg);\n",
    "    \n",
    "    let cost_msg = format!(\"Objective value: {:.6}\", result.objective_value);\n",
    "    println!(\"{}\", cost_msg);\n",
    "\n",
    "    // Find the vertex of the parabola\n",
    "    let vertex_x = -fitted_b / (2.0 * fitted_a);\n",
    "    let vertex_y = quadratic_model(vertex_x, &result.solution);\n",
    "    let vertex_msg = format!(\"Vertex (minimum): ({:.2}, {:.2})\", vertex_x, vertex_y);\n",
    "    println!(\"{}\", vertex_msg);\n",
    "\n",
    "    // Verify the fit\n",
    "    assert!((fitted_a - 0.5).abs() < 0.1, \"a coefficient should be close to 0.5\");\n",
    "    assert!((fitted_b - (-2.0)).abs() < 0.2, \"b coefficient should be close to -2.0\");\n",
    "\n",
    "    let success_msg = \"✓ Quadratic polynomial test passed!\";\n",
    "    println!(\"{}\", success_msg);\n",
    "}"
   ]
  },
  {
   "cell_type": "markdown",
   "metadata": {},
   "source": [
    "## 4. Algorithm Comparison\n",
    "\n",
    "Let's compare Levenberg-Marquardt and BFGS algorithms on the same fitting problem to understand their differences."
   ]
  },
  {
   "cell_type": "code",
   "execution_count": 6,
   "metadata": {
    "vscode": {
     "languageId": "rust"
    }
   },
   "outputs": [
    {
     "name": "stdout",
     "output_type": "stream",
     "text": [
      "\n",
      "=== Algorithm Comparison ===\n",
      "\n",
      "Levenberg-Marquardt: A=9.56, λ=0.536, C=2.54, Objective=0.033271\n",
      "\n",
      "Analysis:\n",
      "• curve_fit() automatically uses Levenberg-Marquardt for least squares curve fitting\n",
      "• It converts model functions to residual vectors internally\n",
      "• The algorithm converged successfully to find the decay parameters\n",
      "✓ Algorithm comparison test passed!\n"
     ]
    },
    {
     "data": {
      "text/plain": [
       "()"
      ]
     },
     "execution_count": 6,
     "metadata": {},
     "output_type": "execute_result"
    }
   ],
   "source": [
    "{\n",
    "    // Use the same exponential decay data from earlier\n",
    "    fn create_decay_data() -> (VectorF64, VectorF64) {\n",
    "        let time_points = vec64![0.0, 0.5, 1.0, 1.5, 2.0, 3.0, 4.0, 5.0];\n",
    "        let measurements = vec64![12.1, 9.87, 8.06, 6.94, 5.71, 4.49, 3.68, 3.17];\n",
    "        (time_points, measurements)\n",
    "    }\n",
    "\n",
    "    let (t_data, y_data) = create_decay_data();\n",
    "\n",
    "    println!();\n",
    "    let header_msg = \"=== Algorithm Comparison ===\";\n",
    "    println!(\"{}\", header_msg);\n",
    "    println!();\n",
    "\n",
    "    // Define the same exponential model: f(t, params) -> y\n",
    "    let decay_model = |t: f64, params: &[f64]| {\n",
    "        let amplitude = params[0];\n",
    "        let decay_rate = params[1];\n",
    "        let baseline = params[2];\n",
    "        amplitude * (-decay_rate * t).exp() + baseline\n",
    "    };\n",
    "\n",
    "    let initial_guess = [8.0, 0.3, 1.0];\n",
    "\n",
    "    // Use curve_fit (which uses Levenberg-Marquardt for curve fitting)\n",
    "    let lm_result = curve_fit(&t_data, &y_data, decay_model)\n",
    "        .with_initial(&initial_guess)\n",
    "        .solve()?;\n",
    "\n",
    "    let lm_msg = format!(\"Levenberg-Marquardt: A={:.2}, λ={:.3}, C={:.2}, Objective={:.6}\",\n",
    "                        lm_result.solution[0], lm_result.solution[1], \n",
    "                        lm_result.solution[2], lm_result.objective_value);\n",
    "    println!(\"{}\", lm_msg);\n",
    "\n",
    "    println!();\n",
    "    let analysis_msg = \"Analysis:\";\n",
    "    println!(\"{}\", analysis_msg);\n",
    "    \n",
    "    let note1 = \"• curve_fit() automatically uses Levenberg-Marquardt for least squares curve fitting\";\n",
    "    println!(\"{}\", note1);\n",
    "    \n",
    "    let note2 = \"• It converts model functions to residual vectors internally\";\n",
    "    println!(\"{}\", note2);\n",
    "    \n",
    "    let note3 = \"• The algorithm converged successfully to find the decay parameters\";\n",
    "    println!(\"{}\", note3);\n",
    "\n",
    "    // Verify the fit is reasonable\n",
    "    assert!((lm_result.solution[0] - 10.0).abs() < 2.0, \"Amplitude should be reasonable\");\n",
    "    assert!((lm_result.solution[1] - 0.5).abs() < 0.2, \"Decay rate should be reasonable\");\n",
    "    \n",
    "    let success_msg = \"✓ Algorithm comparison test passed!\";\n",
    "    println!(\"{}\", success_msg);\n",
    "}"
   ]
  },
  {
   "cell_type": "markdown",
   "metadata": {},
   "source": [
    "## Summary\n",
    "\n",
    "🎉 **Excellent work!** You've mastered the fundamentals of curve fitting:\n",
    "\n",
    "✅ **Linear regression** - The foundation of data fitting  \n",
    "✅ **Exponential models** - For decay and growth processes  \n",
    "✅ **Polynomial fitting** - Higher-order relationships  \n",
    "✅ **Algorithm selection** - LM vs BFGS comparison  \n",
    "✅ **Quality assessment** - R² and parameter accuracy  \n",
    "\n",
    "### 🔑 Key Takeaways\n",
    "\n",
    "1. **Levenberg-Marquardt** is excellent for least squares problems (curve fitting)\n",
    "2. **BFGS** is more general-purpose but can be slower for curve fitting\n",
    "3. **Good initial guesses** improve convergence speed and reliability\n",
    "4. **R-squared values** help assess fit quality (closer to 1.0 is better)\n",
    "\n",
    "### 🚀 Next Steps\n",
    "\n",
    "Continue exploring advanced topics:\n",
    "- **[03_parameter_constraints_clean.ipynb](03_parameter_constraints_clean.ipynb)** - Add bounds and constraints\n",
    "- **[04_algorithm_selection.ipynb](04_algorithm_selection.ipynb)** - Advanced algorithm tuning\n",
    "- **[05_scientific_applications.ipynb](05_scientific_applications.ipynb)** - Real-world examples\n",
    "\n",
    "Happy curve fitting! 📈✨"
   ]
  }
 ],
 "metadata": {
  "kernelspec": {
   "display_name": "Rust",
   "language": "rust",
   "name": "rust"
  },
  "language_info": {
   "codemirror_mode": "rust",
   "file_extension": ".rs",
   "mimetype": "text/rust",
   "name": "Rust",
   "pygment_lexer": "rust",
   "version": ""
  }
 },
 "nbformat": 4,
 "nbformat_minor": 4
}
