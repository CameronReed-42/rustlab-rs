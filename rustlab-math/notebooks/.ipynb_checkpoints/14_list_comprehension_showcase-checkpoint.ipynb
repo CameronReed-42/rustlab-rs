{
 "cells": [
  {
   "cell_type": "markdown",
   "metadata": {},
   "source": [
    "# List Comprehension with Automatic Parallelism - Showcase\n",
    "\n",
    "This notebook demonstrates the new **complexity-aware list comprehension** features in rustlab-math, providing NumPy/Julia-style vectorization with intelligent automatic parallelism.\n",
    "\n",
    "## Key Features\n",
    "\n",
    "- **`vectorize!` macro**: List comprehension syntax with automatic parallelism\n",
    "- **Complexity-aware thresholds**: Smart parallelization based on operation cost\n",
    "- **Adaptive profiling**: Automatically measures unknown function complexity\n",
    "- **Memory-efficient chunking**: For processing huge datasets\n",
    "- **Coordinate grid generation**: `meshgrid!` for mathematical surfaces\n",
    "- **Vector extensions**: Integration with existing rustlab-math types\n",
    "\n",
    "## Innovation: Complexity-Based Parallelism\n",
    "\n",
    "Unlike traditional approaches that parallelize based solely on data size, this system automatically decides parallelization based on **operation complexity**:\n",
    "\n",
    "- **Complex operations** (simulations, ML): Parallelize with ≥10 elements\n",
    "- **Moderate operations** (matrix ops, FFT): Parallelize with ≥100 elements  \n",
    "- **Simple operations** (sin, cos, sqrt): Parallelize with ≥1,000 elements\n",
    "- **Trivial operations** (arithmetic): Parallelize with ≥10,000 elements"
   ]
  },
  {
   "cell_type": "markdown",
   "metadata": {},
   "source": [
    "## Setup and Dependencies"
   ]
  },
  {
   "cell_type": "code",
   "execution_count": 2,
   "metadata": {},
   "outputs": [],
   "source": [
    ":dep rustlab-math = { path = \"../\" }\n",
    ":dep rand = \"0.8\"\n",
    ":dep plotters = \"0.3\""
   ]
  },
  {
   "cell_type": "code",
   "execution_count": 3,
   "metadata": {},
   "outputs": [],
   "source": [
    "use rustlab_math::{\n",
    "    vectorize, meshgrid, linspace, \n",
    "    VectorF64, ArrayF64, \n",
    "    Complexity, CostModel,\n",
    "    vectorize_with_complexity, vectorize_adaptive, vectorize_chunked\n",
    "};\n",
    "use std::time::Instant;\n",
    "use rand::prelude::*;"
   ]
  },
  {
   "cell_type": "markdown",
   "metadata": {},
   "source": [
    "## 1. Basic List Comprehension with `vectorize!`"
   ]
  },
  {
   "cell_type": "code",
   "execution_count": 4,
   "metadata": {},
   "outputs": [
    {
     "name": "stdout",
     "output_type": "stream",
     "text": [
      "Original: [1.0, 2.0, 3.0, 4.0, 5.0]\n",
      "Doubled:  [2.0, 4.0, 6.0, 8.0, 10.0]\n",
      "Squared:  [1.0, 4.0, 9.0, 16.0, 25.0]\n"
     ]
    }
   ],
   "source": [
    "// Simple arithmetic operations\n",
    "let data = vec![1.0, 2.0, 3.0, 4.0, 5.0];\n",
    "\n",
    "// Basic transformation\n",
    "let doubled: Vec<f64> = vectorize![x * 2.0, for x in data.clone()];\n",
    "println!(\"Original: {:?}\", data);\n",
    "println!(\"Doubled:  {:?}\", doubled);\n",
    "\n",
    "// Mathematical functions\n",
    "let squared: Vec<f64> = vectorize![x * x, for x in data.clone()];\n",
    "println!(\"Squared:  {:?}\", squared);\n",
    "\n",
    "// More complex expression\n",
    "let transformed: Vec<f64> = vectorize![x.powi(3) + 2.0 * x + 1.0, for x in data];\n",
    "println!(\"f(x) = x³ + 2x + 1: {:?}\", transformed);"
   ]
  },
  {
   "cell_type": "markdown",
   "metadata": {},
   "source": [
    "## 2. Complexity-Aware Parallelism Demo"
   ]
  },
  {
   "cell_type": "code",
   "execution_count": 5,
   "metadata": {},
   "outputs": [
    {
     "name": "stdout",
     "output_type": "stream",
     "text": [
      "f(x) = x³ + 2x + 1: [4.0, 13.0, 34.0, 73.0, 136.0]\n",
      "Complex operation results: [0.4952098346076669, 0.4968233443554623, 0.5082115742665247, 0.4972710398751648, 0.5007275552632077]\n",
      "Time taken: 30.124µs (parallelized even with 5 elements!)\n"
     ]
    }
   ],
   "source": [
    "// Simulate expensive function (complex operation)\n",
    "fn expensive_simulation(seed: u64) -> f64 {\n",
    "    use rand::{Rng, SeedableRng};\n",
    "    use rand::rngs::StdRng;\n",
    "    use rand::distributions::Uniform;\n",
    "    use rand::prelude::Distribution;\n",
    "    \n",
    "    let mut rng = StdRng::seed_from_u64(seed);\n",
    "    let uniform = Uniform::new(0.0, 1.0);\n",
    "    // Monte Carlo simulation using distribution\n",
    "    (0..1000).map(|_| uniform.sample(&mut rng)).sum::<f64>() / 1000.0\n",
    "}\n",
    "\n",
    "// Even with just 5 elements, complex operations parallelize!\n",
    "let seeds = vec![1, 2, 3, 4, 5];\n",
    "let start = Instant::now();\n",
    "\n",
    "let results: Vec<f64> = vectorize![\n",
    "    complex: expensive_simulation(seed),\n",
    "    for seed in seeds\n",
    "];\n",
    "\n",
    "let duration = start.elapsed();\n",
    "println!(\"Complex operation results: {:?}\", results);\n",
    "println!(\"Time taken: {:?} (parallelized even with 5 elements!)\", duration);"
   ]
  },
  {
   "cell_type": "markdown",
   "metadata": {},
   "source": [
    "## 3. Adaptive Complexity Detection"
   ]
  },
  {
   "cell_type": "code",
   "execution_count": 6,
   "metadata": {},
   "outputs": [
    {
     "name": "stdout",
     "output_type": "stream",
     "text": [
      "Adaptive results: [1.454648713412841, 1.035812314719131, 1.5923430584694143, 2.4946791233116907, 1.964057422055105, 2.1812032837829602, 3.1410549889120256, 2.684475466413658, 2.624506376614162, 3.6187502855321934]\n",
      "Adaptive processing time: 25.097916ms\n"
     ]
    }
   ],
   "source": [
    "// Unknown function - system will measure its complexity\n",
    "fn mystery_function(x: f64) -> f64 {\n",
    "    // Simulated expensive computation\n",
    "    std::thread::sleep(std::time::Duration::from_millis(1));\n",
    "    x.sin() * x.cos() + x.sqrt()\n",
    "}\n",
    "\n",
    "let data = vec![1.0, 2.0, 3.0, 4.0, 5.0, 6.0, 7.0, 8.0, 9.0, 10.0];\n",
    "\n",
    "// Adaptive mode measures first few elements, then optimizes\n",
    "let start = Instant::now();\n",
    "let results: Vec<f64> = vectorize![\n",
    "    adaptive: mystery_function(*x),\n",
    "    for x in data\n",
    "];\n",
    "let duration = start.elapsed();\n",
    "\n",
    "println!(\"Adaptive results: {:?}\", results);\n",
    "println!(\"Adaptive processing time: {:?}\", duration);"
   ]
  },
  {
   "cell_type": "markdown",
   "metadata": {},
   "source": [
    "## 4. Vector Extensions - Integration with rustlab-math"
   ]
  },
  {
   "cell_type": "code",
   "execution_count": 7,
   "metadata": {},
   "outputs": [
    {
     "name": "stdout",
     "output_type": "stream",
     "text": [
      "Vector 1: [1.0, 2.0, 3.0, 4.0, 5.0]\n",
      "Vector 2: [2.0, 3.0, 4.0, 5.0, 6.0]\n",
      "Processed (sin + cos): [1.3817732906760363, 0.4931505902785393, -0.8488724885405782, -1.4104461161715403, -0.6752620891999122]\n",
      "Combined (a² + √b): [2.414213562373095, 5.732050807568877, 11.0, 18.23606797749979, 27.44948974278318]\n"
     ]
    }
   ],
   "source": [
    "// Create vectors using rustlab-math\n",
    "let vec1 = VectorF64::from_slice(&[1.0, 2.0, 3.0, 4.0, 5.0]);\n",
    "let vec2 = VectorF64::from_slice(&[2.0, 3.0, 4.0, 5.0, 6.0]);\n",
    "\n",
    "println!(\"Vector 1: {:?}\", vec1.to_vec());\n",
    "println!(\"Vector 2: {:?}\", vec2.to_vec());\n",
    "\n",
    "// Apply function with explicit complexity\n",
    "let processed = vec1.apply_with_complexity(|x| x.sin() + x.cos(), Complexity::Simple);\n",
    "println!(\"Processed (sin + cos): {:?}\", processed.to_vec());\n",
    "\n",
    "// Combine two vectors with binary operation\n",
    "let combined = vec1.zip_with_complexity(\n",
    "    &vec2, \n",
    "    |a, b| a.powi(2) + b.sqrt(), \n",
    "    Complexity::Simple\n",
    ").unwrap();\n",
    "\n",
    "println!(\"Combined (a² + √b): {:?}\", combined.to_vec());"
   ]
  },
  {
   "cell_type": "markdown",
   "metadata": {},
   "source": [
    "## 5. Coordinate Grid Generation with `meshgrid!`"
   ]
  },
  {
   "cell_type": "code",
   "execution_count": 8,
   "metadata": {},
   "outputs": [
    {
     "name": "stdout",
     "output_type": "stream",
     "text": [
      "X coordinates: [-2.0, -1.0, 0.0, 1.0, 2.0]\n",
      "Y coordinates: [-1.0, -0.33333333333333337, 0.33333333333333326, 1.0]\n",
      "\n",
      "X grid shape: (4, 5)\n",
      "Y grid shape: (4, 5)\n",
      "\n",
      "X grid:\n",
      "[-2.0, -1.0, 0.0, 1.0, 2.0]\n",
      "[-2.0, -1.0, 0.0, 1.0, 2.0]\n",
      "[-2.0, -1.0, 0.0, 1.0, 2.0]\n",
      "[-2.0, -1.0, 0.0, 1.0, 2.0]\n",
      "\n",
      "Y grid:\n",
      "[-1.0, -1.0, -1.0, -1.0, -1.0]\n",
      "[-0.33333333333333337, -0.33333333333333337, -0.33333333333333337, -0.33333333333333337, -0.33333333333333337]\n",
      "[0.33333333333333326, 0.33333333333333326, 0.33333333333333326, 0.33333333333333326, 0.33333333333333326]\n",
      "[1.0, 1.0, 1.0, 1.0, 1.0]\n"
     ]
    },
    {
     "data": {
      "text/plain": [
       "()"
      ]
     },
     "execution_count": 8,
     "metadata": {},
     "output_type": "execute_result"
    }
   ],
   "source": [
    "// Create coordinate vectors\n",
    "let x = linspace(-2.0, 2.0, 5);  // 5 points from -2 to 2\n",
    "let y = linspace(-1.0, 1.0, 4);  // 4 points from -1 to 1\n",
    "\n",
    "println!(\"X coordinates: {:?}\", x.to_vec());\n",
    "println!(\"Y coordinates: {:?}\", y.to_vec());\n",
    "\n",
    "// Generate coordinate grids\n",
    "let (X, Y) = meshgrid!(x: x, y: y);\n",
    "\n",
    "println!(\"\\nX grid shape: {:?}\", X.shape());\n",
    "println!(\"Y grid shape: {:?}\", Y.shape());\n",
    "\n",
    "// Show the grids\n",
    "println!(\"\\nX grid:\");\n",
    "for i in 0..X.nrows() {\n",
    "    let row: Vec<f64> = (0..X.ncols()).map(|j| X.get(i, j).unwrap()).collect();\n",
    "    println!(\"{:?}\", row);\n",
    "}\n",
    "\n",
    "println!(\"\\nY grid:\");\n",
    "for i in 0..Y.nrows() {\n",
    "    let row: Vec<f64> = (0..Y.ncols()).map(|j| Y.get(i, j).unwrap()).collect();\n",
    "    println!(\"{:?}\", row);\n",
    "}"
   ]
  },
  {
   "cell_type": "markdown",
   "metadata": {},
   "source": [
    "## 6. Mathematical Surface Evaluation"
   ]
  },
  {
   "cell_type": "code",
   "execution_count": 9,
   "metadata": {},
   "outputs": [
    {
     "name": "stdout",
     "output_type": "stream",
     "text": [
      "\n",
      "Z = X² + Y² surface:\n",
      "[5.00, 2.00, 1.00, 2.00, 5.00]\n",
      "[4.11, 1.11, 0.11, 1.11, 4.11]\n",
      "[4.11, 1.11, 0.11, 1.11, 4.11]\n",
      "[5.00, 2.00, 1.00, 2.00, 5.00]\n"
     ]
    },
    {
     "data": {
      "text/plain": [
       "()"
      ]
     },
     "execution_count": 9,
     "metadata": {},
     "output_type": "execute_result"
    }
   ],
   "source": [
    "// Evaluate a function over the coordinate grid\n",
    "// f(x, y) = x² + y² (paraboloid)\n",
    "\n",
    "let mut Z = ArrayF64::zeros(Y.nrows(), Y.ncols());\n",
    "\n",
    "for i in 0..Z.nrows() {\n",
    "    for j in 0..Z.ncols() {\n",
    "        let x_val = X.get(i, j).unwrap();\n",
    "        let y_val = Y.get(i, j).unwrap();\n",
    "        let z_val = x_val * x_val + y_val * y_val;  // f(x,y) = x² + y²\n",
    "        Z.set(i, j, z_val);\n",
    "    }\n",
    "}\n",
    "\n",
    "println!(\"\\nZ = X² + Y² surface:\");\n",
    "for i in 0..Z.nrows() {\n",
    "    let row: Vec<f64> = (0..Z.ncols()).map(|j| Z.get(i, j).unwrap()).collect();\n",
    "    println!(\"{:.2?}\", row);\n",
    "}"
   ]
  },
  {
   "cell_type": "markdown",
   "metadata": {},
   "source": [
    "## 7. Chunked Processing for Large Datasets"
   ]
  },
  {
   "cell_type": "code",
   "execution_count": 10,
   "metadata": {},
   "outputs": [
    {
     "name": "stdout",
     "output_type": "stream",
     "text": [
      "Processing 1000 elements in chunks...\n",
      "Chunk processing completed in: 1.305517ms\n",
      "Number of chunks processed: 10\n",
      "First 5 chunk sums: [328350.0, 2318350.0, 6308350.0, 12298350.0, 20288350.0]\n",
      "Total sum: 332833500\n"
     ]
    }
   ],
   "source": [
    "// Simulate processing a large dataset in chunks\n",
    "let large_dataset: Vec<f64> = (0..1000).map(|x| x as f64).collect();\n",
    "\n",
    "println!(\"Processing {} elements in chunks...\", large_dataset.len());\n",
    "\n",
    "let start = Instant::now();\n",
    "let chunk_results = vectorize_chunked(\n",
    "    large_dataset,\n",
    "    100,  // Process 100 elements per chunk\n",
    "    |chunk| {\n",
    "        // Process each chunk - compute sum of squares\n",
    "        vec![chunk.iter().map(|x| x * x).sum::<f64>()]\n",
    "    }\n",
    ");\n",
    "let duration = start.elapsed();\n",
    "\n",
    "println!(\"Chunk processing completed in: {:?}\", duration);\n",
    "println!(\"Number of chunks processed: {}\", chunk_results.len());\n",
    "println!(\"First 5 chunk sums: {:?}\", &chunk_results[..5]);\n",
    "println!(\"Total sum: {}\", chunk_results.iter().sum::<f64>());"
   ]
  },
  {
   "cell_type": "markdown",
   "metadata": {},
   "source": [
    "## 8. Performance Comparison: Serial vs Parallel"
   ]
  },
  {
   "cell_type": "code",
   "execution_count": 11,
   "metadata": {},
   "outputs": [
    {
     "name": "stdout",
     "output_type": "stream",
     "text": [
      "Performance comparison for 10000 elements:\n",
      "1. Pure serial (baseline):     177.157µs\n",
      "2. vectorize![serial:...]:     270.346µs (zero overhead)\n",
      "3. vectorize![...] (auto):     152.438µs\n",
      "4. vectorize![complex:...]:    3.824478ms\n",
      "\n",
      "--- Larger dataset (100,000 elements) ---\n",
      "Pure serial:            2.099795ms\n",
      "Auto (should parallel): 3.257692ms\n",
      "\n",
      "Results match: true\n"
     ]
    }
   ],
   "source": [
    "// Compare different approaches\n",
    "let test_data: Vec<f64> = (0..10000).map(|x| x as f64 / 1000.0).collect();\n",
    "\n",
    "// 1. Traditional serial processing (baseline)\n",
    "let start = Instant::now();\n",
    "let serial_result: Vec<f64> = test_data.iter().map(|x| x.sin() * x.cos()).collect();\n",
    "let serial_time = start.elapsed();\n",
    "\n",
    "// 2. Zero-overhead serial mode (should match baseline exactly)\n",
    "let start = Instant::now();\n",
    "let zero_overhead: Vec<f64> = vectorize![serial: x.sin() * x.cos(), for x in &test_data];\n",
    "let zero_overhead_time = start.elapsed();\n",
    "\n",
    "// 3. Complexity-aware auto mode (will check if parallelization is worth it)\n",
    "let start = Instant::now();\n",
    "let auto_parallel: Vec<f64> = vectorize![x.sin() * x.cos(), for x in &test_data];\n",
    "let auto_time = start.elapsed();\n",
    "\n",
    "// 4. Forced complex (will parallelize with low threshold)\n",
    "let start = Instant::now();\n",
    "let forced_parallel: Vec<f64> = vectorize![\n",
    "    complex: x.sin() * x.cos(), \n",
    "    for x in &test_data\n",
    "];\n",
    "let forced_time = start.elapsed();\n",
    "\n",
    "println!(\"Performance comparison for {} elements:\", test_data.len());\n",
    "println!(\"1. Pure serial (baseline):     {:?}\", serial_time);\n",
    "println!(\"2. vectorize![serial:...]:     {:?} (zero overhead)\", zero_overhead_time);\n",
    "println!(\"3. vectorize![...] (auto):     {:?}\", auto_time);\n",
    "println!(\"4. vectorize![complex:...]:    {:?}\", forced_time);\n",
    "\n",
    "// Test with larger dataset where parallelism should help\n",
    "println!(\"\\n--- Larger dataset (100,000 elements) ---\");\n",
    "let large_data: Vec<f64> = (0..100000).map(|x| x as f64 / 1000.0).collect();\n",
    "\n",
    "let start = Instant::now();\n",
    "let large_serial: Vec<f64> = large_data.iter().map(|x| x.sin() * x.cos()).collect();\n",
    "let large_serial_time = start.elapsed();\n",
    "\n",
    "let start = Instant::now();\n",
    "let large_auto: Vec<f64> = vectorize![x.sin() * x.cos(), for x in &large_data];\n",
    "let large_auto_time = start.elapsed();\n",
    "\n",
    "println!(\"Pure serial:            {:?}\", large_serial_time);\n",
    "println!(\"Auto (should parallel): {:?}\", large_auto_time);\n",
    "\n",
    "// Verify results match\n",
    "let results_match = serial_result.iter()\n",
    "    .zip(zero_overhead.iter())\n",
    "    .all(|(a, b)| (a - b).abs() < 1e-10);\n",
    "    \n",
    "println!(\"\\nResults match: {}\", results_match);"
   ]
  },
  {
   "cell_type": "markdown",
   "metadata": {},
   "source": [
    "## 9. Real-World Example: Signal Processing"
   ]
  },
  {
   "cell_type": "code",
   "execution_count": 12,
   "metadata": {},
   "outputs": [
    {
     "name": "stdout",
     "output_type": "stream",
     "text": [
      "Generated noisy signal with 1000 samples\n",
      "Applied moving average filter, 991 filtered samples\n",
      "Applied nonlinear transformation\n",
      "Sample values - Original: 1.078, Filtered: 1.103, Transformed: 1.050\n"
     ]
    }
   ],
   "source": [
    "// Simulate signal processing pipeline\n",
    "use std::f64::consts::PI;\n",
    "use rand::{SeedableRng};\n",
    "use rand::rngs::StdRng;\n",
    "use rand::distributions::{Uniform, Distribution};\n",
    "\n",
    "// Generate sample signal\n",
    "let t = linspace(0.0, 2.0 * PI, 1000);\n",
    "let signal_data = t.to_vec();\n",
    "\n",
    "// Create a composite signal: sin(t) + 0.5*sin(3t) + noise\n",
    "// Generate noise separately using distribution to avoid keyword issues\n",
    "let mut rng = StdRng::seed_from_u64(42);\n",
    "let uniform = Uniform::new(0.0, 1.0);\n",
    "let noise: Vec<f64> = (0..1000).map(|_| uniform.sample(&mut rng)).collect();\n",
    "\n",
    "let noisy_signal: Vec<f64> = signal_data.iter().zip(noise.iter())\n",
    "    .map(|(t, n)| t.sin() + 0.5 * (3.0 * t).sin() + 0.1 * n)\n",
    "    .collect();\n",
    "\n",
    "println!(\"Generated noisy signal with {} samples\", noisy_signal.len());\n",
    "\n",
    "// Apply moving average filter (moderate complexity)\n",
    "fn moving_average(data: &[f64], window: usize) -> Vec<f64> {\n",
    "    data.windows(window)\n",
    "        .map(|w| w.iter().sum::<f64>() / w.len() as f64)\n",
    "        .collect()\n",
    "}\n",
    "\n",
    "let filtered = moving_average(&noisy_signal, 10);\n",
    "println!(\"Applied moving average filter, {} filtered samples\", filtered.len());\n",
    "\n",
    "// Apply complex transformation (adaptive complexity) - clone to avoid move\n",
    "let transformed: Vec<f64> = vectorize![\n",
    "    adaptive: x.abs().sqrt() * x.signum(),\n",
    "    for x in filtered.clone()\n",
    "];\n",
    "\n",
    "println!(\"Applied nonlinear transformation\");\n",
    "println!(\"Sample values - Original: {:.3}, Filtered: {:.3}, Transformed: {:.3}\", \n",
    "         noisy_signal[100], filtered[90], transformed[90]);"
   ]
  },
  {
   "cell_type": "markdown",
   "metadata": {},
   "source": [
    "## 10. Advanced Example: Monte Carlo Integration"
   ]
  },
  {
   "cell_type": "code",
   "execution_count": 13,
   "metadata": {},
   "outputs": [
    {
     "name": "stdout",
     "output_type": "stream",
     "text": [
      "Running 100 Monte Carlo simulations with 10000 samples each...\n",
      "\n",
      "Monte Carlo π estimation:\n",
      "Estimated π: 3.142120 ± 0.014465\n",
      "Actual π:    3.141593\n",
      "Error:       0.000527\n",
      "Computation time: 3.916981ms\n",
      "\n",
      "First 10 estimates: [3.1608, 3.1432, 3.142, 3.1428, 3.1456, 3.138, 3.13, 3.1408, 3.1432, 3.1164]\n"
     ]
    }
   ],
   "source": [
    "// Monte Carlo estimation of π using vectorization\n",
    "use std::f64::consts::PI;\n",
    "use rand::{SeedableRng};\n",
    "use rand::rngs::StdRng;\n",
    "use rand::distributions::{Uniform, Distribution};\n",
    "\n",
    "fn monte_carlo_pi_sample(seed: u64, n_samples: usize) -> f64 {\n",
    "    let mut rng = StdRng::seed_from_u64(seed);\n",
    "    let uniform = Uniform::new(0.0, 1.0);\n",
    "    let inside_circle = (0..n_samples)\n",
    "        .filter(|_| {\n",
    "            let x: f64 = uniform.sample(&mut rng);\n",
    "            let y: f64 = uniform.sample(&mut rng);\n",
    "            x * x + y * y <= 1.0\n",
    "        })\n",
    "        .count();\n",
    "    4.0 * inside_circle as f64 / n_samples as f64\n",
    "}\n",
    "\n",
    "// Run multiple independent Monte Carlo simulations\n",
    "let seeds: Vec<u64> = (0..100).collect();\n",
    "let samples_per_sim = 10000;\n",
    "\n",
    "println!(\"Running {} Monte Carlo simulations with {} samples each...\", \n",
    "         seeds.len(), samples_per_sim);\n",
    "\n",
    "let start = Instant::now();\n",
    "let pi_estimates: Vec<f64> = vectorize![\n",
    "    complex: monte_carlo_pi_sample(seed, samples_per_sim),\n",
    "    for seed in seeds\n",
    "];\n",
    "let duration = start.elapsed();\n",
    "\n",
    "let mean_pi = pi_estimates.iter().sum::<f64>() / pi_estimates.len() as f64;\n",
    "let std_pi = {\n",
    "    let variance = pi_estimates.iter()\n",
    "        .map(|x| (x - mean_pi).powi(2))\n",
    "        .sum::<f64>() / pi_estimates.len() as f64;\n",
    "    variance.sqrt()\n",
    "};\n",
    "\n",
    "println!(\"\\nMonte Carlo π estimation:\");\n",
    "println!(\"Estimated π: {:.6} ± {:.6}\", mean_pi, std_pi);\n",
    "println!(\"Actual π:    {:.6}\", PI);\n",
    "println!(\"Error:       {:.6}\", (mean_pi - PI).abs());\n",
    "println!(\"Computation time: {:?}\", duration);\n",
    "println!(\"\\nFirst 10 estimates: {:?}\", &pi_estimates[..10]);"
   ]
  },
  {
   "cell_type": "markdown",
   "metadata": {},
   "source": [
    "## Summary: Key Benefits\n",
    "\n",
    "The list comprehension module provides:\n",
    "\n",
    "### 🎯 **Smart Parallelization**\n",
    "- Complex operations parallelize even with tiny datasets (10+ elements)\n",
    "- Simple operations only parallelize when it makes sense (10,000+ elements)\n",
    "- Automatic optimization based on operation complexity\n",
    "\n",
    "### 🔄 **Intuitive Syntax**\n",
    "- NumPy/Julia-style list comprehensions: `vectorize![f(x), for x in data]`\n",
    "- Seamless integration with rustlab-math vectors and arrays\n",
    "- Multiple complexity modes: explicit, adaptive, and chunked\n",
    "\n",
    "### ⚡ **Performance Features**\n",
    "- Memory-efficient chunked processing for huge datasets\n",
    "- Automatic complexity profiling for unknown functions\n",
    "- Coordinate grid generation for mathematical surfaces\n",
    "- Zero-cost abstractions with compile-time optimizations\n",
    "\n",
    "### 🧮 **Mathematical Focus**\n",
    "- Perfect for scientific computing, ML, and financial modeling\n",
    "- Handles everything from simple arithmetic to Monte Carlo simulations\n",
    "- Built-in support for mathematical grid operations\n",
    "- Type-safe with compile-time dimension checking\n",
    "\n",
    "This makes rustlab-math highly competitive with NumPy and Julia for mathematical computing in Rust!"
   ]
  }
 ],
 "metadata": {
  "kernelspec": {
   "display_name": "Rust",
   "language": "rust",
   "name": "rust"
  },
  "language_info": {
   "codemirror_mode": "rust",
   "file_extension": ".rs",
   "mimetype": "text/rust",
   "name": "Rust",
   "pygment_lexer": "rust",
   "version": ""
  }
 },
 "nbformat": 4,
 "nbformat_minor": 4
}
