{
 "cells": [
  {
   "cell_type": "markdown",
   "metadata": {},
   "source": [
    "# 03. Comparisons and Filtering\n",
    "\n",
    "Master the **NEW ergonomic VectorOps API** for comparisons, filtering, and boolean operations. This notebook showcases the most math-first, clean comparison syntax available in RustLab.\n",
    "\n",
    "## 🔥 What's New\n",
    "- **Ergonomic scalar comparisons**: `v.gt(3.0)` instead of `v.gt_scalar(3.0)`\n",
    "- **Clear vector comparisons**: `v1.gt_vec(&v2)` for element-wise\n",
    "- **Single trait**: `VectorOps` replaces multiple comparison traits\n",
    "- **Math-first syntax**: Closest to mathematical notation possible in Rust\n",
    "\n",
    "## Setup\n",
    "\n",
    "**Important**: The setup cell below follows Rust notebook best practices:\n",
    "- Dependencies and imports are declared at the **top level** (outside braces) so they persist across all cells\n",
    "- Test code is wrapped in braces `{}` to avoid persistence issues with complex types\n",
    "- This pattern ensures compatibility with both rust-analyzer and evcxr"
   ]
  },
  {
   "cell_type": "code",
   "execution_count": 2,
   "metadata": {},
   "outputs": [
    {
     "name": "stdout",
     "output_type": "stream",
     "text": [
      "✅ Setup complete! Test vector length: 3\n"
     ]
    },
    {
     "data": {
      "text/plain": [
       "()"
      ]
     },
     "execution_count": 2,
     "metadata": {},
     "output_type": "execute_result"
    }
   ],
   "source": [
    "// Setup Cell - dependencies and imports persist across all cells\n",
    ":dep rustlab-math = { path = \"..\" }\n",
    "\n",
    "// Top-level imports - these persist across all cells!\n",
    "use rustlab_math::*;\n",
    "\n",
    "// Test setup in braces (variables don't persist, but confirms setup works)\n",
    "{\n",
    "    let test_vec = vec64![1.0, 2.0, 3.0];\n",
    "    println!(\"✅ Setup complete! Test vector length: {}\", test_vec.len());\n",
    "}"
   ]
  },
  {
   "cell_type": "markdown",
   "metadata": {},
   "source": [
    "## 1. Ergonomic Scalar Comparisons (NEW API)\n",
    "\n",
    "The most common comparison operations - clean and intuitive:"
   ]
  },
  {
   "cell_type": "code",
   "execution_count": 3,
   "metadata": {},
   "outputs": [
    {
     "name": "stdout",
     "output_type": "stream",
     "text": [
      "Data: [1.0, 2.0, 3.0, 4.0, 5.0]\n",
      "Threshold: 3\n"
     ]
    }
   ],
   "source": [
    "// Sample data for analysis\n",
    "let data = vec64![1.0, 2.0, 3.0, 4.0, 5.0];\n",
    "let threshold = 3.0;\n",
    "\n",
    "println!(\"Data: {:?}\", data.to_slice());\n",
    "println!(\"Threshold: {}\", threshold);"
   ]
  },
  {
   "cell_type": "code",
   "execution_count": 4,
   "metadata": {},
   "outputs": [
    {
     "name": "stdout",
     "output_type": "stream",
     "text": [
      "data.gt(3) (> threshold): [false, false, false, true, true]\n",
      "data.lt(4.0) (< 4): [true, true, true, false, false]\n",
      "data.ge(2.0) (≥ 2): [false, true, true, true, true]\n",
      "data.eq(2.0) (== 2): [false, true, false, false, false]\n"
     ]
    }
   ],
   "source": [
    "// NEW ergonomic scalar comparisons\n",
    "let above_threshold = data.gt(threshold);      // v > 3.0\n",
    "let below_four = data.lt(4.0);                 // v < 4.0  \n",
    "let at_least_two = data.ge(2.0);               // v >= 2.0\n",
    "let at_most_four = data.le(4.0);               // v <= 4.0\n",
    "let equals_two = data.eq(2.0);                 // v == 2.0\n",
    "let not_three = data.ne(3.0);                  // v != 3.0\n",
    "\n",
    "println!(\"data.gt({}) (> threshold): {:?}\", threshold, above_threshold.as_slice());\n",
    "println!(\"data.lt(4.0) (< 4): {:?}\", below_four.as_slice());\n",
    "println!(\"data.ge(2.0) (≥ 2): {:?}\", at_least_two.as_slice());\n",
    "println!(\"data.eq(2.0) (== 2): {:?}\", equals_two.as_slice());"
   ]
  },
  {
   "cell_type": "markdown",
   "metadata": {},
   "source": [
    "## 2. Vector-to-Vector Comparisons (NEW API)\n",
    "\n",
    "Element-wise comparisons between vectors:"
   ]
  },
  {
   "cell_type": "code",
   "execution_count": 5,
   "metadata": {},
   "outputs": [
    {
     "name": "stdout",
     "output_type": "stream",
     "text": [
      "v1: [1.0, 2.0, 3.0, 4.0, 5.0]\n",
      "v2: [1.0, 3.0, 2.0, 4.0, 6.0]\n"
     ]
    }
   ],
   "source": [
    "// Two vectors for comparison\n",
    "let v1 = vec64![1.0, 2.0, 3.0, 4.0, 5.0];\n",
    "let v2 = vec64![1.0, 3.0, 2.0, 4.0, 6.0];\n",
    "\n",
    "println!(\"v1: {:?}\", v1.to_slice());\n",
    "println!(\"v2: {:?}\", v2.to_slice());"
   ]
  },
  {
   "cell_type": "code",
   "execution_count": 6,
   "metadata": {},
   "outputs": [
    {
     "name": "stdout",
     "output_type": "stream",
     "text": [
      "v1.eq_vec(&v2) (equal): [true, false, false, true, false]\n",
      "v1.gt_vec(&v2) (v1 > v2): [false, false, true, false, false]\n",
      "v1.lt_vec(&v2) (v1 < v2): [false, true, false, false, true]\n",
      "v1.ge_vec(&v2) (v1 ≥ v2): [true, false, true, true, false]\n"
     ]
    }
   ],
   "source": [
    "// NEW vector comparison methods\n",
    "let eq_mask = v1.eq_vec(&v2);                  // v1 == v2 element-wise\n",
    "let gt_mask = v1.gt_vec(&v2);                  // v1 > v2 element-wise\n",
    "let lt_mask = v1.lt_vec(&v2);                  // v1 < v2 element-wise\n",
    "let ge_mask = v1.ge_vec(&v2);                  // v1 >= v2 element-wise\n",
    "\n",
    "println!(\"v1.eq_vec(&v2) (equal): {:?}\", eq_mask.as_slice());\n",
    "println!(\"v1.gt_vec(&v2) (v1 > v2): {:?}\", gt_mask.as_slice());\n",
    "println!(\"v1.lt_vec(&v2) (v1 < v2): {:?}\", lt_mask.as_slice());\n",
    "println!(\"v1.ge_vec(&v2) (v1 ≥ v2): {:?}\", ge_mask.as_slice());"
   ]
  },
  {
   "cell_type": "markdown",
   "metadata": {},
   "source": [
    "## 3. Floating-Point Safe Comparisons (RECOMMENDED)\n",
    "\n",
    "Always use `.is_close()` for floating-point comparisons:"
   ]
  },
  {
   "cell_type": "code",
   "execution_count": 7,
   "metadata": {},
   "outputs": [
    {
     "name": "stdout",
     "output_type": "stream",
     "text": [
      "Exact equality: [true, false, false, true, true]\n",
      "Fuzzy equality: [true, true, true, true, true]\n",
      "\n",
      "⚠️ Always use .is_close() for floating-point comparisons!\n"
     ]
    }
   ],
   "source": [
    "// Floating-point precision issues\n",
    "let v3 = vec64![1.0, 2.000001, 3.0, 4.0, 5.0];\n",
    "let v4 = vec64![1.0, 2.0, 3.00001, 4.0, 5.0];\n",
    "\n",
    "// Exact equality (problematic for floating-point)\n",
    "let exact = v3.eq_vec(&v4);\n",
    "println!(\"Exact equality: {:?}\", exact.as_slice());\n",
    "\n",
    "// RECOMMENDED: Fuzzy equality with tolerance\n",
    "let close = v3.is_close(&v4, 1e-5, 1e-8);     // rtol=1e-5, atol=1e-8\n",
    "println!(\"Fuzzy equality: {:?}\", close.as_slice());\n",
    "\n",
    "println!(\"\\n⚠️ Always use .is_close() for floating-point comparisons!\");"
   ]
  },
  {
   "cell_type": "markdown",
   "metadata": {},
   "source": [
    "## 4. Boolean Logic Operations\n",
    "\n",
    "Combine comparison results with boolean operators:"
   ]
  },
  {
   "cell_type": "code",
   "execution_count": 8,
   "metadata": {},
   "outputs": [
    {
     "name": "stdout",
     "output_type": "stream",
     "text": [
      "above_three: [false, false, false, true, true]\n",
      "below_four: [true, true, true, false, false]\n"
     ]
    }
   ],
   "source": [
    "let data = vec64![1.0, 2.0, 3.0, 4.0, 5.0];\n",
    "\n",
    "let above_three = data.gt(3.0);\n",
    "let below_four = data.lt(4.0);\n",
    "\n",
    "println!(\"above_three: {:?}\", above_three.as_slice());\n",
    "println!(\"below_four: {:?}\", below_four.as_slice());"
   ]
  },
  {
   "cell_type": "code",
   "execution_count": 9,
   "metadata": {},
   "outputs": [
    {
     "name": "stdout",
     "output_type": "stream",
     "text": [
      "AND (both conditions): [false, false, false, false, false]\n",
      "OR (either condition): [true, true, true, true, true]\n",
      "NOT (negation): [true, true, true, false, false]\n",
      "XOR (exclusive): [true, true, true, true, true]\n"
     ]
    }
   ],
   "source": [
    "// Boolean logic operations\n",
    "let both = above_three.and(&below_four).unwrap();      // AND: > 3 AND < 4\n",
    "let either = above_three.or(&below_four).unwrap();     // OR: > 3 OR < 4\n",
    "let not_above = above_three.clone().not();             // NOT: NOT (> 3)\n",
    "let exclusive = above_three.xor(&below_four).unwrap(); // XOR: (> 3) XOR (< 4)\n",
    "\n",
    "println!(\"AND (both conditions): {:?}\", both.as_slice());\n",
    "println!(\"OR (either condition): {:?}\", either.as_slice());\n",
    "println!(\"NOT (negation): {:?}\", not_above.as_slice());\n",
    "println!(\"XOR (exclusive): {:?}\", exclusive.as_slice());"
   ]
  },
  {
   "cell_type": "markdown",
   "metadata": {},
   "source": [
    "## 5. Math-First Compound Conditions\n",
    "\n",
    "Chain conditions with built-in operators for natural syntax:"
   ]
  },
  {
   "cell_type": "code",
   "execution_count": 10,
   "metadata": {},
   "outputs": [
    {
     "name": "stdout",
     "output_type": "stream",
     "text": [
      "Original data: [1.0, 2.0, 3.0, 4.0, 5.0]\n",
      "In range [2, 4]: [false, true, true, true, false]\n",
      "Out of range: [true, false, false, false, true]\n",
      "Not exactly 3: [true, true, false, true, true]\n"
     ]
    }
   ],
   "source": [
    "let data = vec64![1.0, 2.0, 3.0, 4.0, 5.0];\n",
    "\n",
    "// Range filtering with natural operators\n",
    "let in_range = data.ge(2.0) & data.le(4.0);           // 2.0 ≤ x ≤ 4.0\n",
    "let out_of_range = data.lt(2.0) | data.gt(4.0);       // x < 2.0 OR x > 4.0\n",
    "let not_exactly_three = !data.eq(3.0);                // NOT (x == 3.0)\n",
    "\n",
    "println!(\"Original data: {:?}\", data.to_slice());\n",
    "println!(\"In range [2, 4]: {:?}\", in_range.unwrap().as_slice());\n",
    "println!(\"Out of range: {:?}\", out_of_range.unwrap().as_slice());\n",
    "println!(\"Not exactly 3: {:?}\", not_exactly_three.as_slice());"
   ]
  },
  {
   "cell_type": "markdown",
   "metadata": {},
   "source": [
    "## 6. Statistical Analysis on Boolean Vectors\n",
    "\n",
    "Extract insights from comparison results:"
   ]
  },
  {
   "cell_type": "code",
   "execution_count": 11,
   "metadata": {},
   "outputs": [
    {
     "name": "stdout",
     "output_type": "stream",
     "text": [
      "Data: [1.0, 2.0, 3.0, 4.0, 5.0, 6.0, 7.0, 8.0]\n",
      "Outliers (> 5): [false, false, false, false, false, true, true, true]\n",
      "Any outliers? true\n",
      "All outliers? false\n",
      "Outlier count: 3 (37.5%)\n"
     ]
    }
   ],
   "source": [
    "let data = vec64![1.0, 2.0, 3.0, 4.0, 5.0, 6.0, 7.0, 8.0];\n",
    "let outliers = data.gt(5.0);\n",
    "\n",
    "// Statistical analysis\n",
    "let has_any_outliers = outliers.any();                // Any element is true?\n",
    "let all_are_outliers = outliers.all();                // All elements are true?\n",
    "let outlier_count = outliers.count_true();            // Number of outliers\n",
    "let normal_count = outliers.count_false();            // Number of normal values\n",
    "let outlier_percentage = (outlier_count as f64) / (data.len() as f64) * 100.0;\n",
    "\n",
    "println!(\"Data: {:?}\", data.to_slice());\n",
    "println!(\"Outliers (> 5): {:?}\", outliers.as_slice());\n",
    "println!(\"Any outliers? {}\", has_any_outliers);\n",
    "println!(\"All outliers? {}\", all_are_outliers);\n",
    "println!(\"Outlier count: {} ({:.1}%)\", outlier_count, outlier_percentage);\n",
    "println!(\"Normal count: {}\", normal_count);"
   ]
  },
  {
   "cell_type": "markdown",
   "metadata": {},
   "source": [
    "## 7. Index Extraction - Find Positions\n",
    "\n",
    "Get the indices where conditions are true or false:"
   ]
  },
  {
   "cell_type": "code",
   "execution_count": 12,
   "metadata": {},
   "outputs": [
    {
     "name": "stdout",
     "output_type": "stream",
     "text": [
      "Normal count: 5\n",
      "Scores: [85.0, 92.0, 78.0, 96.0, 88.0, 74.0, 91.0]\n",
      "Passing (≥ 80): [true, true, false, true, true, false, true]\n",
      "Passing student indices: [0, 1, 3, 4, 6]\n",
      "Failing student indices: [2, 5]\n"
     ]
    }
   ],
   "source": [
    "let scores = vec64![85.0, 92.0, 78.0, 96.0, 88.0, 74.0, 91.0];\n",
    "let passing_grade = 80.0;\n",
    "\n",
    "let passing = scores.ge(passing_grade);\n",
    "\n",
    "// Extract indices\n",
    "let passing_indices = passing.where_true();           // Indices of passing scores\n",
    "let failing_indices = passing.where_false();          // Indices of failing scores\n",
    "\n",
    "println!(\"Scores: {:?}\", scores.to_slice());\n",
    "println!(\"Passing (≥ {}): {:?}\", passing_grade, passing.as_slice());\n",
    "println!(\"Passing student indices: {:?}\", passing_indices);\n",
    "println!(\"Failing student indices: {:?}\", failing_indices);"
   ]
  },
  {
   "cell_type": "markdown",
   "metadata": {},
   "source": [
    "## 8. Data Filtering - Extract Values (CRITICAL FEATURE)\n",
    "\n",
    "The most important operation: extract actual values where conditions are true:"
   ]
  },
  {
   "cell_type": "code",
   "execution_count": 13,
   "metadata": {},
   "outputs": [
    {
     "name": "stdout",
     "output_type": "stream",
     "text": [
      "All temperatures: [18.5, 22.3, 25.8, 19.1, 24.6, 28.2, 21.7, 26.4]\n",
      "Too cold (< 20): [18.5, 19.1]\n",
      "Too hot (> 25): [25.8, 28.2, 26.4]\n",
      "Comfortable: [22.3, 24.6, 21.7]\n"
     ]
    }
   ],
   "source": [
    "let temperatures = vec64![18.5, 22.3, 25.8, 19.1, 24.6, 28.2, 21.7, 26.4];\n",
    "let comfortable_min = 20.0;\n",
    "let comfortable_max = 25.0;\n",
    "\n",
    "println!(\"All temperatures: {:?}\", temperatures.to_slice());\n",
    "\n",
    "\n",
    "// Create masks\n",
    "let too_cold = temperatures.lt(comfortable_min);\n",
    "let too_hot = temperatures.gt(comfortable_max);\n",
    "let comfortable = temperatures.ge(comfortable_min) & temperatures.le(comfortable_max);\n",
    "\n",
    "// Extract actual values\n",
    "let cold_temps = temperatures.where_mask(&too_cold).unwrap();\n",
    "let hot_temps = temperatures.where_mask(&too_hot).unwrap();\n",
    "let good_temps = temperatures.where_mask(&comfortable.unwrap()).unwrap();\n",
    "\n",
    "println!(\"Too cold (< {}): {:?}\", comfortable_min, cold_temps);\n",
    "println!(\"Too hot (> {}): {:?}\", comfortable_max, hot_temps);\n",
    "println!(\"Comfortable: {:?}\", good_temps);"
   ]
  },
  {
   "cell_type": "markdown",
   "metadata": {},
   "source": [
    "## 9. Real-World Example: Stock Analysis\n",
    "\n",
    "Practical application of the VectorOps API for financial data analysis:"
   ]
  },
  {
   "cell_type": "code",
   "execution_count": 14,
   "metadata": {},
   "outputs": [
    {
     "name": "stdout",
     "output_type": "stream",
     "text": [
      "Stock prices: [45.2, 52.1, 48.7, 55.3, 41.8, 49.2, 53.7, 38.5, 56.8, 50.1]\n",
      "Target price: 50\n",
      "Volatility threshold: ±5\n"
     ]
    }
   ],
   "source": [
    "// Stock price data\n",
    "let stock_prices = vec64![45.2, 52.1, 48.7, 55.3, 41.8, 49.2, 53.7, 38.5, 56.8, 50.1];\n",
    "let target_price = 50.0;\n",
    "let volatility_threshold = 5.0;\n",
    "\n",
    "println!(\"Stock prices: {:?}\", stock_prices.to_slice());\n",
    "println!(\"Target price: {}\", target_price);\n",
    "println!(\"Volatility threshold: ±{}\", volatility_threshold);"
   ]
  },
  {
   "cell_type": "code",
   "execution_count": 15,
   "metadata": {},
   "outputs": [
    {
     "name": "stdout",
     "output_type": "stream",
     "text": [
      "\n",
      "📊 Stock Analysis Results:\n",
      "Above target (50): 5 stocks\n",
      "High performers (> 55): [55.3, 56.8]\n",
      "Bargain opportunities (< 45): [41.8, 38.5]\n",
      "Stable prices (±2.0 range): [48.7, 49.2, 50.1]\n"
     ]
    }
   ],
   "source": [
    "// Analysis using VectorOps\n",
    "let above_target = stock_prices.gt(target_price);\n",
    "let high_performers = stock_prices.gt(target_price + volatility_threshold);\n",
    "let bargains = stock_prices.lt(target_price - volatility_threshold);\n",
    "let stable_range = stock_prices.ge(target_price - 2.0) & stock_prices.le(target_price + 2.0);\n",
    "\n",
    "// Extract actual stock prices\n",
    "let strong_stocks = stock_prices.where_mask(&high_performers).unwrap();\n",
    "let bargain_prices = stock_prices.where_mask(&bargains).unwrap();\n",
    "let stable_prices = stock_prices.where_mask(&stable_range.unwrap()).unwrap();\n",
    "\n",
    "println!(\"\\n📊 Stock Analysis Results:\");\n",
    "println!(\"Above target ({}): {} stocks\", target_price, above_target.count_true());\n",
    "println!(\"High performers (> {}): {:?}\", target_price + volatility_threshold, strong_stocks);\n",
    "println!(\"Bargain opportunities (< {}): {:?}\", target_price - volatility_threshold, bargain_prices);\n",
    "println!(\"Stable prices (±2.0 range): {:?}\", stable_prices);"
   ]
  },
  {
   "cell_type": "markdown",
   "metadata": {},
   "source": [
    "## 10. Advanced Filtering Patterns\n",
    "\n",
    "Combine multiple conditions for sophisticated data analysis:"
   ]
  },
  {
   "cell_type": "code",
   "execution_count": 16,
   "metadata": {},
   "outputs": [
    {
     "name": "stdout",
     "output_type": "stream",
     "text": [
      "Sensor readings: [22.5, 23.8, 19.2, 25.1, 18.7, 24.3, 26.8, 21.9, 17.5, 23.1]\n"
     ]
    }
   ],
   "source": [
    "// Sensor data analysis\n",
    "let sensor_data = vec64![22.5, 23.8, 19.2, 25.1, 18.7, 24.3, 26.8, 21.9, 17.5, 23.1];\n",
    "let normal_min = 20.0;\n",
    "let normal_max = 25.0;\n",
    "let critical_low = 18.0;\n",
    "let critical_high = 26.0;\n",
    "\n",
    "println!(\"Sensor readings: {:?}\", sensor_data.to_slice());"
   ]
  },
  {
   "cell_type": "code",
   "execution_count": 17,
   "metadata": {},
   "outputs": [
    {
     "name": "stdout",
     "output_type": "stream",
     "text": [
      "\n",
      "🔍 Sensor Analysis:\n",
      "Normal (20-25): [22.5, 23.8, 24.3, 21.9, 23.1]\n",
      "Warning Low: [19.2, 18.7]\n",
      "Warning High: [25.1]\n",
      "Critical: [26.8, 17.5]\n"
     ]
    }
   ],
   "source": [
    "// Multi-level classification\n",
    "let normal = sensor_data.ge(normal_min) & sensor_data.le(normal_max);\n",
    "let warning_low = sensor_data.ge(critical_low) & sensor_data.lt(normal_min);\n",
    "let warning_high = sensor_data.gt(normal_max) & sensor_data.le(critical_high);\n",
    "let critical = sensor_data.lt(critical_low) | sensor_data.gt(critical_high);\n",
    "\n",
    "// Extract values for each category\n",
    "let normal_readings = sensor_data.where_mask(&normal.unwrap()).unwrap();\n",
    "let warning_low_readings = sensor_data.where_mask(&warning_low.unwrap()).unwrap();\n",
    "let warning_high_readings = sensor_data.where_mask(&warning_high.unwrap()).unwrap();\n",
    "let critical_readings = sensor_data.where_mask(&critical.unwrap()).unwrap();\n",
    "\n",
    "println!(\"\\n🔍 Sensor Analysis:\");\n",
    "println!(\"Normal ({}-{}): {:?}\", normal_min, normal_max, normal_readings);\n",
    "println!(\"Warning Low: {:?}\", warning_low_readings);\n",
    "println!(\"Warning High: {:?}\", warning_high_readings);\n",
    "println!(\"Critical: {:?}\", critical_readings);\n"
   ]
  },
  {
   "cell_type": "markdown",
   "metadata": {},
   "source": [
    "## 12. Summary - VectorOps API\n",
    "\n",
    "### 🔥 Key Features\n",
    "1. **Ergonomic scalar comparisons**: `v.gt(3.0)` - shorter, cleaner\n",
    "2. **Clear vector comparisons**: `v1.gt_vec(&v2)` - unambiguous \n",
    "3. **Fuzzy equality**: `v1.is_close(&v2, rtol, atol)` - floating-point safe\n",
    "4. **Data filtering**: `v.where_mask(&mask)` - extract matching values\n",
    "5. **Boolean logic**: `&`, `|`, `!` operators work naturally\n",
    "6. **Statistical analysis**: `.any()`, `.all()`, `.count_true()`\n",
    "\n",
    "### 🎯 Best Practices\n",
    "1. Use `v.gt(scalar)` for thresholding and outlier detection\n",
    "2. Use `v1.gt_vec(&v2)` for element-wise vector comparisons\n",
    "3. Always use `.is_close()` instead of `.eq_vec()` for floating-point data\n",
    "4. Chain conditions with `&`, `|`, `!` for natural mathematical expressions\n",
    "5. Extract filtered data with `.where_mask(&condition)`\n",
    "\n",
    "### ⚡ Advantages\n",
    "- **More ergonomic** than old API\n",
    "- **Math-first syntax** - closest to mathematical notation\n",
    "- **Single trait** - simpler imports\n",
    "- **Consistent** with NumPy and scientific libraries\n",
    "- **Comprehensive** fuzzy equality support\n",
    "\n",
    "Next notebook: Linear Algebra operations"
   ]
  }
 ],
 "metadata": {
  "kernelspec": {
   "display_name": "Rust",
   "language": "rust",
   "name": "rust"
  },
  "language_info": {
   "codemirror_mode": "rust",
   "file_extension": ".rs",
   "mimetype": "text/rust",
   "name": "Rust",
   "pygment_lexer": "rust",
   "version": ""
  }
 },
 "nbformat": 4,
 "nbformat_minor": 4
}
