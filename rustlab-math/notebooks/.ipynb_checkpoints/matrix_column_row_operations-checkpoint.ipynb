{
 "cells": [
  {
   "cell_type": "markdown",
   "metadata": {},
   "source": [
    "# Matrix Row and Column Operations in RustLab Math\n",
    "\n",
    "This notebook demonstrates the new row/column extraction and vector-to-matrix conversion capabilities added to rustlab-math. These methods are essential for machine learning and linear algebra operations, especially in linear regression implementations."
   ]
  },
  {
   "cell_type": "markdown",
   "metadata": {},
   "source": [
    "## Setup and Imports\n",
    "\n",
    "First, let's import the necessary dependencies and create some sample data."
   ]
  },
  {
   "cell_type": "code",
   "execution_count": null,
   "metadata": {
    "vscode": {
     "languageId": "rust"
    }
   },
   "outputs": [],
   "source": [
    ":dep rustlab-math = { path = \"..\" }\n",
    ":dep rustlab-linearalgebra = { path = \"../../rustlab-linearalgebra\" }\n",
    "\n",
    "use rustlab_math::{ArrayF64, VectorF64, array64, vec64};\n",
    "use rustlab_math::BasicStatistics;\n",
    "use rustlab_linearalgebra::BasicLinearAlgebra;\n",
    "\n",
    "println!(\"✅ Dependencies loaded successfully!\");"
   ]
  },
  {
   "cell_type": "markdown",
   "metadata": {},
   "source": [
    "## 1. Column Extraction - Feature Analysis\n",
    "\n",
    "Column extraction is fundamental for analyzing features in datasets. Each column typically represents a feature in machine learning contexts."
   ]
  },
  {
   "cell_type": "code",
   "execution_count": null,
   "metadata": {
    "vscode": {
     "languageId": "rust"
    }
   },
   "outputs": [],
   "source": [
    "{\n",
    "    // Create a sample dataset: 5 samples × 3 features\n",
    "    let dataset = array64![\n",
    "        [1.0, 2.0, 3.0],   // Sample 1\n",
    "        [4.0, 5.0, 6.0],   // Sample 2\n",
    "        [7.0, 8.0, 9.0],   // Sample 3\n",
    "        [10.0, 11.0, 12.0], // Sample 4\n",
    "        [13.0, 14.0, 15.0]  // Sample 5\n",
    "    ];\n",
    "    \n",
    "    println!(\"Dataset shape: {:?}\\n\", dataset.shape());\n",
    "    \n",
    "    // Extract each feature column\n",
    "    for j in 0..dataset.ncols() {\n",
    "        let feature = dataset.col(j).unwrap();\n",
    "        let mean = feature.mean();\n",
    "        let std = feature.std(None);\n",
    "        \n",
    "        println!(\"Feature {}: {:?}\", j, feature.to_slice());\n",
    "        println!(\"  Mean: {:.2}, Std Dev: {:.2}\\n\", mean, std);\n",
    "    }\n",
    "}"
   ]
  },
  {
   "cell_type": "markdown",
   "metadata": {},
   "source": [
    "## 2. Row Extraction - Sample Analysis\n",
    "\n",
    "Row extraction allows us to analyze individual samples or observations in our dataset."
   ]
  },
  {
   "cell_type": "code",
   "execution_count": null,
   "metadata": {
    "vscode": {
     "languageId": "rust"
    }
   },
   "outputs": [],
   "source": [
    "{\n",
    "    // Create a dataset with different types of samples\n",
    "    let samples = array64![\n",
    "        [0.5, 1.2, 0.8, 0.3],  // Low values\n",
    "        [5.5, 6.2, 5.8, 6.3],  // Medium values\n",
    "        [9.5, 10.2, 9.8, 10.3] // High values\n",
    "    ];\n",
    "    \n",
    "    println!(\"Analyzing individual samples:\\n\");\n",
    "    \n",
    "    for i in 0..samples.nrows() {\n",
    "        let sample = samples.row(i).unwrap();\n",
    "        let sum = sample.sum_elements();\n",
    "        let mean = sample.mean();\n",
    "        let l2_norm = (&sample ^ &sample).sqrt();  // L2 norm\n",
    "        \n",
    "        println!(\"Sample {}: {:?}\", i, sample.to_slice());\n",
    "        println!(\"  Sum: {:.2}, Mean: {:.2}, L2 Norm: {:.2}\\n\", sum, mean, l2_norm);\n",
    "    }\n",
    "}"
   ]
  },
  {
   "cell_type": "markdown",
   "metadata": {},
   "source": [
    "## 3. Vector to Matrix Conversion for Linear Algebra\n",
    "\n",
    "Converting vectors to column matrices is essential for matrix operations in linear algebra, particularly when solving linear systems."
   ]
  },
  {
   "cell_type": "code",
   "execution_count": null,
   "metadata": {
    "vscode": {
     "languageId": "rust"
    }
   },
   "outputs": [],
   "source": [
    "{\n",
    "    // Create a vector\n",
    "    let v = vec64![1.0, 2.0, 3.0, 4.0];\n",
    "    println!(\"Original vector: {:?}\", v.to_slice());\n",
    "    println!(\"Vector length: {}\\n\", v.len());\n",
    "    \n",
    "    // Convert to column matrix\n",
    "    let col_matrix = ArrayF64::from_vector_column(&v);\n",
    "    println!(\"Column matrix shape: {:?}\", col_matrix.shape());\n",
    "    println!(\"Column matrix contents:\");\n",
    "    for i in 0..col_matrix.nrows() {\n",
    "        println!(\"  [{:.1}]\", col_matrix[(i, 0)]);\n",
    "    }\n",
    "    \n",
    "    // Extract back to vector\n",
    "    let extracted = col_matrix.to_vector_column();\n",
    "    println!(\"\\nExtracted vector: {:?}\", extracted.to_slice());\n",
    "    println!(\"Vectors are equal: {}\", v.to_slice() == extracted.to_slice());\n",
    "}"
   ]
  },
  {
   "cell_type": "markdown",
   "metadata": {},
   "source": [
    "## 4. Practical Example: Solving Linear Systems\n",
    "\n",
    "Let's demonstrate how these operations are used in solving the normal equations for linear regression: (X'X)β = X'y"
   ]
  },
  {
   "cell_type": "code",
   "execution_count": null,
   "metadata": {
    "vscode": {
     "languageId": "rust"
    }
   },
   "outputs": [],
   "source": [
    "{\n",
    "    // Design matrix X (with intercept column) and target vector y\n",
    "    let X = array64![\n",
    "        [1.0, 1.0],   // Sample 1: intercept=1, feature=1\n",
    "        [1.0, 2.0],   // Sample 2: intercept=1, feature=2\n",
    "        [1.0, 3.0],   // Sample 3: intercept=1, feature=3\n",
    "        [1.0, 4.0]    // Sample 4: intercept=1, feature=4\n",
    "    ];\n",
    "    \n",
    "    // Target values: y = 2 + 3*x (true relationship)\n",
    "    let y = vec64![5.0, 8.0, 11.0, 14.0];\n",
    "    \n",
    "    println!(\"Design matrix X:\");\n",
    "    for i in 0..X.nrows() {\n",
    "        let row = X.row(i).unwrap();\n",
    "        println!(\"  {:?}\", row.to_slice());\n",
    "    }\n",
    "    println!(\"\\nTarget vector y: {:?}\\n\", y.to_slice());\n",
    "    \n",
    "    // Solve normal equations: β = (X'X)^(-1)X'y\n",
    "    let Xt = X.transpose();\n",
    "    let XtX = &Xt ^ &X;\n",
    "    \n",
    "    // Convert y to column matrix for matrix multiplication\n",
    "    let y_matrix = ArrayF64::from_vector_column(&y);\n",
    "    let Xty_matrix = &Xt ^ &y_matrix;\n",
    "    \n",
    "    // Solve for coefficients\n",
    "    let XtX_inv = XtX.inv().unwrap();\n",
    "    let beta_matrix = &XtX_inv ^ &Xty_matrix;\n",
    "    \n",
    "    // Extract coefficients back to vector\n",
    "    let beta = beta_matrix.to_vector_column();\n",
    "    \n",
    "    println!(\"Estimated coefficients:\");\n",
    "    println!(\"  Intercept (β₀): {:.2}\", beta[0]);\n",
    "    println!(\"  Slope (β₁): {:.2}\", beta[1]);\n",
    "    println!(\"\\nTrue values were: β₀=2.0, β₁=3.0\");\n",
    "}"
   ]
  },
  {
   "cell_type": "markdown",
   "metadata": {},
   "source": [
    "## 5. Zero-Copy Views for Performance\n",
    "\n",
    "For large datasets, zero-copy views provide efficient access without memory allocation."
   ]
  },
  {
   "cell_type": "code",
   "execution_count": null,
   "metadata": {
    "vscode": {
     "languageId": "rust"
    }
   },
   "outputs": [],
   "source": [
    "{\n",
    "    // Create a larger dataset\n",
    "    let large_data = ArrayF64::ones(1000, 100);\n",
    "    println!(\"Large dataset shape: {:?}\", large_data.shape());\n",
    "    println!(\"Memory size: ~{:.2} MB\\n\", (1000 * 100 * 8) as f64 / 1_000_000.0);\n",
    "    \n",
    "    // Zero-copy column view - instant access\n",
    "    let col_view = large_data.col_view(50).unwrap();\n",
    "    println!(\"Column view shape: {:?}\", col_view.shape());\n",
    "    println!(\"View created with zero memory allocation!\\n\");\n",
    "    \n",
    "    // Zero-copy row view\n",
    "    let row_view = large_data.row_view(500).unwrap();\n",
    "    println!(\"Row view shape: {:?}\", row_view.shape());\n",
    "    \n",
    "    // Convert view to owned Vector only when needed\n",
    "    let owned_col = col_view.col(0).unwrap();\n",
    "    println!(\"\\nOwned column extracted, length: {}\", owned_col.len());\n",
    "    \n",
    "    // Performance comparison message\n",
    "    println!(\"\\n📊 Performance Note:\");\n",
    "    println!(\"  - col_view(): O(1) time, no allocation\");\n",
    "    println!(\"  - col(): O(n) time, allocates memory\");\n",
    "    println!(\"  Use views for temporary access, owned for storage!\");\n",
    "}"
   ]
  },
  {
   "cell_type": "markdown",
   "metadata": {},
   "source": [
    "## 6. Feature Normalization Example\n",
    "\n",
    "A common preprocessing step in machine learning is feature normalization (standardization)."
   ]
  },
  {
   "cell_type": "code",
   "execution_count": null,
   "metadata": {
    "vscode": {
     "languageId": "rust"
    }
   },
   "outputs": [],
   "source": [
    "{\n",
    "    // Create a dataset with features at different scales\n",
    "    let data = array64![\n",
    "        [1.0, 100.0, 0.001],\n",
    "        [2.0, 200.0, 0.002],\n",
    "        [3.0, 300.0, 0.003],\n",
    "        [4.0, 400.0, 0.004],\n",
    "        [5.0, 500.0, 0.005]\n",
    "    ];\n",
    "    \n",
    "    println!(\"Original data:\");\n",
    "    for i in 0..data.nrows() {\n",
    "        let row = data.row(i).unwrap();\n",
    "        println!(\"  {:?}\", row.to_slice());\n",
    "    }\n",
    "    \n",
    "    // Normalize each feature (column)\n",
    "    let mut normalized = ArrayF64::zeros(data.nrows(), data.ncols());\n",
    "    \n",
    "    for j in 0..data.ncols() {\n",
    "        let feature = data.col(j).unwrap();\n",
    "        let mean = feature.mean();\n",
    "        let std = feature.std(None);\n",
    "        \n",
    "        println!(\"\\nFeature {}: mean={:.3}, std={:.3}\", j, mean, std);\n",
    "        \n",
    "        // Normalize: (x - mean) / std\n",
    "        for i in 0..data.nrows() {\n",
    "            normalized[(i, j)] = (data[(i, j)] - mean) / std;\n",
    "        }\n",
    "    }\n",
    "    \n",
    "    println!(\"\\nNormalized data:\");\n",
    "    for i in 0..normalized.nrows() {\n",
    "        let row = normalized.row(i).unwrap();\n",
    "        print!(\"  [\");\n",
    "        for (idx, val) in row.to_slice().iter().enumerate() {\n",
    "            if idx > 0 { print!(\", \"); }\n",
    "            print!(\"{:6.3}\", val);\n",
    "        }\n",
    "        println!(\"]\");\n",
    "    }\n",
    "    \n",
    "    // Verify normalization\n",
    "    println!(\"\\nVerification (each feature should have mean≈0, std≈1):\");\n",
    "    for j in 0..normalized.ncols() {\n",
    "        let feature = normalized.col(j).unwrap();\n",
    "        println!(\"  Feature {}: mean={:.6}, std={:.6}\", j, feature.mean(), feature.std(None));\n",
    "    }\n",
    "}"
   ]
  },
  {
   "cell_type": "markdown",
   "metadata": {},
   "source": [
    "## 7. Performance Comparison: Owned vs Views\n",
    "\n",
    "Let's demonstrate when to use owned extraction vs zero-copy views."
   ]
  },
  {
   "cell_type": "code",
   "execution_count": null,
   "metadata": {
    "vscode": {
     "languageId": "rust"
    }
   },
   "outputs": [],
   "source": [
    "{\n",
    "    use std::time::Instant;\n",
    "    \n",
    "    // Create a large matrix for performance testing\n",
    "    let big_matrix = ArrayF64::ones(10000, 100);\n",
    "    println!(\"Test matrix: {} × {}\", big_matrix.nrows(), big_matrix.ncols());\n",
    "    println!(\"Memory: ~{:.2} MB\\n\", (10000 * 100 * 8) as f64 / 1_000_000.0);\n",
    "    \n",
    "    // Test 1: Owned column extraction\n",
    "    let start = Instant::now();\n",
    "    for _ in 0..100 {\n",
    "        let _col = big_matrix.col(50).unwrap();  // Allocates memory\n",
    "    }\n",
    "    let owned_time = start.elapsed();\n",
    "    \n",
    "    // Test 2: View column extraction\n",
    "    let start = Instant::now();\n",
    "    for _ in 0..100 {\n",
    "        let _col_view = big_matrix.col_view(50).unwrap();  // Zero-copy\n",
    "    }\n",
    "    let view_time = start.elapsed();\n",
    "    \n",
    "    println!(\"Performance Results (100 iterations):\");\n",
    "    println!(\"  Owned col():     {:?}\", owned_time);\n",
    "    println!(\"  View col_view(): {:?}\", view_time);\n",
    "    println!(\"  Speedup:         {:.1}x faster\\n\", \n",
    "             owned_time.as_nanos() as f64 / view_time.as_nanos() as f64);\n",
    "    \n",
    "    println!(\"📌 Guidelines:\");\n",
    "    println!(\"  • Use col_view() for temporary access (reading)\");\n",
    "    println!(\"  • Use col() when you need to store or modify\");\n",
    "    println!(\"  • Use col_view() in loops to avoid allocations\");\n",
    "    println!(\"  • Use col() when passing data to other functions\");\n",
    "}"
   ]
  },
  {
   "cell_type": "markdown",
   "metadata": {},
   "source": [
    "## 8. Complete Linear Regression Example\n",
    "\n",
    "Let's put it all together with a complete linear regression implementation using our new methods."
   ]
  },
  {
   "cell_type": "code",
   "execution_count": null,
   "metadata": {
    "vscode": {
     "languageId": "rust"
    }
   },
   "outputs": [],
   "source": [
    "{\n",
    "    // Generate synthetic dataset: y = 3 + 2*x1 - 1.5*x2 + noise\n",
    "    let X_data = array64![\n",
    "        [1.0, 2.0, 1.0],\n",
    "        [1.0, 3.0, 2.0],\n",
    "        [1.0, 4.0, 1.5],\n",
    "        [1.0, 5.0, 3.0],\n",
    "        [1.0, 6.0, 2.5],\n",
    "        [1.0, 7.0, 4.0]\n",
    "    ];\n",
    "    \n",
    "    let y_true = vec64![6.5, 7.0, 9.25, 8.5, 10.75, 11.0];\n",
    "    \n",
    "    println!(\"Dataset:\");\n",
    "    println!(\"  Samples: {}\", X_data.nrows());\n",
    "    println!(\"  Features: {} (including intercept)\\n\", X_data.ncols());\n",
    "    \n",
    "    // Display feature statistics\n",
    "    println!(\"Feature Statistics:\");\n",
    "    for j in 0..X_data.ncols() {\n",
    "        let feature = X_data.col(j).unwrap();\n",
    "        let name = match j {\n",
    "            0 => \"Intercept\",\n",
    "            1 => \"Feature 1\",\n",
    "            2 => \"Feature 2\",\n",
    "            _ => \"Feature N\"\n",
    "        };\n",
    "        println!(\"  {}: mean={:.2}, std={:.2}\", \n",
    "                 name, feature.mean(), feature.std(None));\n",
    "    }\n",
    "    \n",
    "    // Fit linear regression using normal equations\n",
    "    let Xt = X_data.transpose();\n",
    "    let XtX = &Xt ^ &X_data;\n",
    "    let y_matrix = ArrayF64::from_vector_column(&y_true);\n",
    "    let Xty = &Xt ^ &y_matrix;\n",
    "    \n",
    "    let XtX_inv = XtX.inv().unwrap();\n",
    "    let beta_matrix = &XtX_inv ^ &Xty;\n",
    "    let beta = beta_matrix.to_vector_column();\n",
    "    \n",
    "    println!(\"\\nEstimated Coefficients:\");\n",
    "    println!(\"  β₀ (intercept): {:.3}\", beta[0]);\n",
    "    println!(\"  β₁ (feature 1): {:.3}\", beta[1]);\n",
    "    println!(\"  β₂ (feature 2): {:.3}\", beta[2]);\n",
    "    \n",
    "    // Make predictions\n",
    "    let y_pred_matrix = &X_data ^ &beta_matrix;\n",
    "    let y_pred = y_pred_matrix.to_vector_column();\n",
    "    \n",
    "    // Calculate R²\n",
    "    let residuals = &y_true - &y_pred;\n",
    "    let ss_res = &residuals ^ &residuals;\n",
    "    let y_mean = y_true.mean();\n",
    "    let y_centered = &y_true - y_mean;\n",
    "    let ss_tot = &y_centered ^ &y_centered;\n",
    "    let r_squared = 1.0 - ss_res / ss_tot;\n",
    "    \n",
    "    println!(\"\\nModel Performance:\");\n",
    "    println!(\"  R² Score: {:.4}\", r_squared);\n",
    "    \n",
    "    println!(\"\\nPredictions vs Actual:\");\n",
    "    for i in 0..y_true.len() {\n",
    "        println!(\"  Sample {}: Actual={:.2}, Predicted={:.2}, Error={:.3}\",\n",
    "                 i, y_true[i], y_pred[i], (y_true[i] - y_pred[i]).abs());\n",
    "    }\n",
    "}"
   ]
  },
  {
   "cell_type": "markdown",
   "metadata": {},
   "source": [
    "## Summary\n",
    "\n",
    "The new row/column operations in rustlab-math provide:\n",
    "\n",
    "1. **Owned Extraction** (`col()`, `row()`): Creates new Vectors with copied data\n",
    "2. **Zero-Copy Views** (`col_view()`, `row_view()`): Efficient temporary access\n",
    "3. **Vector-Matrix Conversion** (`from_vector_column()`, `to_vector_column()`): Essential for linear algebra\n",
    "\n",
    "### Key Takeaways:\n",
    "\n",
    "- Use **views** for temporary access and iteration (no memory allocation)\n",
    "- Use **owned** extraction when you need to store or modify data\n",
    "- **Vector-to-matrix** conversion enables seamless linear algebra operations\n",
    "- These operations are fundamental for implementing machine learning algorithms\n",
    "\n",
    "### Performance Guidelines:\n",
    "\n",
    "- `col_view()`/`row_view()`: O(1) time, zero allocation\n",
    "- `col()`/`row()`: O(n) time, allocates memory\n",
    "- Choose based on your use case: temporary vs permanent access"
   ]
  }
 ],
 "metadata": {
  "kernelspec": {
   "display_name": "Rust",
   "language": "rust",
   "name": "rust"
  },
  "language_info": {
   "codemirror_mode": "rust",
   "file_extension": ".rs",
   "mimetype": "text/rust",
   "name": "Rust",
   "pygment_lexer": "rust",
   "version": ""
  }
 },
 "nbformat": 4,
 "nbformat_minor": 4
}
