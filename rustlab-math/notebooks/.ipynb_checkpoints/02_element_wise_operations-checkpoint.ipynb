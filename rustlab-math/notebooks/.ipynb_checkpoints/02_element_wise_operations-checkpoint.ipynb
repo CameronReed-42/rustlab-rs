{
 "cells": [
  {
   "cell_type": "markdown",
   "metadata": {},
   "source": [
    "# 02. Element-wise Operations\n",
    "\n",
    "Master element-wise operations using RustLab's math-first, ergonomic syntax. This notebook covers arithmetic operations, mathematical functions, and chaining operations.\n",
    "\n",
    "## Setup\n",
    "\n",
    "**Important**: The setup cell below follows Rust notebook best practices:\n",
    "- Dependencies and imports are declared at the **top level** (outside braces) so they persist across all cells\n",
    "- Test code is wrapped in braces `{}` to avoid persistence issues with complex types\n",
    "- This pattern ensures compatibility with both rust-analyzer and evcxr"
   ]
  },
  {
   "cell_type": "code",
   "execution_count": 4,
   "metadata": {
    "vscode": {
     "languageId": "rust"
    }
   },
   "outputs": [
    {
     "name": "stdout",
     "output_type": "stream",
     "text": [
      "✅ Setup complete! Test vector length: 3\n"
     ]
    },
    {
     "data": {
      "text/plain": [
       "()"
      ]
     },
     "execution_count": 4,
     "metadata": {},
     "output_type": "execute_result"
    }
   ],
   "source": [
    "// Setup Cell - dependencies and imports persist across all cells\n",
    ":dep rustlab-rs = { path = \"../..\" }\n",
    ":dep rustlab-math = { path = \"..\" }\n",
    "\n",
    "// Top-level imports - these persist across all cells!\n",
    "use rustlab_math::*;\n",
    "use rustlab_rs::prelude::*;\n",
    "use std::f64::consts::PI;\n",
    "\n",
    "// Test setup in braces (variables don't persist, but confirms setup works)\n",
    "{\n",
    "    let test_vec = vec64![1.0, 2.0, 3.0];\n",
    "    println!(\"✅ Setup complete! Test vector length: {}\", test_vec.len());\n",
    "}"
   ]
  },
  {
   "cell_type": "markdown",
   "metadata": {},
   "source": [
    "## 1. Math-First Element-wise Arithmetic\n",
    "\n",
    "RustLab uses natural mathematical syntax with reference operators to avoid ownership issues."
   ]
  },
  {
   "cell_type": "code",
   "execution_count": 5,
   "metadata": {
    "vscode": {
     "languageId": "rust"
    }
   },
   "outputs": [
    {
     "name": "stdout",
     "output_type": "stream",
     "text": [
      "Prices: [10.0, 20.0, 30.0, 40.0]\n",
      "Discounts: [0.9, 0.8, 0.7, 0.95]\n",
      "Quantities: [2.0, 1.0, 3.0, 2.0]\n"
     ]
    }
   ],
   "source": [
    "// Create vectors for demonstration\n",
    "let prices = vec64![10.0, 20.0, 30.0, 40.0];\n",
    "let discounts = vec64![0.9, 0.8, 0.7, 0.95];  // 10%, 20%, 30%, 5% discounts\n",
    "let quantities = vec64![2.0, 1.0, 3.0, 2.0];\n",
    "\n",
    "println!(\"Prices: {:?}\", prices.to_slice());\n",
    "println!(\"Discounts: {:?}\", discounts.to_slice());\n",
    "println!(\"Quantities: {:?}\", quantities.to_slice());"
   ]
  },
  {
   "cell_type": "code",
   "execution_count": 6,
   "metadata": {
    "vscode": {
     "languageId": "rust"
    }
   },
   "outputs": [
    {
     "name": "stdout",
     "output_type": "stream",
     "text": [
      "Discounted prices: [9.0, 16.0, 21.0, 38.0]\n",
      "Total costs: [18.0, 16.0, 63.0, 76.0]\n"
     ]
    }
   ],
   "source": [
    "// Element-wise multiplication (math-first syntax)\n",
    "let discounted_prices = &prices * &discounts;\n",
    "println!(\"Discounted prices: {:?}\", discounted_prices.to_slice());\n",
    "\n",
    "// Chain operations naturally\n",
    "let total_costs = &discounted_prices * &quantities;\n",
    "println!(\"Total costs: {:?}\", total_costs.to_slice());"
   ]
  },
  {
   "cell_type": "code",
   "execution_count": 7,
   "metadata": {
    "vscode": {
     "languageId": "rust"
    }
   },
   "outputs": [
    {
     "name": "stdout",
     "output_type": "stream",
     "text": [
      "v1 + v2: [12.0, 24.0, 36.0, 48.0]\n",
      "v1 - v2: [8.0, 16.0, 24.0, 32.0]\n",
      "v1 * v2: [20.0, 80.0, 180.0, 320.0]\n",
      "v1 / v2: [5.0, 5.0, 5.0, 5.0]\n"
     ]
    }
   ],
   "source": [
    "// All arithmetic operations\n",
    "let v1 = vec64![10.0, 20.0, 30.0, 40.0];\n",
    "let v2 = vec64![2.0, 4.0, 6.0, 8.0];\n",
    "\n",
    "let addition = &v1 + &v2;\n",
    "let subtraction = &v1 - &v2;\n",
    "let multiplication = &v1 * &v2;\n",
    "let division = &v1 / &v2;\n",
    "\n",
    "println!(\"v1 + v2: {:?}\", addition.to_slice());\n",
    "println!(\"v1 - v2: {:?}\", subtraction.to_slice());\n",
    "println!(\"v1 * v2: {:?}\", multiplication.to_slice());\n",
    "println!(\"v1 / v2: {:?}\", division.to_slice());"
   ]
  },
  {
   "cell_type": "markdown",
   "metadata": {},
   "source": [
    "## 2. Scalar Operations\n",
    "\n",
    "Operations between vectors/arrays and scalar values using natural mathematical syntax:"
   ]
  },
  {
   "cell_type": "code",
   "execution_count": 8,
   "metadata": {
    "vscode": {
     "languageId": "rust"
    }
   },
   "outputs": [
    {
     "name": "stdout",
     "output_type": "stream",
     "text": [
      "Original: [1.0, 2.0, 3.0, 4.0, 5.0]\n",
      "Doubled: [2.0, 4.0, 6.0, 8.0, 10.0]\n",
      "Shifted: [11.0, 12.0, 13.0, 14.0, 15.0]\n",
      "Scaled+Shifted: [4.0, 7.0, 10.0, 13.0, 16.0]\n"
     ]
    }
   ],
   "source": [
    "let data = vec64![1.0, 2.0, 3.0, 4.0, 5.0];\n",
    "\n",
    "// Scalar operations - now with proper math-first syntax!\n",
    "let doubled = &data * 2.0;        // Multiply by scalar\n",
    "let shifted = &data + 10.0;       // Add scalar (now works!)\n",
    "let scaled_shifted = (&data * 3.0) + 1.0;  // Chain operations (now works!)\n",
    "\n",
    "println!(\"Original: {:?}\", data.to_slice());\n",
    "println!(\"Doubled: {:?}\", doubled.to_slice());\n",
    "println!(\"Shifted: {:?}\", shifted.to_slice());\n",
    "println!(\"Scaled+Shifted: {:?}\", scaled_shifted.to_slice());"
   ]
  },
  {
   "cell_type": "markdown",
   "metadata": {},
   "source": [
    "## 3. Array Element-wise Operations\n",
    "\n",
    "2D arrays (matrices) support the same element-wise operations:"
   ]
  },
  {
   "cell_type": "code",
   "execution_count": 9,
   "metadata": {
    "vscode": {
     "languageId": "rust"
    }
   },
   "outputs": [
    {
     "name": "stdout",
     "output_type": "stream",
     "text": [
      "Original costs:\n",
      " 100.0  200.0 \n",
      " 300.0  400.0 \n"
     ]
    },
    {
     "data": {
      "text/plain": [
       "()"
      ]
     },
     "execution_count": 9,
     "metadata": {},
     "output_type": "execute_result"
    }
   ],
   "source": [
    "let costs = array64![\n",
    "    [100.0, 200.0],\n",
    "    [300.0, 400.0]\n",
    "];\n",
    "let markups = array64![\n",
    "    [1.2, 1.1],\n",
    "    [1.3, 1.05]\n",
    "];\n",
    "\n",
    "println!(\"Original costs:\");\n",
    "for i in 0..2 {\n",
    "    for j in 0..2 {\n",
    "        print!(\"{:6.1} \", costs.get(i, j).unwrap());\n",
    "    }\n",
    "    println!();\n",
    "}"
   ]
  },
  {
   "cell_type": "code",
   "execution_count": 10,
   "metadata": {
    "vscode": {
     "languageId": "rust"
    }
   },
   "outputs": [
    {
     "name": "stdout",
     "output_type": "stream",
     "text": [
      "Final prices with markup and tax:\n",
      " 132.0  242.0 \n",
      " 429.0  462.0 \n"
     ]
    },
    {
     "data": {
      "text/plain": [
       "()"
      ]
     },
     "execution_count": 10,
     "metadata": {},
     "output_type": "execute_result"
    }
   ],
   "source": [
    "// Element-wise operations on arrays\n",
    "let marked_up_costs = &costs * &markups;\n",
    "let tax_rate = 0.1;\n",
    "let with_tax = &marked_up_costs * (1.0 + tax_rate);\n",
    "\n",
    "println!(\"Final prices with markup and tax:\");\n",
    "for i in 0..2 {\n",
    "    for j in 0..2 {\n",
    "        print!(\"{:6.1} \", with_tax.get(i, j).unwrap());\n",
    "    }\n",
    "    println!();\n",
    "}"
   ]
  },
  {
   "cell_type": "markdown",
   "metadata": {},
   "source": [
    "## 4. Mathematical Functions with Functional Style\n",
    "\n",
    "Apply mathematical functions to every element using `.map()`:"
   ]
  },
  {
   "cell_type": "code",
   "execution_count": 11,
   "metadata": {
    "vscode": {
     "languageId": "rust"
    }
   },
   "outputs": [
    {
     "name": "stdout",
     "output_type": "stream",
     "text": [
      "Angles (radians): [0.0, 0.5235987755982988, 0.7853981633974483, 1.0471975511965976, 1.5707963267948966]\n",
      "Sin values: [0.0, 0.49999999999999994, 0.7071067811865475, 0.8660254037844386, 1.0]\n",
      "Cos values: [1.0, 0.8660254037844387, 0.7071067811865476, 0.5000000000000001, 6.123233995736766e-17]\n"
     ]
    }
   ],
   "source": [
    "// Trigonometric functions\n",
    "let angles = vec64![0.0, PI/6.0, PI/4.0, PI/3.0, PI/2.0];\n",
    "\n",
    "let sin_values = angles.map(|x| x.sin());\n",
    "let cos_values = angles.map(|x| x.cos());\n",
    "let tan_values = angles.map(|x| x.tan());\n",
    "\n",
    "println!(\"Angles (radians): {:?}\", angles.to_slice());\n",
    "println!(\"Sin values: {:?}\", sin_values.to_slice());\n",
    "println!(\"Cos values: {:?}\", cos_values.to_slice());"
   ]
  },
  {
   "cell_type": "code",
   "execution_count": 12,
   "metadata": {
    "vscode": {
     "languageId": "rust"
    }
   },
   "outputs": [
    {
     "name": "stdout",
     "output_type": "stream",
     "text": [
      "Original: [1.0, 2.0, 3.0, 4.0]\n",
      "e^x: [2.718281828459045, 7.38905609893065, 20.085536923187668, 54.598150033144236]\n",
      "ln(x): [0.0, 0.6931471805599453, 1.0986122886681098, 1.3862943611198906]\n",
      "√x: [1.0, 1.4142135623730951, 1.7320508075688772, 2.0]\n",
      "x²: [1.0, 4.0, 9.0, 16.0]\n"
     ]
    }
   ],
   "source": [
    "// Exponential and logarithmic functions\n",
    "let data = vec64![1.0, 2.0, 3.0, 4.0];\n",
    "\n",
    "let exponentials = data.map(|x| x.exp());      // e^x\n",
    "let logarithms = data.map(|x| x.ln());         // ln(x)\n",
    "let sqrt_values = data.map(|x| x.sqrt());      // √x\n",
    "let squared = data.map(|x| x * x);              // x²\n",
    "\n",
    "println!(\"Original: {:?}\", data.to_slice());\n",
    "println!(\"e^x: {:?}\", exponentials.to_slice());\n",
    "println!(\"ln(x): {:?}\", logarithms.to_slice());\n",
    "println!(\"√x: {:?}\", sqrt_values.to_slice());\n",
    "println!(\"x²: {:?}\", squared.to_slice());"
   ]
  },
  {
   "cell_type": "markdown",
   "metadata": {},
   "source": [
    "## 5. Advanced Mathematical Transformations"
   ]
  },
  {
   "cell_type": "code",
   "execution_count": 13,
   "metadata": {
    "vscode": {
     "languageId": "rust"
    }
   },
   "outputs": [
    {
     "name": "stdout",
     "output_type": "stream",
     "text": [
      "Original: [1.0, 4.0, 9.0, 16.0]\n",
      "√x then e^(√x): [2.718281828459045, 7.38905609893065, 20.085536923187668, 54.598150033144236]\n",
      "Sigmoid: [0.7310585786300049, 0.9820137900379085, 0.9998766054240137, 0.9999998874648379]\n",
      "Gaussian: [0.6065306597126334, 0.00033546262790251185, 2.576757109154981e-18, 2.572209372642415e-56]\n"
     ]
    }
   ],
   "source": [
    "// Complex transformations\n",
    "let x = vec64![1.0, 4.0, 9.0, 16.0];\n",
    "\n",
    "// Transform: take square root, then apply exponential\n",
    "let sqrt_then_exp = x.map(|val| val.sqrt().exp());\n",
    "\n",
    "// Custom mathematical functions\n",
    "let sigmoid = x.map(|val| 1.0 / (1.0 + (-val).exp()));\n",
    "let gaussian = x.map(|val| (-val * val / 2.0).exp());\n",
    "\n",
    "println!(\"Original: {:?}\", x.to_slice());\n",
    "println!(\"√x then e^(√x): {:?}\", sqrt_then_exp.to_slice());\n",
    "println!(\"Sigmoid: {:?}\", sigmoid.to_slice());\n",
    "println!(\"Gaussian: {:?}\", gaussian.to_slice());"
   ]
  },
  {
   "cell_type": "markdown",
   "metadata": {},
   "source": [
    "## 6. Chaining Operations - Math Pipeline\n",
    "\n",
    "Chain multiple operations for data processing pipelines:"
   ]
  },
  {
   "cell_type": "code",
   "execution_count": 14,
   "metadata": {
    "vscode": {
     "languageId": "rust"
    }
   },
   "outputs": [
    {
     "name": "stdout",
     "output_type": "stream",
     "text": [
      "Raw data: [10.0, 15.0, 20.0, 25.0, 30.0]\n",
      "Mean: 20.00\n",
      "Normalized: [-10.0, -5.0, 0.0, 5.0, 10.0]\n",
      "Final result: [-0.9999999999962409, -0.9997532108480275, 0.9997532108480275, 0.9999999999962409, 1.0]\n"
     ]
    }
   ],
   "source": [
    "// Data processing pipeline\n",
    "let raw_data = vec64![10.0, 15.0, 20.0, 25.0, 30.0];\n",
    "\n",
    "// Pipeline: normalize → scale → offset → smooth\n",
    "let mean = raw_data.sum_elements() / raw_data.len() as f64;\n",
    "let normalized = raw_data.map(|x| x - mean);\n",
    "let scaled = &normalized * 2.0;\n",
    "let offset = &scaled + 5.0;\n",
    "let smoothed = offset.map(|x| (x * 0.9).tanh());\n",
    "\n",
    "println!(\"Raw data: {:?}\", raw_data.to_slice());\n",
    "println!(\"Mean: {:.2}\", mean);\n",
    "println!(\"Normalized: {:?}\", normalized.to_slice());\n",
    "println!(\"Final result: {:?}\", smoothed.to_slice());"
   ]
  },
  {
   "cell_type": "markdown",
   "metadata": {},
   "source": [
    "## 7. Real-world Example: Signal Processing\n",
    "\n",
    "Apply multiple transformations to simulate signal processing:"
   ]
  },
  {
   "cell_type": "code",
   "execution_count": 15,
   "metadata": {
    "vscode": {
     "languageId": "rust"
    }
   },
   "outputs": [
    {
     "name": "stdout",
     "output_type": "stream",
     "text": [
      "Time samples: 10\n",
      "Original signal: [0.0, 0.6427876096865393, 0.984807753012208, 0.8660254037844387, 0.3420201433256689, -0.34202014332566866, -0.8660254037844384, -0.9848077530122081, -0.6427876096865396, -2.4492935982947064e-16]\n",
      "Processed signal: [0.8, 1.8284601754984628, 2.375692404819533, 2.185640646055102, 1.3472322293210703, 0.25276777067893014, -0.5856406460551015, -0.775692404819533, -0.22846017549846334, 0.7999999999999997]\n"
     ]
    }
   ],
   "source": [
    "// Generate time samples\n",
    "let time = linspace(0.0, 2.0 * PI, 10);\n",
    "\n",
    "// Generate signal: sin wave with noise and offset\n",
    "let base_signal = time.map(|t| t.sin());\n",
    "let with_offset = &base_signal + 0.5;\n",
    "let amplified = &with_offset * 2.0;\n",
    "\n",
    "// Apply filter (simple moving average effect)\n",
    "let filtered = amplified.map(|x| x * 0.8);\n",
    "\n",
    "println!(\"Time samples: {}\", time.len());\n",
    "println!(\"Original signal: {:?}\", base_signal.to_slice());\n",
    "println!(\"Processed signal: {:?}\", filtered.to_slice());"
   ]
  },
  {
   "cell_type": "markdown",
   "metadata": {},
   "source": [
    "## 8. Element-wise vs Matrix Operations\n",
    "\n",
    "Important distinction between element-wise (*) and matrix operations (^):"
   ]
  },
  {
   "cell_type": "code",
   "execution_count": 16,
   "metadata": {
    "vscode": {
     "languageId": "rust"
    }
   },
   "outputs": [
    {
     "name": "stdout",
     "output_type": "stream",
     "text": [
      "Element-wise v1 * v2: [4.0, 10.0, 18.0]\n",
      "Dot product v1 • v2: 32\n"
     ]
    }
   ],
   "source": [
    "// Vectors: element-wise vs dot product\n",
    "let v1 = vec64![1.0, 2.0, 3.0];\n",
    "let v2 = vec64![4.0, 5.0, 6.0];\n",
    "\n",
    "// Element-wise multiplication (Hadamard product)\n",
    "let element_wise = &v1 * &v2;\n",
    "println!(\"Element-wise v1 * v2: {:?}\", element_wise.to_slice());\n",
    "\n",
    "// Dot product (mathematical)\n",
    "let dot_product = v1 ^ v2;  // or v1.dot(&v2)\n",
    "println!(\"Dot product v1 • v2: {}\", dot_product);"
   ]
  },
  {
   "cell_type": "code",
   "execution_count": 17,
   "metadata": {
    "vscode": {
     "languageId": "rust"
    }
   },
   "outputs": [
    {
     "name": "stdout",
     "output_type": "stream",
     "text": [
      "Element-wise A * B:\n",
      " 2.0  0.0 \n",
      " 3.0  8.0 \n",
      "\n",
      "Matrix multiplication A × B:\n",
      " 4.0  4.0 \n",
      "10.0  8.0 \n"
     ]
    },
    {
     "data": {
      "text/plain": [
       "()"
      ]
     },
     "execution_count": 17,
     "metadata": {},
     "output_type": "execute_result"
    }
   ],
   "source": [
    "// Arrays: element-wise vs matrix multiplication\n",
    "let a = array64![[1.0, 2.0], [3.0, 4.0]];\n",
    "let b = array64![[2.0, 0.0], [1.0, 2.0]];\n",
    "\n",
    "// Element-wise multiplication\n",
    "let elem_result = &a * &b;\n",
    "println!(\"Element-wise A * B:\");\n",
    "for i in 0..2 {\n",
    "    for j in 0..2 {\n",
    "        print!(\"{:4.1} \", elem_result.get(i, j).unwrap());\n",
    "    }\n",
    "    println!();\n",
    "}\n",
    "\n",
    "// Matrix multiplication\n",
    "let matrix_result = a ^ b;\n",
    "println!(\"\\nMatrix multiplication A × B:\");\n",
    "for i in 0..2 {\n",
    "    for j in 0..2 {\n",
    "        print!(\"{:4.1} \", matrix_result.get(i, j).unwrap());\n",
    "    }\n",
    "    println!();\n",
    "}"
   ]
  },
  {
   "cell_type": "markdown",
   "metadata": {},
   "source": [
    "## 9. Performance Tips\n",
    "\n",
    "RustLab optimizes element-wise operations with SIMD when possible:"
   ]
  },
  {
   "cell_type": "code",
   "execution_count": 18,
   "metadata": {
    "vscode": {
     "languageId": "rust"
    }
   },
   "outputs": [
    {
     "name": "stdout",
     "output_type": "stream",
     "text": [
      "Large vector operations (SIMD optimized)\n",
      "Sum of 1000 π values: 3141.59\n",
      "Expected: 3141.59\n"
     ]
    }
   ],
   "source": [
    "// Large vectors automatically use SIMD\n",
    "let large_vec = VectorF64::ones(1000);\n",
    "let scaled = &large_vec * 3.14159;\n",
    "let result = scaled.sum_elements();\n",
    "\n",
    "println!(\"Large vector operations (SIMD optimized)\");\n",
    "println!(\"Sum of 1000 π values: {:.2}\", result);\n",
    "println!(\"Expected: {:.2}\", 1000.0 * 3.14159);\n",
    "\n"
   ]
  },
  {
   "cell_type": "markdown",
   "metadata": {},
   "source": [
    "## 10. Summary\n",
    "\n",
    "Key takeaways for element-wise operations:\n",
    "\n",
    "1. **Math-first syntax**: Use `&a + &b` for natural mathematical notation\n",
    "2. **Element-wise vs matrix**: `*` for element-wise, `^` for matrix operations\n",
    "3. **Functional style**: Use `.map()` for mathematical transformations\n",
    "4. **Chaining**: Operations can be chained naturally\n",
    "5. **Scalar operations**: Work seamlessly with vectors and arrays\n",
    "6. **Performance**: Automatic SIMD optimization for large data\n",
    "7. **References**: Always use `&` to avoid ownership issues\n",
    "\n",
    "Next notebook: Comparisons and Filtering with the new VectorOps API"
   ]
  }
 ],
 "metadata": {
  "kernelspec": {
   "display_name": "Rust",
   "language": "rust",
   "name": "rust"
  },
  "language_info": {
   "codemirror_mode": "rust",
   "file_extension": ".rs",
   "mimetype": "text/rust",
   "name": "Rust",
   "pygment_lexer": "rust",
   "version": ""
  }
 },
 "nbformat": 4,
 "nbformat_minor": 4
}
