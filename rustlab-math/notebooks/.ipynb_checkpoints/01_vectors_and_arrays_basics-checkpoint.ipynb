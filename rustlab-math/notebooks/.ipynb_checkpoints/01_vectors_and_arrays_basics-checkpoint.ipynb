{
 "cells": [
  {
   "cell_type": "markdown",
   "metadata": {},
   "source": [
    "# 01. Vectors and Arrays Basics\n",
    "\n",
    "Learn the fundamentals of creating and manipulating vectors and arrays in RustLab Math using ergonomic, math-first syntax.\n",
    "\n",
    "## Setup\n",
    "\n",
    "**Important**: The setup cell below follows Rust notebook best practices:\n",
    "- Dependencies and imports are declared at the **top level** (outside braces) so they persist across all cells\n",
    "- Test code is wrapped in braces `{}` to avoid persistence issues with complex types\n",
    "- This pattern ensures compatibility with both rust-analyzer and evcxr"
   ]
  },
  {
   "cell_type": "code",
   "execution_count": 2,
   "metadata": {
    "vscode": {
     "languageId": "rust"
    }
   },
   "outputs": [
    {
     "name": "stdout",
     "output_type": "stream",
     "text": [
      "🖥️  Platform: linux\n",
      "📔 Jupyter environment detected: Cross-platform support enabled\n",
      "💡 Plots will display inline in Jupyter notebooks on Windows, Linux, and macOS!\n",
      "\n",
      "✅ Setup complete! Test vector length: 3\n"
     ]
    },
    {
     "data": {
      "text/plain": [
       "()"
      ]
     },
     "execution_count": 2,
     "metadata": {},
     "output_type": "execute_result"
    }
   ],
   "source": [
    "// Setup Cell - dependencies and imports persist across all cells\n",
    ":dep rustlab-math = { path = \"../rustlab-math\" }\n",
    ":dep rustlab-rs = { path = \"..\" }\n",
    "\n",
    "// Top-level imports - these persist across all cells!\n",
    "use rustlab_math::*;\n",
    "use rustlab_rs::prelude::*;\n",
    "use std::f64::consts::PI;\n",
    "\n",
    "// Test setup in braces (variables don't persist, but confirms setup works)\n",
    "{\n",
    "    // Test cross-platform Jupyter support\n",
    "    println!(\"🖥️  Platform: {}\", std::env::consts::OS);\n",
    "    println!(\"📔 Jupyter environment detected: Cross-platform support enabled\");\n",
    "    println!(\"💡 Plots will display inline in Jupyter notebooks on Windows, Linux, and macOS!\\n\");\n",
    "    \n",
    "    // Test that macros work\n",
    "    let test_vec = vec64![1.0, 2.0, 3.0];\n",
    "    println!(\"✅ Setup complete! Test vector length: {}\", test_vec.len());\n",
    "}"
   ]
  },
  {
   "cell_type": "markdown",
   "metadata": {},
   "source": [
    "## 1. Vector Creation\n",
    "\n",
    "The most ergonomic way to create vectors in RustLab is using the `vec64!` and `vec32!` macros:"
   ]
  },
  {
   "cell_type": "code",
   "execution_count": 3,
   "metadata": {
    "vscode": {
     "languageId": "rust"
    }
   },
   "outputs": [
    {
     "name": "stdout",
     "output_type": "stream",
     "text": [
      "v1 = [1.0, 2.0, 3.0, 4.0, 5.0]\n",
      "Length: 5\n"
     ]
    }
   ],
   "source": [
    "// Most ergonomic: vec64! macro for f64 vectors\n",
    "let v1 = vec64![1.0, 2.0, 3.0, 4.0, 5.0];\n",
    "println!(\"v1 = {:?}\", v1.to_slice());\n",
    "println!(\"Length: {}\", v1.len());"
   ]
  },
  {
   "cell_type": "code",
   "execution_count": 4,
   "metadata": {
    "vscode": {
     "languageId": "rust"
    }
   },
   "outputs": [
    {
     "name": "stdout",
     "output_type": "stream",
     "text": [
      "v2 (f32) = [1.0, 2.0, 3.0]\n"
     ]
    }
   ],
   "source": [
    "// f32 vectors with vec32! macro\n",
    "let v2 = vec32![1.0f32, 2.0, 3.0];\n",
    "println!(\"v2 (f32) = {:?}\", v2.to_slice());"
   ]
  },
  {
   "cell_type": "code",
   "execution_count": 5,
   "metadata": {
    "vscode": {
     "languageId": "rust"
    }
   },
   "outputs": [
    {
     "name": "stdout",
     "output_type": "stream",
     "text": [
      "v3 from slice = [10.0, 20.0, 30.0, 40.0]\n"
     ]
    }
   ],
   "source": [
    "// From slice - when you have existing data\n",
    "let data = vec![10.0, 20.0, 30.0, 40.0];\n",
    "let v3 = VectorF64::from_slice(&data);\n",
    "println!(\"v3 from slice = {:?}\", v3.to_slice());"
   ]
  },
  {
   "cell_type": "markdown",
   "metadata": {},
   "source": [
    "// From slice - when you have existing data\n",
    "let data = vec64![10.0, 20.0, 30.0, 40.0];\n",
    "let v3 = VectorF64::from_slice(&data.to_slice());\n",
    "println!(\"v3 from slice = {:?}\", v3.to_slice());"
   ]
  },
  {
   "cell_type": "code",
   "execution_count": 6,
   "metadata": {
    "vscode": {
     "languageId": "rust"
    }
   },
   "outputs": [
    {
     "name": "stdout",
     "output_type": "stream",
     "text": [
      "Shape: 2×3\n",
      "Element at (0,1): Some(2.0)\n"
     ]
    }
   ],
   "source": [
    "// array64! macro - most ergonomic for 2D arrays\n",
    "let a1 = array64![\n",
    "    [1.0, 2.0, 3.0],\n",
    "    [4.0, 5.0, 6.0]\n",
    "];\n",
    "println!(\"Shape: {}×{}\", a1.nrows(), a1.ncols());\n",
    "println!(\"Element at (0,1): {:?}\", a1.get(0, 1));"
   ]
  },
  {
   "cell_type": "code",
   "execution_count": 7,
   "metadata": {
    "vscode": {
     "languageId": "rust"
    }
   },
   "outputs": [
    {
     "name": "stdout",
     "output_type": "stream",
     "text": [
      "Matrix 3×2\n"
     ]
    }
   ],
   "source": [
    "// matrix! macro - alias for array64!\n",
    "let m = array64![\n",
    "    [10.0, 20.0],\n",
    "    [30.0, 40.0],\n",
    "    [50.0, 60.0]\n",
    "];\n",
    "println!(\"Matrix {}×{}\", m.nrows(), m.ncols());"
   ]
  },
  {
   "cell_type": "markdown",
   "metadata": {},
   "source": [
    "## 3. Special Creation Functions"
   ]
  },
  {
   "cell_type": "code",
   "execution_count": 8,
   "metadata": {
    "vscode": {
     "languageId": "rust"
    }
   },
   "outputs": [
    {
     "name": "stdout",
     "output_type": "stream",
     "text": [
      "Zeros: [0.0, 0.0, 0.0, 0.0, 0.0]\n",
      "Ones: [1.0, 1.0, 1.0, 1.0]\n"
     ]
    }
   ],
   "source": [
    "// Zeros and ones\n",
    "let zeros = VectorF64::zeros(5);\n",
    "let ones = VectorF64::ones(4);\n",
    "println!(\"Zeros: {:?}\", zeros.to_slice());\n",
    "println!(\"Ones: {:?}\", ones.to_slice());"
   ]
  },
  {
   "cell_type": "code",
   "execution_count": 9,
   "metadata": {
    "vscode": {
     "languageId": "rust"
    }
   },
   "outputs": [
    {
     "name": "stdout",
     "output_type": "stream",
     "text": [
      "Filled with π: [3.14, 3.14, 3.14, 3.14, 3.14]\n"
     ]
    }
   ],
   "source": [
    "// Fill with constant value\n",
    "let filled = VectorF64::fill(5, 3.14);\n",
    "println!(\"Filled with π: {:?}\", filled.to_slice());"
   ]
  },
  {
   "cell_type": "code",
   "execution_count": 10,
   "metadata": {
    "vscode": {
     "languageId": "rust"
    }
   },
   "outputs": [
    {
     "name": "stdout",
     "output_type": "stream",
     "text": [
      "Zero matrix: 2×3\n",
      "Ones matrix: 3×2\n",
      "Filled matrix (0,0): Some(42.0)\n"
     ]
    }
   ],
   "source": [
    "// Arrays: zeros, ones, fill\n",
    "let zero_matrix = ArrayF64::zeros(2, 3);\n",
    "let ones_matrix = ArrayF64::ones(3, 2);\n",
    "let filled_matrix = ArrayF64::fill(2, 2, 42.0);\n",
    "\n",
    "println!(\"Zero matrix: {}×{}\", zero_matrix.nrows(), zero_matrix.ncols());\n",
    "println!(\"Ones matrix: {}×{}\", ones_matrix.nrows(), ones_matrix.ncols());\n",
    "println!(\"Filled matrix (0,0): {:?}\", filled_matrix.get(0, 0));"
   ]
  },
  {
   "cell_type": "markdown",
   "metadata": {},
   "source": [
    "## 4. Utility Creation Functions"
   ]
  },
  {
   "cell_type": "code",
   "execution_count": 11,
   "metadata": {
    "vscode": {
     "languageId": "rust"
    }
   },
   "outputs": [
    {
     "name": "stdout",
     "output_type": "stream",
     "text": [
      "Linspace(0, 10, 5): [0.0, 2.5, 5.0, 7.5, 10.0]\n"
     ]
    }
   ],
   "source": [
    "// linspace - evenly spaced values\n",
    "let lin = linspace(0.0, 10.0, 5);\n",
    "println!(\"Linspace(0, 10, 5): {:?}\", lin.to_slice());"
   ]
  },
  {
   "cell_type": "code",
   "execution_count": 12,
   "metadata": {
    "vscode": {
     "languageId": "rust"
    }
   },
   "outputs": [
    {
     "name": "stdout",
     "output_type": "stream",
     "text": [
      "Arange(0, 5, 0.5): [0.0, 1.0, 2.0, 3.0, 4.0]\n"
     ]
    }
   ],
   "source": [
    "// arange - range with step\n",
    "let ar = arange(5);\n",
    "println!(\"Arange(0, 5, 0.5): {:?}\", ar.to_slice());"
   ]
  },
  {
   "cell_type": "code",
   "execution_count": 13,
   "metadata": {
    "vscode": {
     "languageId": "rust"
    }
   },
   "outputs": [
    {
     "name": "stdout",
     "output_type": "stream",
     "text": [
      "Identity 3×3:\n",
      " 1.0  0.0  0.0 \n",
      " 0.0  1.0  0.0 \n",
      " 0.0  0.0  1.0 \n"
     ]
    },
    {
     "data": {
      "text/plain": [
       "()"
      ]
     },
     "execution_count": 13,
     "metadata": {},
     "output_type": "execute_result"
    }
   ],
   "source": [
    "// Identity matrix\n",
    "let identity = ArrayF64::eye(3);\n",
    "println!(\"Identity 3×3:\");\n",
    "for i in 0..3 {\n",
    "    for j in 0..3 {\n",
    "        print!(\"{:4.1} \", identity.get(i, j).unwrap());\n",
    "    }\n",
    "    println!();\n",
    "}"
   ]
  },
  {
   "cell_type": "markdown",
   "metadata": {},
   "source": [
    "// Identity matrix\n",
    "let identity = ArrayF64::eye(3);\n",
    "println!(\"Identity 3×3:\");\n",
    "for i in 0..3 {\n",
    "    for j in 0..3 {\n",
    "        print!(\"{:4.1} \", identity.get(i, j).unwrap());\n",
    "    }\n",
    "    println!();\n",
    "}"
   ]
  },
  {
   "cell_type": "code",
   "execution_count": 14,
   "metadata": {
    "vscode": {
     "languageId": "rust"
    }
   },
   "outputs": [
    {
     "name": "stdout",
     "output_type": "stream",
     "text": [
      "First: Some(10.0)\n",
      "Last: Some(50.0)\n",
      "Out of bounds: None\n"
     ]
    }
   ],
   "source": [
    "// Vector element access\n",
    "let v = vec64![10.0, 20.0, 30.0, 40.0, 50.0];\n",
    "\n",
    "// Safe access with Option\n",
    "let first = v.get(0);\n",
    "let last = v.get(v.len() - 1);\n",
    "let out_of_bounds = v.get(100);\n",
    "\n",
    "println!(\"First: {:?}\", first);\n",
    "println!(\"Last: {:?}\", last);\n",
    "println!(\"Out of bounds: {:?}\", out_of_bounds);"
   ]
  },
  {
   "cell_type": "code",
   "execution_count": 15,
   "metadata": {
    "vscode": {
     "languageId": "rust"
    }
   },
   "outputs": [
    {
     "name": "stdout",
     "output_type": "stream",
     "text": [
      "Center element (1,1): Some(5.0)\n",
      "Corner element (0,2): Some(3.0)\n"
     ]
    }
   ],
   "source": [
    "// Array element access\n",
    "let a = array64![\n",
    "    [1.0, 2.0, 3.0],\n",
    "    [4.0, 5.0, 6.0]\n",
    "];\n",
    "\n",
    "// Access by (row, col)\n",
    "let center = a.get(1, 1);\n",
    "let corner = a.get(0, 2);\n",
    "\n",
    "println!(\"Center element (1,1): {:?}\", center);\n",
    "println!(\"Corner element (0,2): {:?}\", corner);"
   ]
  },
  {
   "cell_type": "markdown",
   "metadata": {},
   "source": [
    "## 6. Basic Properties"
   ]
  },
  {
   "cell_type": "code",
   "execution_count": 16,
   "metadata": {
    "vscode": {
     "languageId": "rust"
    }
   },
   "outputs": [
    {
     "name": "stdout",
     "output_type": "stream",
     "text": [
      "Vector properties:\n",
      "  Length: 4\n",
      "  Is empty: false\n",
      "  Is contiguous: true\n"
     ]
    }
   ],
   "source": [
    "// Vector properties\n",
    "let v = vec64![1.0, 2.0, 3.0, 4.0];\n",
    "println!(\"Vector properties:\");\n",
    "println!(\"  Length: {}\", v.len());\n",
    "println!(\"  Is empty: {}\", v.is_empty());\n",
    "println!(\"  Is contiguous: {}\", v.is_contiguous());"
   ]
  },
  {
   "cell_type": "code",
   "execution_count": 17,
   "metadata": {
    "vscode": {
     "languageId": "rust"
    }
   },
   "outputs": [
    {
     "name": "stdout",
     "output_type": "stream",
     "text": [
      "Array properties:\n",
      "  Shape: (2, 3)\n",
      "  Rows: 2\n",
      "  Cols: 3\n"
     ]
    }
   ],
   "source": [
    "// Array properties\n",
    "let a = array64![\n",
    "    [1.0, 2.0, 3.0],\n",
    "    [4.0, 5.0, 6.0]\n",
    "];\n",
    "\n",
    "println!(\"Array properties:\");\n",
    "println!(\"  Shape: {:?}\", a.shape());\n",
    "println!(\"  Rows: {}\", a.nrows());\n",
    "println!(\"  Cols: {}\", a.ncols());\n",
    "println!(\"  Total elements: {}\", a.nrows() * a.ncols());\n",
    "println!(\"  Is square: {}\", a.nrows() == a.ncols());"
   ]
  },
  {
   "cell_type": "markdown",
   "metadata": {},
   "source": [
    "## 7. Type Inference and Implicit Typing\n",
    "\n",
    "RustLab allows implicit typing in many cases for cleaner code:"
   ]
  },
  {
   "cell_type": "code",
   "execution_count": 18,
   "metadata": {
    "vscode": {
     "languageId": "rust"
    }
   },
   "outputs": [
    {
     "name": "stdout",
     "output_type": "stream",
     "text": [
      "  Total elements: 6\n",
      "  Is square: false\n",
      "Doubled vector: [2.0, 4.0, 6.0]\n",
      "Scaled array shape: (1, 2)\n"
     ]
    }
   ],
   "source": [
    "// Implicit type inference - Rust figures out the type\n",
    "let v = vec64![1.0, 2.0, 3.0];  // Type inferred as VectorF64\n",
    "let a = array64![[1.0, 2.0]];   // Type inferred as ArrayF64\n",
    "\n",
    "// Operations maintain type\n",
    "let doubled = &v * 2.0;  // Still VectorF64\n",
    "let scaled = &a * 3.0;   // Still ArrayF64\n",
    "\n",
    "println!(\"Doubled vector: {:?}\", doubled.to_slice());\n",
    "println!(\"Scaled array shape: {:?}\", scaled.shape());"
   ]
  },
  {
   "cell_type": "markdown",
   "metadata": {},
   "source": [
    "## 8. Conversion and Interoperability"
   ]
  },
  {
   "cell_type": "code",
   "execution_count": 19,
   "metadata": {
    "vscode": {
     "languageId": "rust"
    }
   },
   "outputs": [
    {
     "name": "stdout",
     "output_type": "stream",
     "text": [
      "As slice: [1.0, 2.0, 3.0, 4.0]\n",
      "As Vec<f64>: [1.0, 3.0, 2.0, 4.0]\n"
     ]
    },
    {
     "data": {
      "text/plain": [
       "()"
      ]
     },
     "execution_count": 19,
     "metadata": {},
     "output_type": "execute_result"
    }
   ],
   "source": [
    "// Vector to slice\n",
    "{let v = vec64![1.0, 2.0, 3.0, 4.0];\n",
    "let slice = v.to_slice();\n",
    "println!(\"As slice: {:?}\", slice);\n",
    "\n",
    "// Array to Vec<f64>\n",
    "let a = array64![[1.0, 2.0], [3.0, 4.0]];\n",
    "let vec = a.to_vec();\n",
    "println!(\"As Vec<f64>: {:?}\", vec);}"
   ]
  },
  {
   "cell_type": "markdown",
   "metadata": {},
   "source": [
    "// Vector to slice\n",
    "let v = vec64![1.0, 2.0, 3.0, 4.0];\n",
    "let slice = v.to_slice();\n",
    "println!(\"As slice: {:?}\", slice);\n",
    "\n",
    "// Array to Vec<f64>\n",
    "let a = array64![[1.0, 2.0], [3.0, 4.0]];\n",
    "let vec = a.to_vec();\n",
    "println!(\"As Vec<f64>: {:?}\", vec);"
   ]
  },
  {
   "cell_type": "code",
   "execution_count": 20,
   "metadata": {
    "vscode": {
     "languageId": "rust"
    }
   },
   "outputs": [
    {
     "name": "stdout",
     "output_type": "stream",
     "text": [
      "View length: 5\n",
      "Array view shape: (2, 2)\n"
     ]
    },
    {
     "data": {
      "text/plain": [
       "()"
      ]
     },
     "execution_count": 20,
     "metadata": {},
     "output_type": "execute_result"
    }
   ],
   "source": [
    "// Create a view (no data copy)\n",
    "{let v = vec64![1.0, 2.0, 3.0, 4.0, 5.0];\n",
    "let view = v.view();\n",
    "println!(\"View length: {}\", view.len());\n",
    "\n",
    "// Array view\n",
    "let a = array64![[1.0, 2.0], [3.0, 4.0]];\n",
    "let array_view = a.view();\n",
    "println!(\"Array view shape: {:?}\", array_view.shape());}"
   ]
  },
  {
   "cell_type": "markdown",
   "metadata": {},
   "source": [
    "// Create a view (no data copy)\n",
    "let v = vec64![1.0, 2.0, 3.0, 4.0, 5.0];\n",
    "let view = v.view();\n",
    "println!(\"View length: {}\", view.len());\n",
    "\n",
    "// Array view\n",
    "let a = array64![[1.0, 2.0], [3.0, 4.0]];\n",
    "let array_view = a.view();\n",
    "println!(\"Array view shape: {:?}\", array_view.shape());"
   ]
  }
 ],
 "metadata": {
  "kernelspec": {
   "display_name": "Rust",
   "language": "rust",
   "name": "rust"
  },
  "language_info": {
   "codemirror_mode": "rust",
   "file_extension": ".rs",
   "mimetype": "text/rust",
   "name": "Rust",
   "pygment_lexer": "rust",
   "version": ""
  }
 },
 "nbformat": 4,
 "nbformat_minor": 4
}
