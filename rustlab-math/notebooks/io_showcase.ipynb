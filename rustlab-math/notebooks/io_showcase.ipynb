{
 "cells": [
  {
   "cell_type": "markdown",
   "metadata": {},
   "source": [
    "# RustLab I/O Module Showcase\n",
    "\n",
    "Demonstrating the clean, math-first I/O API for reading and writing matrices and vectors.\n",
    "\n",
    "## Key Features\n",
    "- **Just 2 core functions**: `save()` and `load()` (with precision and skip variants)\n",
    "- **Automatic format detection** based on file extensions\n",
    "- **Smart header detection** - automatically skips non-numeric headers\n",
    "- **Scientific notation** for very large/small numbers\n",
    "- **Works with both** ArrayF64 and VectorF64"
   ]
  },
  {
   "cell_type": "code",
   "execution_count": 2,
   "metadata": {},
   "outputs": [],
   "source": [
    ":dep rustlab-math = { path = \"..\" }"
   ]
  },
  {
   "cell_type": "code",
   "execution_count": 3,
   "metadata": {},
   "outputs": [],
   "source": [
    "// Import the clean I/O API\n",
    "use rustlab_math::{ArrayF64, VectorF64, array64, vec64};\n",
    "use rustlab_math::io::MathIO;\n",
    "use std::fs;"
   ]
  },
  {
   "cell_type": "markdown",
   "metadata": {},
   "source": [
    "## 1. Basic Matrix I/O\n",
    "\n",
    "Create and save a matrix, then load it back."
   ]
  },
  {
   "cell_type": "code",
   "execution_count": 4,
   "metadata": {},
   "outputs": [
    {
     "name": "stdout",
     "output_type": "stream",
     "text": [
      "Original matrix shape: (3, 3)\n",
      "Original matrix:\n",
      "Array { inner: [\n",
      "[1.0, 2.0, 3.0],\n",
      "[4.0, 5.0, 6.0],\n"
     ]
    }
   ],
   "source": [
    "// Create a sample matrix\n",
    "let matrix = array64![\n",
    "    [1.0, 2.0, 3.0],\n",
    "    [4.0, 5.0, 6.0],\n",
    "    [7.0, 8.0, 9.0]\n",
    "];\n",
    "\n",
    "println!(\"Original matrix shape: {:?}\", matrix.shape());\n",
    "println!(\"Original matrix:\\n{:?}\", matrix);"
   ]
  },
  {
   "cell_type": "code",
   "execution_count": 5,
   "metadata": {},
   "outputs": [
    {
     "name": "stdout",
     "output_type": "stream",
     "text": [
      "[7.0, 8.0, 9.0],\n",
      "] }\n",
      "✓ Matrix saved to demo_matrix.csv\n",
      "\n",
      "File content:\n",
      "1.000000,2.000000,3.000000\n"
     ]
    }
   ],
   "source": [
    "// Save to CSV (auto-detected by .csv extension)\n",
    "matrix.save(\"../data/demo_matrix.csv\").unwrap();\n",
    "println!(\"✓ Matrix saved to demo_matrix.csv\");\n",
    "\n",
    "// View the saved file\n",
    "let content = fs::read_to_string(\"../data/demo_matrix.csv\").unwrap();\n",
    "println!(\"\\nFile content:\");\n",
    "println!(\"{}\", content);"
   ]
  },
  {
   "cell_type": "code",
   "execution_count": 6,
   "metadata": {},
   "outputs": [
    {
     "name": "stdout",
     "output_type": "stream",
     "text": [
      "4.000000,5.000000,6.000000\n",
      "7.000000,8.000000,9.000000\n",
      "\n",
      "Loaded matrix shape: (3, 3)\n",
      "Loaded matrix:\n",
      "Array { inner: [\n",
      "[1.0, 2.0, 3.0],\n",
      "[4.0, 5.0, 6.0],\n",
      "[7.0, 8.0, 9.0],\n"
     ]
    }
   ],
   "source": [
    "// Load it back\n",
    "let loaded = ArrayF64::load(\"../data/demo_matrix.csv\").unwrap();\n",
    "println!(\"Loaded matrix shape: {:?}\", loaded.shape());\n",
    "println!(\"Loaded matrix:\\n{:?}\", loaded);\n",
    "\n",
    "// Verify they're identical\n",
    "let original_vec = matrix.to_vec();\n",
    "let loaded_vec = loaded.to_vec();\n",
    "let identical = original_vec.iter().zip(loaded_vec.iter()).all(|(a, b)| (a - b).abs() < 1e-15);\n",
    "println!(\"\\n✓ Matrices are identical: {}\", identical);"
   ]
  },
  {
   "cell_type": "markdown",
   "metadata": {},
   "source": [
    "## 2. Vector I/O\n",
    "\n",
    "Vectors are saved as column vectors in text files, row vectors in CSV files."
   ]
  },
  {
   "cell_type": "code",
   "execution_count": 7,
   "metadata": {},
   "outputs": [
    {
     "name": "stdout",
     "output_type": "stream",
     "text": [
      "] }\n",
      "\n",
      "✓ Matrices are identical: true\n",
      "Original vector: Vector { inner: [10.0, 20.0, 30.0, 40.0, 50.0] }\n",
      "\n",
      "✓ Vector saved to demo_vector.txt\n",
      "Text file content (column format):\n",
      "10.000000\n",
      "20.000000\n",
      "30.000000\n",
      "40.000000\n"
     ]
    }
   ],
   "source": [
    "// Create a sample vector\n",
    "let vector = vec64![10.0, 20.0, 30.0, 40.0, 50.0];\n",
    "println!(\"Original vector: {:?}\", vector);\n",
    "\n",
    "// Save as text file (column format)\n",
    "vector.save(\"../data/demo_vector.txt\").unwrap();\n",
    "println!(\"\\n✓ Vector saved to demo_vector.txt\");\n",
    "\n",
    "let content = fs::read_to_string(\"../data/demo_vector.txt\").unwrap();\n",
    "println!(\"Text file content (column format):\");\n",
    "println!(\"{}\", content);"
   ]
  },
  {
   "cell_type": "code",
   "execution_count": 8,
   "metadata": {},
   "outputs": [
    {
     "name": "stdout",
     "output_type": "stream",
     "text": [
      "50.000000\n",
      "\n",
      "✓ Vector saved to demo_vector.csv\n",
      "CSV file content (row format):\n",
      "10.000000,20.000000,30.000000,40.000000,50.000000\n",
      "\n"
     ]
    }
   ],
   "source": [
    "// Save as CSV file (row format)\n",
    "vector.save(\"../data/demo_vector.csv\").unwrap();\n",
    "println!(\"✓ Vector saved to demo_vector.csv\");\n",
    "\n",
    "let content = fs::read_to_string(\"../data/demo_vector.csv\").unwrap();\n",
    "println!(\"CSV file content (row format):\");\n",
    "println!(\"{}\", content);"
   ]
  },
  {
   "cell_type": "code",
   "execution_count": 9,
   "metadata": {},
   "outputs": [
    {
     "name": "stdout",
     "output_type": "stream",
     "text": [
      "Loaded vector: Vector { inner: [10.0, 20.0, 30.0, 40.0, 50.0] }\n",
      "✓ Vectors are identical: true\n"
     ]
    }
   ],
   "source": [
    "// Load vector back\n",
    "let loaded_vector = VectorF64::load(\"../data/demo_vector.txt\").unwrap();\n",
    "println!(\"Loaded vector: {:?}\", loaded_vector);\n",
    "\n",
    "// Verify identical\n",
    "let identical = vector.to_slice().iter().zip(loaded_vector.to_slice().iter())\n",
    "    .all(|(a, b)| (a - b).abs() < 1e-15);\n",
    "println!(\"✓ Vectors are identical: {}\", identical);"
   ]
  },
  {
   "cell_type": "markdown",
   "metadata": {},
   "source": [
    "## 3. High Precision I/O\n",
    "\n",
    "Use `save_with_precision()` for high-precision scientific data."
   ]
  },
  {
   "cell_type": "code",
   "execution_count": 10,
   "metadata": {},
   "outputs": [
    {
     "name": "stdout",
     "output_type": "stream",
     "text": [
      "High precision matrix:\n",
      "3.141592653589793 2.718281828459045 \n",
      "6.283185307179586 1.414213562373095 \n"
     ]
    },
    {
     "data": {
      "text/plain": [
       "()"
      ]
     },
     "execution_count": 10,
     "metadata": {},
     "output_type": "execute_result"
    }
   ],
   "source": [
    "// Create matrix with high precision values\n",
    "let pi_matrix = array64![\n",
    "    [std::f64::consts::PI, std::f64::consts::E],\n",
    "    [std::f64::consts::TAU, std::f64::consts::SQRT_2]\n",
    "];\n",
    "\n",
    "println!(\"High precision matrix:\");\n",
    "for i in 0..2 {\n",
    "    for j in 0..2 {\n",
    "        print!(\"{:.15} \", pi_matrix.get(i, j).unwrap());\n",
    "    }\n",
    "    println!();\n",
    "}"
   ]
  },
  {
   "cell_type": "code",
   "execution_count": 11,
   "metadata": {},
   "outputs": [
    {
     "name": "stdout",
     "output_type": "stream",
     "text": [
      "Default precision (6 digits):\n",
      "3.141593,2.718282\n",
      "6.283185,1.414214\n",
      "\n",
      "High precision (15 digits):\n",
      "3.141592653589793,2.718281828459045\n",
      "6.283185307179586,1.414213562373095\n",
      "\n"
     ]
    }
   ],
   "source": [
    "// Save with default precision (6 digits)\n",
    "pi_matrix.save(\"../data/pi_default.csv\").unwrap();\n",
    "let default_content = fs::read_to_string(\"../data/pi_default.csv\").unwrap();\n",
    "println!(\"Default precision (6 digits):\");\n",
    "println!(\"{}\", default_content);\n",
    "\n",
    "// Save with high precision (15 digits)\n",
    "pi_matrix.save_with_precision(\"../data/pi_high.csv\", 15).unwrap();\n",
    "let high_content = fs::read_to_string(\"../data/pi_high.csv\").unwrap();\n",
    "println!(\"High precision (15 digits):\");\n",
    "println!(\"{}\", high_content);"
   ]
  },
  {
   "cell_type": "code",
   "execution_count": 12,
   "metadata": {},
   "outputs": [
    {
     "name": "stdout",
     "output_type": "stream",
     "text": [
      "Original π: 3.141592653589793\n",
      "Default precision: 3.141593000000000\n",
      "High precision: 3.141592653589793\n",
      "\n"
     ]
    }
   ],
   "source": [
    "// Compare precision loss\n",
    "let default_loaded = ArrayF64::load(\"../data/pi_default.csv\").unwrap();\n",
    "let high_loaded = ArrayF64::load(\"../data/pi_high.csv\").unwrap();\n",
    "\n",
    "println!(\"Original π: {:.15}\", std::f64::consts::PI);\n",
    "println!(\"Default precision: {:.15}\", default_loaded.get(0, 0).unwrap());\n",
    "println!(\"High precision: {:.15}\", high_loaded.get(0, 0).unwrap());\n",
    "\n",
    "let error_default = (default_loaded.get(0, 0).unwrap() - std::f64::consts::PI).abs();\n",
    "let error_high = (high_loaded.get(0, 0).unwrap() - std::f64::consts::PI).abs();\n",
    "println!(\"\\nError with default precision: {:.2e}\", error_default);\n",
    "println!(\"Error with high precision: {:.2e}\", error_high);"
   ]
  },
  {
   "cell_type": "markdown",
   "metadata": {},
   "source": [
    "## 4. Scientific Notation\n",
    "\n",
    "The I/O module automatically uses scientific notation for very large or very small numbers."
   ]
  },
  {
   "cell_type": "code",
   "execution_count": 13,
   "metadata": {},
   "outputs": [
    {
     "name": "stdout",
     "output_type": "stream",
     "text": [
      "Error with default precision: 3.46e-7\n",
      "Error with high precision: 0.00e0\n",
      "Scientific notation automatically applied:\n",
      "1.230000e-8,4.560000e12\n",
      "1.000000e-5,1000000.000000\n"
     ]
    }
   ],
   "source": [
    "// Create matrix with extreme values\n",
    "let extreme_matrix = array64![\n",
    "    [1.23e-8, 4.56e12],     // Very small and very large\n",
    "    [0.00001, 1000000.0],   // Normal range  \n",
    "    [9.87e-15, 3.21e20]     // Extremely small and large\n",
    "];\n",
    "\n",
    "extreme_matrix.save(\"../data/extreme_values.csv\").unwrap();\n",
    "let content = fs::read_to_string(\"../data/extreme_values.csv\").unwrap();\n",
    "println!(\"Scientific notation automatically applied:\");\n",
    "println!(\"{}\", content);"
   ]
  },
  {
   "cell_type": "code",
   "execution_count": 14,
   "metadata": {},
   "outputs": [
    {
     "name": "stdout",
     "output_type": "stream",
     "text": [
      "9.870000e-15,3.210000e20\n",
      "\n",
      "Loaded extreme values:\n",
      "  [0,0]: 1.230e-8 -> 1.230e-8 (rel. error: 0.00e0)\n",
      "  [0,1]: 4.560e12 -> 4.560e12 (rel. error: 0.00e0)\n",
      "  [1,0]: 1.000e-5 -> 1.000e-5 (rel. error: 0.00e0)\n",
      "  [1,1]: 1.000e6 -> 1.000e6 (rel. error: 0.00e0)\n",
      "  [2,0]: 9.870e-15 -> 9.870e-15 (rel. error: 0.00e0)\n",
      "  [2,1]: 3.210e20 -> 3.210e20 (rel. error: 0.00e0)\n"
     ]
    },
    {
     "data": {
      "text/plain": [
       "()"
      ]
     },
     "execution_count": 14,
     "metadata": {},
     "output_type": "execute_result"
    }
   ],
   "source": [
    "// Load back and verify precision\n",
    "let loaded_extreme = ArrayF64::load(\"../data/extreme_values.csv\").unwrap();\n",
    "println!(\"Loaded extreme values:\");\n",
    "for i in 0..3 {\n",
    "    for j in 0..2 {\n",
    "        let original = extreme_matrix.get(i, j).unwrap();\n",
    "        let loaded = loaded_extreme.get(i, j).unwrap();\n",
    "        let relative_error = if original != 0.0 {\n",
    "            ((loaded - original) / original).abs()\n",
    "        } else {\n",
    "            (loaded - original).abs()\n",
    "        };\n",
    "        println!(\"  [{},{}]: {:.3e} -> {:.3e} (rel. error: {:.2e})\", \n",
    "                 i, j, original, loaded, relative_error);\n",
    "    }\n",
    "}"
   ]
  },
  {
   "cell_type": "markdown",
   "metadata": {},
   "source": [
    "## 5. Skip Rows Functionality\n",
    "\n",
    "Use `load_skip()` to skip metadata lines at the beginning of files."
   ]
  },
  {
   "cell_type": "code",
   "execution_count": 15,
   "metadata": {},
   "outputs": [
    {
     "name": "stdout",
     "output_type": "stream",
     "text": [
      "Created file with metadata:\n",
      "# Experimental Data\n"
     ]
    }
   ],
   "source": [
    "// Create a file with metadata header\n",
    "let metadata_content = r#\"# Experimental Data\n",
    "# Date: 2024-01-01\n",
    "# Instrument: Spectrometer\n",
    "# Units: nm, counts\n",
    "wavelength,intensity\n",
    "400.0,1250.0\n",
    "500.0,1800.0\n",
    "600.0,2100.0\n",
    "700.0,1600.0\"#;\n",
    "\n",
    "fs::write(\"../data/spectral_data.csv\", metadata_content).unwrap();\n",
    "println!(\"Created file with metadata:\");\n",
    "println!(\"{}\", metadata_content);"
   ]
  },
  {
   "cell_type": "code",
   "execution_count": 16,
   "metadata": {},
   "outputs": [
    {
     "name": "stdout",
     "output_type": "stream",
     "text": [
      "# Date: 2024-01-01\n",
      "# Instrument: Spectrometer\n",
      "# Units: nm, counts\n",
      "wavelength,intensity\n",
      "400.0,1250.0\n",
      "500.0,1800.0\n",
      "600.0,2100.0\n",
      "700.0,1600.0\n",
      "\n",
      "Loaded data (skipped 4 metadata lines):\n",
      "Shape: (4, 2)\n",
      "Data:\n",
      "Array { inner: [\n",
      "[400.0, 1250.0],\n"
     ]
    }
   ],
   "source": [
    "// Load skipping the first 4 metadata lines\n",
    "let spectral_data = ArrayF64::load_skip(\"../data/spectral_data.csv\", 4).unwrap();\n",
    "println!(\"\\nLoaded data (skipped 4 metadata lines):\");\n",
    "println!(\"Shape: {:?}\", spectral_data.shape());\n",
    "println!(\"Data:\\n{:?}\", spectral_data);\n",
    "\n",
    "// The header line \"wavelength,intensity\" was automatically detected and skipped"
   ]
  },
  {
   "cell_type": "code",
   "execution_count": 17,
   "metadata": {},
   "outputs": [
    {
     "name": "stdout",
     "output_type": "stream",
     "text": [
      "[500.0, 1800.0],\n",
      "[600.0, 2100.0],\n",
      "[700.0, 1600.0],\n",
      "] }\n",
      "Extracted data:\n",
      "  400.0 nm: 1250.0 counts\n",
      "  500.0 nm: 1800.0 counts\n",
      "  600.0 nm: 2100.0 counts\n",
      "  700.0 nm: 1600.0 counts\n"
     ]
    },
    {
     "data": {
      "text/plain": [
       "()"
      ]
     },
     "execution_count": 17,
     "metadata": {},
     "output_type": "execute_result"
    }
   ],
   "source": [
    "// Extract wavelengths and intensities\n",
    "let wavelengths = (0..spectral_data.nrows())\n",
    "    .map(|i| spectral_data.get(i, 0).unwrap())\n",
    "    .collect::<Vec<_>>();\n",
    "let intensities = (0..spectral_data.nrows())\n",
    "    .map(|i| spectral_data.get(i, 1).unwrap())\n",
    "    .collect::<Vec<_>>();\n",
    "\n",
    "println!(\"Extracted data:\");\n",
    "for (w, i) in wavelengths.iter().zip(intensities.iter()) {\n",
    "    println!(\"  {:.1} nm: {:.1} counts\", w, i);\n",
    "}"
   ]
  },
  {
   "cell_type": "markdown",
   "metadata": {},
   "source": [
    "## 6. Error Handling\n",
    "\n",
    "The I/O module provides helpful error messages for common issues."
   ]
  },
  {
   "cell_type": "code",
   "execution_count": 18,
   "metadata": {},
   "outputs": [
    {
     "name": "stdout",
     "output_type": "stream",
     "text": [
      "Expected error for missing file: InvalidDimensions { rows: 0, cols: 0 }\n",
      "Expected error for inconsistent dimensions: InvalidDimensions { rows: 3, cols: 2 }\n"
     ]
    },
    {
     "data": {
      "text/plain": [
       "()"
      ]
     },
     "execution_count": 18,
     "metadata": {},
     "output_type": "execute_result"
    }
   ],
   "source": [
    "// Try to load a non-existent file\n",
    "match ArrayF64::load(\"../data/nonexistent.csv\") {\n",
    "    Ok(_) => println!(\"Unexpected success\"),\n",
    "    Err(e) => println!(\"Expected error for missing file: {:?}\", e),\n",
    "}\n",
    "\n",
    "// Try to load a file with inconsistent dimensions\n",
    "let bad_content = \"1.0,2.0,3.0\\n4.0,5.0\\n6.0,7.0,8.0,9.0\";\n",
    "fs::write(\"../data/bad_dimensions.csv\", bad_content).unwrap();\n",
    "\n",
    "match ArrayF64::load(\"../data/bad_dimensions.csv\") {\n",
    "    Ok(_) => println!(\"Unexpected success\"),\n",
    "    Err(e) => println!(\"Expected error for inconsistent dimensions: {:?}\", e),\n",
    "}"
   ]
  },
  {
   "cell_type": "markdown",
   "metadata": {},
   "source": [
    "## 7. Real-World Example: Student Grades\n",
    "\n",
    "A practical example showing how to work with real data."
   ]
  },
  {
   "cell_type": "code",
   "execution_count": 19,
   "metadata": {},
   "outputs": [
    {
     "name": "stdout",
     "output_type": "stream",
     "text": [
      "Student grades file created:\n",
      "# Fall 2024 Final Grades\n",
      "# Course: Advanced Mathematics\n"
     ]
    }
   ],
   "source": [
    "// Create student grades data\n",
    "let grades_content = r#\"# Fall 2024 Final Grades\n",
    "# Course: Advanced Mathematics\n",
    "student_id,math,science,english\n",
    "101,85.5,92.0,78.5\n",
    "102,90.0,88.5,85.0\n",
    "103,75.5,95.0,82.0\n",
    "104,88.0,91.5,89.0\n",
    "105,92.5,87.0,86.5\"#;\n",
    "\n",
    "fs::write(\"../data/student_grades.csv\", grades_content).unwrap();\n",
    "println!(\"Student grades file created:\");\n",
    "println!(\"{}\", grades_content);"
   ]
  },
  {
   "cell_type": "code",
   "execution_count": 20,
   "metadata": {},
   "outputs": [
    {
     "name": "stdout",
     "output_type": "stream",
     "text": [
      "student_id,math,science,english\n",
      "101,85.5,92.0,78.5\n",
      "102,90.0,88.5,85.0\n",
      "103,75.5,95.0,82.0\n",
      "104,88.0,91.5,89.0\n",
      "105,92.5,87.0,86.5\n",
      "\n",
      "Loaded grades matrix:\n",
      "Shape: (5, 4) (students × subjects)\n",
      "Grades:\n",
      "Array { inner: [\n"
     ]
    }
   ],
   "source": [
    "// Load the grades (skip 2 comment lines)\n",
    "let grades = ArrayF64::load_skip(\"../data/student_grades.csv\", 2).unwrap();\n",
    "println!(\"\\nLoaded grades matrix:\");\n",
    "println!(\"Shape: {:?} (students × subjects)\", grades.shape());\n",
    "println!(\"Grades:\\n{:?}\", grades);"
   ]
  },
  {
   "cell_type": "code",
   "execution_count": 21,
   "metadata": {},
   "outputs": [
    {
     "name": "stdout",
     "output_type": "stream",
     "text": [
      "[101.0, 85.5, 92.0, 78.5],\n",
      "[102.0, 90.0, 88.5, 85.0],\n",
      "[103.0, 75.5, 95.0, 82.0],\n",
      "[104.0, 88.0, 91.5, 89.0],\n",
      "[105.0, 92.5, 87.0, 86.5],\n",
      "] }\n",
      "\n",
      "Student averages:\n",
      "  Student 1: 85.3\n",
      "  Student 2: 87.8\n",
      "  Student 3: 84.2\n",
      "  Student 4: 89.5\n",
      "  Student 5: 88.7\n",
      "\n",
      "Subject averages:\n",
      "  Math: 86.3\n",
      "  Science: 90.8\n",
      "  English: 84.2\n"
     ]
    },
    {
     "data": {
      "text/plain": [
       "()"
      ]
     },
     "execution_count": 21,
     "metadata": {},
     "output_type": "execute_result"
    }
   ],
   "source": [
    "// Calculate statistics\n",
    "let (n_students, n_subjects) = grades.shape();\n",
    "\n",
    "// Student averages (skip student_id column)\n",
    "println!(\"\\nStudent averages:\");\n",
    "for i in 0..n_students {\n",
    "    let sum: f64 = (1..n_subjects).map(|j| grades.get(i, j).unwrap()).sum(); // Skip column 0 (student_id)\n",
    "    let avg = sum / (n_subjects - 1) as f64; // Divide by 3 subjects, not 4 columns\n",
    "    println!(\"  Student {}: {:.1}\", i + 1, avg);\n",
    "}\n",
    "\n",
    "// Subject averages (skip student_id column)\n",
    "let subjects = [\"Student ID\", \"Math\", \"Science\", \"English\"];\n",
    "println!(\"\\nSubject averages:\");\n",
    "for j in 1..n_subjects { // Start from 1 to skip student_id column\n",
    "    let sum: f64 = (0..n_students).map(|i| grades.get(i, j).unwrap()).sum();\n",
    "    let avg = sum / n_students as f64;\n",
    "    println!(\"  {}: {:.1}\", subjects[j], avg);\n",
    "}"
   ]
  },
  {
   "cell_type": "code",
   "execution_count": 22,
   "metadata": {},
   "outputs": [
    {
     "name": "stdout",
     "output_type": "stream",
     "text": [
      "✓ Processed grades saved with 1 decimal precision\n",
      "\n",
      "Saved processed grades:\n",
      "101.0,85.5,92.0,78.5\n",
      "102.0,90.0,88.5,85.0\n",
      "103.0,75.5,95.0,82.0\n",
      "104.0,88.0,91.5,89.0\n",
      "105.0,92.5,87.0,86.5\n",
      "\n"
     ]
    }
   ],
   "source": [
    "// Save processed results with high precision\n",
    "let processed_grades = grades.clone(); // In real code, you'd apply transformations\n",
    "processed_grades.save_with_precision(\"../data/processed_grades.csv\", 1).unwrap();\n",
    "println!(\"✓ Processed grades saved with 1 decimal precision\");\n",
    "\n",
    "let saved_content = fs::read_to_string(\"../data/processed_grades.csv\").unwrap();\n",
    "println!(\"\\nSaved processed grades:\");\n",
    "println!(\"{}\", saved_content);"
   ]
  },
  {
   "cell_type": "markdown",
   "metadata": {},
   "source": [
    "## Summary\n",
    "\n",
    "The RustLab I/O module provides a clean, math-first API with just 2 core functions:\n",
    "\n",
    "### For Saving:\n",
    "- `data.save(\"file.csv\")` - Basic save with default precision\n",
    "- `data.save_with_precision(\"file.csv\", 10)` - High precision save\n",
    "\n",
    "### For Loading:\n",
    "- `ArrayF64::load(\"file.csv\")` - Basic load\n",
    "- `ArrayF64::load_skip(\"file.csv\", 3)` - Load skipping metadata rows\n",
    "\n",
    "### Key Features:\n",
    "- ✅ **Automatic format detection** (CSV vs text)\n",
    "- ✅ **Smart header detection** (skips non-numeric headers)\n",
    "- ✅ **Scientific notation** for extreme values\n",
    "- ✅ **High precision support** (1-15+ digits)\n",
    "- ✅ **Works with both** matrices and vectors\n",
    "- ✅ **NumPy-equivalent functionality**\n",
    "- ✅ **Clean error handling**\n",
    "\n",
    "This provides all the I/O functionality you need for scientific computing with a simple, intuitive API!"
   ]
  }
 ],
 "metadata": {
  "kernelspec": {
   "display_name": "Rust",
   "language": "rust",
   "name": "rust"
  },
  "language_info": {
   "codemirror_mode": "rust",
   "file_extension": ".rs",
   "mimetype": "text/rust",
   "name": "Rust",
   "pygment_lexer": "rust",
   "version": ""
  }
 },
 "nbformat": 4,
 "nbformat_minor": 4
}
