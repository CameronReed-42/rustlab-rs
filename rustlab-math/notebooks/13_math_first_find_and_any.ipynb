{
 "cells": [
  {
   "cell_type": "markdown",
   "metadata": {},
   "source": [
    "# Math-First Find and Any Operations\n",
    "\n",
    "This notebook demonstrates RustLab's new **math-first** approach to finding elements and checking conditions in vectors. These methods prioritize mathematical clarity over traditional functional programming patterns.\n",
    "\n",
    "## Key Features:\n",
    "- **Boolean vector integration**: Use comparison operators to create masks\n",
    "- **Ergonomic shortcuts**: Direct scalar comparisons without closures\n",
    "- **Mathematical clarity**: Readable, math-like syntax\n",
    "- **Performance optimized**: Zero-copy operations when possible"
   ]
  },
  {
   "cell_type": "code",
   "execution_count": 2,
   "metadata": {},
   "outputs": [
    {
     "name": "stdout",
     "output_type": "stream",
     "text": [
      "✅ Setup complete! Math-first find and any operations ready!\n",
      "Test vector length: 3\n"
     ]
    },
    {
     "data": {
      "text/plain": [
       "()"
      ]
     },
     "execution_count": 2,
     "metadata": {},
     "output_type": "execute_result"
    }
   ],
   "source": [
    "// Setup Cell - dependencies and imports persist across all cells\n",
    ":dep rustlab-math = { path = \"..\" }\n",
    "\n",
    "// Top-level imports - these persist across all cells!\n",
    "use rustlab_math::{VectorF64, comparison::*};\n",
    "use std::f64::consts::PI;\n",
    "\n",
    "// Test setup in braces (variables don't persist, but confirms setup works)\n",
    "{\n",
    "    let test_vec = VectorF64::from_slice(&[1.0, 2.0, 3.0]);\n",
    "    println!(\"✅ Setup complete! Math-first find and any operations ready!\");\n",
    "    println!(\"Test vector length: {}\", test_vec.len());\n",
    "}"
   ]
  },
  {
   "cell_type": "markdown",
   "metadata": {},
   "source": [
    "## 1. Math-First Approach: Boolean Vector Integration\n",
    "\n",
    "The most **math-first** way to find elements is using boolean vectors created by comparison operations:"
   ]
  },
  {
   "cell_type": "code",
   "execution_count": 3,
   "metadata": {},
   "outputs": [
    {
     "name": "stdout",
     "output_type": "stream",
     "text": [
      "Data: [1.0, 3.0, 7.0, 2.0, 9.0, 1.5, 12.0, 2.5]\n",
      "\n",
      "Outlier mask (> 5.0): [false, false, true, false, true, false, true, false]\n",
      "\n",
      "=== Boolean Vector Analysis ===\n",
      "Any outliers? true\n",
      "All outliers? false\n",
      "Number of outliers: 3\n",
      "\n",
      "=== Extraction Results ===\n",
      "Outlier values: [7.0, 9.0, 12.0]\n",
      "Outlier indices: [2.0, 4.0, 6.0]\n"
     ]
    },
    {
     "data": {
      "text/plain": [
       "()"
      ]
     },
     "execution_count": 3,
     "metadata": {},
     "output_type": "execute_result"
    }
   ],
   "source": [
    "{\n",
    "    // Sample data: sensor readings with some outliers\n",
    "    let data = VectorF64::from_slice(&[1.0, 3.0, 7.0, 2.0, 9.0, 1.5, 12.0, 2.5]);\n",
    "    println!(\"Data: {:?}\", data.to_slice());\n",
    "    \n",
    "    // Step 1: Create boolean mask using mathematical comparison\n",
    "    let outlier_mask = data.gt(5.0);  // Mathematical: data > 5.0\n",
    "    println!(\"\\nOutlier mask (> 5.0): {:?}\", outlier_mask.as_slice());\n",
    "    \n",
    "    // Step 2: Use boolean vector methods\n",
    "    println!(\"\\n=== Boolean Vector Analysis ===\");\n",
    "    println!(\"Any outliers? {}\", outlier_mask.any());\n",
    "    println!(\"All outliers? {}\", outlier_mask.all());\n",
    "    println!(\"Number of outliers: {}\", outlier_mask.count_true());\n",
    "    \n",
    "    // Step 3: Extract matching values and indices\n",
    "    let outlier_values = data.find_where(&outlier_mask).unwrap();\n",
    "    let outlier_indices = data.find_indices(&outlier_mask).unwrap();\n",
    "    \n",
    "    println!(\"\\n=== Extraction Results ===\");\n",
    "    println!(\"Outlier values: {:?}\", outlier_values.to_slice());\n",
    "    println!(\"Outlier indices: {:?}\", outlier_indices.to_slice());\n",
    "}"
   ]
  },
  {
   "cell_type": "markdown",
   "metadata": {},
   "source": [
    "## 2. Complex Conditions with Boolean Logic\n",
    "\n",
    "Combine multiple conditions using boolean operators:"
   ]
  },
  {
   "cell_type": "code",
   "execution_count": 4,
   "metadata": {},
   "outputs": [
    {
     "name": "stdout",
     "output_type": "stream",
     "text": [
      "Daily temperatures (°C): [18.5, 22.1, 25.7, 19.8, 31.2, 16.4, 28.9, 21.3]\n",
      "\n",
      "=== Weather Analysis ===\n",
      "Comfortable days (20-25°C): [false, true, false, false, false, false, false, true]\n",
      "Extreme heat days (>30°C): [false, false, false, false, true, false, false, false]\n",
      "Cold days (<18°C): [false, false, false, false, false, true, false, false]\n",
      "\n",
      "=== Summary ===\n",
      "Comfortable temperatures: [22.1, 21.3]\n",
      "Extreme temperatures: [31.2]\n",
      "Days with extreme heat: 1\n"
     ]
    },
    {
     "data": {
      "text/plain": [
       "()"
      ]
     },
     "execution_count": 4,
     "metadata": {},
     "output_type": "execute_result"
    }
   ],
   "source": [
    "{\n",
    "    // Time series data: daily temperature readings\n",
    "    let temperatures = VectorF64::from_slice(&[18.5, 22.1, 25.7, 19.8, 31.2, 16.4, 28.9, 21.3]);\n",
    "    println!(\"Daily temperatures (°C): {:?}\", temperatures.to_slice());\n",
    "    \n",
    "    // Complex mathematical conditions\n",
    "    let comfortable_range = (temperatures.ge(20.0) & temperatures.le(25.0)).unwrap();\n",
    "    let extreme_heat = temperatures.gt(30.0);\n",
    "    let cold_days = temperatures.lt(18.0);\n",
    "    \n",
    "    println!(\"\\n=== Weather Analysis ===\");\n",
    "    println!(\"Comfortable days (20-25°C): {:?}\", comfortable_range.as_slice());\n",
    "    println!(\"Extreme heat days (>30°C): {:?}\", extreme_heat.as_slice());\n",
    "    println!(\"Cold days (<18°C): {:?}\", cold_days.as_slice());\n",
    "    \n",
    "    // Statistical summary\n",
    "    let comfortable_temps = temperatures.find_where(&comfortable_range).unwrap();\n",
    "    let extreme_temps = temperatures.find_where(&extreme_heat).unwrap();\n",
    "    \n",
    "    println!(\"\\n=== Summary ===\");\n",
    "    println!(\"Comfortable temperatures: {:?}\", comfortable_temps.to_slice());\n",
    "    println!(\"Extreme temperatures: {:?}\", extreme_temps.to_slice());\n",
    "    println!(\"Days with extreme heat: {}\", extreme_heat.count_true());\n",
    "}"
   ]
  },
  {
   "cell_type": "markdown",
   "metadata": {},
   "source": [
    "## 3. Ergonomic Shortcuts: Direct Scalar Comparisons\n",
    "\n",
    "For common operations, use ergonomic shortcut methods:"
   ]
  },
  {
   "cell_type": "code",
   "execution_count": 5,
   "metadata": {},
   "outputs": [
    {
     "name": "stdout",
     "output_type": "stream",
     "text": [
      "Daily returns (%): [0.5, -1.2, 2.3, -0.8, 3.1, -2.1, 1.7, 0.9]\n",
      "\n",
      "=== Quick Checks (Ergonomic Shortcuts) ===\n",
      "Any big gains (>2%)? true\n",
      "Any big losses (<-2%)? true\n",
      "All positive days? false\n",
      "All small moves (<3%)? false\n",
      "\n",
      "=== Find First Occurrences ===\n",
      "First big gain (>2%): Some(2.3)\n",
      "First big loss (<-1%): Some(-1.2)\n",
      "First day with exactly 0.9%: Some(0.9)\n",
      "\n",
      "=== Find Positions ===\n",
      "Day of first big gain: Some(2)\n",
      "Day of first big loss: Some(1)\n"
     ]
    },
    {
     "data": {
      "text/plain": [
       "()"
      ]
     },
     "execution_count": 5,
     "metadata": {},
     "output_type": "execute_result"
    }
   ],
   "source": [
    "{\n",
    "    // Financial data: daily returns as percentages\n",
    "    let daily_returns = VectorF64::from_slice(&[0.5, -1.2, 2.3, -0.8, 3.1, -2.1, 1.7, 0.9]);\n",
    "    println!(\"Daily returns (%): {:?}\", daily_returns.to_slice());\n",
    "    \n",
    "    println!(\"\\n=== Quick Checks (Ergonomic Shortcuts) ===\");\n",
    "    \n",
    "    // Any/All methods - quick boolean checks\n",
    "    println!(\"Any big gains (>2%)? {}\", daily_returns.any_gt(2.0));\n",
    "    println!(\"Any big losses (<-2%)? {}\", daily_returns.any_lt(-2.0));\n",
    "    println!(\"All positive days? {}\", daily_returns.all_gt(0.0));\n",
    "    println!(\"All small moves (<3%)? {}\", daily_returns.all_lt(3.0));\n",
    "    \n",
    "    // Find methods - get first occurrence  \n",
    "    println!(\"\\n=== Find First Occurrences ===\");\n",
    "    println!(\"First big gain (>2%): {:?}\", daily_returns.find_gt(2.0));\n",
    "    println!(\"First big loss (<-1%): {:?}\", daily_returns.find_lt(-1.0));\n",
    "    println!(\"First day with exactly 0.9%: {:?}\", daily_returns.find_eq(0.9));\n",
    "    \n",
    "    // Find index methods - get position\n",
    "    println!(\"\\n=== Find Positions ===\");\n",
    "    println!(\"Day of first big gain: {:?}\", daily_returns.find_index_gt(2.0));\n",
    "    println!(\"Day of first big loss: {:?}\", daily_returns.find_index_lt(-1.0));\n",
    "}"
   ]
  },
  {
   "cell_type": "markdown",
   "metadata": {},
   "source": [
    "## 4. Scientific Data Analysis\n",
    "\n",
    "Practical example: analyzing experimental measurements"
   ]
  },
  {
   "cell_type": "code",
   "execution_count": 6,
   "metadata": {},
   "outputs": [
    {
     "name": "stdout",
     "output_type": "stream",
     "text": [
      "Reaction times (ms): [245.2, 298.7, 189.1, 334.5, 267.8, 198.3, 445.6, 223.1, 276.4, 312.9, 178.7, 289.5, 356.2, 234.8, 301.7]\n",
      "\n",
      "=== Experimental Analysis ===\n",
      "Any unusually fast responses (<200ms)? true\n",
      "Any unusually slow responses (>350ms)? true\n",
      "All responses within normal range? false\n",
      "\n",
      "=== Response Categories ===\n",
      "Fast responses: 3\n",
      "Normal responses: 10\n",
      "Slow responses: 2\n",
      "\n",
      "=== Outlier Detection ===\n",
      "Outlier reaction times: [189.1, 198.3, 445.6, 178.7, 356.2]\n",
      "Outlier trial numbers: [2.0, 5.0, 6.0, 10.0, 12.0]\n",
      "\n",
      "First unusually fast response: 189.1ms on trial 3\n",
      "First unusually slow response: 445.6ms on trial 7\n"
     ]
    },
    {
     "data": {
      "text/plain": [
       "()"
      ]
     },
     "execution_count": 6,
     "metadata": {},
     "output_type": "execute_result"
    }
   ],
   "source": [
    "{\n",
    "    // Experimental data: reaction times in milliseconds\n",
    "    let reaction_times = VectorF64::from_slice(&[\n",
    "        245.2, 298.7, 189.1, 334.5, 267.8, 198.3, 445.6, 223.1, \n",
    "        276.4, 312.9, 178.7, 289.5, 356.2, 234.8, 301.7\n",
    "    ]);\n",
    "    \n",
    "    println!(\"Reaction times (ms): {:?}\", reaction_times.to_slice());\n",
    "    \n",
    "    // Define thresholds based on research standards\n",
    "    let fast_threshold = 200.0;   // Fast responses\n",
    "    let slow_threshold = 350.0;   // Slow responses\n",
    "    let normal_range = 200.0..350.0;\n",
    "    \n",
    "    println!(\"\\n=== Experimental Analysis ===\");\n",
    "    \n",
    "    // Quick statistical checks\n",
    "    println!(\"Any unusually fast responses (<{}ms)? {}\", fast_threshold, \n",
    "             reaction_times.any_lt(fast_threshold));\n",
    "    println!(\"Any unusually slow responses (>{}ms)? {}\", slow_threshold,\n",
    "             reaction_times.any_gt(slow_threshold));\n",
    "    println!(\"All responses within normal range? {}\", \n",
    "             reaction_times.all_ge(normal_range.start) && \n",
    "             reaction_times.all_le(normal_range.end));\n",
    "    \n",
    "    // Detailed analysis using boolean masks\n",
    "    let fast_responses = reaction_times.lt(fast_threshold);\n",
    "    let slow_responses = reaction_times.gt(slow_threshold);\n",
    "    let normal_responses = (reaction_times.ge(normal_range.start) & \n",
    "                           reaction_times.le(normal_range.end)).unwrap();\n",
    "    \n",
    "    println!(\"\\n=== Response Categories ===\");\n",
    "    println!(\"Fast responses: {}\", fast_responses.count_true());\n",
    "    println!(\"Normal responses: {}\", normal_responses.count_true());\n",
    "    println!(\"Slow responses: {}\", slow_responses.count_true());\n",
    "    \n",
    "    // Extract outliers for further analysis\n",
    "    let outliers_mask = (fast_responses | slow_responses.clone()).unwrap();\n",
    "    let outlier_values = reaction_times.find_where(&outliers_mask).unwrap();\n",
    "    let outlier_indices = reaction_times.find_indices(&outliers_mask).unwrap();\n",
    "    \n",
    "    println!(\"\\n=== Outlier Detection ===\");\n",
    "    println!(\"Outlier reaction times: {:?}\", outlier_values.to_slice());\n",
    "    println!(\"Outlier trial numbers: {:?}\", outlier_indices.to_slice());\n",
    "    \n",
    "    // First occurrence analysis\n",
    "    if let Some(first_fast_time) = reaction_times.find_lt(fast_threshold) {\n",
    "        let first_fast_trial = reaction_times.find_index_lt(fast_threshold).unwrap();\n",
    "        println!(\"\\nFirst unusually fast response: {:.1}ms on trial {}\", \n",
    "                first_fast_time, first_fast_trial + 1);\n",
    "    }\n",
    "    \n",
    "    if let Some(first_slow_time) = reaction_times.find_gt(slow_threshold) {\n",
    "        let first_slow_trial = reaction_times.find_index_gt(slow_threshold).unwrap();\n",
    "        println!(\"First unusually slow response: {:.1}ms on trial {}\", \n",
    "                first_slow_time, first_slow_trial + 1);\n",
    "    }\n",
    "}"
   ]
  },
  {
   "cell_type": "markdown",
   "metadata": {},
   "source": [
    "## 5. Mathematical Functions Analysis\n",
    "\n",
    "Finding interesting points in mathematical functions:"
   ]
  },
  {
   "cell_type": "code",
   "execution_count": 7,
   "metadata": {},
   "outputs": [
    {
     "name": "stdout",
     "output_type": "stream",
     "text": [
      "Mathematical function: f(x) = sin(x) + 0.5*cos(2x)\n",
      "X values: [0.0, 0.3141592653589793, 0.6283185307179586, 0.9424777960769379, 1.2566370614359172, 1.5707963267948966, 1.8849555921538759, 2.199114857512855]\n",
      "Y values: [0.5, 0.7135254915624212, 0.7422937494799469, 0.6545084971874737, 0.5465480191076799, 0.5, 0.5465480191076799, 0.6545084971874737]\n",
      "\n",
      "=== Function Analysis ===\n",
      "Function has positive values? true\n",
      "Function has negative values? true\n",
      "Function always bounded by [-2, 2]? true\n",
      "\n",
      "=== Critical Points ===\n",
      "High values (>1.0): 0\n",
      "Low values (<-0.5): 5\n",
      "Near zero ([-0.1, 0.1]): 2\n",
      "\n",
      "=== Peak Analysis ===\n",
      "X coordinates of peaks: []\n",
      "Y coordinates of peaks: []\n",
      "\n",
      "First zero crossing near x = 3.770\n",
      "\n",
      "=== Mathematical Properties ===\n",
      "Maximum value: 0.742\n",
      "Minimum value: -1.500\n",
      "Range where f(x) > 0.5: 9 points\n"
     ]
    },
    {
     "data": {
      "text/plain": [
       "()"
      ]
     },
     "execution_count": 7,
     "metadata": {},
     "output_type": "execute_result"
    }
   ],
   "source": [
    "{\n",
    "    // Generate sample points for mathematical analysis\n",
    "    let x_values = (0..20).map(|i| i as f64 * PI / 10.0).collect::<Vec<_>>();\n",
    "    let x_vec = VectorF64::from_slice(&x_values);\n",
    "    \n",
    "    // Create mathematical function: f(x) = sin(x) + 0.5*cos(2x)\n",
    "    let y_values: Vec<f64> = x_values.iter()\n",
    "        .map(|&x| x.sin() + 0.5 * (2.0 * x).cos())\n",
    "        .collect();\n",
    "    let y_vec = VectorF64::from_slice(&y_values);\n",
    "    \n",
    "    println!(\"Mathematical function: f(x) = sin(x) + 0.5*cos(2x)\");\n",
    "    println!(\"X values: {:?}\", &x_values[..8]); // Show first 8 values\n",
    "    println!(\"Y values: {:?}\", &y_values[..8]);\n",
    "    \n",
    "    println!(\"\\n=== Function Analysis ===\");\n",
    "    \n",
    "    // Quick analysis using ergonomic methods\n",
    "    println!(\"Function has positive values? {}\", y_vec.any_gt(0.0));\n",
    "    println!(\"Function has negative values? {}\", y_vec.any_lt(0.0));\n",
    "    println!(\"Function always bounded by [-2, 2]? {}\", \n",
    "             y_vec.all_ge(-2.0) && y_vec.all_le(2.0));\n",
    "    \n",
    "    // Find critical points and interesting values\n",
    "    let high_values = y_vec.gt(1.0);\n",
    "    let low_values = y_vec.lt(-0.5);\n",
    "    let near_zero = (y_vec.ge(-0.1) & y_vec.le(0.1)).unwrap();\n",
    "    \n",
    "    println!(\"\\n=== Critical Points ===\");\n",
    "    println!(\"High values (>1.0): {}\", high_values.count_true());\n",
    "    println!(\"Low values (<-0.5): {}\", low_values.count_true());\n",
    "    println!(\"Near zero ([-0.1, 0.1]): {}\", near_zero.count_true());\n",
    "    \n",
    "    // Extract X coordinates of interesting points\n",
    "    let high_x_coords = x_vec.find_where(&high_values).unwrap();\n",
    "    let high_y_coords = y_vec.find_where(&high_values).unwrap();\n",
    "    \n",
    "    println!(\"\\n=== Peak Analysis ===\");\n",
    "    println!(\"X coordinates of peaks: {:?}\", high_x_coords.to_slice());\n",
    "    println!(\"Y coordinates of peaks: {:?}\", high_y_coords.to_slice());\n",
    "    \n",
    "    // Find first zero crossing\n",
    "    if let Some(first_negative_idx) = y_vec.find_index_lt(0.0) {\n",
    "        println!(\"\\nFirst zero crossing near x = {:.3}\", x_values[first_negative_idx]);\n",
    "    }\n",
    "    \n",
    "    // Mathematical properties\n",
    "    println!(\"\\n=== Mathematical Properties ===\");\n",
    "    println!(\"Maximum value: {:.3}\", y_values.iter().fold(f64::NEG_INFINITY, |a, &b| a.max(b)));\n",
    "    println!(\"Minimum value: {:.3}\", y_values.iter().fold(f64::INFINITY, |a, &b| a.min(b)));\n",
    "    println!(\"Range where f(x) > 0.5: {} points\", y_vec.gt(0.5).count_true());\n",
    "}"
   ]
  },
  {
   "cell_type": "markdown",
   "metadata": {},
   "source": [
    "## 6. Performance Comparison: Math-First vs Traditional\n",
    "\n",
    "Comparing the new math-first approach with traditional functional programming:"
   ]
  },
  {
   "cell_type": "code",
   "execution_count": 8,
   "metadata": {},
   "outputs": [
    {
     "name": "stdout",
     "output_type": "stream",
     "text": [
      "=== Math-First vs Traditional Approaches ===\n",
      "Data: [1.0, 5.0, 3.0, 8.0, 2.0, 7.0, 4.0, 9.0, 1.0, 6.0]\n",
      "\n",
      "🎯 Math-First Approach (Recommended):\n",
      "   let mask = data.gt(5.0);\n",
      "   let has_large = mask.any();                 // true\n",
      "   let large_values = data.find_where(&mask); // [8.0, 7.0, 9.0, 6.0]\n",
      "\n",
      "⚡ Ergonomic Shortcuts:\n",
      "   data.any_gt(5.0)        // true\n",
      "   data.find_gt(5.0)       // Some(8.0)\n",
      "   data.find_index_gt(5.0) // Some(3)\n",
      "\n",
      "📚 Traditional Functional (Old Way):\n",
      "   data.any(|x| x > 5.0)   // Would be: true\n",
      "   data.find(|x| x > 5.0)  // Would be: Some(8.0)\n",
      "\n",
      "✨ Benefits of Math-First Approach:\n",
      "   • More readable mathematical notation\n",
      "   • Boolean masks can be reused and combined\n",
      "   • Direct scalar comparisons without closures\n",
      "   • Consistent with NumPy/MATLAB style\n",
      "   • Better composability with other operations\n"
     ]
    },
    {
     "data": {
      "text/plain": [
       "()"
      ]
     },
     "execution_count": 8,
     "metadata": {},
     "output_type": "execute_result"
    }
   ],
   "source": [
    "{\n",
    "    let data = VectorF64::from_slice(&[1.0, 5.0, 3.0, 8.0, 2.0, 7.0, 4.0, 9.0, 1.0, 6.0]);\n",
    "    \n",
    "    println!(\"=== Math-First vs Traditional Approaches ===\");\n",
    "    println!(\"Data: {:?}\", data.to_slice());\n",
    "    \n",
    "    // Math-first approach (RECOMMENDED)\n",
    "    println!(\"\\n🎯 Math-First Approach (Recommended):\");\n",
    "    let mask = data.gt(5.0);                    // Step 1: Create boolean mask\n",
    "    let has_large = mask.any();                 // Step 2: Check condition\n",
    "    let large_values = data.find_where(&mask).unwrap(); // Step 3: Extract values\n",
    "    \n",
    "    println!(\"   let mask = data.gt(5.0);\");\n",
    "    println!(\"   let has_large = mask.any();                 // {}\", has_large);\n",
    "    println!(\"   let large_values = data.find_where(&mask); // {:?}\", large_values.to_slice());\n",
    "    \n",
    "    // Ergonomic shortcuts\n",
    "    println!(\"\\n⚡ Ergonomic Shortcuts:\");\n",
    "    let has_large_shortcut = data.any_gt(5.0);\n",
    "    let first_large = data.find_gt(5.0);\n",
    "    let first_large_index = data.find_index_gt(5.0);\n",
    "    \n",
    "    println!(\"   data.any_gt(5.0)        // {}\", has_large_shortcut);\n",
    "    println!(\"   data.find_gt(5.0)       // {:?}\", first_large);\n",
    "    println!(\"   data.find_index_gt(5.0) // {:?}\", first_large_index);\n",
    "    \n",
    "    // Traditional functional approach (for comparison)\n",
    "    println!(\"\\n📚 Traditional Functional (Old Way):\");\n",
    "    println!(\"   data.any(|x| x > 5.0)   // Would be: {}\", has_large);\n",
    "    println!(\"   data.find(|x| x > 5.0)  // Would be: {:?}\", first_large);\n",
    "    \n",
    "    println!(\"\\n✨ Benefits of Math-First Approach:\");\n",
    "    println!(\"   • More readable mathematical notation\");\n",
    "    println!(\"   • Boolean masks can be reused and combined\");\n",
    "    println!(\"   • Direct scalar comparisons without closures\");\n",
    "    println!(\"   • Consistent with NumPy/MATLAB style\");\n",
    "    println!(\"   • Better composability with other operations\");\n",
    "}"
   ]
  },
  {
   "cell_type": "markdown",
   "metadata": {},
   "source": [
    "## Summary: Complete Math-First Find and Any API\n",
    "\n",
    "### 🎯 Math-First Methods (Primary)\n",
    "- **`data.find_where(&mask)`** - Extract values where boolean mask is true\n",
    "- **`data.find_indices(&mask)`** - Get indices where boolean mask is true\n",
    "- **`mask.any()`** - Check if any element in boolean mask is true\n",
    "- **`mask.all()`** - Check if all elements in boolean mask are true\n",
    "- **`mask.count_true()`** - Count number of true elements\n",
    "\n",
    "### ⚡ Ergonomic Shortcuts\n",
    "**Any/All Methods:**\n",
    "- `data.any_gt(value)`, `data.any_lt(value)`, `data.any_ge(value)`, `data.any_le(value)`, `data.any_eq(value)`\n",
    "- `data.all_gt(value)`, `data.all_lt(value)`, `data.all_ge(value)`, `data.all_le(value)`, `data.all_eq(value)`\n",
    "\n",
    "**Find Value Methods:**\n",
    "- `data.find_gt(value)`, `data.find_lt(value)`, `data.find_ge(value)`, `data.find_le(value)`, `data.find_eq(value)`\n",
    "\n",
    "**Find Index Methods:**\n",
    "- `data.find_index_gt(value)`, `data.find_index_lt(value)`, `data.find_index_ge(value)`, `data.find_index_le(value)`, `data.find_index_eq(value)`\n",
    "\n",
    "### 🔬 Boolean Vector Operations\n",
    "- **`data.gt(value)`** - Create boolean mask for greater than\n",
    "- **`data.lt(value)`** - Create boolean mask for less than  \n",
    "- **`data.ge(value)`** - Create boolean mask for greater than or equal\n",
    "- **`data.le(value)`** - Create boolean mask for less than or equal\n",
    "- **`data.eq(value)`** - Create boolean mask for equality\n",
    "- **`mask1 & mask2`** - Logical AND of boolean masks\n",
    "- **`mask1 | mask2`** - Logical OR of boolean masks\n",
    "\n",
    "This math-first approach provides intuitive, readable, and performant ways to find and analyze data in RustLab! 🚀"
   ]
  }
 ],
 "metadata": {
  "kernelspec": {
   "display_name": "Rust",
   "language": "rust",
   "name": "rust"
  },
  "language_info": {
   "codemirror_mode": "rust",
   "file_extension": ".rs",
   "mimetype": "text/rust",
   "name": "Rust",
   "pygment_lexer": "rust",
   "version": ""
  }
 },
 "nbformat": 4,
 "nbformat_minor": 4
}
