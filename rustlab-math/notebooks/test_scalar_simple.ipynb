{
 "cells": [
  {
   "cell_type": "code",
   "execution_count": null,
   "metadata": {},
   "outputs": [],
   "source": [
    ":dep rustlab-math = { path = \"../rustlab-math\" }\n",
    "use rustlab_math::*;"
   ]
  },
  {
   "cell_type": "code",
   "execution_count": null,
   "metadata": {},
   "outputs": [],
   "source": [
    "// Simple test of scalar operations\n",
    "let v = vec64![1.0, 2.0, 3.0];\n",
    "println!(\"v = {:?}\", v.to_slice());\n",
    "\n",
    "// Test scalar multiplication (should work)\n",
    "let v_times_2 = &v * 2.0;\n",
    "println!(\"v * 2 = {:?}\", v_times_2.to_slice());\n",
    "\n",
    "// Test scalar addition (this is what was failing)\n",
    "let v_plus_10 = &v + 10.0;\n",
    "println!(\"v + 10 = {:?}\", v_plus_10.to_slice());\n",
    "\n",
    "// Test chained operation\n",
    "let chained = (&v * 2.0) + 1.0;\n",
    "println!(\"(v * 2) + 1 = {:?}\", chained.to_slice());\n",
    "\n",
    "println!(\"✅ All scalar operations work!\");"
   ]
  }
 ],
 "metadata": {
  "kernelspec": {
   "display_name": "Rust",
   "language": "rust",
   "name": "rust"
  },
  "language_info": {
   "name": "rust"
  }
 },
 "nbformat": 4,
 "nbformat_minor": 4
}