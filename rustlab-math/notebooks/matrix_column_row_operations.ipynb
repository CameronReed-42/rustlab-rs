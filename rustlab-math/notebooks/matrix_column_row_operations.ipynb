{
 "cells": [
  {
   "cell_type": "markdown",
   "metadata": {},
   "source": [
    "# Matrix Row and Column Operations in RustLab Math\n",
    "\n",
    "This notebook demonstrates the new row/column extraction and vector-to-matrix conversion capabilities added to rustlab-math. These methods are essential for machine learning and linear algebra operations, especially in linear regression implementations."
   ]
  },
  {
   "cell_type": "markdown",
   "metadata": {},
   "source": [
    "## Setup and Imports\n",
    "\n",
    "First, let's import the necessary dependencies and create some sample data."
   ]
  },
  {
   "cell_type": "code",
   "execution_count": 2,
   "metadata": {
    "vscode": {
     "languageId": "rust"
    }
   },
   "outputs": [
    {
     "name": "stdout",
     "output_type": "stream",
     "text": [
      "✅ Dependencies loaded successfully!\n"
     ]
    }
   ],
   "source": [
    ":dep rustlab-math = { path = \"..\" }\n",
    ":dep rustlab-linearalgebra = { path = \"../../rustlab-linearalgebra\" }\n",
    "\n",
    "use rustlab_math::{ArrayF64, VectorF64, array64, vec64};\n",
    "use rustlab_math::BasicStatistics;\n",
    "use rustlab_linearalgebra::BasicLinearAlgebra;\n",
    "\n",
    "println!(\"✅ Dependencies loaded successfully!\");"
   ]
  },
  {
   "cell_type": "markdown",
   "metadata": {},
   "source": [
    "## 1. Column Extraction - Feature Analysis\n",
    "\n",
    "Column extraction is fundamental for analyzing features in datasets. Each column typically represents a feature in machine learning contexts."
   ]
  },
  {
   "cell_type": "code",
   "execution_count": 3,
   "metadata": {
    "vscode": {
     "languageId": "rust"
    }
   },
   "outputs": [
    {
     "name": "stdout",
     "output_type": "stream",
     "text": [
      "Dataset shape: (5, 3)\n",
      "\n",
      "Feature 0: [1.0, 4.0, 7.0, 10.0, 13.0]\n",
      "  Mean: 7.00, Std Dev: 4.74\n",
      "\n",
      "Feature 1: [2.0, 5.0, 8.0, 11.0, 14.0]\n",
      "  Mean: 8.00, Std Dev: 4.74\n",
      "\n",
      "Feature 2: [3.0, 6.0, 9.0, 12.0, 15.0]\n",
      "  Mean: 9.00, Std Dev: 4.74\n",
      "\n"
     ]
    },
    {
     "data": {
      "text/plain": [
       "()"
      ]
     },
     "execution_count": 3,
     "metadata": {},
     "output_type": "execute_result"
    }
   ],
   "source": [
    "{\n",
    "    // Create a sample dataset: 5 samples × 3 features\n",
    "    let dataset = array64![\n",
    "        [1.0, 2.0, 3.0],   // Sample 1\n",
    "        [4.0, 5.0, 6.0],   // Sample 2\n",
    "        [7.0, 8.0, 9.0],   // Sample 3\n",
    "        [10.0, 11.0, 12.0], // Sample 4\n",
    "        [13.0, 14.0, 15.0]  // Sample 5\n",
    "    ];\n",
    "    \n",
    "    println!(\"Dataset shape: {:?}\\n\", dataset.shape());\n",
    "    \n",
    "    // Extract each feature column\n",
    "    for j in 0..dataset.ncols() {\n",
    "        let feature = dataset.col(j).unwrap();\n",
    "        let mean = feature.mean();\n",
    "        let std = feature.std(None);\n",
    "        \n",
    "        println!(\"Feature {}: {:?}\", j, feature.to_slice());\n",
    "        println!(\"  Mean: {:.2}, Std Dev: {:.2}\\n\", mean, std);\n",
    "    }\n",
    "}"
   ]
  },
  {
   "cell_type": "markdown",
   "metadata": {},
   "source": [
    "## 2. Row Extraction - Sample Analysis\n",
    "\n",
    "Row extraction allows us to analyze individual samples or observations in our dataset."
   ]
  },
  {
   "cell_type": "code",
   "execution_count": 4,
   "metadata": {
    "vscode": {
     "languageId": "rust"
    }
   },
   "outputs": [
    {
     "name": "stdout",
     "output_type": "stream",
     "text": [
      "Analyzing individual samples:\n",
      "\n",
      "Sample 0: [0.5, 1.2, 0.8, 0.3]\n",
      "  Sum: 2.80, Mean: 0.70, L2 Norm: 1.56\n",
      "\n",
      "Sample 1: [5.5, 6.2, 5.8, 6.3]\n",
      "  Sum: 23.80, Mean: 5.95, L2 Norm: 11.92\n",
      "\n",
      "Sample 2: [9.5, 10.2, 9.8, 10.3]\n",
      "  Sum: 39.80, Mean: 9.95, L2 Norm: 19.91\n",
      "\n"
     ]
    },
    {
     "data": {
      "text/plain": [
       "()"
      ]
     },
     "execution_count": 4,
     "metadata": {},
     "output_type": "execute_result"
    }
   ],
   "source": [
    "{\n",
    "    // Create a dataset with different types of samples\n",
    "    let samples = array64![\n",
    "        [0.5, 1.2, 0.8, 0.3],  // Low values\n",
    "        [5.5, 6.2, 5.8, 6.3],  // Medium values\n",
    "        [9.5, 10.2, 9.8, 10.3] // High values\n",
    "    ];\n",
    "    \n",
    "    println!(\"Analyzing individual samples:\\n\");\n",
    "    \n",
    "    for i in 0..samples.nrows() {\n",
    "        let sample = samples.row(i).unwrap();\n",
    "        let sum = sample.sum_elements();\n",
    "        let mean = sample.mean();\n",
    "        let l2_norm = (&sample ^ &sample).sqrt();  // L2 norm\n",
    "        \n",
    "        println!(\"Sample {}: {:?}\", i, sample.to_slice());\n",
    "        println!(\"  Sum: {:.2}, Mean: {:.2}, L2 Norm: {:.2}\\n\", sum, mean, l2_norm);\n",
    "    }\n",
    "}"
   ]
  },
  {
   "cell_type": "markdown",
   "metadata": {},
   "source": [
    "## 3. Vector to Matrix Conversion for Linear Algebra\n",
    "\n",
    "Converting vectors to column matrices is essential for matrix operations in linear algebra, particularly when solving linear systems."
   ]
  },
  {
   "cell_type": "code",
   "execution_count": 5,
   "metadata": {
    "vscode": {
     "languageId": "rust"
    }
   },
   "outputs": [
    {
     "name": "stdout",
     "output_type": "stream",
     "text": [
      "Original vector: [1.0, 2.0, 3.0, 4.0]\n",
      "Vector length: 4\n",
      "\n",
      "Column matrix shape: (4, 1)\n",
      "Column matrix contents:\n",
      "  [1.0]\n",
      "  [2.0]\n",
      "  [3.0]\n",
      "  [4.0]\n",
      "\n",
      "Extracted vector: [1.0, 2.0, 3.0, 4.0]\n",
      "Vectors are equal: true\n"
     ]
    },
    {
     "data": {
      "text/plain": [
       "()"
      ]
     },
     "execution_count": 5,
     "metadata": {},
     "output_type": "execute_result"
    }
   ],
   "source": [
    "{\n",
    "    // Create a vector\n",
    "    let v = vec64![1.0, 2.0, 3.0, 4.0];\n",
    "    println!(\"Original vector: {:?}\", v.to_slice());\n",
    "    println!(\"Vector length: {}\\n\", v.len());\n",
    "    \n",
    "    // Convert to column matrix\n",
    "    let col_matrix = ArrayF64::from_vector_column(&v);\n",
    "    println!(\"Column matrix shape: {:?}\", col_matrix.shape());\n",
    "    println!(\"Column matrix contents:\");\n",
    "    for i in 0..col_matrix.nrows() {\n",
    "        println!(\"  [{:.1}]\", col_matrix[(i, 0)]);\n",
    "    }\n",
    "    \n",
    "    // Extract back to vector\n",
    "    let extracted = col_matrix.to_vector_column();\n",
    "    println!(\"\\nExtracted vector: {:?}\", extracted.to_slice());\n",
    "    println!(\"Vectors are equal: {}\", v.to_slice() == extracted.to_slice());\n",
    "}"
   ]
  },
  {
   "cell_type": "markdown",
   "metadata": {},
   "source": [
    "## 4. Practical Example: Solving Linear Systems\n",
    "\n",
    "Let's demonstrate how these operations are used in solving the normal equations for linear regression: (X'X)β = X'y"
   ]
  },
  {
   "cell_type": "code",
   "execution_count": 6,
   "metadata": {
    "vscode": {
     "languageId": "rust"
    }
   },
   "outputs": [
    {
     "name": "stdout",
     "output_type": "stream",
     "text": [
      "Design matrix X:\n",
      "  [1.0, 1.0]\n",
      "  [1.0, 2.0]\n",
      "  [1.0, 3.0]\n",
      "  [1.0, 4.0]\n",
      "\n",
      "Target vector y: [5.0, 8.0, 11.0, 14.0]\n",
      "\n",
      "Estimated coefficients:\n",
      "  Intercept (β₀): 2.00\n",
      "  Slope (β₁): 3.00\n",
      "\n",
      "True values were: β₀=2.0, β₁=3.0\n"
     ]
    },
    {
     "data": {
      "text/plain": [
       "()"
      ]
     },
     "execution_count": 6,
     "metadata": {},
     "output_type": "execute_result"
    }
   ],
   "source": [
    "{\n",
    "    // Design matrix X (with intercept column) and target vector y\n",
    "    let X = array64![\n",
    "        [1.0, 1.0],   // Sample 1: intercept=1, feature=1\n",
    "        [1.0, 2.0],   // Sample 2: intercept=1, feature=2\n",
    "        [1.0, 3.0],   // Sample 3: intercept=1, feature=3\n",
    "        [1.0, 4.0]    // Sample 4: intercept=1, feature=4\n",
    "    ];\n",
    "    \n",
    "    // Target values: y = 2 + 3*x (true relationship)\n",
    "    let y = vec64![5.0, 8.0, 11.0, 14.0];\n",
    "    \n",
    "    println!(\"Design matrix X:\");\n",
    "    for i in 0..X.nrows() {\n",
    "        let row = X.row(i).unwrap();\n",
    "        println!(\"  {:?}\", row.to_slice());\n",
    "    }\n",
    "    println!(\"\\nTarget vector y: {:?}\\n\", y.to_slice());\n",
    "    \n",
    "    // Solve normal equations: β = (X'X)^(-1)X'y\n",
    "    let Xt = X.transpose();\n",
    "    let XtX = &Xt ^ &X;\n",
    "    \n",
    "    // Convert y to column matrix for matrix multiplication\n",
    "    let y_matrix = ArrayF64::from_vector_column(&y);\n",
    "    let Xty_matrix = &Xt ^ &y_matrix;\n",
    "    \n",
    "    // Solve for coefficients\n",
    "    let XtX_inv = XtX.inv().unwrap();\n",
    "    let beta_matrix = &XtX_inv ^ &Xty_matrix;\n",
    "    \n",
    "    // Extract coefficients back to vector\n",
    "    let beta = beta_matrix.to_vector_column();\n",
    "    \n",
    "    println!(\"Estimated coefficients:\");\n",
    "    println!(\"  Intercept (β₀): {:.2}\", beta[0]);\n",
    "    println!(\"  Slope (β₁): {:.2}\", beta[1]);\n",
    "    println!(\"\\nTrue values were: β₀=2.0, β₁=3.0\");\n",
    "}"
   ]
  },
  {
   "cell_type": "markdown",
   "metadata": {},
   "source": [
    "## 5. Zero-Copy Views for Performance\n",
    "\n",
    "For large datasets, zero-copy views provide efficient access without memory allocation."
   ]
  },
  {
   "cell_type": "code",
   "execution_count": 7,
   "metadata": {
    "vscode": {
     "languageId": "rust"
    }
   },
   "outputs": [
    {
     "name": "stdout",
     "output_type": "stream",
     "text": [
      "Large dataset shape: (1000, 100)\n",
      "Memory size: ~0.80 MB\n",
      "\n",
      "Column view shape: (1000, 1)\n",
      "View created with zero memory allocation!\n",
      "\n",
      "Row view shape: (1, 100)\n",
      "\n",
      "Owned column extracted, length: 1000\n",
      "\n",
      "📊 Performance Note:\n",
      "  - col_view(): O(1) time, no allocation\n",
      "  - col(): O(n) time, allocates memory\n",
      "  Use views for temporary access, owned for storage!\n"
     ]
    },
    {
     "data": {
      "text/plain": [
       "()"
      ]
     },
     "execution_count": 7,
     "metadata": {},
     "output_type": "execute_result"
    }
   ],
   "source": [
    "{\n",
    "    // Create a larger dataset\n",
    "    let large_data = ArrayF64::ones(1000, 100);\n",
    "    println!(\"Large dataset shape: {:?}\", large_data.shape());\n",
    "    println!(\"Memory size: ~{:.2} MB\\n\", (1000 * 100 * 8) as f64 / 1_000_000.0);\n",
    "    \n",
    "    // Zero-copy column view - instant access\n",
    "    let col_view = large_data.col_view(50).unwrap();\n",
    "    println!(\"Column view shape: {:?}\", col_view.shape());\n",
    "    println!(\"View created with zero memory allocation!\\n\");\n",
    "    \n",
    "    // Zero-copy row view\n",
    "    let row_view = large_data.row_view(500).unwrap();\n",
    "    println!(\"Row view shape: {:?}\", row_view.shape());\n",
    "    \n",
    "    // Convert view to owned Vector only when needed\n",
    "    let owned_col = col_view.col(0).unwrap();\n",
    "    println!(\"\\nOwned column extracted, length: {}\", owned_col.len());\n",
    "    \n",
    "    // Performance comparison message\n",
    "    println!(\"\\n📊 Performance Note:\");\n",
    "    println!(\"  - col_view(): O(1) time, no allocation\");\n",
    "    println!(\"  - col(): O(n) time, allocates memory\");\n",
    "    println!(\"  Use views for temporary access, owned for storage!\");\n",
    "}"
   ]
  },
  {
   "cell_type": "markdown",
   "metadata": {},
   "source": [
    "## 6. Feature Normalization Example\n",
    "\n",
    "A common preprocessing step in machine learning is feature normalization (standardization)."
   ]
  },
  {
   "cell_type": "code",
   "execution_count": 8,
   "metadata": {
    "vscode": {
     "languageId": "rust"
    }
   },
   "outputs": [
    {
     "name": "stdout",
     "output_type": "stream",
     "text": [
      "Original data:\n",
      "  [1.0, 100.0, 0.001]\n",
      "  [2.0, 200.0, 0.002]\n",
      "  [3.0, 300.0, 0.003]\n",
      "  [4.0, 400.0, 0.004]\n",
      "  [5.0, 500.0, 0.005]\n",
      "\n",
      "Feature 0: mean=3.000, std=1.581\n",
      "\n",
      "Feature 1: mean=300.000, std=158.114\n",
      "\n",
      "Feature 2: mean=0.003, std=0.002\n",
      "\n",
      "Normalized data:\n",
      "  [-1.265, -1.265, -1.265]\n",
      "  [-0.632, -0.632, -0.632]\n",
      "  [ 0.000,  0.000,  0.000]\n",
      "  [ 0.632,  0.632,  0.632]\n",
      "  [ 1.265,  1.265,  1.265]\n",
      "\n",
      "Verification (each feature should have mean≈0, std≈1):\n",
      "  Feature 0: mean=0.000000, std=1.000000\n",
      "  Feature 1: mean=0.000000, std=1.000000\n",
      "  Feature 2: mean=0.000000, std=1.000000\n"
     ]
    },
    {
     "data": {
      "text/plain": [
       "()"
      ]
     },
     "execution_count": 8,
     "metadata": {},
     "output_type": "execute_result"
    }
   ],
   "source": [
    "{\n",
    "    // Create a dataset with features at different scales\n",
    "    let data = array64![\n",
    "        [1.0, 100.0, 0.001],\n",
    "        [2.0, 200.0, 0.002],\n",
    "        [3.0, 300.0, 0.003],\n",
    "        [4.0, 400.0, 0.004],\n",
    "        [5.0, 500.0, 0.005]\n",
    "    ];\n",
    "    \n",
    "    println!(\"Original data:\");\n",
    "    for i in 0..data.nrows() {\n",
    "        let row = data.row(i).unwrap();\n",
    "        println!(\"  {:?}\", row.to_slice());\n",
    "    }\n",
    "    \n",
    "    // Normalize each feature (column)\n",
    "    let mut normalized = ArrayF64::zeros(data.nrows(), data.ncols());\n",
    "    \n",
    "    for j in 0..data.ncols() {\n",
    "        let feature = data.col(j).unwrap();\n",
    "        let mean = feature.mean();\n",
    "        let std = feature.std(None);\n",
    "        \n",
    "        println!(\"\\nFeature {}: mean={:.3}, std={:.3}\", j, mean, std);\n",
    "        \n",
    "        // Normalize: (x - mean) / std\n",
    "        for i in 0..data.nrows() {\n",
    "            normalized[(i, j)] = (data[(i, j)] - mean) / std;\n",
    "        }\n",
    "    }\n",
    "    \n",
    "    println!(\"\\nNormalized data:\");\n",
    "    for i in 0..normalized.nrows() {\n",
    "        let row = normalized.row(i).unwrap();\n",
    "        print!(\"  [\");\n",
    "        for (idx, val) in row.to_slice().iter().enumerate() {\n",
    "            if idx > 0 { print!(\", \"); }\n",
    "            print!(\"{:6.3}\", val);\n",
    "        }\n",
    "        println!(\"]\");\n",
    "    }\n",
    "    \n",
    "    // Verify normalization\n",
    "    println!(\"\\nVerification (each feature should have mean≈0, std≈1):\");\n",
    "    for j in 0..normalized.ncols() {\n",
    "        let feature = normalized.col(j).unwrap();\n",
    "        println!(\"  Feature {}: mean={:.6}, std={:.6}\", j, feature.mean(), feature.std(None));\n",
    "    }\n",
    "}"
   ]
  },
  {
   "cell_type": "markdown",
   "metadata": {},
   "source": [
    "## 7. Performance Comparison: Owned vs Views\n",
    "\n",
    "Let's demonstrate when to use owned extraction vs zero-copy views."
   ]
  },
  {
   "cell_type": "code",
   "execution_count": 9,
   "metadata": {
    "vscode": {
     "languageId": "rust"
    }
   },
   "outputs": [
    {
     "name": "stdout",
     "output_type": "stream",
     "text": [
      "Test matrix: 10000 × 100\n",
      "Memory: ~8.00 MB\n",
      "\n",
      "Performance Results (100 iterations):\n",
      "  Owned col():     1.705371ms\n",
      "  View col_view(): 0ns\n",
      "  Speedup:         infx faster\n",
      "\n",
      "📌 Guidelines:\n",
      "  • Use col_view() for temporary access (reading)\n",
      "  • Use col() when you need to store or modify\n",
      "  • Use col_view() in loops to avoid allocations\n",
      "  • Use col() when passing data to other functions\n"
     ]
    },
    {
     "data": {
      "text/plain": [
       "()"
      ]
     },
     "execution_count": 9,
     "metadata": {},
     "output_type": "execute_result"
    }
   ],
   "source": [
    "{\n",
    "    use std::time::Instant;\n",
    "    \n",
    "    // Create a large matrix for performance testing\n",
    "    let big_matrix = ArrayF64::ones(10000, 100);\n",
    "    println!(\"Test matrix: {} × {}\", big_matrix.nrows(), big_matrix.ncols());\n",
    "    println!(\"Memory: ~{:.2} MB\\n\", (10000 * 100 * 8) as f64 / 1_000_000.0);\n",
    "    \n",
    "    // Test 1: Owned column extraction\n",
    "    let start = Instant::now();\n",
    "    for _ in 0..100 {\n",
    "        let _col = big_matrix.col(50).unwrap();  // Allocates memory\n",
    "    }\n",
    "    let owned_time = start.elapsed();\n",
    "    \n",
    "    // Test 2: View column extraction\n",
    "    let start = Instant::now();\n",
    "    for _ in 0..100 {\n",
    "        let _col_view = big_matrix.col_view(50).unwrap();  // Zero-copy\n",
    "    }\n",
    "    let view_time = start.elapsed();\n",
    "    \n",
    "    println!(\"Performance Results (100 iterations):\");\n",
    "    println!(\"  Owned col():     {:?}\", owned_time);\n",
    "    println!(\"  View col_view(): {:?}\", view_time);\n",
    "    println!(\"  Speedup:         {:.1}x faster\\n\", \n",
    "             owned_time.as_nanos() as f64 / view_time.as_nanos() as f64);\n",
    "    \n",
    "    println!(\"📌 Guidelines:\");\n",
    "    println!(\"  • Use col_view() for temporary access (reading)\");\n",
    "    println!(\"  • Use col() when you need to store or modify\");\n",
    "    println!(\"  • Use col_view() in loops to avoid allocations\");\n",
    "    println!(\"  • Use col() when passing data to other functions\");\n",
    "}"
   ]
  },
  {
   "cell_type": "markdown",
   "metadata": {},
   "source": [
    "## 8. Complete Linear Regression Example\n",
    "\n",
    "Let's put it all together with a complete linear regression implementation using our new methods."
   ]
  },
  {
   "cell_type": "code",
   "execution_count": 10,
   "metadata": {
    "vscode": {
     "languageId": "rust"
    }
   },
   "outputs": [
    {
     "name": "stdout",
     "output_type": "stream",
     "text": [
      "Dataset:\n",
      "  Samples: 6\n",
      "  Features: 3 (including intercept)\n",
      "\n",
      "Feature Statistics:\n",
      "  Intercept: mean=1.00, std=0.00\n",
      "  Feature 1: mean=4.50, std=1.87\n",
      "  Feature 2: mean=2.33, std=1.08\n",
      "\n",
      "Estimated Coefficients:\n",
      "  β₀ (intercept): 4.613\n",
      "  β₁ (feature 1): 1.542\n",
      "  β₂ (feature 2): -1.164\n",
      "\n",
      "Model Performance:\n",
      "  R² Score: 0.9846\n",
      "\n",
      "Predictions vs Actual:\n",
      "  Sample 0: Actual=6.50, Predicted=6.53, Error=0.032\n",
      "  Sample 1: Actual=7.00, Predicted=6.91, Error=0.091\n",
      "  Sample 2: Actual=9.25, Predicted=9.03, Error=0.217\n",
      "  Sample 3: Actual=8.50, Predicted=8.83, Error=0.328\n",
      "  Sample 4: Actual=10.75, Predicted=10.95, Error=0.202\n",
      "  Sample 5: Actual=11.00, Predicted=10.75, Error=0.253\n"
     ]
    },
    {
     "data": {
      "text/plain": [
       "()"
      ]
     },
     "execution_count": 10,
     "metadata": {},
     "output_type": "execute_result"
    }
   ],
   "source": [
    "{\n",
    "    // Generate synthetic dataset: y = 3 + 2*x1 - 1.5*x2 + noise\n",
    "    let X_data = array64![\n",
    "        [1.0, 2.0, 1.0],\n",
    "        [1.0, 3.0, 2.0],\n",
    "        [1.0, 4.0, 1.5],\n",
    "        [1.0, 5.0, 3.0],\n",
    "        [1.0, 6.0, 2.5],\n",
    "        [1.0, 7.0, 4.0]\n",
    "    ];\n",
    "    \n",
    "    let y_true = vec64![6.5, 7.0, 9.25, 8.5, 10.75, 11.0];\n",
    "    \n",
    "    println!(\"Dataset:\");\n",
    "    println!(\"  Samples: {}\", X_data.nrows());\n",
    "    println!(\"  Features: {} (including intercept)\\n\", X_data.ncols());\n",
    "    \n",
    "    // Display feature statistics\n",
    "    println!(\"Feature Statistics:\");\n",
    "    for j in 0..X_data.ncols() {\n",
    "        let feature = X_data.col(j).unwrap();\n",
    "        let name = match j {\n",
    "            0 => \"Intercept\",\n",
    "            1 => \"Feature 1\",\n",
    "            2 => \"Feature 2\",\n",
    "            _ => \"Feature N\"\n",
    "        };\n",
    "        println!(\"  {}: mean={:.2}, std={:.2}\", \n",
    "                 name, feature.mean(), feature.std(None));\n",
    "    }\n",
    "    \n",
    "    // Fit linear regression using normal equations\n",
    "    let Xt = X_data.transpose();\n",
    "    let XtX = &Xt ^ &X_data;\n",
    "    let y_matrix = ArrayF64::from_vector_column(&y_true);\n",
    "    let Xty = &Xt ^ &y_matrix;\n",
    "    \n",
    "    let XtX_inv = XtX.inv().unwrap();\n",
    "    let beta_matrix = &XtX_inv ^ &Xty;\n",
    "    let beta = beta_matrix.to_vector_column();\n",
    "    \n",
    "    println!(\"\\nEstimated Coefficients:\");\n",
    "    println!(\"  β₀ (intercept): {:.3}\", beta[0]);\n",
    "    println!(\"  β₁ (feature 1): {:.3}\", beta[1]);\n",
    "    println!(\"  β₂ (feature 2): {:.3}\", beta[2]);\n",
    "    \n",
    "    // Make predictions\n",
    "    let y_pred_matrix = &X_data ^ &beta_matrix;\n",
    "    let y_pred = y_pred_matrix.to_vector_column();\n",
    "    \n",
    "    // Calculate R²\n",
    "    let residuals = &y_true - &y_pred;\n",
    "    let ss_res = &residuals ^ &residuals;\n",
    "    let y_mean = y_true.mean();\n",
    "    let y_centered = &y_true - y_mean;\n",
    "    let ss_tot = &y_centered ^ &y_centered;\n",
    "    let r_squared = 1.0 - ss_res / ss_tot;\n",
    "    \n",
    "    println!(\"\\nModel Performance:\");\n",
    "    println!(\"  R² Score: {:.4}\", r_squared);\n",
    "    \n",
    "    println!(\"\\nPredictions vs Actual:\");\n",
    "    for i in 0..y_true.len() {\n",
    "        println!(\"  Sample {}: Actual={:.2}, Predicted={:.2}, Error={:.3}\",\n",
    "                 i, y_true[i], y_pred[i], (y_true[i] - y_pred[i]).abs());\n",
    "    }\n",
    "}"
   ]
  },
  {
   "cell_type": "markdown",
   "metadata": {},
   "source": [
    "## Summary\n",
    "\n",
    "The new row/column operations in rustlab-math provide:\n",
    "\n",
    "1. **Owned Extraction** (`col()`, `row()`): Creates new Vectors with copied data\n",
    "2. **Zero-Copy Views** (`col_view()`, `row_view()`): Efficient temporary access\n",
    "3. **Vector-Matrix Conversion** (`from_vector_column()`, `to_vector_column()`): Essential for linear algebra\n",
    "\n",
    "### Key Takeaways:\n",
    "\n",
    "- Use **views** for temporary access and iteration (no memory allocation)\n",
    "- Use **owned** extraction when you need to store or modify data\n",
    "- **Vector-to-matrix** conversion enables seamless linear algebra operations\n",
    "- These operations are fundamental for implementing machine learning algorithms\n",
    "\n",
    "### Performance Guidelines:\n",
    "\n",
    "- `col_view()`/`row_view()`: O(1) time, zero allocation\n",
    "- `col()`/`row()`: O(n) time, allocates memory\n",
    "- Choose based on your use case: temporary vs permanent access"
   ]
  }
 ],
 "metadata": {
  "kernelspec": {
   "display_name": "Rust",
   "language": "rust",
   "name": "rust"
  },
  "language_info": {
   "codemirror_mode": "rust",
   "file_extension": ".rs",
   "mimetype": "text/rust",
   "name": "Rust",
   "pygment_lexer": "rust",
   "version": ""
  }
 },
 "nbformat": 4,
 "nbformat_minor": 4
}
