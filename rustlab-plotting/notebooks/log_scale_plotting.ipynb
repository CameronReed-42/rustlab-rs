{
 "cells": [
  {
   "cell_type": "markdown",
   "metadata": {},
   "source": [
    "# 🦀 RustLab Log Scale Plotting Examples\n",
    "\n",
    "This notebook demonstrates comprehensive log scale plotting capabilities with rustlab's modern API.\n",
    "\n",
    "**Features showcased:**\n",
    "- `vec64!` and `array64!` macros for concise data creation\n",
    "- Functional programming with map, filter, zip operations\n",
    "- Vector concatenation operations with `concat` method\n",
    "- Cross-platform Jupyter support (Windows, Linux, macOS)\n",
    "- All log scale combinations (linear-log, log-linear, log-log)"
   ]
  },
  {
   "cell_type": "code",
   "execution_count": null,
   "metadata": {},
   "outputs": [],
   "source": "// Import required libraries with only needed features for faster compilation\n:dep rustlab-rs = { path = \"/home/poisr/rustlab-rs\", features = [\"plotting\"] }\nuse rustlab::prelude::*;\nuse std::f64::consts::PI;\n\nprintln!(\"🦀 RustLab Log Scale Plotting Examples\");\nprintln!(\"=====================================\\n\");\n\n// Test cross-platform Jupyter support\nprintln!(\"🖥️  Platform: {}\", std::env::consts::OS);\nprintln!(\"📔 Jupyter environment detected: Cross-platform support enabled\");\nprintln!(\"💡 Plots will display inline in Jupyter notebooks on Windows, Linux, and macOS!\\n\");"
  },
  {
   "cell_type": "markdown",
   "metadata": {},
   "source": [
    "## 📊 1. Exponential Growth (Log-Linear Scale)\n",
    "\n",
    "Demonstrates how exponential growth appears as a straight line on a log-linear plot."
   ]
  },
  {
   "cell_type": "code",
   "execution_count": null,
   "metadata": {},
   "outputs": [],
   "source": "println!(\"📊 1. EXPONENTIAL GROWTH (Log-Linear Scale)\");\nprintln!(\"--------------------------------------------\");\n\n// Using vec64! macro for concise vector creation\nlet time = vec64![0.0, 1.0, 2.0, 3.0, 4.0, 5.0, 6.0, 7.0, 8.0, 9.0, 10.0];\n\n// Functional programming: map operation for exponential growth\nlet population = time.map(|t| (t * 0.5).exp());\n\n// Ergonomic slice access with to_slice() method!\nprintln!(\"Time points: {:?}\", time.to_slice());\nprintln!(\"Population (exponential): {:?}\", \n         population.to_slice().iter()\n             .map(|&x| format!(\"{:.2}\", x))\n             .collect::<Vec<_>>());"
  },
  {
   "cell_type": "code",
   "execution_count": null,
   "metadata": {},
   "outputs": [],
   "source": "// Create plot with linear x-axis, log y-axis - cross-platform Jupyter support!\nPlot::new()\n    .line_with(&time, &population, \"Exponential Growth\")\n    .xlabel(\"Time (years)\")\n    .ylabel(\"Population\")\n    .title(\"Population Growth (Linear-Log)\")\n    .xscale(Scale::Linear)\n    .yscale(Scale::Log10)  // Log scale reveals exponential as straight line\n    .show().expect(\"Failed to display plot\");\n\nprintln!(\"✓ Linear-Log plot displayed\");"
  },
  {
   "cell_type": "markdown",
   "metadata": {},
   "source": [
    "## 📈 2. Power Law Relationship (Log-Log Scale)\n",
    "\n",
    "Power laws appear as straight lines on log-log plots, making them easy to identify and analyze."
   ]
  },
  {
   "cell_type": "code",
   "execution_count": null,
   "metadata": {},
   "outputs": [],
   "source": "println!(\"📈 2. POWER LAW RELATIONSHIP (Log-Log Scale)\");\n\n// Create frequency data using linspace for realistic power law\nlet frequencies = linspace(1.0, 1000.0, 20);\n\n// Create simple noise vector using vec64! macro\nlet noise_data = vec64![0.05, -0.02, 0.03, -0.01, 0.04, -0.03, 0.02, -0.01, 0.03, -0.02,\n                       0.01, -0.03, 0.02, -0.01, 0.04, -0.02, 0.03, -0.01, 0.02, -0.03];\n\n// Power law: y = x^(-2) + noise (Functional approach with proper type inference)\nlet base_amplitudes = frequencies.map(|f| f.powf(-2.0));  // Power law relationship\nlet amplitudes = base_amplitudes.zip_with(&noise_data, |amp, n| (amp + n).max(1e-6))\n    .expect(\"Failed to zip amplitude data with noise\");\n\n// Use direct access without storing slice references\nprintln!(\"Frequencies (first 5): {:?}\", {\n    let slice = frequencies.to_slice();\n    slice.get(..5).unwrap_or(&[])\n});\nprintln!(\"Amplitudes (first 5): {:?}\", {\n    let slice = amplitudes.to_slice();\n    slice.get(..5).unwrap_or(&[]).iter()\n        .map(|&x| format!(\"{:.6}\", x))\n        .collect::<Vec<_>>()\n});"
  },
  {
   "cell_type": "code",
   "execution_count": null,
   "metadata": {},
   "outputs": [],
   "source": "// Log-log plot reveals power law as straight line\nPlot::new()\n    .scatter_with(&frequencies, &amplitudes, \"Power Law\")\n    .xlabel(\"Frequency (Hz)\")\n    .ylabel(\"Amplitude\")\n    .title(\"Power Law Relationship (Log-Log)\")\n    .xscale(Scale::Log10)\n    .yscale(Scale::Log10)\n    .show().expect(\"Failed to display plot\");\n\nprintln!(\"✓ Log-Log plot displayed\");"
  },
  {
   "cell_type": "markdown",
   "metadata": {},
   "source": [
    "## 🔬 3. Scientific Data Analysis (Multiple Experiments)\n",
    "\n",
    "Shows how to combine multiple experimental datasets using rustlab's concatenation methods."
   ]
  },
  {
   "cell_type": "code",
   "execution_count": null,
   "metadata": {},
   "outputs": [],
   "source": "println!(\"🔬 3. SCIENTIFIC DATA ANALYSIS (Multiple Experiments)\");\nprintln!(\"------------------------------------------------------\");\n\n// Simulate multiple experimental runs\nlet experiment1_time = linspace(0.1, 10.0, 50);\nlet experiment2_time = linspace(10.1, 20.0, 50);\nlet experiment3_time = linspace(20.1, 30.0, 50);\n\n// Different decay rates for each experiment\nlet decay1 = experiment1_time.map(|t| 100.0 * (-t * 0.2).exp());\nlet decay2 = experiment2_time.map(|t| 80.0 * (-(t - 10.0) * 0.15).exp());\nlet decay3 = experiment3_time.map(|t| 60.0 * (-(t - 20.0) * 0.1).exp());\n\n// Concatenate using the ergonomic vconcat! macro\nlet all_time_vec = vconcat![experiment1_time, experiment2_time, experiment3_time]\n    .expect(\"Failed to concatenate time vectors\");\nlet all_measurements_vec = vconcat![decay1, decay2, decay3]\n    .expect(\"Failed to concatenate measurement vectors\");\n\nprintln!(\"Total data points: {}\", all_time_vec.len());\nif let (Some(min_time), Some(max_time)) = (all_time_vec.min(), all_time_vec.max()) {\n    println!(\"Time range: {:.1} to {:.1}\", min_time, max_time);\n}"
  },
  {
   "cell_type": "code",
   "execution_count": null,
   "metadata": {},
   "outputs": [],
   "source": "// Filter out measurements below detection limit using functional approach\nlet detection_limit = 1.0;\n\nlet filtered_data: Vec<(f64, f64)> = {\n    let time_slice = all_time_vec.to_slice();\n    let meas_slice = all_measurements_vec.to_slice();\n    \n    time_slice.iter()\n        .zip(meas_slice.iter())\n        .filter(|&(_, measurement)| *measurement > detection_limit)  // Fix: use &(_, measurement) pattern\n        .map(|(&t, &m)| (t, m))\n        .collect()\n};\n\n// Use unzip for cleaner vector creation\nlet (time_data, measurement_data): (Vec<f64>, Vec<f64>) = filtered_data.into_iter().unzip();\nlet filtered_time = VectorF64::from(time_data);\nlet filtered_measurements = VectorF64::from(measurement_data);\n\nprintln!(\"Points above detection limit: {}/{}\", \n         filtered_time.len(), all_time_vec.len());\n\n// Log-linear plot for exponential decay\nPlot::new()\n    .scatter_with(&filtered_time, &filtered_measurements, \"Filtered Data\")\n    .line_with(&all_time_vec, &all_measurements_vec, \"All Data\")\n    .xlabel(\"Time (s)\")\n    .ylabel(\"Signal Intensity\")\n    .title(\"Multi-Experiment Decay Analysis (Log-Linear)\")\n    .xscale(Scale::Linear)\n    .yscale(Scale::Log10)\n    .show().expect(\"Failed to display plot\");\n\nprintln!(\"✓ Multi-experiment analysis displayed\");"
  },
  {
   "cell_type": "markdown",
   "metadata": {},
   "source": [
    "## 💰 4. Financial Data Analysis (Portfolio Performance)\n",
    "\n",
    "Demonstrates matrix operations and portfolio analysis using the `array64!` macro."
   ]
  },
  {
   "cell_type": "code",
   "execution_count": null,
   "metadata": {},
   "outputs": [],
   "source": [
    "println!(\"💰 4. FINANCIAL DATA ANALYSIS (Portfolio Performance)\");\n",
    "println!(\"------------------------------------------------------\");\n",
    "\n",
    "// Create portfolio data using array64! macro\n",
    "let portfolio_returns = array64![\n",
    "    [0.05, 0.12, -0.03,  0.08],   // Stock A returns over 4 periods\n",
    "    [0.03, 0.08, -0.01,  0.06],   // Stock B returns\n",
    "    [0.07, 0.15, -0.05,  0.10]    // Stock C returns\n",
    "];\n",
    "\n",
    "println!(\"Portfolio returns matrix (3 stocks × 4 periods):\");\n",
    "for i in 0..portfolio_returns.shape().0 {\n",
    "    let mut row_data = Vec::new();\n",
    "    for j in 0..portfolio_returns.shape().1 {\n",
    "        row_data.push(portfolio_returns.get(i, j).unwrap());\n",
    "    }\n",
    "    println!(\"Stock {}: {:?}\", \n",
    "             ('A' as u8 + i as u8) as char,\n",
    "             row_data.iter()\n",
    "                 .map(|&x| format!(\"{:+.2}\", x))\n",
    "                 .collect::<Vec<_>>());\n",
    "}"
   ]
  },
  {
   "cell_type": "code",
   "execution_count": null,
   "metadata": {},
   "outputs": [],
   "source": "// Calculate cumulative returns (functional approach)\nlet initial_value = 1000.0;\nlet periods = vec64![1.0, 2.0, 3.0, 4.0];\n\n// Calculate portfolio value over time for each stock\nlet mut cumulative_values = Vec::new();\nfor i in 0..portfolio_returns.shape().0 {\n    let mut returns_data = Vec::new();\n    for j in 0..portfolio_returns.shape().1 {\n        if let Some(value) = portfolio_returns.get(i, j) {\n            returns_data.push(value);\n        }\n    }\n    \n    let mut value = initial_value;\n    let mut values = vec![value];\n    \n    for &ret in &returns_data {\n        value *= (1.0 + ret);\n        values.push(value);\n    }\n    cumulative_values.push(VectorF64::from_slice(&values[1..])); // Skip initial value\n}\n\nprintln!(\"\\nCumulative portfolio values:\");\nfor (i, values) in cumulative_values.iter().enumerate() {\n    let last_value = values.to_slice().last().unwrap_or(&0.0);\n    println!(\"Stock {}: ${:.2} → ${:.2}\", \n             ('A' as u8 + i as u8) as char,\n             initial_value,\n             last_value);\n}"
  },
  {
   "cell_type": "code",
   "execution_count": null,
   "metadata": {},
   "outputs": [],
   "source": "// Plot on linear scale to show absolute growth\nPlot::new()\n    .line_with(&periods, &cumulative_values[0], \"Stock A\")\n    .line_with(&periods, &cumulative_values[1], \"Stock B\")\n    .line_with(&periods, &cumulative_values[2], \"Stock C\")\n    .xlabel(\"Period\")\n    .ylabel(\"Portfolio Value ($)\")\n    .title(\"Portfolio Performance Comparison\")\n    .xscale(Scale::Linear)\n    .yscale(Scale::Linear)\n    .show().expect(\"Failed to display plot\");\n\nprintln!(\"✓ Financial analysis displayed\");"
  },
  {
   "cell_type": "markdown",
   "metadata": {},
   "source": [
    "## 📡 5. Signal Processing (Frequency Domain Analysis)\n",
    "\n",
    "Advanced signal processing example showing functional composition and frequency analysis."
   ]
  },
  {
   "cell_type": "code",
   "execution_count": null,
   "metadata": {},
   "outputs": [],
   "source": "println!(\"📡 5. SIGNAL PROCESSING (Frequency Domain Analysis)\");\nprintln!(\"---------------------------------------------------\");\n\n// Generate complex signal using advanced rustlab features\nlet t = linspace(0.0, 2.0, 1000);\n\n// Multi-component signal using functional composition\nlet signal = t.map(|time| {\n    let fundamental = (2.0 * PI * 10.0 * time).sin();      // 10 Hz\n    let harmonic2 = 0.5 * (2.0 * PI * 20.0 * time).sin();  // 20 Hz\n    let harmonic3 = 0.25 * (2.0 * PI * 30.0 * time).sin(); // 30 Hz\n    let noise = 0.1 * (time * 1000.0).sin(); // High freq noise\n    fundamental + harmonic2 + harmonic3 + noise\n});\n\nif let Some(max_time) = t.max() {\n    println!(\"Signal: {} samples over {:.1}s\", t.len(), max_time);\n}"
  },
  {
   "cell_type": "code",
   "execution_count": null,
   "metadata": {},
   "outputs": [],
   "source": "// Simulate FFT magnitudes (simplified for demonstration)\nlet freqs = linspace(1.0, 100.0, 50);\nlet magnitudes = freqs.map(|f| {\n    // Simulate peaks at harmonics with 1/f noise floor\n    let peak_10hz = if (f - 10.0).abs() < 2.0 { 10.0 } else { 0.0 };\n    let peak_20hz = if (f - 20.0).abs() < 2.0 { 5.0 } else { 0.0 };\n    let peak_30hz = if (f - 30.0).abs() < 2.0 { 2.5 } else { 0.0 };\n    let noise_floor = 1.0 / f; // 1/f noise\n    (peak_10hz + peak_20hz + peak_30hz + noise_floor).max(1e-3)\n});\n\nif let Some(max_freq) = freqs.max() {\n    println!(\"Frequency analysis: {} points up to {:.1} Hz\", \n            freqs.len(), max_freq);\n}\n\n// Find peaks using logical filtering - fix reference pattern\nlet threshold = 1.0;\nlet peak_data: Vec<(f64, f64)> = {\n    let freq_slice = freqs.to_slice();\n    let mag_slice = magnitudes.to_slice();\n    \n    freq_slice.iter()\n        .zip(mag_slice.iter())\n        .filter(|&(_, mag)| *mag > threshold)  // Fix: use &(_, mag) pattern\n        .map(|(&f, &m)| (f, m))\n        .collect()\n};\n\n// Use unzip for cleaner vector creation\nlet (peak_freq_data, peak_mag_data): (Vec<f64>, Vec<f64>) = peak_data.into_iter().unzip();\nlet peak_freqs = VectorF64::from(peak_freq_data);\nlet peak_mags = VectorF64::from(peak_mag_data);\n\n// Display without storing slice reference\nprintln!(\"Detected peaks at frequencies: {:?} Hz\", {\n    let slice = peak_freqs.to_slice();\n    slice.iter().map(|&x| format!(\"{:.1}\", x)).collect::<Vec<_>>()\n});"
  },
  {
   "cell_type": "code",
   "execution_count": null,
   "metadata": {},
   "outputs": [],
   "source": "// Log-linear plot emphasizes dynamic range\nPlot::new()\n    .line_with(&freqs, &magnitudes, \"FFT Magnitude\")\n    .scatter_with(&peak_freqs, &peak_mags, \"Detected Peaks\")\n    .xlabel(\"Frequency (Hz)\")\n    .ylabel(\"Magnitude\")\n    .title(\"Frequency Domain Analysis (Log Scale)\")\n    .xscale(Scale::Linear)\n    .yscale(Scale::Log10)\n    .show().expect(\"Failed to display plot\");\n\nprintln!(\"✓ Signal processing analysis displayed\");"
  },
  {
   "cell_type": "markdown",
   "metadata": {},
   "source": [
    "## 📊 6. Data Quality Analysis (Statistical Summary)\n",
    "\n",
    "Outlier detection and statistical analysis using rustlab's built-in functions."
   ]
  },
  {
   "cell_type": "code",
   "execution_count": null,
   "metadata": {},
   "outputs": [],
   "source": "println!(\"📊 6. DATA QUALITY ANALYSIS (Statistical Summary)\");\nprintln!(\"--------------------------------------------------\");\n\n// Generate realistic measurement data \nlet measurements_data = vec64![8.2, 11.5, 9.8, 12.1, 10.3, 7.9, 13.2, 9.1, 11.8, 10.7,\n                              8.5, 12.3, 9.4, 11.0, 10.8, 7.6, 13.5, 8.9, 12.7, 9.3];\n\n// Add some outliers using concatenation\nlet outliers = vec64![100.0, 150.0, 200.0];\nlet all_data = measurements_data.concat(&[&outliers]).expect(\"Failed to concatenate data\");\n\n// Statistical analysis using rustlab's built-in functions\nprintln!(\"Dataset statistics:\");\nprintln!(\"  Total points: {}\", all_data.len());\nprintln!(\"  Mean: {:.2}\", all_data.sum_elements() / all_data.len() as f64);\n\n// Get min/max once and use them\nif let (Some(min_val), Some(max_val)) = (all_data.min(), all_data.max()) {\n    println!(\"  Min: {:.2}\", min_val);\n    println!(\"  Max: {:.2}\", max_val);\n    println!(\"  Range: {:.2}\", max_val - min_val);\n}"
  },
  {
   "cell_type": "code",
   "execution_count": null,
   "metadata": {},
   "outputs": [],
   "source": "// Identify outliers using statistical methods\nlet q75 = 15.0; // Simplified percentile\nlet q25 = 5.0;\nlet iqr = q75 - q25;\nlet outlier_threshold = q75 + 1.5 * iqr;\n\n// Re-create the data to ensure it's in scope (evcxr variable persistence issue)\nlet measurements_data = vec64![8.2, 11.5, 9.8, 12.1, 10.3, 7.9, 13.2, 9.1, 11.8, 10.7,\n                              8.5, 12.3, 9.4, 11.0, 10.8, 7.6, 13.5, 8.9, 12.7, 9.3];\nlet outliers = vec64![100.0, 150.0, 200.0];\nlet all_data = measurements_data.concat(&[&outliers]).expect(\"Failed to concatenate data\");\n\nlet (outlier_data, clean_data): (Vec<f64>, Vec<f64>) = {\n    let data_slice = all_data.to_slice();\n    let outliers: Vec<f64> = data_slice.iter()\n        .filter(|&&x| x > outlier_threshold)\n        .copied()\n        .collect();\n    \n    let clean: Vec<f64> = data_slice.iter()\n        .filter(|&&x| x <= outlier_threshold)\n        .copied()\n        .collect();\n    \n    (outliers, clean)\n};\n\nprintln!(\"\\nOutlier analysis:\");\nprintln!(\"  Threshold: {:.2}\", outlier_threshold);\nprintln!(\"  Outliers found: {}\", outlier_data.len());\nprintln!(\"  Clean data points: {}\", clean_data.len());\n\n// Create histogram-like data for visualization\nlet indices = vec64![1.0, 2.0, 3.0, 4.0, 5.0]; // Simplified bins\nlet clean_counts = vec64![25.0, 45.0, 20.0, 8.0, 2.0]; // Simulated histogram\nlet outlier_counts = vec64![0.0, 0.0, 0.0, 0.0, 3.0]; // Outliers in highest bin"
  },
  {
   "cell_type": "code",
   "execution_count": null,
   "metadata": {},
   "outputs": [],
   "source": "// Log scale emphasizes the outlier detection\nPlot::new()\n    .line_with(&indices, &clean_counts, \"Normal Data\")\n    .scatter_with(&indices, &outlier_counts, \"Outliers\")\n    .xlabel(\"Data Range (bins)\")\n    .ylabel(\"Count\")\n    .title(\"Data Quality Analysis (Log Scale)\")\n    .xscale(Scale::Linear)\n    .yscale(Scale::Log10)\n    .show().expect(\"Failed to display plot\");\n\nprintln!(\"✓ Data quality analysis displayed\");"
  },
  {
   "cell_type": "markdown",
   "metadata": {},
   "source": [
    "## 🎯 Summary\n",
    "\n",
    "This notebook demonstrated all the key features of rustlab's log scale plotting capabilities:"
   ]
  },
  {
   "cell_type": "code",
   "execution_count": null,
   "metadata": {},
   "outputs": [],
   "source": "println!(\"🎯 RUSTLAB IDIOMS DEMONSTRATED:\");\nprintln!(\"===============================\");\nprintln!(\"✓ vec64! and array64! macros for concise creation\");\nprintln!(\"✓ Functional programming: map, filter, zip_with operations\");\nprintln!(\"✓ Vector concatenation with chained append method\");\nprintln!(\"✓ Logical filtering with filter and collect\");\nprintln!(\"✓ Ergonomic slice access with to_slice() method\");\nprintln!(\"✓ Array operations (shape access, element access)\");\nprintln!(\"✓ Advanced data transformations\");\nprintln!(\"✓ Log scale visualization for all data types\\n\");\n\nprintln!(\"🚀 LOG SCALE BENEFITS:\");\nprintln!(\"======================\");\nprintln!(\"• Exponential data appears linear (linear-log)\");\nprintln!(\"• Power laws appear linear (log-log)\");\nprintln!(\"• Wide dynamic range visualization\");\nprintln!(\"• Outlier detection and emphasis\");\nprintln!(\"• Scientific data standard practice\");\n\nprintln!(\"\\n🎉 All log scale examples completed successfully!\");\nprintln!(\"RustLab provides powerful, idiomatic tools for scientific computing!\");"
  }
 ],
 "metadata": {
  "kernelspec": {
   "display_name": "Rust",
   "language": "rust",
   "name": "rust"
  },
  "language_info": {
   "codemirror_mode": "rust",
   "file_extension": ".rs",
   "mimetype": "text/rust",
   "name": "Rust",
   "pygment_lexer": "rust",
   "version": ""
  }
 },
 "nbformat": 4,
 "nbformat_minor": 4
}