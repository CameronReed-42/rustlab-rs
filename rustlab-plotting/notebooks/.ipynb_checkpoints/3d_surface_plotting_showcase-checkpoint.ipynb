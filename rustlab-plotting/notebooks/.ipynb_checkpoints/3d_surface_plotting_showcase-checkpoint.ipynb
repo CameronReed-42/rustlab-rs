{
 "cells": [
  {
   "cell_type": "markdown",
   "metadata": {},
   "source": [
    "# 3D Surface Plotting Showcase\n",
    "\n",
    "A comprehensive demonstration of 3D surface plotting capabilities using rustlab-plotting with math-first ergonomics.\n",
    "\n",
    "## Features Demonstrated\n",
    "- Surface plots with different mathematical functions\n",
    "- Wireframe visualizations\n",
    "- Multiple colormap options\n",
    "- Camera angle control (elevation and azimuth)\n",
    "- Combined surface and wireframe rendering\n",
    "- Math-first API using rustlab-math macros\n",
    "\n",
    "## Mathematical Functions Explored\n",
    "1. **Linear Functions**: z = ax + by + c\n",
    "2. **Quadratic Functions**: z = x² + y², z = x² - y² (saddle)\n",
    "3. **Trigonometric Functions**: z = sin(x)cos(y), z = sin(√(x²+y²))\n",
    "4. **Gaussian Functions**: z = exp(-σ(x²+y²))\n",
    "5. **Complex Surfaces**: z = f(x,y) combinations"
   ]
  },
  {
   "cell_type": "code",
   "execution_count": 2,
   "metadata": {},
   "outputs": [
    {
     "ename": "Error",
     "evalue": "unresolved import `rustlab_plotting`",
     "output_type": "error",
     "traceback": [
      "use of unresolved module or unlinked crate `rustlab_plotting`",
      "unresolved import `rustlab_plotting`",
      "\u001b[1mhelp\u001b[0m: if you wanted to use a crate named `rustlab_plotting`, use `cargo add rustlab_plotting` to add it to your `Cargo.toml`"
     ]
    },
    {
     "ename": "Error",
     "evalue": "unresolved import `rustlab_math`",
     "output_type": "error",
     "traceback": [
      "use of unresolved module or unlinked crate `rustlab_math`",
      "unresolved import `rustlab_math`",
      "\u001b[1mhelp\u001b[0m: if you wanted to use a crate named `rustlab_math`, use `cargo add rustlab_math` to add it to your `Cargo.toml`"
     ]
    }
   ],
   "source": [
    "// 📦 Import rustlab ecosystem with math-first ergonomics\n",
    "use rustlab_plotting::*;\n",
    "use rustlab_math::*;\n",
    "\n",
    "println!(\"🎯 3D Surface Plotting Showcase\");\n",
    "println!(\"📐 Using rustlab-math mathematical ergonomics\");\n",
    "println!(\"🎨 Demonstrating multiple visualization techniques\\n\");"
   ]
  },
  {
   "cell_type": "markdown",
   "metadata": {},
   "source": [
    "## 1. Basic 3D Surface: Quadratic Bowl\n",
    "\n",
    "Start with a simple paraboloid: **z = x² + y²**\n",
    "\n",
    "This creates a bowl-shaped surface that's perfect for understanding 3D visualization basics."
   ]
  },
  {
   "cell_type": "code",
   "execution_count": 3,
   "metadata": {},
   "outputs": [
    {
     "ename": "Error",
     "evalue": "cannot find macro `range` in this scope",
     "output_type": "error",
     "traceback": [
      "let y = range!(-3.0 => 3.0, 40);  // Square grid for symmetry",
      "let y = range!(-3.0 => 3.0, 40);  // Square grid for symmetry",
      "\u001b[91m        ^^^^^\u001b[0m \u001b[94merror: cannot find macro `range` in this scope\u001b[0m",
      "cannot find macro `range` in this scope"
     ]
    },
    {
     "ename": "Error",
     "evalue": "cannot find macro `range` in this scope",
     "output_type": "error",
     "traceback": [
      "let x = range!(-3.0 => 3.0, 40);  // 40 points from -3 to 3",
      "let x = range!(-3.0 => 3.0, 40);  // 40 points from -3 to 3",
      "\u001b[91m        ^^^^^\u001b[0m \u001b[94merror: cannot find macro `range` in this scope\u001b[0m",
      "cannot find macro `range` in this scope"
     ]
    },
    {
     "ename": "Error",
     "evalue": "cannot find function `array2d_from_function` in this scope",
     "output_type": "error",
     "traceback": [
      "let z_bowl = array2d_from_function(&x, &y, |x, y| x.powi(2) + y.powi(2));",
      "let z_bowl = array2d_from_function(&x, &y, |x, y| x.powi(2) + y.powi(2));",
      "\u001b[91m             ^^^^^^^^^^^^^^^^^^^^^\u001b[0m \u001b[94mnot found in this scope\u001b[0m",
      "cannot find function `array2d_from_function` in this scope"
     ]
    },
    {
     "ename": "Error",
     "evalue": "failed to resolve: use of undeclared type `Surface3DBuilder`",
     "output_type": "error",
     "traceback": [
      "Surface3DBuilder::from_vectors(&x, &y, &z_bowl)?",
      "Surface3DBuilder::from_vectors(&x, &y, &z_bowl)?",
      "\u001b[91m^^^^^^^^^^^^^^^^\u001b[0m \u001b[94muse of undeclared type `Surface3DBuilder`\u001b[0m",
      "failed to resolve: use of undeclared type `Surface3DBuilder`"
     ]
    },
    {
     "ename": "Error",
     "evalue": "failed to resolve: use of undeclared type `ColorMap`",
     "output_type": "error",
     "traceback": [
      "    .colormap(ColorMap::Viridis)  // Classic scientific colormap",
      "    .colormap(ColorMap::Viridis)  // Classic scientific colormap",
      "\u001b[91m              ^^^^^^^^\u001b[0m \u001b[94muse of undeclared type `ColorMap`\u001b[0m",
      "failed to resolve: use of undeclared type `ColorMap`"
     ]
    }
   ],
   "source": [
    "// 🎯 BASIC 3D SURFACE: Paraboloid Bowl\n",
    "println!(\"📊 Creating basic paraboloid surface: z = x² + y²\");\n",
    "\n",
    "// Create coordinate grids using math-first macros\n",
    "let x = range!(-3.0 => 3.0, 40);  // 40 points from -3 to 3\n",
    "let y = range!(-3.0 => 3.0, 40);  // Square grid for symmetry\n",
    "\n",
    "// Define mathematical function: paraboloid bowl\n",
    "let z_bowl = array2d_from_function(&x, &y, |x, y| x.powi(2) + y.powi(2));\n",
    "\n",
    "println!(\"✅ Grid created: {}×{} points\", x.len(), y.len());\n",
    "println!(\"📈 Function: z = x² + y² (paraboloid bowl)\");\n",
    "println!(\"🔢 Z range: [{:.2}, {:.2}]\", z_bowl.min().unwrap(), z_bowl.max().unwrap());\n",
    "\n",
    "// Create 3D surface plot with default settings\n",
    "Surface3DBuilder::from_vectors(&x, &y, &z_bowl)?\n",
    "    .title(\"Paraboloid Bowl: z = x² + y²\")\n",
    "    .xlabel(\"X Axis\")\n",
    "    .ylabel(\"Y Axis\")\n",
    "    .zlabel(\"Z = x² + y²\")\n",
    "    .colormap(ColorMap::Viridis)  // Classic scientific colormap\n",
    "    .show()?;\n",
    "\n",
    "println!(\"✅ Basic 3D surface plot complete!\");"
   ]
  },
  {
   "cell_type": "markdown",
   "metadata": {},
   "source": [
    "## 2. Mathematical Surface Gallery\n",
    "\n",
    "Explore different mathematical functions with distinct surface characteristics."
   ]
  },
  {
   "cell_type": "code",
   "execution_count": 4,
   "metadata": {},
   "outputs": [
    {
     "ename": "Error",
     "evalue": "cannot find value `x` in this scope",
     "output_type": "error",
     "traceback": [
      "let z_saddle = array2d_from_function(&x, &y, |x, y| x.powi(2) - y.powi(2));",
      "let z_saddle = array2d_from_function(&x, &y, |x, y| x.powi(2) - y.powi(2));",
      "\u001b[91m                                      ^\u001b[0m \u001b[94mnot found in this scope\u001b[0m",
      "cannot find value `x` in this scope"
     ]
    },
    {
     "ename": "Error",
     "evalue": "cannot find value `y` in this scope",
     "output_type": "error",
     "traceback": [
      "let z_saddle = array2d_from_function(&x, &y, |x, y| x.powi(2) - y.powi(2));",
      "let z_saddle = array2d_from_function(&x, &y, |x, y| x.powi(2) - y.powi(2));",
      "\u001b[91m                                          ^\u001b[0m \u001b[94mnot found in this scope\u001b[0m",
      "cannot find value `y` in this scope"
     ]
    },
    {
     "ename": "Error",
     "evalue": "cannot find value `x` in this scope",
     "output_type": "error",
     "traceback": [
      "Surface3DBuilder::from_vectors(&x, &y, &z_saddle)?",
      "Surface3DBuilder::from_vectors(&x, &y, &z_saddle)?",
      "\u001b[91m                                ^\u001b[0m \u001b[94mnot found in this scope\u001b[0m",
      "cannot find value `x` in this scope"
     ]
    },
    {
     "ename": "Error",
     "evalue": "cannot find value `y` in this scope",
     "output_type": "error",
     "traceback": [
      "Surface3DBuilder::from_vectors(&x, &y, &z_saddle)?",
      "Surface3DBuilder::from_vectors(&x, &y, &z_saddle)?",
      "\u001b[91m                                    ^\u001b[0m \u001b[94mnot found in this scope\u001b[0m",
      "cannot find value `y` in this scope"
     ]
    },
    {
     "ename": "Error",
     "evalue": "cannot find function `array2d_from_function` in this scope",
     "output_type": "error",
     "traceback": [
      "let z_saddle = array2d_from_function(&x, &y, |x, y| x.powi(2) - y.powi(2));",
      "let z_saddle = array2d_from_function(&x, &y, |x, y| x.powi(2) - y.powi(2));",
      "\u001b[91m               ^^^^^^^^^^^^^^^^^^^^^\u001b[0m \u001b[94mnot found in this scope\u001b[0m",
      "cannot find function `array2d_from_function` in this scope"
     ]
    },
    {
     "ename": "Error",
     "evalue": "failed to resolve: use of undeclared type `Surface3DBuilder`",
     "output_type": "error",
     "traceback": [
      "Surface3DBuilder::from_vectors(&x, &y, &z_saddle)?",
      "Surface3DBuilder::from_vectors(&x, &y, &z_saddle)?",
      "\u001b[91m^^^^^^^^^^^^^^^^\u001b[0m \u001b[94muse of undeclared type `Surface3DBuilder`\u001b[0m",
      "failed to resolve: use of undeclared type `Surface3DBuilder`"
     ]
    },
    {
     "ename": "Error",
     "evalue": "failed to resolve: use of undeclared type `ColorMap`",
     "output_type": "error",
     "traceback": [
      "    .colormap(ColorMap::Coolwarm)  // Diverging colormap for saddle",
      "    .colormap(ColorMap::Coolwarm)  // Diverging colormap for saddle",
      "\u001b[91m              ^^^^^^^^\u001b[0m \u001b[94muse of undeclared type `ColorMap`\u001b[0m",
      "failed to resolve: use of undeclared type `ColorMap`"
     ]
    }
   ],
   "source": [
    "// 🎯 SADDLE SURFACE: Hyperbolic Paraboloid\n",
    "println!(\"📊 Creating saddle surface: z = x² - y²\");\n",
    "\n",
    "// Saddle function: x² - y² creates a hyperbolic paraboloid\n",
    "let z_saddle = array2d_from_function(&x, &y, |x, y| x.powi(2) - y.powi(2));\n",
    "\n",
    "Surface3DBuilder::from_vectors(&x, &y, &z_saddle)?\n",
    "    .title(\"Saddle Surface: z = x² - y²\")\n",
    "    .xlabel(\"X\")\n",
    "    .ylabel(\"Y\")\n",
    "    .zlabel(\"Z\")\n",
    "    .colormap(ColorMap::Coolwarm)  // Diverging colormap for saddle\n",
    "    .elevation(25.0)    // Lower viewing angle\n",
    "    .azimuth(45.0)      // Rotated view\n",
    "    .show()?;\n",
    "\n",
    "println!(\"✅ Saddle surface: Classic example of hyperbolic paraboloid\");\n",
    "println!(\"🔍 Note: Negative curvature along y-axis, positive along x-axis\");"
   ]
  },
  {
   "cell_type": "code",
   "execution_count": 5,
   "metadata": {},
   "outputs": [
    {
     "ename": "Error",
     "evalue": "cannot find value `x` in this scope",
     "output_type": "error",
     "traceback": [
      "let z_wave = array2d_from_function(&x, &y, |x, y| x.sin() * y.cos());",
      "let z_wave = array2d_from_function(&x, &y, |x, y| x.sin() * y.cos());",
      "\u001b[91m                                    ^\u001b[0m \u001b[94mnot found in this scope\u001b[0m",
      "cannot find value `x` in this scope"
     ]
    },
    {
     "ename": "Error",
     "evalue": "cannot find value `y` in this scope",
     "output_type": "error",
     "traceback": [
      "let z_wave = array2d_from_function(&x, &y, |x, y| x.sin() * y.cos());",
      "let z_wave = array2d_from_function(&x, &y, |x, y| x.sin() * y.cos());",
      "\u001b[91m                                        ^\u001b[0m \u001b[94mnot found in this scope\u001b[0m",
      "cannot find value `y` in this scope"
     ]
    },
    {
     "ename": "Error",
     "evalue": "cannot find value `x` in this scope",
     "output_type": "error",
     "traceback": [
      "Surface3DBuilder::from_vectors(&x, &y, &z_wave)?",
      "Surface3DBuilder::from_vectors(&x, &y, &z_wave)?",
      "\u001b[91m                                ^\u001b[0m \u001b[94mnot found in this scope\u001b[0m",
      "cannot find value `x` in this scope"
     ]
    },
    {
     "ename": "Error",
     "evalue": "cannot find value `y` in this scope",
     "output_type": "error",
     "traceback": [
      "Surface3DBuilder::from_vectors(&x, &y, &z_wave)?",
      "Surface3DBuilder::from_vectors(&x, &y, &z_wave)?",
      "\u001b[91m                                    ^\u001b[0m \u001b[94mnot found in this scope\u001b[0m",
      "cannot find value `y` in this scope"
     ]
    },
    {
     "ename": "Error",
     "evalue": "cannot find function `array2d_from_function` in this scope",
     "output_type": "error",
     "traceback": [
      "let z_wave = array2d_from_function(&x, &y, |x, y| x.sin() * y.cos());",
      "let z_wave = array2d_from_function(&x, &y, |x, y| x.sin() * y.cos());",
      "\u001b[91m             ^^^^^^^^^^^^^^^^^^^^^\u001b[0m \u001b[94mnot found in this scope\u001b[0m",
      "cannot find function `array2d_from_function` in this scope"
     ]
    },
    {
     "ename": "Error",
     "evalue": "failed to resolve: use of undeclared type `Surface3DBuilder`",
     "output_type": "error",
     "traceback": [
      "Surface3DBuilder::from_vectors(&x, &y, &z_wave)?",
      "Surface3DBuilder::from_vectors(&x, &y, &z_wave)?",
      "\u001b[91m^^^^^^^^^^^^^^^^\u001b[0m \u001b[94muse of undeclared type `Surface3DBuilder`\u001b[0m",
      "failed to resolve: use of undeclared type `Surface3DBuilder`"
     ]
    },
    {
     "ename": "Error",
     "evalue": "failed to resolve: use of undeclared type `ColorMap`",
     "output_type": "error",
     "traceback": [
      "    .colormap(ColorMap::Plasma)   // High-contrast for waves",
      "    .colormap(ColorMap::Plasma)   // High-contrast for waves",
      "\u001b[91m              ^^^^^^^^\u001b[0m \u001b[94muse of undeclared type `ColorMap`\u001b[0m",
      "failed to resolve: use of undeclared type `ColorMap`"
     ]
    }
   ],
   "source": [
    "// 🎯 SINUSOIDAL WAVE SURFACE\n",
    "println!(\"📊 Creating wave surface: z = sin(x) * cos(y)\");\n",
    "\n",
    "// Sinusoidal wave interference pattern\n",
    "let z_wave = array2d_from_function(&x, &y, |x, y| x.sin() * y.cos());\n",
    "\n",
    "Surface3DBuilder::from_vectors(&x, &y, &z_wave)?\n",
    "    .title(\"Wave Interference: z = sin(x) cos(y)\")\n",
    "    .xlabel(\"X (radians)\")\n",
    "    .ylabel(\"Y (radians)\")\n",
    "    .zlabel(\"Amplitude\")\n",
    "    .colormap(ColorMap::Plasma)   // High-contrast for waves\n",
    "    .elevation(35.0)\n",
    "    .azimuth(60.0)\n",
    "    .wireframe_and_surface()      // Show both surface and wireframe\n",
    "    .show()?;\n",
    "\n",
    "println!(\"✅ Wave surface: Demonstrates trigonometric interference\");\n",
    "println!(\"🌊 Pattern: Standing wave created by perpendicular sin/cos\");"
   ]
  },
  {
   "cell_type": "markdown",
   "metadata": {},
   "source": [
    "## 3. Advanced Mathematical Functions\n",
    "\n",
    "More complex mathematical surfaces including Gaussian peaks and ripple functions."
   ]
  },
  {
   "cell_type": "code",
   "execution_count": 6,
   "metadata": {},
   "outputs": [
    {
     "ename": "Error",
     "evalue": "cannot find macro `range` in this scope",
     "output_type": "error",
     "traceback": [
      "let y_gauss = range!(-4.0 => 4.0, 50);",
      "let y_gauss = range!(-4.0 => 4.0, 50);",
      "\u001b[91m              ^^^^^\u001b[0m \u001b[94merror: cannot find macro `range` in this scope\u001b[0m",
      "cannot find macro `range` in this scope"
     ]
    },
    {
     "ename": "Error",
     "evalue": "cannot find macro `range` in this scope",
     "output_type": "error",
     "traceback": [
      "let x_gauss = range!(-4.0 => 4.0, 50);",
      "let x_gauss = range!(-4.0 => 4.0, 50);",
      "\u001b[91m              ^^^^^\u001b[0m \u001b[94merror: cannot find macro `range` in this scope\u001b[0m",
      "cannot find macro `range` in this scope"
     ]
    },
    {
     "ename": "Error",
     "evalue": "can't call method `powi` on ambiguous numeric type `{float}`",
     "output_type": "error",
     "traceback": [
      "    (-0.5 * (x.powi(2) + y.powi(2)) / sigma.powi(2)).exp()",
      "    (-0.5 * (x.powi(2) + y.powi(2)) / sigma.powi(2)).exp()",
      "\u001b[91m                                            ^^^^\u001b[0m \u001b[94merror: can't call method `powi` on ambiguous numeric type `{float}`\u001b[0m",
      "can't call method `powi` on ambiguous numeric type `{float}`",
      "\u001b[1mhelp\u001b[0m: you must specify a type for this binding, like `f32`\n\n: f32"
     ]
    },
    {
     "ename": "Error",
     "evalue": "can't call method `exp` on ambiguous numeric type `{float}`",
     "output_type": "error",
     "traceback": [
      "    (-0.5 * (x.powi(2) + y.powi(2)) / sigma.powi(2)).exp()",
      "    (-0.5 * (x.powi(2) + y.powi(2)) / sigma.powi(2)).exp()",
      "\u001b[91m                                                     ^^^\u001b[0m \u001b[94merror: can't call method `exp` on ambiguous numeric type `{float}`\u001b[0m",
      "can't call method `exp` on ambiguous numeric type `{float}`"
     ]
    },
    {
     "ename": "Error",
     "evalue": "cannot find function `array2d_from_function` in this scope",
     "output_type": "error",
     "traceback": [
      "let z_gaussian = array2d_from_function(&x_gauss, &y_gauss, |x, y| {",
      "let z_gaussian = array2d_from_function(&x_gauss, &y_gauss, |x, y| {",
      "\u001b[91m                 ^^^^^^^^^^^^^^^^^^^^^\u001b[0m \u001b[94mnot found in this scope\u001b[0m",
      "cannot find function `array2d_from_function` in this scope"
     ]
    },
    {
     "ename": "Error",
     "evalue": "failed to resolve: use of undeclared type `Surface3DBuilder`",
     "output_type": "error",
     "traceback": [
      "Surface3DBuilder::from_vectors(&x_gauss, &y_gauss, &z_gaussian)?",
      "Surface3DBuilder::from_vectors(&x_gauss, &y_gauss, &z_gaussian)?",
      "\u001b[91m^^^^^^^^^^^^^^^^\u001b[0m \u001b[94muse of undeclared type `Surface3DBuilder`\u001b[0m",
      "failed to resolve: use of undeclared type `Surface3DBuilder`"
     ]
    },
    {
     "ename": "Error",
     "evalue": "failed to resolve: use of undeclared type `ColorMap`",
     "output_type": "error",
     "traceback": [
      "    .colormap(ColorMap::Inferno)  // Heat-like colormap",
      "    .colormap(ColorMap::Inferno)  // Heat-like colormap",
      "\u001b[91m              ^^^^^^^^\u001b[0m \u001b[94muse of undeclared type `ColorMap`\u001b[0m",
      "failed to resolve: use of undeclared type `ColorMap`"
     ]
    }
   ],
   "source": [
    "// 🎯 GAUSSIAN PEAK: 2D Normal Distribution\n",
    "println!(\"📊 Creating Gaussian peak: z = exp(-0.5(x² + y²))\");\n",
    "\n",
    "// Create wider grid for Gaussian to show decay\n",
    "let x_gauss = range!(-4.0 => 4.0, 50);\n",
    "let y_gauss = range!(-4.0 => 4.0, 50);\n",
    "\n",
    "// 2D Gaussian (normal distribution)\n",
    "let sigma = 1.5;  // Standard deviation\n",
    "let z_gaussian = array2d_from_function(&x_gauss, &y_gauss, |x, y| {\n",
    "    (-0.5 * (x.powi(2) + y.powi(2)) / sigma.powi(2)).exp()\n",
    "});\n",
    "\n",
    "Surface3DBuilder::from_vectors(&x_gauss, &y_gauss, &z_gaussian)?\n",
    "    .title(\"Gaussian Peak: z = exp(-0.5(x² + y²)/σ²)\")\n",
    "    .xlabel(\"X\")\n",
    "    .ylabel(\"Y\")\n",
    "    .zlabel(\"Probability Density\")\n",
    "    .colormap(ColorMap::Inferno)  // Heat-like colormap\n",
    "    .elevation(20.0)   // Low angle to see the peak shape\n",
    "    .azimuth(30.0)\n",
    "    .surface_only()    // Clean surface without wireframe\n",
    "    .show()?;\n",
    "\n",
    "println!(\"✅ Gaussian peak: Models 2D normal distribution\");\n",
    "println!(\"📊 σ = {:.1}, Peak height = {:.3}\", sigma, z_gaussian.max().unwrap());"
   ]
  },
  {
   "cell_type": "code",
   "execution_count": 7,
   "metadata": {},
   "outputs": [
    {
     "ename": "Error",
     "evalue": "cannot find value `x` in this scope",
     "output_type": "error",
     "traceback": [
      "let z_ripple = array2d_from_function(&x, &y, |x, y| {",
      "let z_ripple = array2d_from_function(&x, &y, |x, y| {",
      "\u001b[91m                                      ^\u001b[0m \u001b[94mnot found in this scope\u001b[0m",
      "cannot find value `x` in this scope"
     ]
    },
    {
     "ename": "Error",
     "evalue": "cannot find value `y` in this scope",
     "output_type": "error",
     "traceback": [
      "let z_ripple = array2d_from_function(&x, &y, |x, y| {",
      "let z_ripple = array2d_from_function(&x, &y, |x, y| {",
      "\u001b[91m                                          ^\u001b[0m \u001b[94mnot found in this scope\u001b[0m",
      "cannot find value `y` in this scope"
     ]
    },
    {
     "ename": "Error",
     "evalue": "cannot find value `x` in this scope",
     "output_type": "error",
     "traceback": [
      "Surface3DBuilder::from_vectors(&x, &y, &z_ripple)?",
      "Surface3DBuilder::from_vectors(&x, &y, &z_ripple)?",
      "\u001b[91m                                ^\u001b[0m \u001b[94mnot found in this scope\u001b[0m",
      "cannot find value `x` in this scope"
     ]
    },
    {
     "ename": "Error",
     "evalue": "cannot find value `y` in this scope",
     "output_type": "error",
     "traceback": [
      "Surface3DBuilder::from_vectors(&x, &y, &z_ripple)?",
      "Surface3DBuilder::from_vectors(&x, &y, &z_ripple)?",
      "\u001b[91m                                    ^\u001b[0m \u001b[94mnot found in this scope\u001b[0m",
      "cannot find value `y` in this scope"
     ]
    },
    {
     "ename": "Error",
     "evalue": "cannot find function `array2d_from_function` in this scope",
     "output_type": "error",
     "traceback": [
      "let z_ripple = array2d_from_function(&x, &y, |x, y| {",
      "let z_ripple = array2d_from_function(&x, &y, |x, y| {",
      "\u001b[91m               ^^^^^^^^^^^^^^^^^^^^^\u001b[0m \u001b[94mnot found in this scope\u001b[0m",
      "cannot find function `array2d_from_function` in this scope"
     ]
    },
    {
     "ename": "Error",
     "evalue": "failed to resolve: use of undeclared type `Surface3DBuilder`",
     "output_type": "error",
     "traceback": [
      "Surface3DBuilder::from_vectors(&x, &y, &z_ripple)?",
      "Surface3DBuilder::from_vectors(&x, &y, &z_ripple)?",
      "\u001b[91m^^^^^^^^^^^^^^^^\u001b[0m \u001b[94muse of undeclared type `Surface3DBuilder`\u001b[0m",
      "failed to resolve: use of undeclared type `Surface3DBuilder`"
     ]
    },
    {
     "ename": "Error",
     "evalue": "failed to resolve: use of undeclared type `ColorMap`",
     "output_type": "error",
     "traceback": [
      "    .colormap(ColorMap::Turbo)    // Rainbow colormap for ripples",
      "    .colormap(ColorMap::Turbo)    // Rainbow colormap for ripples",
      "\u001b[91m              ^^^^^^^^\u001b[0m \u001b[94muse of undeclared type `ColorMap`\u001b[0m",
      "failed to resolve: use of undeclared type `ColorMap`"
     ]
    }
   ],
   "source": [
    "// 🎯 RIPPLE FUNCTION: Sinc-like Surface\n",
    "println!(\"📊 Creating ripple surface: z = sin(r)/r where r = √(x² + y²)\");\n",
    "\n",
    "// Ripple function: sinc in 2D creates concentric ripples\n",
    "let z_ripple = array2d_from_function(&x, &y, |x, y| {\n",
    "    let r = (x.powi(2) + y.powi(2)).sqrt();\n",
    "    if r.abs() < 1e-10 {\n",
    "        1.0  // Limit as r → 0: sin(r)/r → 1\n",
    "    } else {\n",
    "        r.sin() / r\n",
    "    }\n",
    "});\n",
    "\n",
    "Surface3DBuilder::from_vectors(&x, &y, &z_ripple)?\n",
    "    .title(\"Ripple Function: z = sin(r)/r\")\n",
    "    .xlabel(\"X\")\n",
    "    .ylabel(\"Y\")\n",
    "    .zlabel(\"Amplitude\")\n",
    "    .colormap(ColorMap::Turbo)    // Rainbow colormap for ripples\n",
    "    .elevation(40.0)\n",
    "    .azimuth(135.0)  // Different viewing angle\n",
    "    .show()?;\n",
    "\n",
    "println!(\"✅ Ripple surface: Classic sinc function in 2D\");\n",
    "println!(\"🌊 Creates concentric circular ripples emanating from origin\");"
   ]
  },
  {
   "cell_type": "markdown",
   "metadata": {},
   "source": [
    "## 4. Visualization Techniques\n",
    "\n",
    "Demonstrate different rendering modes and visual styles."
   ]
  },
  {
   "cell_type": "code",
   "execution_count": 8,
   "metadata": {},
   "outputs": [
    {
     "ename": "Error",
     "evalue": "cannot find value `x` in this scope",
     "output_type": "error",
     "traceback": [
      "Surface3DBuilder::from_vectors(&x, &y, &z_saddle)?",
      "\u001b[91m                                ^\u001b[0m \u001b[94mnot found in this scope\u001b[0m",
      "cannot find value `x` in this scope"
     ]
    },
    {
     "ename": "Error",
     "evalue": "cannot find value `y` in this scope",
     "output_type": "error",
     "traceback": [
      "Surface3DBuilder::from_vectors(&x, &y, &z_saddle)?",
      "\u001b[91m                                    ^\u001b[0m \u001b[94mnot found in this scope\u001b[0m",
      "cannot find value `y` in this scope"
     ]
    },
    {
     "ename": "Error",
     "evalue": "cannot find value `z_saddle` in this scope",
     "output_type": "error",
     "traceback": [
      "Surface3DBuilder::from_vectors(&x, &y, &z_saddle)?",
      "\u001b[91m                                        ^^^^^^^^\u001b[0m \u001b[94mnot found in this scope\u001b[0m",
      "cannot find value `z_saddle` in this scope"
     ]
    },
    {
     "ename": "Error",
     "evalue": "failed to resolve: use of undeclared type `Surface3DBuilder`",
     "output_type": "error",
     "traceback": [
      "Surface3DBuilder::from_vectors(&x, &y, &z_saddle)?",
      "\u001b[91m^^^^^^^^^^^^^^^^\u001b[0m \u001b[94muse of undeclared type `Surface3DBuilder`\u001b[0m",
      "failed to resolve: use of undeclared type `Surface3DBuilder`"
     ]
    }
   ],
   "source": [
    "// 🎯 WIREFRAME ONLY: Structural Visualization\n",
    "println!(\"📊 Wireframe visualization: Structure without surface fill\");\n",
    "\n",
    "// Use the saddle function for wireframe demo\n",
    "Surface3DBuilder::from_vectors(&x, &y, &z_saddle)?\n",
    "    .title(\"Wireframe Only: Saddle Structure\")\n",
    "    .xlabel(\"X\")\n",
    "    .ylabel(\"Y\")\n",
    "    .zlabel(\"Z\")\n",
    "    .wireframe_only()     // No surface fill, lines only\n",
    "    .elevation(30.0)\n",
    "    .azimuth(45.0)\n",
    "    .show()?;\n",
    "\n",
    "println!(\"✅ Wireframe mode: Shows surface structure clearly\");\n",
    "println!(\"🔍 Useful for understanding surface topology and gradients\");"
   ]
  },
  {
   "cell_type": "code",
   "execution_count": 9,
   "metadata": {},
   "outputs": [
    {
     "ename": "Error",
     "evalue": "cannot find value `x` in this scope",
     "output_type": "error",
     "traceback": [
      "let z_complex = array2d_from_function(&x, &y, |x, y| {",
      "let z_complex = array2d_from_function(&x, &y, |x, y| {",
      "\u001b[91m                                       ^\u001b[0m \u001b[94mnot found in this scope\u001b[0m",
      "cannot find value `x` in this scope"
     ]
    },
    {
     "ename": "Error",
     "evalue": "cannot find value `y` in this scope",
     "output_type": "error",
     "traceback": [
      "let z_complex = array2d_from_function(&x, &y, |x, y| {",
      "let z_complex = array2d_from_function(&x, &y, |x, y| {",
      "\u001b[91m                                           ^\u001b[0m \u001b[94mnot found in this scope\u001b[0m",
      "cannot find value `y` in this scope"
     ]
    },
    {
     "ename": "Error",
     "evalue": "cannot find value `x` in this scope",
     "output_type": "error",
     "traceback": [
      "Surface3DBuilder::from_vectors(&x, &y, &z_complex)?",
      "Surface3DBuilder::from_vectors(&x, &y, &z_complex)?",
      "\u001b[91m                                ^\u001b[0m \u001b[94mnot found in this scope\u001b[0m",
      "cannot find value `x` in this scope"
     ]
    },
    {
     "ename": "Error",
     "evalue": "cannot find value `y` in this scope",
     "output_type": "error",
     "traceback": [
      "Surface3DBuilder::from_vectors(&x, &y, &z_complex)?",
      "Surface3DBuilder::from_vectors(&x, &y, &z_complex)?",
      "\u001b[91m                                    ^\u001b[0m \u001b[94mnot found in this scope\u001b[0m",
      "cannot find value `y` in this scope"
     ]
    },
    {
     "ename": "Error",
     "evalue": "can't call method `exp` on ambiguous numeric type `{float}`",
     "output_type": "error",
     "traceback": [
      "    (x.powi(2) - y.powi(2)) * (-0.1 * r).exp()",
      "    (x.powi(2) - y.powi(2)) * (-0.1 * r).exp()",
      "\u001b[91m                                         ^^^\u001b[0m \u001b[94merror: can't call method `exp` on ambiguous numeric type `{float}`\u001b[0m",
      "can't call method `exp` on ambiguous numeric type `{float}`"
     ]
    },
    {
     "ename": "Error",
     "evalue": "cannot find function `array2d_from_function` in this scope",
     "output_type": "error",
     "traceback": [
      "let z_complex = array2d_from_function(&x, &y, |x, y| {",
      "let z_complex = array2d_from_function(&x, &y, |x, y| {",
      "\u001b[91m                ^^^^^^^^^^^^^^^^^^^^^\u001b[0m \u001b[94mnot found in this scope\u001b[0m",
      "cannot find function `array2d_from_function` in this scope"
     ]
    },
    {
     "ename": "Error",
     "evalue": "failed to resolve: use of undeclared type `Surface3DBuilder`",
     "output_type": "error",
     "traceback": [
      "Surface3DBuilder::from_vectors(&x, &y, &z_complex)?",
      "Surface3DBuilder::from_vectors(&x, &y, &z_complex)?",
      "\u001b[91m^^^^^^^^^^^^^^^^\u001b[0m \u001b[94muse of undeclared type `Surface3DBuilder`\u001b[0m",
      "failed to resolve: use of undeclared type `Surface3DBuilder`"
     ]
    },
    {
     "ename": "Error",
     "evalue": "failed to resolve: use of undeclared type `ColorMap`",
     "output_type": "error",
     "traceback": [
      "    .colormap(ColorMap::Viridis)",
      "    .colormap(ColorMap::Viridis)",
      "\u001b[91m              ^^^^^^^^\u001b[0m \u001b[94muse of undeclared type `ColorMap`\u001b[0m",
      "failed to resolve: use of undeclared type `ColorMap`"
     ]
    }
   ],
   "source": [
    "// 🎯 COLORMAP COMPARISON: Same Function, Different Visualizations\n",
    "println!(\"📊 Colormap comparison: How color affects perception\");\n",
    "\n",
    "// Create a more complex function for colormap demonstration\n",
    "let z_complex = array2d_from_function(&x, &y, |x, y| {\n",
    "    let r = (x.powi(2) + y.powi(2)).sqrt();\n",
    "    (x.powi(2) - y.powi(2)) * (-0.1 * r).exp()\n",
    "});\n",
    "\n",
    "println!(\"🎨 Function: z = (x² - y²) × exp(-0.1r) [Damped saddle]\");\n",
    "println!(\"🌈 Comparing different colormaps for the same surface:\");\n",
    "\n",
    "// Scientific colormap (Viridis)\n",
    "Surface3DBuilder::from_vectors(&x, &y, &z_complex)?\n",
    "    .title(\"Scientific: Viridis Colormap\")\n",
    "    .xlabel(\"X\")\n",
    "    .ylabel(\"Y\")\n",
    "    .colormap(ColorMap::Viridis)\n",
    "    .elevation(25.0)\n",
    "    .azimuth(45.0)\n",
    "    .show()?;\n",
    "\n",
    "println!(\"✅ Viridis: Perceptually uniform, colorblind-friendly\");"
   ]
  },
  {
   "cell_type": "code",
   "execution_count": 10,
   "metadata": {},
   "outputs": [
    {
     "ename": "Error",
     "evalue": "cannot find value `x` in this scope",
     "output_type": "error",
     "traceback": [
      "Surface3DBuilder::from_vectors(&x, &y, &z_complex)?",
      "\u001b[91m                                ^\u001b[0m \u001b[94mnot found in this scope\u001b[0m",
      "cannot find value `x` in this scope"
     ]
    },
    {
     "ename": "Error",
     "evalue": "cannot find value `y` in this scope",
     "output_type": "error",
     "traceback": [
      "Surface3DBuilder::from_vectors(&x, &y, &z_complex)?",
      "\u001b[91m                                    ^\u001b[0m \u001b[94mnot found in this scope\u001b[0m",
      "cannot find value `y` in this scope"
     ]
    },
    {
     "ename": "Error",
     "evalue": "cannot find value `z_complex` in this scope",
     "output_type": "error",
     "traceback": [
      "Surface3DBuilder::from_vectors(&x, &y, &z_complex)?",
      "\u001b[91m                                        ^^^^^^^^^\u001b[0m \u001b[94mnot found in this scope\u001b[0m",
      "cannot find value `z_complex` in this scope"
     ]
    },
    {
     "ename": "Error",
     "evalue": "failed to resolve: use of undeclared type `Surface3DBuilder`",
     "output_type": "error",
     "traceback": [
      "Surface3DBuilder::from_vectors(&x, &y, &z_complex)?",
      "\u001b[91m^^^^^^^^^^^^^^^^\u001b[0m \u001b[94muse of undeclared type `Surface3DBuilder`\u001b[0m",
      "failed to resolve: use of undeclared type `Surface3DBuilder`"
     ]
    },
    {
     "ename": "Error",
     "evalue": "failed to resolve: use of undeclared type `ColorMap`",
     "output_type": "error",
     "traceback": [
      "    .colormap(ColorMap::Coolwarm)",
      "\u001b[91m              ^^^^^^^^\u001b[0m \u001b[94muse of undeclared type `ColorMap`\u001b[0m",
      "failed to resolve: use of undeclared type `ColorMap`"
     ]
    }
   ],
   "source": [
    "// Diverging colormap (Coolwarm) - same function\n",
    "Surface3DBuilder::from_vectors(&x, &y, &z_complex)?\n",
    "    .title(\"Diverging: Coolwarm Colormap\")\n",
    "    .xlabel(\"X\")\n",
    "    .ylabel(\"Y\")\n",
    "    .colormap(ColorMap::Coolwarm)\n",
    "    .elevation(25.0)\n",
    "    .azimuth(45.0)\n",
    "    .show()?;\n",
    "\n",
    "println!(\"✅ Coolwarm: Emphasizes positive/negative values\");\n",
    "println!(\"🔴🔵 Blue=negative, Red=positive, White=zero\");"
   ]
  },
  {
   "cell_type": "markdown",
   "metadata": {},
   "source": [
    "## 5. Camera Control and Perspective\n",
    "\n",
    "Demonstrate how different viewing angles reveal different aspects of the surface."
   ]
  },
  {
   "cell_type": "code",
   "execution_count": 11,
   "metadata": {},
   "outputs": [
    {
     "ename": "Error",
     "evalue": "cannot find value `x` in this scope",
     "output_type": "error",
     "traceback": [
      "let z_demo = array2d_from_function(&x, &y, |x, y| {",
      "let z_demo = array2d_from_function(&x, &y, |x, y| {",
      "\u001b[91m                                    ^\u001b[0m \u001b[94mnot found in this scope\u001b[0m",
      "cannot find value `x` in this scope"
     ]
    },
    {
     "ename": "Error",
     "evalue": "cannot find value `y` in this scope",
     "output_type": "error",
     "traceback": [
      "let z_demo = array2d_from_function(&x, &y, |x, y| {",
      "let z_demo = array2d_from_function(&x, &y, |x, y| {",
      "\u001b[91m                                        ^\u001b[0m \u001b[94mnot found in this scope\u001b[0m",
      "cannot find value `y` in this scope"
     ]
    },
    {
     "ename": "Error",
     "evalue": "cannot find value `x` in this scope",
     "output_type": "error",
     "traceback": [
      "Surface3DBuilder::from_vectors(&x, &y, &z_demo)?",
      "Surface3DBuilder::from_vectors(&x, &y, &z_demo)?",
      "\u001b[91m                                ^\u001b[0m \u001b[94mnot found in this scope\u001b[0m",
      "cannot find value `x` in this scope"
     ]
    },
    {
     "ename": "Error",
     "evalue": "cannot find value `y` in this scope",
     "output_type": "error",
     "traceback": [
      "Surface3DBuilder::from_vectors(&x, &y, &z_demo)?",
      "Surface3DBuilder::from_vectors(&x, &y, &z_demo)?",
      "\u001b[91m                                    ^\u001b[0m \u001b[94mnot found in this scope\u001b[0m",
      "cannot find value `y` in this scope"
     ]
    },
    {
     "ename": "Error",
     "evalue": "can't call method `sin` on ambiguous numeric type `{float}`",
     "output_type": "error",
     "traceback": [
      "    x.sin() * y.cos() + 0.5 * (2.0 * x).sin() * (0.5 * y).cos()",
      "    x.sin() * y.cos() + 0.5 * (2.0 * x).sin() * (0.5 * y).cos()",
      "\u001b[91m                                        ^^^\u001b[0m \u001b[94merror: can't call method `sin` on ambiguous numeric type `{float}`\u001b[0m",
      "can't call method `sin` on ambiguous numeric type `{float}`"
     ]
    },
    {
     "ename": "Error",
     "evalue": "can't call method `cos` on ambiguous numeric type `{float}`",
     "output_type": "error",
     "traceback": [
      "    x.sin() * y.cos() + 0.5 * (2.0 * x).sin() * (0.5 * y).cos()",
      "    x.sin() * y.cos() + 0.5 * (2.0 * x).sin() * (0.5 * y).cos()",
      "\u001b[91m                                                          ^^^\u001b[0m \u001b[94merror: can't call method `cos` on ambiguous numeric type `{float}`\u001b[0m",
      "can't call method `cos` on ambiguous numeric type `{float}`"
     ]
    },
    {
     "ename": "Error",
     "evalue": "cannot find function `array2d_from_function` in this scope",
     "output_type": "error",
     "traceback": [
      "let z_demo = array2d_from_function(&x, &y, |x, y| {",
      "let z_demo = array2d_from_function(&x, &y, |x, y| {",
      "\u001b[91m             ^^^^^^^^^^^^^^^^^^^^^\u001b[0m \u001b[94mnot found in this scope\u001b[0m",
      "cannot find function `array2d_from_function` in this scope"
     ]
    },
    {
     "ename": "Error",
     "evalue": "failed to resolve: use of undeclared type `Surface3DBuilder`",
     "output_type": "error",
     "traceback": [
      "Surface3DBuilder::from_vectors(&x, &y, &z_demo)?",
      "Surface3DBuilder::from_vectors(&x, &y, &z_demo)?",
      "\u001b[91m^^^^^^^^^^^^^^^^\u001b[0m \u001b[94muse of undeclared type `Surface3DBuilder`\u001b[0m",
      "failed to resolve: use of undeclared type `Surface3DBuilder`"
     ]
    },
    {
     "ename": "Error",
     "evalue": "failed to resolve: use of undeclared type `ColorMap`",
     "output_type": "error",
     "traceback": [
      "    .colormap(ColorMap::Plasma)",
      "    .colormap(ColorMap::Plasma)",
      "\u001b[91m              ^^^^^^^^\u001b[0m \u001b[94muse of undeclared type `ColorMap`\u001b[0m",
      "failed to resolve: use of undeclared type `ColorMap`"
     ]
    }
   ],
   "source": [
    "// 🎯 CAMERA ANGLE EXPLORATION: Multiple Views of Same Surface\n",
    "println!(\"📊 Camera control: Different perspectives of wave function\");\n",
    "\n",
    "// Use wave function for angle demonstration\n",
    "let z_demo = array2d_from_function(&x, &y, |x, y| {\n",
    "    x.sin() * y.cos() + 0.5 * (2.0 * x).sin() * (0.5 * y).cos()\n",
    "});\n",
    "\n",
    "println!(\"🌊 Function: z = sin(x)cos(y) + 0.5sin(2x)cos(y/2)\");\n",
    "println!(\"📐 Demonstrating different camera angles:\");\n",
    "\n",
    "// High elevation view (top-down)\n",
    "Surface3DBuilder::from_vectors(&x, &y, &z_demo)?\n",
    "    .title(\"High Elevation View (75°)\")\n",
    "    .xlabel(\"X\")\n",
    "    .ylabel(\"Y\")\n",
    "    .colormap(ColorMap::Plasma)\n",
    "    .elevation(75.0)   // Nearly top-down\n",
    "    .azimuth(0.0)\n",
    "    .show()?;\n",
    "\n",
    "println!(\"✅ High angle: Good for seeing contour patterns\");"
   ]
  },
  {
   "cell_type": "code",
   "execution_count": 12,
   "metadata": {},
   "outputs": [
    {
     "ename": "Error",
     "evalue": "cannot find value `x` in this scope",
     "output_type": "error",
     "traceback": [
      "Surface3DBuilder::from_vectors(&x, &y, &z_demo)?",
      "\u001b[91m                                ^\u001b[0m \u001b[94mnot found in this scope\u001b[0m",
      "cannot find value `x` in this scope"
     ]
    },
    {
     "ename": "Error",
     "evalue": "cannot find value `y` in this scope",
     "output_type": "error",
     "traceback": [
      "Surface3DBuilder::from_vectors(&x, &y, &z_demo)?",
      "\u001b[91m                                    ^\u001b[0m \u001b[94mnot found in this scope\u001b[0m",
      "cannot find value `y` in this scope"
     ]
    },
    {
     "ename": "Error",
     "evalue": "cannot find value `z_demo` in this scope",
     "output_type": "error",
     "traceback": [
      "Surface3DBuilder::from_vectors(&x, &y, &z_demo)?",
      "\u001b[91m                                        ^^^^^^\u001b[0m \u001b[94mnot found in this scope\u001b[0m",
      "cannot find value `z_demo` in this scope"
     ]
    },
    {
     "ename": "Error",
     "evalue": "failed to resolve: use of undeclared type `Surface3DBuilder`",
     "output_type": "error",
     "traceback": [
      "Surface3DBuilder::from_vectors(&x, &y, &z_demo)?",
      "\u001b[91m^^^^^^^^^^^^^^^^\u001b[0m \u001b[94muse of undeclared type `Surface3DBuilder`\u001b[0m",
      "failed to resolve: use of undeclared type `Surface3DBuilder`"
     ]
    },
    {
     "ename": "Error",
     "evalue": "failed to resolve: use of undeclared type `ColorMap`",
     "output_type": "error",
     "traceback": [
      "    .colormap(ColorMap::Plasma)",
      "\u001b[91m              ^^^^^^^^\u001b[0m \u001b[94muse of undeclared type `ColorMap`\u001b[0m",
      "failed to resolve: use of undeclared type `ColorMap`"
     ]
    }
   ],
   "source": [
    "// Low elevation view (side perspective)\n",
    "Surface3DBuilder::from_vectors(&x, &y, &z_demo)?\n",
    "    .title(\"Low Elevation View (15°)\")\n",
    "    .xlabel(\"X\")\n",
    "    .ylabel(\"Y\")\n",
    "    .colormap(ColorMap::Plasma)\n",
    "    .elevation(15.0)   // Nearly side-on\n",
    "    .azimuth(45.0)\n",
    "    .show()?;\n",
    "\n",
    "println!(\"✅ Low angle: Shows surface relief and height variations\");"
   ]
  },
  {
   "cell_type": "code",
   "execution_count": 13,
   "metadata": {},
   "outputs": [
    {
     "ename": "Error",
     "evalue": "cannot find value `x` in this scope",
     "output_type": "error",
     "traceback": [
      "Surface3DBuilder::from_vectors(&x, &y, &z_demo)?",
      "\u001b[91m                                ^\u001b[0m \u001b[94mnot found in this scope\u001b[0m",
      "cannot find value `x` in this scope"
     ]
    },
    {
     "ename": "Error",
     "evalue": "cannot find value `y` in this scope",
     "output_type": "error",
     "traceback": [
      "Surface3DBuilder::from_vectors(&x, &y, &z_demo)?",
      "\u001b[91m                                    ^\u001b[0m \u001b[94mnot found in this scope\u001b[0m",
      "cannot find value `y` in this scope"
     ]
    },
    {
     "ename": "Error",
     "evalue": "cannot find value `z_demo` in this scope",
     "output_type": "error",
     "traceback": [
      "Surface3DBuilder::from_vectors(&x, &y, &z_demo)?",
      "\u001b[91m                                        ^^^^^^\u001b[0m \u001b[94mnot found in this scope\u001b[0m",
      "cannot find value `z_demo` in this scope"
     ]
    },
    {
     "ename": "Error",
     "evalue": "failed to resolve: use of undeclared type `Surface3DBuilder`",
     "output_type": "error",
     "traceback": [
      "Surface3DBuilder::from_vectors(&x, &y, &z_demo)?",
      "\u001b[91m^^^^^^^^^^^^^^^^\u001b[0m \u001b[94muse of undeclared type `Surface3DBuilder`\u001b[0m",
      "failed to resolve: use of undeclared type `Surface3DBuilder`"
     ]
    },
    {
     "ename": "Error",
     "evalue": "failed to resolve: use of undeclared type `ColorMap`",
     "output_type": "error",
     "traceback": [
      "    .colormap(ColorMap::Plasma)",
      "\u001b[91m              ^^^^^^^^\u001b[0m \u001b[94muse of undeclared type `ColorMap`\u001b[0m",
      "failed to resolve: use of undeclared type `ColorMap`"
     ]
    }
   ],
   "source": [
    "// Rotated azimuth view\n",
    "Surface3DBuilder::from_vectors(&x, &y, &z_demo)?\n",
    "    .title(\"Rotated Azimuth View (120°)\")\n",
    "    .xlabel(\"X\")\n",
    "    .ylabel(\"Y\")\n",
    "    .colormap(ColorMap::Plasma)\n",
    "    .elevation(35.0)\n",
    "    .azimuth(120.0)    // Rotated horizontally\n",
    "    .show()?;\n",
    "\n",
    "println!(\"✅ Rotated view: Different perspective reveals new patterns\");\n",
    "println!(\"🔄 Azimuth rotation helpful for complex surfaces\");"
   ]
  },
  {
   "cell_type": "markdown",
   "metadata": {},
   "source": [
    "## 6. Mathematical Applications\n",
    "\n",
    "Real-world mathematical examples and scientific applications."
   ]
  },
  {
   "cell_type": "code",
   "execution_count": 14,
   "metadata": {},
   "outputs": [
    {
     "ename": "Error",
     "evalue": "cannot find macro `range` in this scope",
     "output_type": "error",
     "traceback": [
      "let y_opt = range!(-4.0 => 4.0, 60);",
      "let y_opt = range!(-4.0 => 4.0, 60);",
      "\u001b[91m            ^^^^^\u001b[0m \u001b[94merror: cannot find macro `range` in this scope\u001b[0m",
      "cannot find macro `range` in this scope"
     ]
    },
    {
     "ename": "Error",
     "evalue": "cannot find macro `range` in this scope",
     "output_type": "error",
     "traceback": [
      "let x_opt = range!(-4.0 => 4.0, 60);",
      "let x_opt = range!(-4.0 => 4.0, 60);",
      "\u001b[91m            ^^^^^\u001b[0m \u001b[94merror: cannot find macro `range` in this scope\u001b[0m",
      "cannot find macro `range` in this scope"
     ]
    },
    {
     "ename": "Error",
     "evalue": "cannot find function `array2d_from_function` in this scope",
     "output_type": "error",
     "traceback": [
      "let z_himmelblau = array2d_from_function(&x_opt, &y_opt, |x, y| {",
      "let z_himmelblau = array2d_from_function(&x_opt, &y_opt, |x, y| {",
      "\u001b[91m                   ^^^^^^^^^^^^^^^^^^^^^\u001b[0m \u001b[94mnot found in this scope\u001b[0m",
      "cannot find function `array2d_from_function` in this scope"
     ]
    },
    {
     "ename": "Error",
     "evalue": "failed to resolve: use of undeclared type `Surface3DBuilder`",
     "output_type": "error",
     "traceback": [
      "Surface3DBuilder::from_vectors(&x_opt, &y_opt, &z_himmelblau)?",
      "Surface3DBuilder::from_vectors(&x_opt, &y_opt, &z_himmelblau)?",
      "\u001b[91m^^^^^^^^^^^^^^^^\u001b[0m \u001b[94muse of undeclared type `Surface3DBuilder`\u001b[0m",
      "failed to resolve: use of undeclared type `Surface3DBuilder`"
     ]
    },
    {
     "ename": "Error",
     "evalue": "failed to resolve: use of undeclared type `ColorMap`",
     "output_type": "error",
     "traceback": [
      "    .colormap(ColorMap::Inferno)",
      "    .colormap(ColorMap::Inferno)",
      "\u001b[91m              ^^^^^^^^\u001b[0m \u001b[94muse of undeclared type `ColorMap`\u001b[0m",
      "failed to resolve: use of undeclared type `ColorMap`"
     ]
    }
   ],
   "source": [
    "// 🎯 OPTIMIZATION LANDSCAPE: Function with Multiple Extrema\n",
    "println!(\"📊 Optimization landscape: Multi-modal function\");\n",
    "\n",
    "// Create optimization test function (modified Himmelblau's function)\n",
    "let x_opt = range!(-4.0 => 4.0, 60);\n",
    "let y_opt = range!(-4.0 => 4.0, 60);\n",
    "\n",
    "let z_himmelblau = array2d_from_function(&x_opt, &y_opt, |x, y| {\n",
    "    // Himmelblau's function: (x² + y - 11)² + (x + y² - 7)²\n",
    "    // Inverted to show valleys instead of peaks\n",
    "    let f = (x.powi(2) + y - 11.0).powi(2) + (x + y.powi(2) - 7.0).powi(2);\n",
    "    -f  // Negative to show valleys as peaks for better visualization\n",
    "});\n",
    "\n",
    "Surface3DBuilder::from_vectors(&x_opt, &y_opt, &z_himmelblau)?\n",
    "    .title(\"Optimization Landscape: Himmelblau's Function\")\n",
    "    .xlabel(\"Parameter X\")\n",
    "    .ylabel(\"Parameter Y\")\n",
    "    .zlabel(\"Objective Function\")\n",
    "    .colormap(ColorMap::Inferno)\n",
    "    .elevation(35.0)\n",
    "    .azimuth(45.0)\n",
    "    .show()?;\n",
    "\n",
    "println!(\"✅ Multi-modal optimization surface\");\n",
    "println!(\"🎯 Shows multiple local optima - classic optimization challenge\");\n",
    "println!(\"📈 Bright regions = better objective function values\");"
   ]
  },
  {
   "cell_type": "code",
   "execution_count": 15,
   "metadata": {},
   "outputs": [
    {
     "ename": "Error",
     "evalue": "cannot find macro `range` in this scope",
     "output_type": "error",
     "traceback": [
      "let y_wave = range!(-8.0 => 8.0, 80);",
      "let y_wave = range!(-8.0 => 8.0, 80);",
      "\u001b[91m             ^^^^^\u001b[0m \u001b[94merror: cannot find macro `range` in this scope\u001b[0m",
      "cannot find macro `range` in this scope"
     ]
    },
    {
     "ename": "Error",
     "evalue": "cannot find macro `range` in this scope",
     "output_type": "error",
     "traceback": [
      "let x_wave = range!(-8.0 => 8.0, 80);",
      "let x_wave = range!(-8.0 => 8.0, 80);",
      "\u001b[91m             ^^^^^\u001b[0m \u001b[94merror: cannot find macro `range` in this scope\u001b[0m",
      "cannot find macro `range` in this scope"
     ]
    },
    {
     "ename": "Error",
     "evalue": "can't call method `powi` on ambiguous numeric type `{float}`",
     "output_type": "error",
     "traceback": [
      "    let envelope = (-r_sq / (2.0 * sigma.powi(2))).exp();",
      "    let envelope = (-r_sq / (2.0 * sigma.powi(2))).exp();",
      "\u001b[91m                                         ^^^^\u001b[0m \u001b[94merror: can't call method `powi` on ambiguous numeric type `{float}`\u001b[0m",
      "can't call method `powi` on ambiguous numeric type `{float}`",
      "\u001b[1mhelp\u001b[0m: you must specify a type for this binding, like `f32`\n\n: f32"
     ]
    },
    {
     "ename": "Error",
     "evalue": "can't call method `cos` on ambiguous numeric type `{float}`",
     "output_type": "error",
     "traceback": [
      "    let wave = (k0 * r_sq.sqrt()).cos();",
      "    let wave = (k0 * r_sq.sqrt()).cos();",
      "\u001b[91m                                  ^^^\u001b[0m \u001b[94merror: can't call method `cos` on ambiguous numeric type `{float}`\u001b[0m",
      "can't call method `cos` on ambiguous numeric type `{float}`"
     ]
    },
    {
     "ename": "Error",
     "evalue": "cannot find function `array2d_from_function` in this scope",
     "output_type": "error",
     "traceback": [
      "let z_packet = array2d_from_function(&x_wave, &y_wave, |x, y| {",
      "let z_packet = array2d_from_function(&x_wave, &y_wave, |x, y| {",
      "\u001b[91m               ^^^^^^^^^^^^^^^^^^^^^\u001b[0m \u001b[94mnot found in this scope\u001b[0m",
      "cannot find function `array2d_from_function` in this scope"
     ]
    },
    {
     "ename": "Error",
     "evalue": "failed to resolve: use of undeclared type `Surface3DBuilder`",
     "output_type": "error",
     "traceback": [
      "Surface3DBuilder::from_vectors(&x_wave, &y_wave, &z_packet)?",
      "Surface3DBuilder::from_vectors(&x_wave, &y_wave, &z_packet)?",
      "\u001b[91m^^^^^^^^^^^^^^^^\u001b[0m \u001b[94muse of undeclared type `Surface3DBuilder`\u001b[0m",
      "failed to resolve: use of undeclared type `Surface3DBuilder`"
     ]
    },
    {
     "ename": "Error",
     "evalue": "failed to resolve: use of undeclared type `ColorMap`",
     "output_type": "error",
     "traceback": [
      "    .colormap(ColorMap::Turbo)",
      "    .colormap(ColorMap::Turbo)",
      "\u001b[91m              ^^^^^^^^\u001b[0m \u001b[94muse of undeclared type `ColorMap`\u001b[0m",
      "failed to resolve: use of undeclared type `ColorMap`"
     ]
    }
   ],
   "source": [
    "// 🎯 PHYSICS SIMULATION: Wave Packet\n",
    "println!(\"📊 Physics: Gaussian wave packet\");\n",
    "\n",
    "// Gaussian wave packet (quantum mechanics example)\n",
    "let x_wave = range!(-8.0 => 8.0, 80);\n",
    "let y_wave = range!(-8.0 => 8.0, 80);\n",
    "\n",
    "let k0 = 1.5;  // Wave number\n",
    "let sigma = 2.0;  // Packet width\n",
    "\n",
    "let z_packet = array2d_from_function(&x_wave, &y_wave, |x, y| {\n",
    "    let r_sq = x.powi(2) + y.powi(2);\n",
    "    let envelope = (-r_sq / (2.0 * sigma.powi(2))).exp();\n",
    "    let wave = (k0 * r_sq.sqrt()).cos();\n",
    "    envelope * wave\n",
    "});\n",
    "\n",
    "Surface3DBuilder::from_vectors(&x_wave, &y_wave, &z_packet)?\n",
    "    .title(\"Gaussian Wave Packet: ψ(r) = exp(-r²/2σ²) cos(k₀r)\")\n",
    "    .xlabel(\"X Position\")\n",
    "    .ylabel(\"Y Position\")\n",
    "    .zlabel(\"Wave Amplitude\")\n",
    "    .colormap(ColorMap::Turbo)\n",
    "    .elevation(25.0)\n",
    "    .azimuth(60.0)\n",
    "    .wireframe_and_surface()\n",
    "    .show()?;\n",
    "\n",
    "println!(\"✅ Gaussian wave packet visualization\");\n",
    "println!(\"⚛️  Quantum mechanics: Localized wave with oscillations\");\n",
    "println!(\"📏 σ = {:.1}, k₀ = {:.1}\", sigma, k0);"
   ]
  },
  {
   "cell_type": "markdown",
   "metadata": {},
   "source": [
    "## 7. Summary and Best Practices\n",
    "\n",
    "Key takeaways for effective 3D surface plotting with rustlab-plotting."
   ]
  },
  {
   "cell_type": "code",
   "execution_count": 16,
   "metadata": {},
   "outputs": [
    {
     "name": "stdout",
     "output_type": "stream",
     "text": [
      "🎉 3D Surface Plotting Showcase Complete!\n",
      "\n",
      "📚 Best Practices Summary:\n",
      "\n",
      "🔧 Technical:\n",
      "   • Use range!() macro for clean grid creation\n",
      "   • array2d_from_function() for mathematical surfaces\n",
      "   • Surface3DBuilder::from_vectors() for math-first API\n",
      "\n",
      "🎨 Visual Design:\n",
      "   • Viridis: General scientific visualization\n",
      "   • Coolwarm: Diverging data (positive/negative)\n",
      "   • Plasma/Inferno: High-contrast features\n",
      "   • Turbo: Rainbow effects and wave patterns\n",
      "\n",
      "📐 Camera Control:\n",
      "   • High elevation (60-80°): Contour patterns\n",
      "   • Low elevation (15-30°): Surface relief\n",
      "   • Azimuth rotation: Multiple perspectives\n",
      "\n",
      "🔍 Rendering Modes:\n",
      "   • Surface only: Clean, publication-ready\n",
      "   • Wireframe only: Structural understanding\n",
      "   • Combined: Detailed analysis\n",
      "\n",
      "✅ 3D plotting capabilities fully demonstrated!\n",
      "\n",
      "📊 Showcase Statistics:\n",
      "   📈 Mathematical functions: 8\n",
      "   🎨 Total visualizations: 12\n",
      "   🌈 Colormaps demonstrated: 5\n",
      "   📐 Camera angles explored: 6 different perspectives\n"
     ]
    }
   ],
   "source": [
    "// 🎯 SUMMARY: 3D Plotting Best Practices\n",
    "println!(\"🎉 3D Surface Plotting Showcase Complete!\\n\");\n",
    "\n",
    "println!(\"📚 Best Practices Summary:\");\n",
    "println!();\n",
    "println!(\"🔧 Technical:\");\n",
    "println!(\"   • Use range!() macro for clean grid creation\");\n",
    "println!(\"   • array2d_from_function() for mathematical surfaces\");\n",
    "println!(\"   • Surface3DBuilder::from_vectors() for math-first API\");\n",
    "println!();\n",
    "println!(\"🎨 Visual Design:\");\n",
    "println!(\"   • Viridis: General scientific visualization\");\n",
    "println!(\"   • Coolwarm: Diverging data (positive/negative)\");\n",
    "println!(\"   • Plasma/Inferno: High-contrast features\");\n",
    "println!(\"   • Turbo: Rainbow effects and wave patterns\");\n",
    "println!();\n",
    "println!(\"📐 Camera Control:\");\n",
    "println!(\"   • High elevation (60-80°): Contour patterns\");\n",
    "println!(\"   • Low elevation (15-30°): Surface relief\");\n",
    "println!(\"   • Azimuth rotation: Multiple perspectives\");\n",
    "println!();\n",
    "println!(\"🔍 Rendering Modes:\");\n",
    "println!(\"   • Surface only: Clean, publication-ready\");\n",
    "println!(\"   • Wireframe only: Structural understanding\");\n",
    "println!(\"   • Combined: Detailed analysis\");\n",
    "println!();\n",
    "println!(\"✅ 3D plotting capabilities fully demonstrated!\");\n",
    "\n",
    "// Display final statistics\n",
    "let total_functions = 8;\n",
    "let total_visualizations = 12;\n",
    "let colormaps_used = vec![\"Viridis\", \"Coolwarm\", \"Plasma\", \"Inferno\", \"Turbo\"];\n",
    "\n",
    "println!();\n",
    "println!(\"📊 Showcase Statistics:\");\n",
    "println!(\"   📈 Mathematical functions: {}\", total_functions);\n",
    "println!(\"   🎨 Total visualizations: {}\", total_visualizations);\n",
    "println!(\"   🌈 Colormaps demonstrated: {}\", colormaps_used.len());\n",
    "println!(\"   📐 Camera angles explored: 6 different perspectives\");"
   ]
  }
 ],
 "metadata": {
  "kernelspec": {
   "display_name": "Rust",
   "language": "rust",
   "name": "rust"
  },
  "language_info": {
   "codemirror_mode": "rust",
   "file_extension": ".rs",
   "mimetype": "text/rust",
   "name": "Rust",
   "pygment_lexer": "rust",
   "version": ""
  }
 },
 "nbformat": 4,
 "nbformat_minor": 4
}
